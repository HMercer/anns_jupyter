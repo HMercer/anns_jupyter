{
 "cells": [
  {
   "cell_type": "markdown",
   "metadata": {},
   "source": [
    "# Yeah, this one does not work yet. Or will not ever."
   ]
  },
  {
   "cell_type": "code",
   "execution_count": 1,
   "metadata": {},
   "outputs": [
    {
     "name": "stdout",
     "output_type": "stream",
     "text": [
      "C:\\Users\\kicjo\\Desktop\\my-anns\\sinus_recurrent_not_time_series\n"
     ]
    }
   ],
   "source": [
    "import numpy as np\n",
    "import tensorflow as tf\n",
    "from datetime import datetime\n",
    "import matplotlib.pyplot as plt\n",
    "from sklearn.preprocessing import StandardScaler\n",
    "from sklearn.model_selection import train_test_split\n",
    "import pandas as pd\n",
    "from utils import shuffle_batch, variable_summaries\n",
    "import os\n",
    "\n",
    "%matplotlib notebook\n",
    "\n",
    "dir_path = os.getcwd()\n",
    "\n",
    "now = datetime.utcnow().strftime(\"%Y%m%d%H%M%S\")\n",
    "root_logdir = \"tf_logs\"\n",
    "logdir = \"{}/run-{}/\".format(root_logdir, now)\n",
    "print(dir_path)"
   ]
  },
  {
   "cell_type": "code",
   "execution_count": 2,
   "metadata": {
    "scrolled": true
   },
   "outputs": [
    {
     "data": {
      "image/png": "[encoded data removed]",
      "text/plain": [
       "<Figure size 432x288 with 1 Axes>"
      ]
     },
     "metadata": {
      "needs_background": "light"
     },
     "output_type": "display_data"
    }
   ],
   "source": [
    "data_length = 100000\n",
    "noise = np.random.normal(0.01, 0.3, data_length)\n",
    "x = np.linspace(-7 * np.pi, 7 * np.pi, data_length)\n",
    "y = np.sin(x)  # + noise\n",
    "df = pd.DataFrame(data={'X': x, 'y': y})\n",
    "\n",
    "plt.scatter(df[\"X\"], df[\"y\"], s=5)\n",
    "plt.xlabel('x')\n",
    "plt.ylabel('y')\n",
    "plt.axis('tight')\n",
    "plt.show()\n",
    "\n",
    "X_train_o, X_test_o, y_train_o, y_test_o = train_test_split(x, y, test_size=0.2, random_state=1)\n",
    "X_train_o, X_val_o, y_train_o, y_val_o  = train_test_split(X_train_o, y_train_o, test_size=0.2, random_state=1)\n"
   ]
  },
  {
   "cell_type": "code",
   "execution_count": 3,
   "metadata": {},
   "outputs": [],
   "source": [
    "n_steps = 1\n",
    "n_inputs = 1\n",
    "n_neurons = 150\n",
    "n_outputs = 1\n",
    "n_layers = 3\n",
    "\n",
    "learning_rate = 0.001\n"
   ]
  },
  {
   "cell_type": "code",
   "execution_count": 4,
   "metadata": {},
   "outputs": [],
   "source": [
    "X_train_o = X_train_o.reshape(-1,n_steps,n_inputs)\n",
    "X_test_o = X_test_o.reshape(-1,n_steps,n_inputs)\n",
    "X_val_o = X_val_o.reshape(-1,n_steps,n_inputs)\n",
    "y_train_o = y_train_o.reshape(-1, 1)\n",
    "y_test_o = y_test_o.reshape(-1, 1)\n",
    "y_val_o = y_val_o.reshape(-1, 1)"
   ]
  },
  {
   "cell_type": "code",
   "execution_count": 5,
   "metadata": {},
   "outputs": [
    {
     "data": {
      "text/plain": [
       "(64000, 1, 1)"
      ]
     },
     "execution_count": 5,
     "metadata": {},
     "output_type": "execute_result"
    }
   ],
   "source": [
    "X_train_o.shape"
   ]
  },
  {
   "cell_type": "code",
   "execution_count": 6,
   "metadata": {},
   "outputs": [],
   "source": [
    "data_length = 500000\n",
    "x_long = np.linspace(-20 * np.pi, 20 * np.pi, data_length)\n",
    "y_long = np.sin(x_long) \n",
    "\n",
    "X_train_long = x_long.reshape(-1, n_steps, n_outputs)\n",
    "y_train_long =y_long.reshape(-1, 1)"
   ]
  },
  {
   "cell_type": "code",
   "execution_count": 7,
   "metadata": {},
   "outputs": [
    {
     "name": "stderr",
     "output_type": "stream",
     "text": [
      "WARNING: Logging before flag parsing goes to stderr.\n",
      "W0806 20:43:22.188970 13940 deprecation.py:323] From <ipython-input-7-88c6d1e51ec4>:7: BasicLSTMCell.__init__ (from tensorflow.python.ops.rnn_cell_impl) is deprecated and will be removed in a future version.\n",
      "Instructions for updating:\n",
      "This class is equivalent as tf.keras.layers.LSTMCell, and will be replaced by that in Tensorflow 2.0.\n",
      "W0806 20:43:22.190963 13940 deprecation.py:323] From <ipython-input-7-88c6d1e51ec4>:8: MultiRNNCell.__init__ (from tensorflow.python.ops.rnn_cell_impl) is deprecated and will be removed in a future version.\n",
      "Instructions for updating:\n",
      "This class is equivalent as tf.keras.layers.StackedRNNCells, and will be replaced by that in Tensorflow 2.0.\n",
      "W0806 20:43:22.191961 13940 deprecation.py:323] From <ipython-input-7-88c6d1e51ec4>:9: dynamic_rnn (from tensorflow.python.ops.rnn) is deprecated and will be removed in a future version.\n",
      "Instructions for updating:\n",
      "Please use `keras.layers.RNN(cell)`, which is equivalent to this API\n",
      "W0806 20:43:22.631785 13940 deprecation.py:506] From C:\\ProgramData\\Anaconda3\\lib\\site-packages\\tensorflow\\python\\ops\\init_ops.py:1251: calling VarianceScaling.__init__ (from tensorflow.python.ops.init_ops) with dtype is deprecated and will be removed in a future version.\n",
      "Instructions for updating:\n",
      "Call initializer instance with the dtype argument instead of passing it to the constructor\n",
      "W0806 20:43:22.643753 13940 deprecation.py:506] From C:\\ProgramData\\Anaconda3\\lib\\site-packages\\tensorflow\\python\\ops\\rnn_cell_impl.py:738: calling Zeros.__init__ (from tensorflow.python.ops.init_ops) with dtype is deprecated and will be removed in a future version.\n",
      "Instructions for updating:\n",
      "Call initializer instance with the dtype argument instead of passing it to the constructor\n",
      "W0806 20:43:23.102557 13940 deprecation.py:323] From <ipython-input-7-88c6d1e51ec4>:12: dense (from tensorflow.python.layers.core) is deprecated and will be removed in a future version.\n",
      "Instructions for updating:\n",
      "Use keras.layers.dense instead.\n"
     ]
    }
   ],
   "source": [
    "tf.reset_default_graph()\n",
    "\n",
    "X = tf.placeholder(tf.float32, [None,n_steps, n_inputs])\n",
    "y = tf.placeholder(tf.float32, [None, n_outputs])\n",
    "\n",
    "lstm_cells = [tf.nn.rnn_cell.BasicLSTMCell(num_units=n_neurons)\n",
    "              for layer in range(n_layers)]\n",
    "multi_cell = tf.nn.rnn_cell.MultiRNNCell(lstm_cells)\n",
    "outputs, states = tf.nn.dynamic_rnn(multi_cell, X, dtype=tf.float32)\n",
    "\n",
    "top_layer_h_state = states[-1][1]\n",
    "y_pred = tf.layers.dense(top_layer_h_state, n_outputs)\n",
    "error = y_pred - y\n",
    "\n",
    "mse = tf.reduce_mean(tf.square(error), name=\"mse\")\n",
    "\n",
    "optimizer = tf.train.AdamOptimizer(learning_rate=learning_rate)\n",
    "training_op = optimizer.minimize(mse)\n",
    "\n",
    "init = tf.global_variables_initializer()"
   ]
  },
  {
   "cell_type": "code",
   "execution_count": 8,
   "metadata": {
    "scrolled": true
   },
   "outputs": [
    {
     "name": "stdout",
     "output_type": "stream",
     "text": [
      "0 Last batch mse: 0.45058006 Test mse: 0.46538815\n",
      "1 Last batch mse: 0.5011128 Test mse: 0.43910536\n",
      "2 Last batch mse: 0.0017450232 Test mse: 0.0018224663\n",
      "3 Last batch mse: 0.00017428499 Test mse: 0.00020763867\n",
      "4 Last batch mse: 0.00016104103 Test mse: 0.00022301642\n",
      "5 Last batch mse: 0.00015467613 Test mse: 0.00014502696\n",
      "6 Last batch mse: 0.00018324684 Test mse: 0.00016755436\n",
      "7 Last batch mse: 0.00021999449 Test mse: 0.00021832189\n",
      "8 Last batch mse: 0.00010747257 Test mse: 0.00010641253\n",
      "9 Last batch mse: 0.00014717609 Test mse: 0.00016817507\n",
      "9 Long Test mse: 2.9696155\n"
     ]
    }
   ],
   "source": [
    "n_epochs = 10\n",
    "batch_size = 200\n",
    "\n",
    "with tf.Session() as sess:\n",
    "    init.run()\n",
    "    for epoch in range(n_epochs):\n",
    "        for X_batch, y_batch in shuffle_batch(X_train_o, y_train_o, batch_size):\n",
    "            sess.run(training_op, feed_dict={X: X_batch, y: y_batch})\n",
    "        mse_batch = mse.eval(feed_dict={X: X_batch, y: y_batch})\n",
    "        mse_test = mse.eval(feed_dict={X: X_test_o, y: y_test_o})\n",
    "        print(epoch, \"Last batch mse:\", mse_batch, \"Test mse:\", mse_test)\n",
    "    predictions_long = y_pred.eval(feed_dict={X: X_train_long, y: y_train_long})\n",
    "    long_mse_test = mse.eval(feed_dict={X: X_train_long, y: y_train_long})\n",
    "    print(epoch, \"Long Test mse:\", long_mse_test)\n",
    "    "
   ]
  },
  {
   "cell_type": "code",
   "execution_count": 9,
   "metadata": {},
   "outputs": [
    {
     "name": "stdout",
     "output_type": "stream",
     "text": [
      "(500000, 1, 1)\n",
      "(500000, 1)\n",
      "(500000, 1)\n"
     ]
    }
   ],
   "source": [
    "print(X_train_long.shape)\n",
    "print(predictions_long.shape)\n",
    "print(X_train_long.reshape(-1,1).shape)"
   ]
  },
  {
   "cell_type": "code",
   "execution_count": 10,
   "metadata": {},
   "outputs": [
    {
     "data": {
      "image/png": "[encoded data removed]",
      "text/plain": [
       "<Figure size 432x288 with 1 Axes>"
      ]
     },
     "metadata": {
      "needs_background": "light"
     },
     "output_type": "display_data"
    }
   ],
   "source": [
    "plt.scatter(x_long,y_long,s=5, color='b',marker='.')\n",
    "plt.scatter(X_train_long.reshape(-1,1), predictions_long,s=7, color='r',marker = ',')\n",
    "plt.xlabel('x')\n",
    "plt.ylabel('y')\n",
    "plt.axis('tight')\n",
    "plt.show()"
   ]
  },
  {
   "cell_type": "code",
   "execution_count": null,
   "metadata": {},
   "outputs": [],
   "source": []
  }
 ],
 "metadata": {
  "kernelspec": {
   "display_name": "Python 3",
   "language": "python",
   "name": "python3"
  },
  "language_info": {
   "codemirror_mode": {
    "name": "ipython",
    "version": 3
   },
   "file_extension": ".py",
   "mimetype": "text/x-python",
   "name": "python",
   "nbconvert_exporter": "python",
   "pygments_lexer": "ipython3",
   "version": "3.7.3"
  }
 },
 "nbformat": 4,
 "nbformat_minor": 2
}
