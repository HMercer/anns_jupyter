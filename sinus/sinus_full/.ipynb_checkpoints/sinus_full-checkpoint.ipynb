{
 "cells": [
  {
   "cell_type": "markdown",
   "metadata": {},
   "source": [
    "Full verstion with:\n",
    "- train, test, validation.\n",
    "- model saver\n",
    "- tensorboard\n",
    "- early stopping\n"
   ]
  },
  {
   "cell_type": "code",
   "execution_count": 1,
   "metadata": {},
   "outputs": [
    {
     "name": "stdout",
     "output_type": "stream",
     "text": [
      "C:\\Users\\kicjo\\Desktop\\my-anns\\sinus\\sinus_full\n"
     ]
    }
   ],
   "source": [
    "import numpy as np\n",
    "import tensorflow as tf\n",
    "from datetime import datetime\n",
    "import matplotlib.pyplot as plt\n",
    "from sklearn.preprocessing import StandardScaler\n",
    "from sklearn.model_selection import train_test_split\n",
    "import pandas as pd\n",
    "from utils import shuffle_batch, variable_summaries\n",
    "import os\n",
    "\n",
    "%matplotlib notebook\n",
    "\n",
    "dir_path = os.getcwd()\n",
    "\n",
    "now = datetime.utcnow().strftime(\"%Y%m%d%H%M%S\")\n",
    "root_logdir = \"tf_logs\"\n",
    "logdir = \"{}/run-{}/\".format(root_logdir, now)\n",
    "print(dir_path)"
   ]
  },
  {
   "cell_type": "code",
   "execution_count": 2,
   "metadata": {},
   "outputs": [
    {
     "data": {
      "image/png": "[encoded data removed]",
      "text/plain": [
       "<Figure size 432x288 with 1 Axes>"
      ]
     },
     "metadata": {
      "needs_background": "light"
     },
     "output_type": "display_data"
    }
   ],
   "source": [
    "data_length = 2498\n",
    "noise = np.random.normal(0.01, 0.3, data_length)\n",
    "x = np.linspace(-10000*np.pi, 10000*np.pi, data_length)\n",
    "y = np.sin(x)  # + noise\n",
    "df = pd.DataFrame(data={'X': x, 'y': y})\n",
    "\n",
    "plt.scatter(df[\"X\"], df[\"y\"], s=5)\n",
    "plt.xlabel('x')\n",
    "plt.ylabel('y')\n",
    "plt.axis('tight')\n",
    "plt.show()\n",
    "\n",
    "X_train_o, X_test_o, y_train_o, y_test_o = train_test_split(x, y, test_size=0.2, random_state=1)\n",
    "X_train_o, X_val_o, y_train_o, y_val_o  = train_test_split(X_train_o, y_train_o, test_size=0.2, random_state=1)\n"
   ]
  },
  {
   "cell_type": "code",
   "execution_count": 3,
   "metadata": {},
   "outputs": [],
   "source": [
    "x_scaler = StandardScaler()\n",
    "y_scaler = StandardScaler()\n",
    "\n",
    "X_train = x_scaler.fit_transform(X_train_o.reshape(-1, 1))\n",
    "X_test = x_scaler.transform(X_test_o.reshape(-1, 1))\n",
    "X_val = x_scaler.transform(X_val_o.reshape(-1, 1))\n",
    "\n",
    "y_train = y_scaler.fit_transform(y_train_o.reshape(-1, 1))\n",
    "y_test = y_scaler.transform(y_test_o.reshape(-1, 1))\n",
    "y_val = y_scaler.transform(y_val_o.reshape(-1, 1))\n",
    "\n",
    "n_inputs = X_train.shape[1]\n",
    "n_outputs = y_train.shape[1]"
   ]
  },
  {
   "cell_type": "code",
   "execution_count": 4,
   "metadata": {},
   "outputs": [
    {
     "name": "stderr",
     "output_type": "stream",
     "text": [
      "WARNING: Logging before flag parsing goes to stderr.\n",
      "W0816 19:57:48.346628 10796 deprecation.py:506] From C:\\ProgramData\\Anaconda3\\lib\\site-packages\\tensorflow\\python\\ops\\init_ops.py:1251: calling VarianceScaling.__init__ (from tensorflow.python.ops.init_ops) with dtype is deprecated and will be removed in a future version.\n",
      "Instructions for updating:\n",
      "Call initializer instance with the dtype argument instead of passing it to the constructor\n",
      "W0816 19:57:48.436849 10796 deprecation_wrapper.py:119] From C:\\Users\\kicjo\\Desktop\\my-anns\\sinus\\sinus_full\\utils.py:16: The name tf.summary.scalar is deprecated. Please use tf.compat.v1.summary.scalar instead.\n",
      "\n",
      "W0816 19:57:48.468166 10796 deprecation_wrapper.py:119] From C:\\Users\\kicjo\\Desktop\\my-anns\\sinus\\sinus_full\\utils.py:22: The name tf.summary.histogram is deprecated. Please use tf.compat.v1.summary.histogram instead.\n",
      "\n"
     ]
    }
   ],
   "source": [
    "\n",
    "with tf.name_scope(\"dnn\"):\n",
    "    with tf.name_scope(\"inputs\"):\n",
    "        X = tf.placeholder(tf.float32, shape=(None, n_inputs), name=\"X\")\n",
    "        y = tf.placeholder(tf.float32, shape=(None, n_outputs), name=\"y\")\n",
    "\n",
    "    hidden1 = tf.keras.layers.Dense(10, name=\"hidden1\")(X)\n",
    "    hidden2 = tf.keras.layers.Dense(150, name=\"hidden2\", activation=tf.nn.leaky_relu)(hidden1)\n",
    "    dropout = tf.keras.layers.Dropout(0.5)(hidden2)\n",
    "    hidden3 = tf.keras.layers.Dense(50, name=\"hidden3\")(dropout)    \n",
    "    hidden4 = tf.keras.layers.Dense(150, name=\"hidden4\", activation=tf.nn.leaky_relu)(hidden3)\n",
    "    y_pred = tf.keras.layers.Dense(1, name=\"output\")(hidden4)\n",
    "\n",
    "with tf.name_scope('MSE'):\n",
    "    error = y_pred - y\n",
    "    mse = tf.reduce_mean(tf.square(error), name=\"mse\")\n",
    "    variable_summaries(mse)\n",
    "\n",
    "\n",
    "with tf.name_scope('optimiser'):\n",
    "    optimiser = tf.train.AdamOptimizer(0.01)\n",
    "    training_op = optimiser.minimize(mse)\n",
    "\n",
    "for var in tf.trainable_variables():\n",
    "    tf.summary.histogram(var.name, var)"
   ]
  },
  {
   "cell_type": "code",
   "execution_count": 5,
   "metadata": {},
   "outputs": [],
   "source": [
    "merged = tf.summary.merge_all()\n",
    "train_writer = tf.summary.FileWriter(logdir + '/train', tf.get_default_graph())\n",
    "test_writer = tf.summary.FileWriter(logdir + '/test')\n",
    "valid_writer = tf.summary.FileWriter(logdir + '/valid')\n",
    "init = tf.global_variables_initializer()\n",
    "\n",
    "saver = tf.train.Saver()\n",
    "\n",
    "checkpoint_path = os.path.join(dir_path, \"sinus_tmp\",\"sinus_full_model.ckpt\")\n",
    "checkpoint_epoch_path = checkpoint_path + \".epoch\"\n",
    "final_model_path = os.path.join(dir_path, \"model\", \"my_sinus_full_model\")"
   ]
  },
  {
   "cell_type": "code",
   "execution_count": 6,
   "metadata": {},
   "outputs": [],
   "source": [
    "best_loss = np.infty\n",
    "epochs_without_progress = 0\n",
    "max_epochs_without_progress = 150\n",
    "\n",
    "n_epochs = 1000\n",
    "n_batches = 50\n"
   ]
  },
  {
   "cell_type": "code",
   "execution_count": 7,
   "metadata": {},
   "outputs": [
    {
     "name": "stdout",
     "output_type": "stream",
     "text": [
      "0 train loss: 1.0196639 valid loss: 1.0273856\n",
      "1 train loss: 1.000008 valid loss: 1.0111485\n",
      "2 train loss: 0.9987226 valid loss: 1.0134479\n",
      "3 train loss: 0.9978431 valid loss: 1.0074152\n",
      "4 train loss: 0.9974593 valid loss: 1.0070895\n",
      "5 train loss: 0.9987087 valid loss: 1.0075133\n",
      "6 train loss: 0.998842 valid loss: 1.0093166\n",
      "7 train loss: 0.9990332 valid loss: 1.0090635\n",
      "8 train loss: 0.9954584 valid loss: 1.0064185\n",
      "9 train loss: 0.99903584 valid loss: 1.0091178\n",
      "10 train loss: 1.0026573 valid loss: 1.018139\n",
      "11 train loss: 0.99758536 valid loss: 1.0085723\n",
      "12 train loss: 0.99706614 valid loss: 1.0086055\n",
      "13 train loss: 0.9970294 valid loss: 1.0090435\n",
      "14 train loss: 0.99921036 valid loss: 1.0094397\n",
      "15 train loss: 0.9977569 valid loss: 1.0086769\n",
      "16 train loss: 0.9997877 valid loss: 1.0106215\n",
      "17 train loss: 0.9984082 valid loss: 1.0084759\n",
      "18 train loss: 1.000798 valid loss: 1.0105687\n",
      "19 train loss: 0.99590385 valid loss: 1.0072478\n",
      "20 train loss: 0.99850214 valid loss: 1.0087421\n",
      "21 train loss: 1.0026889 valid loss: 1.0132561\n",
      "22 train loss: 0.9971665 valid loss: 1.0077488\n",
      "23 train loss: 0.99868155 valid loss: 1.0091051\n",
      "24 train loss: 0.9998008 valid loss: 1.0112399\n",
      "25 train loss: 0.99622184 valid loss: 1.008436\n",
      "26 train loss: 0.994404 valid loss: 1.0081856\n",
      "27 train loss: 0.99740577 valid loss: 1.008102\n",
      "28 train loss: 0.99642843 valid loss: 1.0077673\n",
      "29 train loss: 0.9994739 valid loss: 1.009247\n",
      "30 train loss: 1.0000798 valid loss: 1.0097549\n",
      "31 train loss: 0.99836165 valid loss: 1.0089281\n",
      "32 train loss: 1.0004848 valid loss: 1.013431\n",
      "33 train loss: 1.0071546 valid loss: 1.0213221\n",
      "34 train loss: 1.0037695 valid loss: 1.014067\n",
      "35 train loss: 0.99594295 valid loss: 1.0082395\n",
      "36 train loss: 0.99912363 valid loss: 1.0091547\n",
      "37 train loss: 0.9986944 valid loss: 1.0098115\n",
      "38 train loss: 1.0001965 valid loss: 1.0138078\n",
      "39 train loss: 0.9995014 valid loss: 1.0092927\n",
      "40 train loss: 1.0004648 valid loss: 1.0101088\n",
      "41 train loss: 0.99905354 valid loss: 1.008944\n",
      "42 train loss: 1.0105381 valid loss: 1.0211715\n",
      "43 train loss: 1.0000259 valid loss: 1.0095758\n",
      "44 train loss: 1.000107 valid loss: 1.010175\n",
      "45 train loss: 1.0007781 valid loss: 1.0100185\n",
      "46 train loss: 1.0004869 valid loss: 1.0105153\n",
      "47 train loss: 0.9963328 valid loss: 1.0080823\n",
      "48 train loss: 0.9984918 valid loss: 1.0076107\n",
      "49 train loss: 1.0023394 valid loss: 1.0127671\n",
      "50 train loss: 1.0054022 valid loss: 1.0146935\n",
      "51 train loss: 0.9993961 valid loss: 1.0093442\n",
      "52 train loss: 0.99688554 valid loss: 1.0081118\n",
      "53 train loss: 0.9965728 valid loss: 1.0114752\n",
      "54 train loss: 1.0004488 valid loss: 1.0106025\n",
      "55 train loss: 0.9986265 valid loss: 1.0087253\n",
      "56 train loss: 0.9984654 valid loss: 1.0092714\n",
      "57 train loss: 0.9929316 valid loss: 1.0068303\n",
      "58 train loss: 1.00075 valid loss: 1.0104625\n",
      "59 train loss: 0.9982648 valid loss: 1.0087897\n",
      "60 train loss: 0.9948931 valid loss: 1.0068413\n",
      "61 train loss: 0.9976155 valid loss: 1.0095793\n",
      "62 train loss: 0.99940103 valid loss: 1.0095434\n",
      "63 train loss: 0.9989629 valid loss: 1.0090767\n",
      "64 train loss: 0.99653435 valid loss: 1.0077771\n",
      "65 train loss: 0.99790734 valid loss: 1.0084823\n",
      "66 train loss: 0.9928258 valid loss: 1.0084069\n",
      "67 train loss: 0.99135166 valid loss: 1.0083497\n",
      "68 train loss: 0.9999447 valid loss: 1.0095181\n",
      "69 train loss: 1.0004756 valid loss: 1.0102433\n",
      "70 train loss: 0.9989 valid loss: 1.0089338\n",
      "71 train loss: 0.99751055 valid loss: 1.0101094\n",
      "72 train loss: 0.9990601 valid loss: 1.011927\n",
      "73 train loss: 0.9947599 valid loss: 1.0081888\n",
      "74 train loss: 0.99540764 valid loss: 1.0094287\n",
      "75 train loss: 1.0015032 valid loss: 1.0126464\n",
      "76 train loss: 0.99621207 valid loss: 1.0081956\n",
      "77 train loss: 0.99022275 valid loss: 1.0089358\n",
      "78 train loss: 0.99899584 valid loss: 1.0104481\n",
      "79 train loss: 1.0000807 valid loss: 1.0104332\n",
      "80 train loss: 0.9933011 valid loss: 1.0064687\n",
      "81 train loss: 1.0007281 valid loss: 1.0104315\n",
      "82 train loss: 0.9973628 valid loss: 1.0085548\n",
      "83 train loss: 0.9952434 valid loss: 1.0091244\n",
      "84 train loss: 1.0056866 valid loss: 1.0164099\n",
      "85 train loss: 0.99828714 valid loss: 1.0087807\n",
      "86 train loss: 1.0005243 valid loss: 1.0099034\n",
      "87 train loss: 0.9995759 valid loss: 1.0092942\n",
      "88 train loss: 1.0004683 valid loss: 1.0106016\n",
      "89 train loss: 0.99638057 valid loss: 1.0086397\n",
      "90 train loss: 0.9999906 valid loss: 1.0105709\n",
      "91 train loss: 1.0007721 valid loss: 1.0102706\n",
      "92 train loss: 1.0000259 valid loss: 1.0097445\n",
      "93 train loss: 0.997857 valid loss: 1.0088092\n",
      "94 train loss: 0.99957514 valid loss: 1.0093132\n",
      "95 train loss: 1.0043478 valid loss: 1.0146714\n",
      "96 train loss: 0.99756455 valid loss: 1.0134819\n",
      "97 train loss: 1.0006073 valid loss: 1.0104816\n",
      "98 train loss: 0.9988838 valid loss: 1.0088617\n",
      "99 train loss: 0.9972202 valid loss: 1.0097525\n",
      "100 train loss: 0.99837196 valid loss: 1.008656\n",
      "101 train loss: 0.9988588 valid loss: 1.009423\n",
      "102 train loss: 1.0007491 valid loss: 1.0102457\n",
      "103 train loss: 1.0006337 valid loss: 1.0107467\n",
      "104 train loss: 1.0070451 valid loss: 1.0175911\n",
      "105 train loss: 1.0000075 valid loss: 1.009582\n",
      "106 train loss: 0.99809444 valid loss: 1.0096676\n",
      "107 train loss: 1.0000352 valid loss: 1.0096473\n",
      "108 train loss: 0.99831885 valid loss: 1.0082616\n",
      "109 train loss: 1.0007547 valid loss: 1.0107023\n",
      "110 train loss: 1.0050712 valid loss: 1.0139318\n",
      "111 train loss: 1.001365 valid loss: 1.0112488\n",
      "112 train loss: 0.99824107 valid loss: 1.009092\n",
      "113 train loss: 1.0010372 valid loss: 1.010438\n",
      "114 train loss: 1.0041705 valid loss: 1.0154562\n",
      "115 train loss: 0.99809676 valid loss: 1.0101296\n",
      "116 train loss: 1.0054625 valid loss: 1.0160443\n",
      "117 train loss: 0.9993544 valid loss: 1.0092031\n",
      "118 train loss: 1.0005773 valid loss: 1.0100908\n",
      "119 train loss: 0.9980837 valid loss: 1.0081002\n",
      "120 train loss: 0.9998296 valid loss: 1.0101116\n",
      "121 train loss: 1.006355 valid loss: 1.0138069\n",
      "122 train loss: 1.0007125 valid loss: 1.0103611\n",
      "123 train loss: 0.99934316 valid loss: 1.0126847\n",
      "124 train loss: 1.0041107 valid loss: 1.0136338\n",
      "125 train loss: 0.9992179 valid loss: 1.0092398\n",
      "126 train loss: 1.0033947 valid loss: 1.0127903\n",
      "127 train loss: 0.9993636 valid loss: 1.0090463\n",
      "128 train loss: 0.9978759 valid loss: 1.0085503\n",
      "129 train loss: 0.99971086 valid loss: 1.00938\n",
      "130 train loss: 0.99781954 valid loss: 1.0086584\n",
      "131 train loss: 1.0020593 valid loss: 1.0113502\n",
      "132 train loss: 1.0004255 valid loss: 1.0099936\n",
      "133 train loss: 1.0005866 valid loss: 1.010023\n",
      "134 train loss: 1.0020348 valid loss: 1.0118319\n",
      "135 train loss: 0.99896854 valid loss: 1.0138307\n",
      "136 train loss: 0.9998229 valid loss: 1.0094457\n",
      "137 train loss: 1.0004747 valid loss: 1.0100896\n",
      "138 train loss: 1.0039587 valid loss: 1.0145502\n",
      "139 train loss: 0.99985105 valid loss: 1.0094838\n",
      "140 train loss: 1.0133992 valid loss: 1.0233766\n",
      "141 train loss: 1.0006224 valid loss: 1.010626\n",
      "142 train loss: 0.9996752 valid loss: 1.009908\n",
      "143 train loss: 1.0002655 valid loss: 1.0099335\n",
      "144 train loss: 1.0063127 valid loss: 1.0165095\n",
      "145 train loss: 1.0004756 valid loss: 1.010125\n",
      "146 train loss: 1.0029732 valid loss: 1.0128198\n",
      "147 train loss: 1.0015714 valid loss: 1.0109856\n",
      "148 train loss: 0.9971503 valid loss: 1.0088555\n",
      "149 train loss: 1.0000407 valid loss: 1.0096036\n",
      "150 train loss: 1.0011168 valid loss: 1.0107008\n",
      "151 train loss: 1.0017754 valid loss: 1.0114522\n",
      "152 train loss: 1.0002245 valid loss: 1.0099823\n",
      "153 train loss: 1.0026525 valid loss: 1.0128894\n",
      "154 train loss: 0.9986871 valid loss: 1.0089898\n",
      "155 train loss: 1.0021127 valid loss: 1.0118297\n",
      "156 train loss: 1.0012442 valid loss: 1.0107718\n",
      "157 train loss: 0.997392 valid loss: 1.0063361\n",
      "158 train loss: 1.0023276 valid loss: 1.0139683\n",
      "159 train loss: 1.0004985 valid loss: 1.0146661\n",
      "160 train loss: 1.0111964 valid loss: 1.0211654\n",
      "161 train loss: 1.0002885 valid loss: 1.0102205\n",
      "162 train loss: 0.999704 valid loss: 1.0095668\n",
      "163 train loss: 1.0052505 valid loss: 1.0170575\n",
      "164 train loss: 1.0008 valid loss: 1.0104907\n",
      "165 train loss: 1.0013871 valid loss: 1.0109818\n",
      "166 train loss: 1.0022271 valid loss: 1.011971\n",
      "167 train loss: 1.0014684 valid loss: 1.0114603\n",
      "168 train loss: 0.99954265 valid loss: 1.0060878\n",
      "169 train loss: 1.0025072 valid loss: 1.0122491\n",
      "170 train loss: 1.0054164 valid loss: 1.0149062\n",
      "171 train loss: 0.99721634 valid loss: 1.0081587\n",
      "172 train loss: 0.9976313 valid loss: 1.0080353\n"
     ]
    },
    {
     "name": "stdout",
     "output_type": "stream",
     "text": [
      "173 train loss: 1.0095 valid loss: 1.0189595\n",
      "174 train loss: 1.0106515 valid loss: 1.0206224\n",
      "175 train loss: 1.0006125 valid loss: 1.0101154\n",
      "176 train loss: 0.99849737 valid loss: 1.0088298\n",
      "177 train loss: 1.0042039 valid loss: 1.0142666\n",
      "178 train loss: 1.0041863 valid loss: 1.0145739\n",
      "179 train loss: 1.0200287 valid loss: 1.0299652\n",
      "180 train loss: 1.0002267 valid loss: 1.0097715\n",
      "181 train loss: 1.0027511 valid loss: 1.0122923\n",
      "182 train loss: 1.005096 valid loss: 1.0148442\n",
      "183 train loss: 0.99962944 valid loss: 1.0093417\n",
      "184 train loss: 0.9984695 valid loss: 1.0123935\n",
      "185 train loss: 0.99881315 valid loss: 1.0090027\n",
      "186 train loss: 0.99547476 valid loss: 1.0089135\n",
      "187 train loss: 0.99974257 valid loss: 1.009401\n",
      "188 train loss: 0.9983706 valid loss: 1.0091711\n",
      "189 train loss: 1.0016457 valid loss: 1.0112925\n",
      "190 train loss: 1.0050235 valid loss: 1.0153868\n",
      "191 train loss: 1.0035591 valid loss: 1.012538\n",
      "192 train loss: 1.0001271 valid loss: 1.0097274\n",
      "193 train loss: 1.0001372 valid loss: 1.0097448\n",
      "194 train loss: 1.001197 valid loss: 1.0108086\n",
      "195 train loss: 1.0011495 valid loss: 1.0111213\n",
      "196 train loss: 0.99815947 valid loss: 1.0071322\n",
      "197 train loss: 1.0011477 valid loss: 1.0110818\n",
      "198 train loss: 1.0009038 valid loss: 1.0108645\n",
      "199 train loss: 1.0001464 valid loss: 1.0098194\n",
      "200 train loss: 1.0066195 valid loss: 1.0163349\n",
      "Early stopping\n"
     ]
    }
   ],
   "source": [
    "with tf.Session() as sess:\n",
    "    if os.path.isfile(checkpoint_epoch_path):\n",
    "        # if the checkpoint file exists, restore the model and load the epoch number\n",
    "        with open(checkpoint_epoch_path, \"rb\") as f:\n",
    "            start_epoch = int(f.read())\n",
    "        print(\"Training was interrupted. Continuing at epoch\", start_epoch)\n",
    "        saver.restore(sess, checkpoint_path)\n",
    "    else:\n",
    "        start_epoch = 0\n",
    "        sess.run(init)\n",
    "\n",
    "    for epoch in range(start_epoch, n_epochs):\n",
    "        for X_batch, y_batch in shuffle_batch(X_train, y_train, n_batches):\n",
    "            summary, _ = sess.run([merged, training_op],\n",
    "                                  feed_dict={X: X_batch, y: y_batch})\n",
    "\n",
    "        train_summary, _ = sess.run([merged, training_op],feed_dict={X: X_train, y: y_train})\n",
    "        test_summary, _ =sess.run([merged, training_op],feed_dict={X: X_test, y: y_test})\n",
    "        validation_summary, _ = sess.run([merged, training_op], feed_dict={X: X_val, y: y_val})\n",
    "\n",
    "        train_writer.add_summary(train_summary, epoch)\n",
    "        test_writer.add_summary(test_summary, epoch)\n",
    "        valid_writer.add_summary(validation_summary,epoch)\n",
    "\n",
    "        loss_train = mse.eval(feed_dict={X: X_train, y: y_train})\n",
    "        loss_val = mse.eval(feed_dict={X: X_val, y: y_val})\n",
    "        print(epoch, \"train loss:\", loss_train, \"valid loss:\", loss_val)\n",
    "\n",
    "        iteration_skip = 10\n",
    "        if epoch % iteration_skip == 0:\n",
    "            saver.save(sess, checkpoint_path)\n",
    "            with open(checkpoint_epoch_path, \"wb\") as f:\n",
    "                f.write(b\"%d\" % (epoch + 1))\n",
    "\n",
    "            if loss_val < best_loss:\n",
    "                saver.save(sess, final_model_path)\n",
    "                best_loss = loss_val\n",
    "            else:\n",
    "                epochs_without_progress += iteration_skip\n",
    "                if epochs_without_progress > max_epochs_without_progress:\n",
    "                    print(\"Early stopping\")\n",
    "                    break\n",
    "\n",
    "\n",
    "train_writer.close()\n",
    "test_writer.close()\n",
    "valid_writer.close()"
   ]
  },
  {
   "cell_type": "code",
   "execution_count": 8,
   "metadata": {},
   "outputs": [],
   "source": [
    "os.remove(checkpoint_epoch_path)"
   ]
  },
  {
   "cell_type": "code",
   "execution_count": 9,
   "metadata": {},
   "outputs": [
    {
     "name": "stderr",
     "output_type": "stream",
     "text": [
      "W0816 19:58:06.480591 10796 deprecation.py:323] From C:\\ProgramData\\Anaconda3\\lib\\site-packages\\tensorflow\\python\\training\\saver.py:1276: checkpoint_exists (from tensorflow.python.training.checkpoint_management) is deprecated and will be removed in a future version.\n",
      "Instructions for updating:\n",
      "Use standard file APIs to check for files with this prefix.\n"
     ]
    },
    {
     "name": "stdout",
     "output_type": "stream",
     "text": [
      "0.94356817\n"
     ]
    }
   ],
   "source": [
    "with tf.Session() as sess:\n",
    "    saver.restore(sess, final_model_path)\n",
    "    test_mse = mse.eval(feed_dict={X: X_test, y: y_test})\n",
    "    predictions = y_pred.eval(feed_dict={X: X_test, y: y_test})\n",
    "    \n",
    "    \n",
    "print(test_mse)"
   ]
  },
  {
   "cell_type": "code",
   "execution_count": 10,
   "metadata": {},
   "outputs": [
    {
     "data": {
      "image/png": "[encoded data removed]",
      "text/plain": [
       "<Figure size 432x288 with 1 Axes>"
      ]
     },
     "metadata": {
      "needs_background": "light"
     },
     "output_type": "display_data"
    }
   ],
   "source": [
    "y_new_inverse = y_scaler.inverse_transform(predictions)\n",
    "x_test_inverse = x_scaler.inverse_transform(X_test)\n",
    "\n",
    "plt.scatter(df[\"X\"], df[\"y\"],s=5, color='b',marker='.')\n",
    "plt.scatter(x_test_inverse, y_new_inverse,s=10, color='r',marker = ',')\n",
    "plt.xlabel('x')\n",
    "plt.ylabel('y')\n",
    "plt.axis('tight')\n",
    "plt.show()"
   ]
  },
  {
   "cell_type": "markdown",
   "metadata": {},
   "source": [
    "How will nn behave beyond seen range?"
   ]
  },
  {
   "cell_type": "code",
   "execution_count": 11,
   "metadata": {},
   "outputs": [
    {
     "data": {
      "image/png": "[encoded data removed]",
      "text/plain": [
       "<Figure size 432x288 with 1 Axes>"
      ]
     },
     "metadata": {
      "needs_background": "light"
     },
     "output_type": "display_data"
    }
   ],
   "source": [
    "data_length = 10000\n",
    "x_long = np.linspace(-5 * np.pi, 5 * np.pi, data_length)\n",
    "y_long = np.sin(x_long) \n",
    "\n",
    "X_train_long = x_scaler.transform(x_long.reshape(-1, 1))\n",
    "y_train_long = y_scaler.transform(y_long.reshape(-1, 1))\n",
    "\n",
    "plt.scatter(x_long, y_long,s=5, color='b',marker = ',')\n",
    "plt.xlabel('x')\n",
    "plt.ylabel('y')\n",
    "plt.axis('tight')\n",
    "plt.show()"
   ]
  },
  {
   "cell_type": "code",
   "execution_count": 12,
   "metadata": {},
   "outputs": [
    {
     "name": "stdout",
     "output_type": "stream",
     "text": [
      "0.9932035\n"
     ]
    }
   ],
   "source": [
    "with tf.Session() as sess:\n",
    "    saver.restore(sess, final_model_path)\n",
    "    test_mse_long = mse.eval(feed_dict={X: X_train_long, y: y_train_long})\n",
    "    predictions_long = y_pred.eval(feed_dict={X: X_train_long, y: y_train_long})\n",
    "    \n",
    "    \n",
    "print(test_mse_long)"
   ]
  },
  {
   "cell_type": "code",
   "execution_count": 13,
   "metadata": {},
   "outputs": [
    {
     "data": {
      "image/png": "[encoded data removed]",
      "text/plain": [
       "<Figure size 432x288 with 1 Axes>"
      ]
     },
     "metadata": {
      "needs_background": "light"
     },
     "output_type": "display_data"
    }
   ],
   "source": [
    "y_new_inverse_long = y_scaler.inverse_transform(predictions_long)\n",
    "x_test_inverse_long = x_scaler.inverse_transform(X_train_long)\n",
    "\n",
    "plt.scatter(x_long,y_long,s=5, color='b',marker='.')\n",
    "plt.scatter(x_test_inverse_long, predictions_long,s=7, color='r',marker = ',')\n",
    "plt.xlabel('x')\n",
    "plt.ylabel('y')\n",
    "plt.axis('tight')\n",
    "plt.show()"
   ]
  },
  {
   "cell_type": "markdown",
   "metadata": {},
   "source": [
    "Easy to notice, some memory will be required "
   ]
  },
  {
   "cell_type": "code",
   "execution_count": null,
   "metadata": {},
   "outputs": [],
   "source": []
  }
 ],
 "metadata": {
  "kernelspec": {
   "display_name": "Python 3",
   "language": "python",
   "name": "python3"
  },
  "language_info": {
   "codemirror_mode": {
    "name": "ipython",
    "version": 3
   },
   "file_extension": ".py",
   "mimetype": "text/x-python",
   "name": "python",
   "nbconvert_exporter": "python",
   "pygments_lexer": "ipython3",
   "version": "3.7.3"
  }
 },
 "nbformat": 4,
 "nbformat_minor": 2
}
