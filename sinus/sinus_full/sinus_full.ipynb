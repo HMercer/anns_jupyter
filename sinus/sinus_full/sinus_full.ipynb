{
 "cells": [
  {
   "cell_type": "markdown",
   "metadata": {},
   "source": [
    "Full verstion with:\n",
    "- train, test, validation.\n",
    "- model saver\n",
    "- tensorboard\n",
    "- early stopping\n"
   ]
  },
  {
   "cell_type": "code",
   "execution_count": 1,
   "metadata": {},
   "outputs": [
    {
     "name": "stdout",
     "output_type": "stream",
     "text": [
      "C:\\Users\\kicjo\\Desktop\\my-anns\\sinus\\sinus_full\n"
     ]
    }
   ],
   "source": [
    "import numpy as np\n",
    "import tensorflow as tf\n",
    "from datetime import datetime\n",
    "import matplotlib.pyplot as plt\n",
    "from sklearn.preprocessing import StandardScaler\n",
    "from sklearn.model_selection import train_test_split\n",
    "import pandas as pd\n",
    "from utils import shuffle_batch, variable_summaries\n",
    "import os\n",
    "\n",
    "%matplotlib notebook\n",
    "\n",
    "dir_path = os.getcwd()\n",
    "\n",
    "now = datetime.utcnow().strftime(\"%Y%m%d%H%M%S\")\n",
    "root_logdir = \"tf_logs\"\n",
    "logdir = \"{}/run-{}/\".format(root_logdir, now)\n",
    "print(dir_path)"
   ]
  },
  {
   "cell_type": "code",
   "execution_count": 2,
   "metadata": {},
   "outputs": [
    {
     "data": {
      "image/png": "[encoded data removed]",
      "text/plain": [
       "<Figure size 432x288 with 1 Axes>"
      ]
     },
     "metadata": {
      "needs_background": "light"
     },
     "output_type": "display_data"
    }
   ],
   "source": [
    "data_length = 2498\n",
    "noise = np.random.normal(0.01, 0.3, data_length)\n",
    "x = np.linspace(-5 * np.pi, 5 * np.pi, data_length)\n",
    "y = np.sin(x)  # + noise\n",
    "df = pd.DataFrame(data={'X': x, 'y': y})\n",
    "\n",
    "plt.scatter(df[\"X\"], df[\"y\"], s=5)\n",
    "plt.xlabel('x')\n",
    "plt.ylabel('y')\n",
    "plt.axis('tight')\n",
    "plt.show()\n",
    "\n",
    "X_train_o, X_test_o, y_train_o, y_test_o = train_test_split(x, y, test_size=0.2, random_state=1)\n",
    "X_train_o, X_val_o, y_train_o, y_val_o  = train_test_split(X_train_o, y_train_o, test_size=0.2, random_state=1)\n"
   ]
  },
  {
   "cell_type": "code",
   "execution_count": 3,
   "metadata": {},
   "outputs": [],
   "source": [
    "x_scaler = StandardScaler()\n",
    "y_scaler = StandardScaler()\n",
    "\n",
    "X_train = x_scaler.fit_transform(X_train_o.reshape(-1, 1))\n",
    "X_test = x_scaler.transform(X_test_o.reshape(-1, 1))\n",
    "X_val = x_scaler.transform(X_val_o.reshape(-1, 1))\n",
    "\n",
    "y_train = y_scaler.fit_transform(y_train_o.reshape(-1, 1))\n",
    "y_test = y_scaler.transform(y_test_o.reshape(-1, 1))\n",
    "y_val = y_scaler.transform(y_val_o.reshape(-1, 1))\n",
    "\n",
    "n_inputs = X_train.shape[1]\n",
    "n_outputs = y_train.shape[1]"
   ]
  },
  {
   "cell_type": "code",
   "execution_count": 4,
   "metadata": {},
   "outputs": [
    {
     "name": "stderr",
     "output_type": "stream",
     "text": [
      "WARNING: Logging before flag parsing goes to stderr.\n",
      "W0816 20:47:51.373193 26228 deprecation.py:506] From C:\\ProgramData\\Anaconda3\\lib\\site-packages\\tensorflow\\python\\ops\\init_ops.py:1251: calling VarianceScaling.__init__ (from tensorflow.python.ops.init_ops) with dtype is deprecated and will be removed in a future version.\n",
      "Instructions for updating:\n",
      "Call initializer instance with the dtype argument instead of passing it to the constructor\n",
      "W0816 20:47:51.458366 26228 deprecation_wrapper.py:119] From C:\\Users\\kicjo\\Desktop\\my-anns\\sinus\\sinus_full\\utils.py:16: The name tf.summary.scalar is deprecated. Please use tf.compat.v1.summary.scalar instead.\n",
      "\n",
      "W0816 20:47:51.480371 26228 deprecation_wrapper.py:119] From C:\\Users\\kicjo\\Desktop\\my-anns\\sinus\\sinus_full\\utils.py:22: The name tf.summary.histogram is deprecated. Please use tf.compat.v1.summary.histogram instead.\n",
      "\n"
     ]
    }
   ],
   "source": [
    "\n",
    "with tf.name_scope(\"dnn\"):\n",
    "    with tf.name_scope(\"inputs\"):\n",
    "        X = tf.placeholder(tf.float32, shape=(None, n_inputs), name=\"X\")\n",
    "        y = tf.placeholder(tf.float32, shape=(None, n_outputs), name=\"y\")\n",
    "\n",
    "    hidden1 = tf.keras.layers.Dense(10, name=\"hidden1\")(X)\n",
    "    hidden2 = tf.keras.layers.Dense(150, name=\"hidden2\", activation=tf.nn.leaky_relu)(hidden1)\n",
    "    dropout = tf.keras.layers.Dropout(0.5)(hidden2)\n",
    "    hidden3 = tf.keras.layers.Dense(50, name=\"hidden3\")(dropout)    \n",
    "    hidden4 = tf.keras.layers.Dense(150, name=\"hidden4\", activation=tf.nn.leaky_relu)(hidden3)\n",
    "    y_pred = tf.keras.layers.Dense(1, name=\"output\")(hidden4)\n",
    "\n",
    "with tf.name_scope('MSE'):\n",
    "    error = y_pred - y\n",
    "    mse = tf.reduce_mean(tf.square(error), name=\"mse\")\n",
    "    variable_summaries(mse)\n",
    "\n",
    "\n",
    "with tf.name_scope('optimiser'):\n",
    "    optimiser = tf.train.AdamOptimizer(0.01)\n",
    "    training_op = optimiser.minimize(mse)\n",
    "\n",
    "for var in tf.trainable_variables():\n",
    "    tf.summary.histogram(var.name, var)"
   ]
  },
  {
   "cell_type": "code",
   "execution_count": 5,
   "metadata": {},
   "outputs": [],
   "source": [
    "merged = tf.summary.merge_all()\n",
    "train_writer = tf.summary.FileWriter(logdir + '/train', tf.get_default_graph())\n",
    "test_writer = tf.summary.FileWriter(logdir + '/test')\n",
    "valid_writer = tf.summary.FileWriter(logdir + '/valid')\n",
    "init = tf.global_variables_initializer()\n",
    "\n",
    "saver = tf.train.Saver()\n",
    "\n",
    "checkpoint_path = os.path.join(dir_path, \"sinus_tmp\",\"sinus_full_model.ckpt\")\n",
    "checkpoint_epoch_path = checkpoint_path + \".epoch\"\n",
    "final_model_path = os.path.join(dir_path, \"model\", \"my_sinus_full_model\")"
   ]
  },
  {
   "cell_type": "code",
   "execution_count": 6,
   "metadata": {},
   "outputs": [],
   "source": [
    "best_loss = np.infty\n",
    "epochs_without_progress = 0\n",
    "max_epochs_without_progress = 150\n",
    "\n",
    "n_epochs = 1000\n",
    "n_batches = 50\n"
   ]
  },
  {
   "cell_type": "code",
   "execution_count": 7,
   "metadata": {},
   "outputs": [
    {
     "name": "stdout",
     "output_type": "stream",
     "text": [
      "0 train loss: 0.98001117 valid loss: 0.89190537\n",
      "1 train loss: 0.9839983 valid loss: 0.92470247\n",
      "2 train loss: 0.95975065 valid loss: 0.8841166\n",
      "3 train loss: 0.93665653 valid loss: 0.84872437\n",
      "4 train loss: 0.96334445 valid loss: 0.87311447\n",
      "5 train loss: 0.9330144 valid loss: 0.8648218\n",
      "6 train loss: 0.9775277 valid loss: 0.89937544\n",
      "7 train loss: 0.9900694 valid loss: 0.9059533\n",
      "8 train loss: 0.9407714 valid loss: 0.86206645\n",
      "9 train loss: 0.92870367 valid loss: 0.8437464\n",
      "10 train loss: 0.93642026 valid loss: 0.85706294\n",
      "11 train loss: 0.9052614 valid loss: 0.8059169\n",
      "12 train loss: 0.8997963 valid loss: 0.80459577\n",
      "13 train loss: 0.8805884 valid loss: 0.771035\n",
      "14 train loss: 0.9592447 valid loss: 0.8648125\n",
      "15 train loss: 0.8917313 valid loss: 0.79441255\n",
      "16 train loss: 0.8735924 valid loss: 0.74741334\n",
      "17 train loss: 0.98005235 valid loss: 0.89103127\n",
      "18 train loss: 0.98224455 valid loss: 0.88997346\n",
      "19 train loss: 0.88571095 valid loss: 0.78934723\n",
      "20 train loss: 0.8807354 valid loss: 0.7580757\n",
      "21 train loss: 0.8544917 valid loss: 0.75416917\n",
      "22 train loss: 0.8584206 valid loss: 0.73891187\n",
      "23 train loss: 0.82894725 valid loss: 0.7118369\n",
      "24 train loss: 0.80114937 valid loss: 0.6630928\n",
      "25 train loss: 0.78847456 valid loss: 0.65935457\n",
      "26 train loss: 0.7920856 valid loss: 0.66599387\n",
      "27 train loss: 0.8231666 valid loss: 0.70754576\n",
      "28 train loss: 0.79272836 valid loss: 0.6643285\n",
      "29 train loss: 0.81145626 valid loss: 0.673258\n",
      "30 train loss: 0.82575464 valid loss: 0.68300855\n",
      "31 train loss: 0.8306635 valid loss: 0.6888138\n",
      "32 train loss: 0.79655516 valid loss: 0.6683206\n",
      "33 train loss: 0.8071468 valid loss: 0.6662725\n",
      "34 train loss: 0.8603971 valid loss: 0.755116\n",
      "35 train loss: 0.8095589 valid loss: 0.68519866\n",
      "36 train loss: 0.8978541 valid loss: 0.7566063\n",
      "37 train loss: 0.76203537 valid loss: 0.66873896\n",
      "38 train loss: 0.75179416 valid loss: 0.6342701\n",
      "39 train loss: 0.7558708 valid loss: 0.68000674\n",
      "40 train loss: 0.8656959 valid loss: 0.72495806\n",
      "41 train loss: 0.7107789 valid loss: 0.61728996\n",
      "42 train loss: 0.70784676 valid loss: 0.6314745\n",
      "43 train loss: 0.67261636 valid loss: 0.59949857\n",
      "44 train loss: 0.65500045 valid loss: 0.59190273\n",
      "45 train loss: 0.60618615 valid loss: 0.55209017\n",
      "46 train loss: 0.59414214 valid loss: 0.52235436\n",
      "47 train loss: 0.54478794 valid loss: 0.48784596\n",
      "48 train loss: 0.52976376 valid loss: 0.47463578\n",
      "49 train loss: 0.5446497 valid loss: 0.4891469\n",
      "50 train loss: 0.5281168 valid loss: 0.46964934\n",
      "51 train loss: 0.43080047 valid loss: 0.40923482\n",
      "52 train loss: 0.47714654 valid loss: 0.4472843\n",
      "53 train loss: 0.5212931 valid loss: 0.4813528\n",
      "54 train loss: 0.42400974 valid loss: 0.38800526\n",
      "55 train loss: 0.4335343 valid loss: 0.4178406\n",
      "56 train loss: 0.42221358 valid loss: 0.40109795\n",
      "57 train loss: 0.37077498 valid loss: 0.3645239\n",
      "58 train loss: 0.49983546 valid loss: 0.4683119\n",
      "59 train loss: 0.39595243 valid loss: 0.3902594\n",
      "60 train loss: 0.36093006 valid loss: 0.35317597\n",
      "61 train loss: 0.40420848 valid loss: 0.38843197\n",
      "62 train loss: 0.37378964 valid loss: 0.3567315\n",
      "63 train loss: 0.3527601 valid loss: 0.35828772\n",
      "64 train loss: 0.37886715 valid loss: 0.3635234\n",
      "65 train loss: 0.34218043 valid loss: 0.33499\n",
      "66 train loss: 0.43702695 valid loss: 0.43403602\n",
      "67 train loss: 0.31990856 valid loss: 0.2884974\n",
      "68 train loss: 0.30993077 valid loss: 0.3105557\n",
      "69 train loss: 0.2642352 valid loss: 0.2606426\n",
      "70 train loss: 0.39572662 valid loss: 0.40924767\n",
      "71 train loss: 0.26105934 valid loss: 0.26113677\n",
      "72 train loss: 0.26300758 valid loss: 0.25740737\n",
      "73 train loss: 0.19154991 valid loss: 0.20812932\n",
      "74 train loss: 0.18068399 valid loss: 0.17404738\n",
      "75 train loss: 0.17515281 valid loss: 0.1827667\n",
      "76 train loss: 0.15165955 valid loss: 0.1360668\n",
      "77 train loss: 0.14987722 valid loss: 0.13110965\n",
      "78 train loss: 0.16716005 valid loss: 0.17175217\n",
      "79 train loss: 0.34726468 valid loss: 0.35156396\n",
      "80 train loss: 0.24595925 valid loss: 0.26684588\n",
      "81 train loss: 0.19571938 valid loss: 0.16687374\n",
      "82 train loss: 0.10050046 valid loss: 0.097862445\n",
      "83 train loss: 0.064902835 valid loss: 0.06364056\n",
      "84 train loss: 0.057781547 valid loss: 0.0515306\n",
      "85 train loss: 0.0944364 valid loss: 0.1015486\n",
      "86 train loss: 0.070974045 valid loss: 0.06885893\n",
      "87 train loss: 0.04520903 valid loss: 0.03736291\n",
      "88 train loss: 0.039294533 valid loss: 0.040315185\n",
      "89 train loss: 0.061763354 valid loss: 0.0488818\n",
      "90 train loss: 0.03985194 valid loss: 0.034817766\n",
      "91 train loss: 0.03701731 valid loss: 0.03875078\n",
      "92 train loss: 0.039793544 valid loss: 0.033132628\n",
      "93 train loss: 0.021148574 valid loss: 0.016736131\n",
      "94 train loss: 0.062428117 valid loss: 0.060596313\n",
      "95 train loss: 0.076274626 valid loss: 0.06892307\n",
      "96 train loss: 0.024949318 valid loss: 0.024884865\n",
      "97 train loss: 0.01578799 valid loss: 0.015230072\n",
      "98 train loss: 0.039500836 valid loss: 0.034254704\n",
      "99 train loss: 0.0435565 valid loss: 0.044586726\n",
      "100 train loss: 0.039887257 valid loss: 0.038396645\n",
      "101 train loss: 0.06889324 valid loss: 0.07172242\n",
      "102 train loss: 0.019204916 valid loss: 0.015878418\n",
      "103 train loss: 0.040980756 valid loss: 0.03973639\n",
      "104 train loss: 0.03276488 valid loss: 0.026493626\n",
      "105 train loss: 0.01763566 valid loss: 0.016963439\n",
      "106 train loss: 0.01623042 valid loss: 0.017103953\n",
      "107 train loss: 0.018563628 valid loss: 0.016018892\n",
      "108 train loss: 0.009264134 valid loss: 0.010020985\n",
      "109 train loss: 0.01593791 valid loss: 0.015252327\n",
      "110 train loss: 0.0320066 valid loss: 0.032613147\n",
      "111 train loss: 0.011551767 valid loss: 0.010981468\n",
      "112 train loss: 0.015884757 valid loss: 0.018099295\n",
      "113 train loss: 0.010854171 valid loss: 0.010262357\n",
      "114 train loss: 0.015300173 valid loss: 0.0156199625\n",
      "115 train loss: 0.035806797 valid loss: 0.038738374\n",
      "116 train loss: 0.10515667 valid loss: 0.11037469\n",
      "117 train loss: 0.13107637 valid loss: 0.110717185\n",
      "118 train loss: 0.038391296 valid loss: 0.03517642\n",
      "119 train loss: 0.018314615 valid loss: 0.014792546\n",
      "120 train loss: 0.052474122 valid loss: 0.051863246\n",
      "121 train loss: 0.02011472 valid loss: 0.01713842\n",
      "122 train loss: 0.009796468 valid loss: 0.00893571\n",
      "123 train loss: 0.036111478 valid loss: 0.033115044\n",
      "124 train loss: 0.025396522 valid loss: 0.02320315\n",
      "125 train loss: 0.018695597 valid loss: 0.016219532\n",
      "126 train loss: 0.033346973 valid loss: 0.034802046\n",
      "127 train loss: 0.013335573 valid loss: 0.011286115\n",
      "128 train loss: 0.012452587 valid loss: 0.011264453\n",
      "129 train loss: 0.020230668 valid loss: 0.019388571\n",
      "130 train loss: 0.022872778 valid loss: 0.0232441\n",
      "131 train loss: 0.020967867 valid loss: 0.021899218\n",
      "132 train loss: 0.014063564 valid loss: 0.01208781\n",
      "133 train loss: 0.023385402 valid loss: 0.01973533\n",
      "134 train loss: 0.02507727 valid loss: 0.0210727\n",
      "135 train loss: 0.01719693 valid loss: 0.014223176\n",
      "136 train loss: 0.014405805 valid loss: 0.015109942\n",
      "137 train loss: 0.009896497 valid loss: 0.008482474\n",
      "138 train loss: 0.027707666 valid loss: 0.02251248\n",
      "139 train loss: 0.01463281 valid loss: 0.012917701\n",
      "140 train loss: 0.0103295045 valid loss: 0.009460473\n",
      "141 train loss: 0.008923093 valid loss: 0.008157357\n",
      "142 train loss: 0.14090492 valid loss: 0.13117145\n",
      "143 train loss: 0.40665814 valid loss: 0.35409722\n",
      "144 train loss: 0.20707563 valid loss: 0.20355958\n",
      "145 train loss: 0.111173294 valid loss: 0.12722261\n",
      "146 train loss: 0.16302043 valid loss: 0.1617739\n",
      "147 train loss: 0.0840088 valid loss: 0.07368902\n",
      "148 train loss: 0.038117923 valid loss: 0.03730469\n",
      "149 train loss: 0.027574988 valid loss: 0.022788715\n",
      "150 train loss: 0.02679651 valid loss: 0.027801871\n",
      "151 train loss: 0.027042883 valid loss: 0.029010324\n",
      "152 train loss: 0.012342341 valid loss: 0.013464439\n",
      "153 train loss: 0.037731588 valid loss: 0.038900234\n",
      "154 train loss: 0.009847727 valid loss: 0.009402662\n",
      "155 train loss: 0.02536043 valid loss: 0.02443738\n",
      "156 train loss: 0.011669133 valid loss: 0.010202527\n",
      "157 train loss: 0.011157976 valid loss: 0.009224533\n",
      "158 train loss: 0.016588986 valid loss: 0.017694304\n",
      "159 train loss: 0.014064673 valid loss: 0.012373168\n",
      "160 train loss: 0.013023948 valid loss: 0.012345308\n",
      "161 train loss: 0.01647584 valid loss: 0.015235445\n",
      "162 train loss: 0.019178871 valid loss: 0.018016715\n",
      "163 train loss: 0.026378015 valid loss: 0.02814149\n",
      "164 train loss: 0.012566219 valid loss: 0.014479304\n",
      "165 train loss: 0.02306092 valid loss: 0.02539698\n",
      "166 train loss: 0.010279339 valid loss: 0.01091203\n",
      "167 train loss: 0.007499707 valid loss: 0.006669423\n",
      "168 train loss: 0.0077833007 valid loss: 0.0071392064\n"
     ]
    },
    {
     "name": "stdout",
     "output_type": "stream",
     "text": [
      "169 train loss: 0.018025592 valid loss: 0.016327238\n",
      "170 train loss: 0.01618249 valid loss: 0.017838217\n",
      "171 train loss: 0.020579023 valid loss: 0.018228346\n",
      "172 train loss: 0.040155865 valid loss: 0.03680423\n",
      "173 train loss: 0.17087598 valid loss: 0.17502412\n",
      "174 train loss: 0.05995051 valid loss: 0.06369818\n",
      "175 train loss: 0.015279715 valid loss: 0.015234683\n",
      "176 train loss: 0.01302747 valid loss: 0.012533031\n",
      "177 train loss: 0.013295808 valid loss: 0.013440329\n",
      "178 train loss: 0.011040802 valid loss: 0.012037792\n",
      "179 train loss: 0.021425962 valid loss: 0.02027964\n",
      "180 train loss: 0.007121307 valid loss: 0.006337468\n",
      "181 train loss: 0.009043145 valid loss: 0.009334948\n",
      "182 train loss: 0.011262445 valid loss: 0.011652422\n",
      "183 train loss: 0.009766244 valid loss: 0.010783388\n",
      "184 train loss: 0.016875435 valid loss: 0.014411995\n",
      "185 train loss: 0.016313208 valid loss: 0.01577762\n",
      "186 train loss: 0.035253953 valid loss: 0.040321093\n",
      "187 train loss: 0.014096734 valid loss: 0.016096245\n",
      "188 train loss: 0.02218161 valid loss: 0.023606358\n",
      "189 train loss: 0.028392479 valid loss: 0.025712958\n",
      "190 train loss: 0.012196583 valid loss: 0.012236646\n",
      "191 train loss: 0.011427852 valid loss: 0.010528915\n",
      "192 train loss: 0.01448761 valid loss: 0.014047308\n",
      "193 train loss: 0.016261933 valid loss: 0.015084655\n",
      "194 train loss: 0.037718378 valid loss: 0.03227546\n",
      "195 train loss: 0.118699625 valid loss: 0.09369687\n",
      "196 train loss: 0.029865012 valid loss: 0.034007467\n",
      "197 train loss: 0.0235855 valid loss: 0.024432654\n",
      "198 train loss: 0.017350284 valid loss: 0.0182114\n",
      "199 train loss: 0.013104252 valid loss: 0.012758029\n",
      "200 train loss: 0.016610267 valid loss: 0.013937712\n",
      "201 train loss: 0.011575111 valid loss: 0.010788946\n",
      "202 train loss: 0.014890572 valid loss: 0.013061296\n",
      "203 train loss: 0.011770862 valid loss: 0.010679676\n",
      "204 train loss: 0.01615365 valid loss: 0.015295733\n",
      "205 train loss: 0.012055078 valid loss: 0.010053848\n",
      "206 train loss: 0.024444828 valid loss: 0.022361236\n",
      "207 train loss: 0.0257047 valid loss: 0.022204228\n",
      "208 train loss: 0.07896112 valid loss: 0.07753251\n",
      "209 train loss: 0.027037017 valid loss: 0.025043173\n",
      "210 train loss: 0.020642791 valid loss: 0.018453315\n",
      "211 train loss: 0.025224188 valid loss: 0.02289092\n",
      "212 train loss: 0.025630664 valid loss: 0.024693089\n",
      "213 train loss: 0.016701447 valid loss: 0.014020434\n",
      "214 train loss: 0.010021693 valid loss: 0.008667372\n",
      "215 train loss: 0.020648148 valid loss: 0.018411051\n",
      "216 train loss: 0.04621667 valid loss: 0.048216153\n",
      "217 train loss: 0.008287044 valid loss: 0.009187376\n",
      "218 train loss: 0.03194767 valid loss: 0.029681547\n",
      "219 train loss: 0.01591239 valid loss: 0.015241419\n",
      "220 train loss: 0.015186492 valid loss: 0.0144206155\n",
      "221 train loss: 0.007933873 valid loss: 0.00743831\n",
      "222 train loss: 0.033101253 valid loss: 0.03089308\n",
      "223 train loss: 0.024640147 valid loss: 0.02240564\n",
      "224 train loss: 0.014057824 valid loss: 0.01241808\n",
      "225 train loss: 0.021070777 valid loss: 0.018161835\n",
      "226 train loss: 0.009291109 valid loss: 0.009094\n",
      "227 train loss: 0.1357243 valid loss: 0.1298112\n",
      "228 train loss: 0.07126776 valid loss: 0.058173742\n",
      "229 train loss: 0.11571029 valid loss: 0.10867841\n",
      "230 train loss: 0.036630914 valid loss: 0.034583293\n",
      "231 train loss: 0.012127797 valid loss: 0.010836536\n",
      "232 train loss: 0.012481716 valid loss: 0.012989045\n",
      "233 train loss: 0.018753836 valid loss: 0.01642888\n",
      "234 train loss: 0.019146778 valid loss: 0.022248631\n",
      "235 train loss: 0.015183129 valid loss: 0.01391737\n",
      "236 train loss: 0.023328817 valid loss: 0.020636283\n",
      "237 train loss: 0.019380486 valid loss: 0.021449797\n",
      "238 train loss: 0.019625708 valid loss: 0.021956505\n",
      "239 train loss: 0.011351522 valid loss: 0.011171261\n",
      "240 train loss: 0.015626438 valid loss: 0.016922185\n",
      "241 train loss: 0.017842643 valid loss: 0.017175613\n",
      "242 train loss: 0.0076290383 valid loss: 0.0074423985\n",
      "243 train loss: 0.009207208 valid loss: 0.009958118\n",
      "244 train loss: 0.022323128 valid loss: 0.02258689\n",
      "245 train loss: 0.013824173 valid loss: 0.013359675\n",
      "246 train loss: 0.0121804215 valid loss: 0.013314034\n",
      "247 train loss: 0.019942181 valid loss: 0.019750873\n",
      "248 train loss: 0.035499625 valid loss: 0.028916428\n",
      "249 train loss: 0.059464056 valid loss: 0.06506071\n",
      "250 train loss: 0.010145366 valid loss: 0.01040405\n",
      "251 train loss: 0.008804942 valid loss: 0.007918471\n",
      "252 train loss: 0.018692352 valid loss: 0.01865592\n",
      "253 train loss: 0.023895469 valid loss: 0.023292987\n",
      "254 train loss: 0.03333653 valid loss: 0.032480665\n",
      "255 train loss: 0.012459896 valid loss: 0.012146878\n",
      "256 train loss: 0.014830068 valid loss: 0.015723748\n",
      "257 train loss: 0.01995592 valid loss: 0.02001884\n",
      "258 train loss: 0.08739576 valid loss: 0.07499381\n",
      "259 train loss: 0.04320008 valid loss: 0.04706531\n",
      "260 train loss: 0.039204367 valid loss: 0.03712196\n",
      "261 train loss: 0.04577912 valid loss: 0.043061107\n",
      "262 train loss: 0.07244279 valid loss: 0.07599152\n",
      "263 train loss: 0.094244555 valid loss: 0.10268469\n",
      "264 train loss: 0.011519313 valid loss: 0.010481209\n",
      "265 train loss: 0.012490819 valid loss: 0.011310171\n",
      "266 train loss: 0.014225868 valid loss: 0.013552905\n",
      "267 train loss: 0.010251873 valid loss: 0.008313164\n",
      "268 train loss: 0.011599221 valid loss: 0.009541918\n",
      "269 train loss: 0.0097001 valid loss: 0.0093922075\n",
      "270 train loss: 0.009074058 valid loss: 0.008017527\n",
      "Early stopping\n"
     ]
    }
   ],
   "source": [
    "with tf.Session() as sess:\n",
    "    if os.path.isfile(checkpoint_epoch_path):\n",
    "        # if the checkpoint file exists, restore the model and load the epoch number\n",
    "        with open(checkpoint_epoch_path, \"rb\") as f:\n",
    "            start_epoch = int(f.read())\n",
    "        print(\"Training was interrupted. Continuing at epoch\", start_epoch)\n",
    "        saver.restore(sess, checkpoint_path)\n",
    "    else:\n",
    "        start_epoch = 0\n",
    "        sess.run(init)\n",
    "\n",
    "    for epoch in range(start_epoch, n_epochs):\n",
    "        for X_batch, y_batch in shuffle_batch(X_train, y_train, n_batches):\n",
    "            summary, _ = sess.run([merged, training_op],\n",
    "                                  feed_dict={X: X_batch, y: y_batch})\n",
    "\n",
    "        train_summary, _ = sess.run([merged, training_op],feed_dict={X: X_train, y: y_train})\n",
    "        test_summary, _ =sess.run([merged, training_op],feed_dict={X: X_test, y: y_test})\n",
    "        validation_summary, _ = sess.run([merged, training_op], feed_dict={X: X_val, y: y_val})\n",
    "\n",
    "        train_writer.add_summary(train_summary, epoch)\n",
    "        test_writer.add_summary(test_summary, epoch)\n",
    "        valid_writer.add_summary(validation_summary,epoch)\n",
    "\n",
    "        loss_train = mse.eval(feed_dict={X: X_train, y: y_train})\n",
    "        loss_val = mse.eval(feed_dict={X: X_val, y: y_val})\n",
    "        print(epoch, \"train loss:\", loss_train, \"valid loss:\", loss_val)\n",
    "\n",
    "        iteration_skip = 10\n",
    "        if epoch % iteration_skip == 0:\n",
    "            saver.save(sess, checkpoint_path)\n",
    "            with open(checkpoint_epoch_path, \"wb\") as f:\n",
    "                f.write(b\"%d\" % (epoch + 1))\n",
    "\n",
    "            if loss_val < best_loss:\n",
    "                saver.save(sess, final_model_path)\n",
    "                best_loss = loss_val\n",
    "            else:\n",
    "                epochs_without_progress += iteration_skip\n",
    "                if epochs_without_progress > max_epochs_without_progress:\n",
    "                    print(\"Early stopping\")\n",
    "                    break\n",
    "\n",
    "\n",
    "train_writer.close()\n",
    "test_writer.close()\n",
    "valid_writer.close()"
   ]
  },
  {
   "cell_type": "code",
   "execution_count": 8,
   "metadata": {},
   "outputs": [],
   "source": [
    "os.remove(checkpoint_epoch_path)"
   ]
  },
  {
   "cell_type": "code",
   "execution_count": 9,
   "metadata": {},
   "outputs": [
    {
     "name": "stderr",
     "output_type": "stream",
     "text": [
      "W0816 20:48:16.506497 26228 deprecation.py:323] From C:\\ProgramData\\Anaconda3\\lib\\site-packages\\tensorflow\\python\\training\\saver.py:1276: checkpoint_exists (from tensorflow.python.training.checkpoint_management) is deprecated and will be removed in a future version.\n",
      "Instructions for updating:\n",
      "Use standard file APIs to check for files with this prefix.\n"
     ]
    },
    {
     "name": "stdout",
     "output_type": "stream",
     "text": [
      "0.007377633\n"
     ]
    }
   ],
   "source": [
    "with tf.Session() as sess:\n",
    "    saver.restore(sess, final_model_path)\n",
    "    test_mse = mse.eval(feed_dict={X: X_test, y: y_test})\n",
    "    predictions = y_pred.eval(feed_dict={X: X_test, y: y_test})\n",
    "    \n",
    "    \n",
    "print(test_mse)"
   ]
  },
  {
   "cell_type": "code",
   "execution_count": 10,
   "metadata": {},
   "outputs": [
    {
     "data": {
      "image/png": "[encoded data removed]",
      "text/plain": [
       "<Figure size 432x288 with 1 Axes>"
      ]
     },
     "metadata": {
      "needs_background": "light"
     },
     "output_type": "display_data"
    }
   ],
   "source": [
    "y_new_inverse = y_scaler.inverse_transform(predictions)\n",
    "x_test_inverse = x_scaler.inverse_transform(X_test)\n",
    "\n",
    "plt.scatter(df[\"X\"], df[\"y\"],s=5, color='b',marker='.')\n",
    "plt.scatter(x_test_inverse, y_new_inverse,s=10, color='r',marker = ',')\n",
    "plt.xlabel('x')\n",
    "plt.ylabel('y')\n",
    "plt.axis('tight')\n",
    "plt.show()"
   ]
  },
  {
   "cell_type": "markdown",
   "metadata": {},
   "source": [
    "How will nn behave beyond seen range?"
   ]
  },
  {
   "cell_type": "code",
   "execution_count": 11,
   "metadata": {},
   "outputs": [
    {
     "data": {
      "image/png": "[encoded data removed]",
      "text/plain": [
       "<Figure size 432x288 with 1 Axes>"
      ]
     },
     "metadata": {
      "needs_background": "light"
     },
     "output_type": "display_data"
    }
   ],
   "source": [
    "data_length = 10000\n",
    "x_long = np.linspace(-5 * np.pi, 5 * np.pi, data_length)\n",
    "y_long = np.sin(x_long) \n",
    "\n",
    "X_train_long = x_scaler.transform(x_long.reshape(-1, 1))\n",
    "y_train_long = y_scaler.transform(y_long.reshape(-1, 1))\n",
    "\n",
    "plt.scatter(x_long, y_long,s=5, color='b',marker = ',')\n",
    "plt.xlabel('x')\n",
    "plt.ylabel('y')\n",
    "plt.axis('tight')\n",
    "plt.show()"
   ]
  },
  {
   "cell_type": "code",
   "execution_count": 12,
   "metadata": {},
   "outputs": [
    {
     "name": "stdout",
     "output_type": "stream",
     "text": [
      "0.0070373863\n"
     ]
    }
   ],
   "source": [
    "with tf.Session() as sess:\n",
    "    saver.restore(sess, final_model_path)\n",
    "    test_mse_long = mse.eval(feed_dict={X: X_train_long, y: y_train_long})\n",
    "    predictions_long = y_pred.eval(feed_dict={X: X_train_long, y: y_train_long})\n",
    "    \n",
    "    \n",
    "print(test_mse_long)"
   ]
  },
  {
   "cell_type": "code",
   "execution_count": 13,
   "metadata": {},
   "outputs": [
    {
     "data": {
      "image/png": "[encoded data removed]",
      "text/plain": [
       "<Figure size 432x288 with 1 Axes>"
      ]
     },
     "metadata": {
      "needs_background": "light"
     },
     "output_type": "display_data"
    }
   ],
   "source": [
    "y_new_inverse_long = y_scaler.inverse_transform(predictions_long)\n",
    "x_test_inverse_long = x_scaler.inverse_transform(X_train_long)\n",
    "\n",
    "plt.scatter(x_long,y_long,s=5, color='b',marker='.')\n",
    "plt.scatter(x_test_inverse_long, predictions_long,s=7, color='r',marker = ',')\n",
    "plt.xlabel('x')\n",
    "plt.ylabel('y')\n",
    "plt.axis('tight')\n",
    "plt.show()"
   ]
  },
  {
   "cell_type": "markdown",
   "metadata": {},
   "source": [
    "Easy to notice, some memory will be required "
   ]
  },
  {
   "cell_type": "code",
   "execution_count": null,
   "metadata": {},
   "outputs": [],
   "source": []
  }
 ],
 "metadata": {
  "kernelspec": {
   "display_name": "Python 3",
   "language": "python",
   "name": "python3"
  },
  "language_info": {
   "codemirror_mode": {
    "name": "ipython",
    "version": 3
   },
   "file_extension": ".py",
   "mimetype": "text/x-python",
   "name": "python",
   "nbconvert_exporter": "python",
   "pygments_lexer": "ipython3",
   "version": "3.7.3"
  }
 },
 "nbformat": 4,
 "nbformat_minor": 2
}
