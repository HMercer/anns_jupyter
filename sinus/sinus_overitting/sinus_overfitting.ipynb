{
 "cells": [
  {
   "cell_type": "markdown",
   "metadata": {},
   "source": [
    "The goal of this (first) notebook is to overfit network. According to this cheat sheet https://stanford.edu/~shervine/teaching/cs-230/cheatsheet-deep-learning-tips-and-tricks#good-practices\n",
    "it is a good practice to overfit a model on a small batch to check if it is capable of learning at all."
   ]
  },
  {
   "cell_type": "code",
   "execution_count": 1,
   "metadata": {},
   "outputs": [],
   "source": [
    "import numpy as np\n",
    "import tensorflow as tf\n",
    "from datetime import datetime\n",
    "import matplotlib.pyplot as plt\n",
    "from sklearn.preprocessing import MinMaxScaler\n",
    "import pandas as pd\n",
    "\n",
    "%matplotlib notebook\n",
    "\n",
    "now = datetime.utcnow().strftime(\"%Y%m%d%H%M%S\")\n",
    "root_logdir = \"tf_logs\"\n",
    "logdir = \"{}/run-{}/\".format(root_logdir, now)\n",
    "\n"
   ]
  },
  {
   "cell_type": "code",
   "execution_count": 2,
   "metadata": {},
   "outputs": [],
   "source": [
    "data_length = 401\n",
    "noise = np.random.normal(0.01, 0.3, data_length)\n",
    "x = np.linspace(-2*np.pi, 2*np.pi, data_length) \n",
    "y = np.sin(x)#+ noise\n",
    "df = pd.DataFrame(data={'X':x, 'y':y})\n"
   ]
  },
  {
   "cell_type": "code",
   "execution_count": 3,
   "metadata": {},
   "outputs": [
    {
     "data": {
      "image/png": "[encoded data removed]",
      "text/plain": [
       "<Figure size 432x288 with 1 Axes>"
      ]
     },
     "metadata": {
      "needs_background": "light"
     },
     "output_type": "display_data"
    }
   ],
   "source": [
    "plt.scatter(df[\"X\"], df[\"y\"],s=5)\n",
    "plt.xlabel('x')\n",
    "plt.ylabel('y')\n",
    "plt.axis('tight')\n",
    "plt.show()"
   ]
  },
  {
   "cell_type": "code",
   "execution_count": 4,
   "metadata": {},
   "outputs": [
    {
     "data": {
      "text/html": [
       "<div>\n",
       "<style scoped>\n",
       "    .dataframe tbody tr th:only-of-type {\n",
       "        vertical-align: middle;\n",
       "    }\n",
       "\n",
       "    .dataframe tbody tr th {\n",
       "        vertical-align: top;\n",
       "    }\n",
       "\n",
       "    .dataframe thead th {\n",
       "        text-align: right;\n",
       "    }\n",
       "</style>\n",
       "<table border=\"1\" class=\"dataframe\">\n",
       "  <thead>\n",
       "    <tr style=\"text-align: right;\">\n",
       "      <th></th>\n",
       "      <th>X</th>\n",
       "      <th>y</th>\n",
       "    </tr>\n",
       "  </thead>\n",
       "  <tbody>\n",
       "    <tr>\n",
       "      <th>0</th>\n",
       "      <td>-6.283185</td>\n",
       "      <td>2.449294e-16</td>\n",
       "    </tr>\n",
       "    <tr>\n",
       "      <th>1</th>\n",
       "      <td>-6.251769</td>\n",
       "      <td>3.141076e-02</td>\n",
       "    </tr>\n",
       "    <tr>\n",
       "      <th>2</th>\n",
       "      <td>-6.220353</td>\n",
       "      <td>6.279052e-02</td>\n",
       "    </tr>\n",
       "    <tr>\n",
       "      <th>3</th>\n",
       "      <td>-6.188938</td>\n",
       "      <td>9.410831e-02</td>\n",
       "    </tr>\n",
       "    <tr>\n",
       "      <th>4</th>\n",
       "      <td>-6.157522</td>\n",
       "      <td>1.253332e-01</td>\n",
       "    </tr>\n",
       "  </tbody>\n",
       "</table>\n",
       "</div>"
      ],
      "text/plain": [
       "          X             y\n",
       "0 -6.283185  2.449294e-16\n",
       "1 -6.251769  3.141076e-02\n",
       "2 -6.220353  6.279052e-02\n",
       "3 -6.188938  9.410831e-02\n",
       "4 -6.157522  1.253332e-01"
      ]
     },
     "execution_count": 4,
     "metadata": {},
     "output_type": "execute_result"
    }
   ],
   "source": [
    "df.head()\n"
   ]
  },
  {
   "cell_type": "code",
   "execution_count": 5,
   "metadata": {
    "scrolled": true
   },
   "outputs": [
    {
     "data": {
      "text/html": [
       "<div>\n",
       "<style scoped>\n",
       "    .dataframe tbody tr th:only-of-type {\n",
       "        vertical-align: middle;\n",
       "    }\n",
       "\n",
       "    .dataframe tbody tr th {\n",
       "        vertical-align: top;\n",
       "    }\n",
       "\n",
       "    .dataframe thead th {\n",
       "        text-align: right;\n",
       "    }\n",
       "</style>\n",
       "<table border=\"1\" class=\"dataframe\">\n",
       "  <thead>\n",
       "    <tr style=\"text-align: right;\">\n",
       "      <th></th>\n",
       "      <th>X</th>\n",
       "      <th>y</th>\n",
       "    </tr>\n",
       "  </thead>\n",
       "  <tbody>\n",
       "    <tr>\n",
       "      <th>count</th>\n",
       "      <td>4.010000e+02</td>\n",
       "      <td>4.010000e+02</td>\n",
       "    </tr>\n",
       "    <tr>\n",
       "      <th>mean</th>\n",
       "      <td>1.630173e-15</td>\n",
       "      <td>-6.439325e-17</td>\n",
       "    </tr>\n",
       "    <tr>\n",
       "      <th>std</th>\n",
       "      <td>3.641199e+00</td>\n",
       "      <td>7.071068e-01</td>\n",
       "    </tr>\n",
       "    <tr>\n",
       "      <th>min</th>\n",
       "      <td>-6.283185e+00</td>\n",
       "      <td>-1.000000e+00</td>\n",
       "    </tr>\n",
       "    <tr>\n",
       "      <th>25%</th>\n",
       "      <td>-3.141593e+00</td>\n",
       "      <td>-7.071068e-01</td>\n",
       "    </tr>\n",
       "    <tr>\n",
       "      <th>50%</th>\n",
       "      <td>8.881784e-16</td>\n",
       "      <td>1.224647e-16</td>\n",
       "    </tr>\n",
       "    <tr>\n",
       "      <th>75%</th>\n",
       "      <td>3.141593e+00</td>\n",
       "      <td>7.071068e-01</td>\n",
       "    </tr>\n",
       "    <tr>\n",
       "      <th>max</th>\n",
       "      <td>6.283185e+00</td>\n",
       "      <td>1.000000e+00</td>\n",
       "    </tr>\n",
       "  </tbody>\n",
       "</table>\n",
       "</div>"
      ],
      "text/plain": [
       "                  X             y\n",
       "count  4.010000e+02  4.010000e+02\n",
       "mean   1.630173e-15 -6.439325e-17\n",
       "std    3.641199e+00  7.071068e-01\n",
       "min   -6.283185e+00 -1.000000e+00\n",
       "25%   -3.141593e+00 -7.071068e-01\n",
       "50%    8.881784e-16  1.224647e-16\n",
       "75%    3.141593e+00  7.071068e-01\n",
       "max    6.283185e+00  1.000000e+00"
      ]
     },
     "execution_count": 5,
     "metadata": {},
     "output_type": "execute_result"
    }
   ],
   "source": [
    "df.describe()"
   ]
  },
  {
   "cell_type": "code",
   "execution_count": 6,
   "metadata": {
    "scrolled": true
   },
   "outputs": [
    {
     "name": "stdout",
     "output_type": "stream",
     "text": [
      "[[0.    ]\n",
      " [0.0025]\n",
      " [0.005 ]\n",
      " [0.0075]\n",
      " [0.01  ]]\n",
      "[[0.5       ]\n",
      " [0.51570538]\n",
      " [0.53139526]\n",
      " [0.54705416]\n",
      " [0.56266662]]\n",
      "(401, 1)\n",
      "(401, 1)\n",
      "1\n"
     ]
    }
   ],
   "source": [
    "scaler = MinMaxScaler()\n",
    "X_train = scaler.fit_transform(df[\"X\"].values.reshape(-1,1))\n",
    "y_train = scaler.fit_transform(df[\"y\"].values.reshape(-1,1))\n",
    "n_inputs = X_train.shape[1]\n",
    "print(X_train[:5])\n",
    "print(y_train[:5])\n",
    "print(X_train.shape)\n",
    "print(y_train.shape)\n",
    "print(n_inputs)\n"
   ]
  },
  {
   "cell_type": "code",
   "execution_count": 7,
   "metadata": {},
   "outputs": [
    {
     "name": "stderr",
     "output_type": "stream",
     "text": [
      "WARNING: Logging before flag parsing goes to stderr.\n",
      "W0729 21:18:49.504703  2956 deprecation.py:506] From C:\\ProgramData\\Anaconda3\\lib\\site-packages\\tensorflow\\python\\ops\\init_ops.py:1251: calling VarianceScaling.__init__ (from tensorflow.python.ops.init_ops) with dtype is deprecated and will be removed in a future version.\n",
      "Instructions for updating:\n",
      "Call initializer instance with the dtype argument instead of passing it to the constructor\n"
     ]
    },
    {
     "name": "stdout",
     "output_type": "stream",
     "text": [
      "0.2900585\n",
      "0.0135698635\n",
      "0.00014227672\n"
     ]
    }
   ],
   "source": [
    "tf.reset_default_graph() \n",
    "\n",
    "with tf.name_scope(\"dnn\"):\n",
    "    X = tf.placeholder(tf.float32, shape = (None, n_inputs), name=\"X\")\n",
    "    y = tf.placeholder(tf.float32, shape=(None,1), name = \"y\")\n",
    "    hidden1 = tf.keras.layers.Dense(10,name=\"hidden1\")(X)\n",
    "    hidden2 = tf.keras.layers.Dense(150, name=\"hidden2\",activation=tf.nn.leaky_relu )(hidden1)\n",
    "    hidden3 = tf.keras.layers.Dense(50, name=\"hidden3\" )(hidden2)\n",
    "    hidden4 = tf.keras.layers.Dense(150, name=\"hidden4\", activation=tf.nn.leaky_relu )(hidden3)\n",
    "    y_pred =  tf.keras.layers.Dense(1, name=\"output\")(hidden4)\n",
    "    \n",
    "with tf.name_scope('MSE'):\n",
    "    error = y_pred - y\n",
    "    mse = tf.reduce_mean(tf.square(error), name=\"mse\")\n",
    "    \n",
    "with tf.name_scope('train'):\n",
    "    optimiser = tf.train.AdamOptimizer(0.01)\n",
    "    training_op = optimiser.minimize(mse)\n",
    "\n",
    "init = tf.global_variables_initializer()\n",
    "\n",
    "n_epochs = 30000\n",
    "\n",
    "with tf.Session() as sess:\n",
    "    sess.run(init)\n",
    "    for epoch in range(n_epochs):\n",
    "        sess.run(training_op, feed_dict={X: X_train, y: y_train})\n",
    "        if epoch % 10000 == 0:\n",
    "            mse_val = mse.eval(feed_dict={X: X_train, y: y_train})\n",
    "            print(mse_val)\n",
    "    predictions = y_pred.eval(feed_dict={X: X_train, y: y_train})\n",
    "    \n",
    "\n"
   ]
  },
  {
   "cell_type": "code",
   "execution_count": 8,
   "metadata": {},
   "outputs": [
    {
     "name": "stdout",
     "output_type": "stream",
     "text": [
      "xs: [[0.    ]\n",
      " [0.0025]\n",
      " [0.005 ]\n",
      " [0.0075]\n",
      " [0.01  ]]\n",
      "original [[0.5       ]\n",
      " [0.51570538]\n",
      " [0.53139526]\n",
      " [0.54705416]\n",
      " [0.56266662]]\n",
      "predictions [[0.70850086]\n",
      " [0.7129803 ]\n",
      " [0.7174752 ]\n",
      " [0.7219701 ]\n",
      " [0.7264637 ]]\n",
      "xs: [[0.99  ]\n",
      " [0.9925]\n",
      " [0.995 ]\n",
      " [0.9975]\n",
      " [1.    ]]\n",
      "original [[0.43733338]\n",
      " [0.45294584]\n",
      " [0.46860474]\n",
      " [0.48429462]\n",
      " [0.5       ]]\n",
      "predictions [[0.43290588]\n",
      " [0.4439709 ]\n",
      " [0.4518251 ]\n",
      " [0.4596562 ]\n",
      " [0.46826503]]\n"
     ]
    }
   ],
   "source": [
    "print(\"xs:\", X_train[:5])\n",
    "print(\"original\", y_train[:5])\n",
    "print(\"predictions\" ,predictions[:5])\n",
    "\n",
    "print(\"xs:\", X_train[-5:])\n",
    "print(\"original\", y_train[-5:])\n",
    "print(\"predictions\" ,predictions[-5:])"
   ]
  },
  {
   "cell_type": "code",
   "execution_count": 9,
   "metadata": {},
   "outputs": [
    {
     "data": {
      "image/png": "[encoded data removed]",
      "text/plain": [
       "<Figure size 432x288 with 1 Axes>"
      ]
     },
     "metadata": {
      "needs_background": "light"
     },
     "output_type": "display_data"
    }
   ],
   "source": [
    "plt.scatter(X_train, y_train,s=5, color='b',marker='.')\n",
    "plt.scatter(X_train, predictions,s=5, color='r',marker = ',')\n",
    "plt.xlabel('x')\n",
    "plt.ylabel('y')\n",
    "plt.axis('tight')\n",
    "plt.show()"
   ]
  },
  {
   "cell_type": "code",
   "execution_count": 10,
   "metadata": {},
   "outputs": [
    {
     "data": {
      "image/png": "[encoded data removed]",
      "text/plain": [
       "<Figure size 432x288 with 1 Axes>"
      ]
     },
     "metadata": {
      "needs_background": "light"
     },
     "output_type": "display_data"
    }
   ],
   "source": [
    "y_new_inverse = scaler.inverse_transform(predictions)\n",
    "\n",
    "plt.scatter(df[\"X\"], df[\"y\"],s=5, color='b',marker='.')\n",
    "#plt.scatter(df[\"X\"], y_new_inverse,s=5, color='r',marker = ',')\n",
    "plt.plot(df[\"X\"], y_new_inverse,color='r')\n",
    "plt.xlabel('x')\n",
    "plt.ylabel('y')\n",
    "plt.axis('tight')\n",
    "plt.show()"
   ]
  },
  {
   "cell_type": "markdown",
   "metadata": {},
   "source": [
    "Looks overfited enough to me"
   ]
  },
  {
   "cell_type": "code",
   "execution_count": null,
   "metadata": {},
   "outputs": [],
   "source": []
  },
  {
   "cell_type": "code",
   "execution_count": null,
   "metadata": {},
   "outputs": [],
   "source": []
  },
  {
   "cell_type": "code",
   "execution_count": null,
   "metadata": {},
   "outputs": [],
   "source": []
  }
 ],
 "metadata": {
  "kernelspec": {
   "display_name": "Python 3",
   "language": "python",
   "name": "python3"
  },
  "language_info": {
   "codemirror_mode": {
    "name": "ipython",
    "version": 3
   },
   "file_extension": ".py",
   "mimetype": "text/x-python",
   "name": "python",
   "nbconvert_exporter": "python",
   "pygments_lexer": "ipython3",
   "version": "3.7.3"
  }
 },
 "nbformat": 4,
 "nbformat_minor": 2
}
