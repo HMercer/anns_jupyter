{
 "cells": [
  {
   "cell_type": "markdown",
   "metadata": {},
   "source": [
    "Full verstion with:\n",
    "- train, test, validation.\n",
    "- model saver\n",
    "- tensorboard\n",
    "- early stopping\n"
   ]
  },
  {
   "cell_type": "code",
   "execution_count": 1,
   "metadata": {},
   "outputs": [
    {
     "name": "stdout",
     "output_type": "stream",
     "text": [
      "C:\\Users\\kicjo\\Desktop\\my-anns\\sinus full\n"
     ]
    }
   ],
   "source": [
    "import numpy as np\n",
    "import tensorflow as tf\n",
    "from datetime import datetime\n",
    "import matplotlib.pyplot as plt\n",
    "from sklearn.preprocessing import StandardScaler\n",
    "from sklearn.model_selection import train_test_split\n",
    "import pandas as pd\n",
    "from utils import shuffle_batch, variable_summaries\n",
    "import os\n",
    "%matplotlib notebook\n",
    "\n",
    "dir_path = os.getcwd()\n",
    "\n",
    "now = datetime.utcnow().strftime(\"%Y%m%d%H%M%S\")\n",
    "root_logdir = \"tf_logs\"\n",
    "logdir = \"{}/run-{}/\".format(root_logdir, now)\n",
    "print(dir_path)"
   ]
  },
  {
   "cell_type": "code",
   "execution_count": 2,
   "metadata": {},
   "outputs": [
    {
     "data": {
      "image/png": "[encoded data removed]",
      "text/plain": [
       "<Figure size 432x288 with 1 Axes>"
      ]
     },
     "metadata": {
      "needs_background": "light"
     },
     "output_type": "display_data"
    }
   ],
   "source": [
    "data_length = 401\n",
    "noise = np.random.normal(0.01, 0.3, data_length)\n",
    "x = np.linspace(-2 * np.pi, 2 * np.pi, data_length)\n",
    "y = np.sin(x)  # + noise\n",
    "df = pd.DataFrame(data={'X': x, 'y': y})\n",
    "\n",
    "plt.scatter(df[\"X\"], df[\"y\"], s=5)\n",
    "plt.xlabel('x')\n",
    "plt.ylabel('y')\n",
    "plt.axis('tight')\n",
    "plt.show()\n",
    "\n",
    "X_train_o, X_test_o, y_train_o, y_test_o = train_test_split(x, y, test_size=0.2, random_state=1)\n",
    "X_train_o, X_val_o, y_train_o, y_val_o  = train_test_split(X_train_o, y_train_o, test_size=0.2, random_state=1)\n"
   ]
  },
  {
   "cell_type": "code",
   "execution_count": 3,
   "metadata": {},
   "outputs": [],
   "source": [
    "x_scaler = StandardScaler()\n",
    "y_scaler = StandardScaler()\n",
    "\n",
    "X_train = x_scaler.fit_transform(X_train_o.reshape(-1, 1))\n",
    "X_test = x_scaler.transform(X_test_o.reshape(-1, 1))\n",
    "X_val = x_scaler.transform(X_val_o.reshape(-1, 1))\n",
    "\n",
    "y_train = y_scaler.fit_transform(y_train_o.reshape(-1, 1))\n",
    "y_test = y_scaler.transform(y_test_o.reshape(-1, 1))\n",
    "y_val = y_scaler.transform(y_val_o.reshape(-1, 1))\n",
    "\n",
    "n_inputs = X_train.shape[1]\n",
    "n_outputs = y_train.shape[1]"
   ]
  },
  {
   "cell_type": "code",
   "execution_count": 4,
   "metadata": {},
   "outputs": [
    {
     "name": "stderr",
     "output_type": "stream",
     "text": [
      "WARNING: Logging before flag parsing goes to stderr.\n",
      "W0731 12:29:20.123996 14768 deprecation.py:506] From C:\\ProgramData\\Anaconda3\\lib\\site-packages\\tensorflow\\python\\ops\\init_ops.py:1251: calling VarianceScaling.__init__ (from tensorflow.python.ops.init_ops) with dtype is deprecated and will be removed in a future version.\n",
      "Instructions for updating:\n",
      "Call initializer instance with the dtype argument instead of passing it to the constructor\n",
      "W0731 12:29:20.245274 14768 deprecation_wrapper.py:119] From C:\\Users\\kicjo\\Desktop\\my-anns\\sinus full\\utils.py:16: The name tf.summary.scalar is deprecated. Please use tf.compat.v1.summary.scalar instead.\n",
      "\n",
      "W0731 12:29:20.260236 14768 deprecation_wrapper.py:119] From C:\\Users\\kicjo\\Desktop\\my-anns\\sinus full\\utils.py:22: The name tf.summary.histogram is deprecated. Please use tf.compat.v1.summary.histogram instead.\n",
      "\n"
     ]
    }
   ],
   "source": [
    "\n",
    "with tf.name_scope(\"dnn\"):\n",
    "    with tf.name_scope(\"inputs\"):\n",
    "        X = tf.placeholder(tf.float32, shape=(None, n_inputs), name=\"X\")\n",
    "        y = tf.placeholder(tf.float32, shape=(None, n_outputs), name=\"y\")\n",
    "\n",
    "    hidden1 = tf.keras.layers.Dense(10, name=\"hidden1\")(X)\n",
    "    hidden2 = tf.keras.layers.Dense(150, name=\"hidden2\", activation=tf.nn.leaky_relu)(hidden1)\n",
    "    hidden3 = tf.keras.layers.Dense(50, name=\"hidden3\")(hidden2)\n",
    "    hidden4 = tf.keras.layers.Dense(150, name=\"hidden4\", activation=tf.nn.leaky_relu)(hidden3)\n",
    "    y_pred = tf.keras.layers.Dense(1, name=\"output\")(hidden4)\n",
    "\n",
    "with tf.name_scope('MSE'):\n",
    "    error = y_pred - y\n",
    "    mse = tf.reduce_mean(tf.square(error), name=\"mse\")\n",
    "    variable_summaries(mse)\n",
    "\n",
    "\n",
    "with tf.name_scope('optimiser'):\n",
    "    optimiser = tf.train.AdamOptimizer(0.01)\n",
    "    training_op = optimiser.minimize(mse)\n",
    "\n",
    "for var in tf.trainable_variables():\n",
    "    tf.summary.histogram(var.name, var)"
   ]
  },
  {
   "cell_type": "code",
   "execution_count": 5,
   "metadata": {},
   "outputs": [],
   "source": [
    "merged = tf.summary.merge_all()\n",
    "train_writer = tf.summary.FileWriter(logdir + '/train', tf.get_default_graph())\n",
    "test_writer = tf.summary.FileWriter(logdir + '/test')\n",
    "valid_writer = tf.summary.FileWriter(logdir + '/valid')\n",
    "init = tf.global_variables_initializer()\n",
    "\n",
    "saver = tf.train.Saver()\n",
    "\n",
    "checkpoint_path = os.path.join(dir_path, \"sinus_tmp\",\"sinus_full_model.ckpt\")\n",
    "checkpoint_epoch_path = checkpoint_path + \".epoch\"\n",
    "final_model_path = os.path.join(dir_path, \"model\", \"my_sinus_full_model\")"
   ]
  },
  {
   "cell_type": "code",
   "execution_count": 6,
   "metadata": {},
   "outputs": [],
   "source": [
    "best_loss = np.infty\n",
    "epochs_without_progress = 0\n",
    "max_epochs_without_progress = 150\n",
    "\n",
    "n_epochs = 1000\n",
    "n_batches = 50\n"
   ]
  },
  {
   "cell_type": "code",
   "execution_count": 7,
   "metadata": {},
   "outputs": [
    {
     "name": "stdout",
     "output_type": "stream",
     "text": [
      "0 train loss: 0.75501955 valid loss: 0.7659742\n",
      "1 train loss: 0.5999085 valid loss: 0.61465085\n",
      "2 train loss: 0.42646405 valid loss: 0.52353287\n",
      "3 train loss: 0.30009735 valid loss: 0.36987472\n",
      "4 train loss: 0.3134424 valid loss: 0.40390554\n",
      "5 train loss: 0.3275305 valid loss: 0.36539936\n",
      "6 train loss: 0.2881167 valid loss: 0.33217788\n",
      "7 train loss: 0.207026 valid loss: 0.28682473\n",
      "8 train loss: 0.25296363 valid loss: 0.30351898\n",
      "9 train loss: 0.23505141 valid loss: 0.2598185\n",
      "10 train loss: 0.18766317 valid loss: 0.20874159\n",
      "11 train loss: 0.10769959 valid loss: 0.13986889\n",
      "12 train loss: 0.07193857 valid loss: 0.10459809\n",
      "13 train loss: 0.11535898 valid loss: 0.11316531\n",
      "14 train loss: 0.042122174 valid loss: 0.07034431\n",
      "15 train loss: 0.034084268 valid loss: 0.045604635\n",
      "16 train loss: 0.027075801 valid loss: 0.034694374\n",
      "17 train loss: 0.038214944 valid loss: 0.04661786\n",
      "18 train loss: 0.018140528 valid loss: 0.025857823\n",
      "19 train loss: 0.015406455 valid loss: 0.014453021\n",
      "20 train loss: 0.013519973 valid loss: 0.018560648\n",
      "21 train loss: 0.02622208 valid loss: 0.021564942\n",
      "22 train loss: 0.024091018 valid loss: 0.03816642\n",
      "23 train loss: 0.019276865 valid loss: 0.018263735\n",
      "24 train loss: 0.010978136 valid loss: 0.013340707\n",
      "25 train loss: 0.0076438226 valid loss: 0.0058380896\n",
      "26 train loss: 0.008741488 valid loss: 0.0071346397\n",
      "27 train loss: 0.0028707767 valid loss: 0.0026136362\n",
      "28 train loss: 0.0016111454 valid loss: 0.0011364575\n",
      "29 train loss: 0.0029702373 valid loss: 0.0020611745\n",
      "30 train loss: 0.0046376316 valid loss: 0.003905334\n",
      "31 train loss: 0.0031734726 valid loss: 0.0041905977\n",
      "32 train loss: 0.0032378319 valid loss: 0.0032218785\n",
      "33 train loss: 0.0013828522 valid loss: 0.001273247\n",
      "34 train loss: 0.0006226861 valid loss: 0.00044345227\n",
      "35 train loss: 0.0019230002 valid loss: 0.0015398727\n",
      "36 train loss: 0.0010172931 valid loss: 0.0010413378\n",
      "37 train loss: 0.001071947 valid loss: 0.0009813632\n",
      "38 train loss: 0.013323012 valid loss: 0.011288554\n",
      "39 train loss: 0.00823118 valid loss: 0.01136553\n",
      "40 train loss: 0.0013145257 valid loss: 0.0012656187\n",
      "41 train loss: 0.0052287714 valid loss: 0.0054509076\n",
      "42 train loss: 0.004933049 valid loss: 0.0055847894\n",
      "43 train loss: 0.0040254947 valid loss: 0.004028595\n",
      "44 train loss: 0.0034555756 valid loss: 0.0032048288\n",
      "45 train loss: 0.013476412 valid loss: 0.011123311\n",
      "46 train loss: 0.02179685 valid loss: 0.028179182\n",
      "47 train loss: 0.038908537 valid loss: 0.03542471\n",
      "48 train loss: 0.0047291573 valid loss: 0.0055923304\n",
      "49 train loss: 0.011310769 valid loss: 0.012494095\n",
      "50 train loss: 0.016179472 valid loss: 0.016079163\n",
      "51 train loss: 0.007359787 valid loss: 0.0077885035\n",
      "52 train loss: 0.008747961 valid loss: 0.007703796\n",
      "53 train loss: 0.0046073557 valid loss: 0.0035018162\n",
      "54 train loss: 0.006160686 valid loss: 0.006374684\n",
      "55 train loss: 0.027938914 valid loss: 0.02651173\n",
      "56 train loss: 0.023896152 valid loss: 0.023320014\n",
      "57 train loss: 0.015005518 valid loss: 0.017873967\n",
      "58 train loss: 0.028263556 valid loss: 0.03502021\n",
      "59 train loss: 0.015048891 valid loss: 0.019204304\n",
      "60 train loss: 0.019757004 valid loss: 0.016579196\n",
      "61 train loss: 0.005704779 valid loss: 0.0067590172\n",
      "62 train loss: 0.011052711 valid loss: 0.0097103845\n",
      "63 train loss: 0.006157211 valid loss: 0.006197582\n",
      "64 train loss: 0.010653278 valid loss: 0.011496653\n",
      "65 train loss: 0.013658291 valid loss: 0.017015118\n",
      "66 train loss: 0.0048296447 valid loss: 0.0048150206\n",
      "67 train loss: 0.0051245177 valid loss: 0.0048565427\n",
      "68 train loss: 0.0075201583 valid loss: 0.0063686157\n",
      "69 train loss: 0.003455223 valid loss: 0.0026452849\n",
      "70 train loss: 0.0017516431 valid loss: 0.0014630961\n",
      "71 train loss: 0.0007139019 valid loss: 0.00067705783\n",
      "72 train loss: 0.00087070395 valid loss: 0.0010048052\n",
      "73 train loss: 0.0013636423 valid loss: 0.001315461\n",
      "74 train loss: 0.001597698 valid loss: 0.0016697336\n",
      "75 train loss: 0.010590017 valid loss: 0.011393029\n",
      "76 train loss: 0.005620848 valid loss: 0.005687204\n",
      "77 train loss: 0.026811123 valid loss: 0.029101469\n",
      "78 train loss: 0.016740678 valid loss: 0.022322511\n",
      "79 train loss: 0.008818915 valid loss: 0.008377682\n",
      "80 train loss: 0.0057618604 valid loss: 0.005784238\n",
      "81 train loss: 0.002661809 valid loss: 0.0028241049\n",
      "82 train loss: 0.0030905153 valid loss: 0.0028390354\n",
      "83 train loss: 0.0018275664 valid loss: 0.0013730932\n",
      "84 train loss: 0.0022031844 valid loss: 0.0017291721\n",
      "85 train loss: 0.0006724859 valid loss: 0.00056041434\n",
      "86 train loss: 0.0005470118 valid loss: 0.0004895156\n",
      "87 train loss: 0.0016684553 valid loss: 0.0015559888\n",
      "88 train loss: 0.00026033976 valid loss: 0.0002629837\n",
      "89 train loss: 0.0004455203 valid loss: 0.000467912\n",
      "90 train loss: 0.0010887788 valid loss: 0.00084856234\n",
      "91 train loss: 0.0019629674 valid loss: 0.002339105\n",
      "92 train loss: 0.0032039909 valid loss: 0.0034845888\n",
      "93 train loss: 0.00079668994 valid loss: 0.0008475658\n",
      "94 train loss: 0.011282694 valid loss: 0.010865103\n",
      "95 train loss: 0.005268487 valid loss: 0.006139041\n",
      "96 train loss: 0.008272535 valid loss: 0.0105571505\n",
      "97 train loss: 0.016793642 valid loss: 0.023045547\n",
      "98 train loss: 0.007247613 valid loss: 0.00758396\n",
      "99 train loss: 0.013652886 valid loss: 0.016978182\n",
      "100 train loss: 0.01782104 valid loss: 0.016043508\n",
      "101 train loss: 0.009939589 valid loss: 0.010027786\n",
      "102 train loss: 0.010189718 valid loss: 0.010700501\n",
      "103 train loss: 0.0059187775 valid loss: 0.005153484\n",
      "104 train loss: 0.0072706854 valid loss: 0.0068684444\n",
      "105 train loss: 0.007754854 valid loss: 0.0072065108\n",
      "106 train loss: 0.003753291 valid loss: 0.0036653145\n",
      "107 train loss: 0.013639113 valid loss: 0.012208158\n",
      "108 train loss: 0.0067610512 valid loss: 0.009419721\n",
      "109 train loss: 0.0053668576 valid loss: 0.005165265\n",
      "110 train loss: 0.007429379 valid loss: 0.0069020344\n",
      "111 train loss: 0.0061587696 valid loss: 0.006533569\n",
      "112 train loss: 0.010032275 valid loss: 0.011101597\n",
      "113 train loss: 0.0054670656 valid loss: 0.006709818\n",
      "114 train loss: 0.008537859 valid loss: 0.009127014\n",
      "115 train loss: 0.005272492 valid loss: 0.0058871848\n",
      "116 train loss: 0.0026393456 valid loss: 0.0018350392\n",
      "117 train loss: 0.0029668948 valid loss: 0.0029343767\n",
      "118 train loss: 0.0018431474 valid loss: 0.0024816683\n",
      "119 train loss: 0.0075228885 valid loss: 0.00693391\n",
      "120 train loss: 0.021529056 valid loss: 0.016558196\n",
      "121 train loss: 0.0022826302 valid loss: 0.0024000108\n",
      "122 train loss: 0.0010139744 valid loss: 0.0014786517\n",
      "123 train loss: 0.0014067211 valid loss: 0.0010645634\n",
      "124 train loss: 0.0018847741 valid loss: 0.0014414499\n",
      "125 train loss: 0.0012807276 valid loss: 0.0012663507\n",
      "126 train loss: 0.0008222925 valid loss: 0.0007647549\n",
      "127 train loss: 0.00074952 valid loss: 0.0005477282\n",
      "128 train loss: 0.00031028583 valid loss: 0.0002941434\n",
      "129 train loss: 0.0021438948 valid loss: 0.0026617995\n",
      "130 train loss: 0.0014497503 valid loss: 0.0017889782\n",
      "131 train loss: 0.0010254246 valid loss: 0.0010059506\n",
      "132 train loss: 0.0018054068 valid loss: 0.002293366\n",
      "133 train loss: 0.0009039036 valid loss: 0.0008529741\n",
      "134 train loss: 0.0009628573 valid loss: 0.0010408044\n",
      "135 train loss: 0.0010839361 valid loss: 0.0011670219\n",
      "136 train loss: 0.0014661115 valid loss: 0.0019296152\n",
      "137 train loss: 0.0011595923 valid loss: 0.001296734\n",
      "138 train loss: 0.0012636016 valid loss: 0.0011202876\n",
      "139 train loss: 0.00095618283 valid loss: 0.0012973438\n",
      "140 train loss: 0.00036070842 valid loss: 0.00037631858\n",
      "141 train loss: 0.0020524682 valid loss: 0.0021316765\n",
      "142 train loss: 0.00093796104 valid loss: 0.0011150484\n",
      "143 train loss: 9.465424e-05 valid loss: 9.585061e-05\n",
      "144 train loss: 0.0008965061 valid loss: 0.00077721477\n",
      "145 train loss: 0.0010189406 valid loss: 0.001394683\n",
      "146 train loss: 0.00086743623 valid loss: 0.00081100885\n",
      "147 train loss: 0.0004763676 valid loss: 0.0004417243\n",
      "148 train loss: 0.00021921602 valid loss: 0.0002907196\n",
      "149 train loss: 0.00090058823 valid loss: 0.0010848541\n",
      "150 train loss: 0.00037810227 valid loss: 0.0005077763\n",
      "151 train loss: 0.0013330714 valid loss: 0.0014582347\n",
      "152 train loss: 0.0005043595 valid loss: 0.00048018532\n",
      "153 train loss: 0.0015443207 valid loss: 0.0018357036\n",
      "154 train loss: 0.0022570556 valid loss: 0.0018095234\n",
      "155 train loss: 0.00021554151 valid loss: 0.00023866384\n",
      "156 train loss: 0.0013488659 valid loss: 0.0010749013\n",
      "157 train loss: 0.0009397202 valid loss: 0.0011754237\n",
      "158 train loss: 0.0007874059 valid loss: 0.0007713043\n",
      "159 train loss: 0.00044760018 valid loss: 0.0005539125\n",
      "160 train loss: 0.0006712433 valid loss: 0.0006501279\n"
     ]
    },
    {
     "name": "stdout",
     "output_type": "stream",
     "text": [
      "161 train loss: 0.0016247039 valid loss: 0.0018555375\n",
      "162 train loss: 0.0036733039 valid loss: 0.0037928121\n",
      "163 train loss: 0.0015270102 valid loss: 0.0021078573\n",
      "164 train loss: 0.0036296127 valid loss: 0.0046086563\n",
      "165 train loss: 0.016609525 valid loss: 0.023196496\n",
      "166 train loss: 0.102744445 valid loss: 0.1131542\n",
      "167 train loss: 0.0112072565 valid loss: 0.012093417\n",
      "168 train loss: 0.0077083632 valid loss: 0.00929199\n",
      "169 train loss: 0.01603415 valid loss: 0.013092993\n",
      "170 train loss: 0.034611642 valid loss: 0.025524793\n",
      "171 train loss: 0.024599347 valid loss: 0.026107453\n",
      "172 train loss: 0.021627251 valid loss: 0.023746211\n",
      "173 train loss: 0.015438022 valid loss: 0.0126870815\n",
      "174 train loss: 0.01524079 valid loss: 0.01754301\n",
      "175 train loss: 0.016039478 valid loss: 0.020329177\n",
      "176 train loss: 0.0102194 valid loss: 0.011585608\n",
      "177 train loss: 0.008224115 valid loss: 0.008521432\n",
      "178 train loss: 0.00820408 valid loss: 0.0076101767\n",
      "179 train loss: 0.008055674 valid loss: 0.009917833\n",
      "180 train loss: 0.008064732 valid loss: 0.008439582\n",
      "181 train loss: 0.016793806 valid loss: 0.01645011\n",
      "182 train loss: 0.0065146494 valid loss: 0.008494645\n",
      "183 train loss: 0.0048838034 valid loss: 0.004042808\n",
      "184 train loss: 0.0065882257 valid loss: 0.006250092\n",
      "185 train loss: 0.0032385148 valid loss: 0.002482041\n",
      "186 train loss: 0.0013682444 valid loss: 0.0010217156\n",
      "187 train loss: 0.0007406436 valid loss: 0.000983449\n",
      "188 train loss: 0.0015048902 valid loss: 0.0017152699\n",
      "189 train loss: 0.0032878025 valid loss: 0.0026065768\n",
      "190 train loss: 0.0028881477 valid loss: 0.0031762642\n",
      "191 train loss: 0.0016929824 valid loss: 0.0017343848\n",
      "192 train loss: 0.00050198706 valid loss: 0.00051147863\n",
      "193 train loss: 0.0005280287 valid loss: 0.0004651726\n",
      "194 train loss: 0.0011845727 valid loss: 0.001100968\n",
      "195 train loss: 0.0014185703 valid loss: 0.0014151954\n",
      "196 train loss: 0.00074469554 valid loss: 0.00062577566\n",
      "197 train loss: 0.0023721964 valid loss: 0.0020417105\n",
      "198 train loss: 0.006769752 valid loss: 0.006570059\n",
      "199 train loss: 0.0059247185 valid loss: 0.006693151\n",
      "200 train loss: 0.0042440128 valid loss: 0.004080485\n",
      "201 train loss: 0.0043053804 valid loss: 0.003581073\n",
      "202 train loss: 0.0013853881 valid loss: 0.0011366648\n",
      "203 train loss: 0.00087097666 valid loss: 0.0008151737\n",
      "204 train loss: 0.0006146105 valid loss: 0.00046275734\n",
      "205 train loss: 0.0010694873 valid loss: 0.0011079748\n",
      "206 train loss: 0.0008915461 valid loss: 0.0008111632\n",
      "207 train loss: 0.0003180859 valid loss: 0.0004063196\n",
      "208 train loss: 0.0015194027 valid loss: 0.0012542021\n",
      "209 train loss: 0.0012967666 valid loss: 0.0014552041\n",
      "210 train loss: 0.0020911982 valid loss: 0.0017358544\n",
      "211 train loss: 0.004383647 valid loss: 0.0056051677\n",
      "212 train loss: 0.0023623002 valid loss: 0.0020110784\n",
      "213 train loss: 0.0015283173 valid loss: 0.0011791908\n",
      "214 train loss: 0.0023037242 valid loss: 0.0031922173\n",
      "215 train loss: 0.0028877421 valid loss: 0.0025222218\n",
      "216 train loss: 0.0037731319 valid loss: 0.0044898978\n",
      "217 train loss: 0.0048600594 valid loss: 0.006007272\n",
      "218 train loss: 0.00084055203 valid loss: 0.0010672566\n",
      "219 train loss: 0.0023851262 valid loss: 0.0024435448\n",
      "220 train loss: 0.0014876556 valid loss: 0.0014917897\n",
      "Early stopping\n"
     ]
    }
   ],
   "source": [
    "with tf.Session() as sess:\n",
    "    if os.path.isfile(checkpoint_epoch_path):\n",
    "        # if the checkpoint file exists, restore the model and load the epoch number\n",
    "        with open(checkpoint_epoch_path, \"rb\") as f:\n",
    "            start_epoch = int(f.read())\n",
    "        print(\"Training was interrupted. Continuing at epoch\", start_epoch)\n",
    "        saver.restore(sess, checkpoint_path)\n",
    "    else:\n",
    "        start_epoch = 0\n",
    "        sess.run(init)\n",
    "\n",
    "    for epoch in range(start_epoch, n_epochs):\n",
    "        for X_batch, y_batch in shuffle_batch(X_train, y_train, n_batches):\n",
    "            summary, _ = sess.run([merged, training_op],\n",
    "                                  feed_dict={X: X_batch, y: y_batch})\n",
    "\n",
    "        train_summary, _ = sess.run([merged, training_op],feed_dict={X: X_train, y: y_train})\n",
    "        test_summary, _ =sess.run([merged, training_op],feed_dict={X: X_test, y: y_test})\n",
    "        validation_summary, _ = sess.run([merged, training_op], feed_dict={X: X_val, y: y_val})\n",
    "\n",
    "        train_writer.add_summary(train_summary, epoch)\n",
    "        test_writer.add_summary(test_summary, epoch)\n",
    "        valid_writer.add_summary(validation_summary,epoch)\n",
    "\n",
    "        loss_train = mse.eval(feed_dict={X: X_train, y: y_train})\n",
    "        loss_val = mse.eval(feed_dict={X: X_val, y: y_val})\n",
    "        print(epoch, \"train loss:\", loss_train, \"valid loss:\", loss_val)\n",
    "\n",
    "        iteration_skip = 10\n",
    "        if epoch % iteration_skip == 0:\n",
    "            saver.save(sess, checkpoint_path)\n",
    "            with open(checkpoint_epoch_path, \"wb\") as f:\n",
    "                f.write(b\"%d\" % (epoch + 1))\n",
    "\n",
    "            if loss_val < best_loss:\n",
    "                saver.save(sess, final_model_path)\n",
    "                best_loss = loss_val\n",
    "            else:\n",
    "                epochs_without_progress += iteration_skip\n",
    "                if epochs_without_progress > max_epochs_without_progress:\n",
    "                    print(\"Early stopping\")\n",
    "                    break\n",
    "\n",
    "\n",
    "train_writer.close()\n",
    "test_writer.close()\n",
    "valid_writer.close()"
   ]
  },
  {
   "cell_type": "code",
   "execution_count": 8,
   "metadata": {},
   "outputs": [],
   "source": [
    "os.remove(checkpoint_epoch_path)"
   ]
  },
  {
   "cell_type": "code",
   "execution_count": 9,
   "metadata": {},
   "outputs": [
    {
     "name": "stderr",
     "output_type": "stream",
     "text": [
      "W0731 12:29:28.178677 14768 deprecation.py:323] From C:\\ProgramData\\Anaconda3\\lib\\site-packages\\tensorflow\\python\\training\\saver.py:1276: checkpoint_exists (from tensorflow.python.training.checkpoint_management) is deprecated and will be removed in a future version.\n",
      "Instructions for updating:\n",
      "Use standard file APIs to check for files with this prefix.\n"
     ]
    },
    {
     "name": "stdout",
     "output_type": "stream",
     "text": [
      "0.00057032995\n"
     ]
    }
   ],
   "source": [
    "with tf.Session() as sess:\n",
    "    saver.restore(sess, final_model_path)\n",
    "    test_mse = mse.eval(feed_dict={X: X_test, y: y_test})\n",
    "    predictions = y_pred.eval(feed_dict={X: X_test, y: y_test})\n",
    "    \n",
    "    \n",
    "print(test_mse)"
   ]
  },
  {
   "cell_type": "code",
   "execution_count": 15,
   "metadata": {},
   "outputs": [
    {
     "ename": "ValueError",
     "evalue": "x and y must be the same size",
     "output_type": "error",
     "traceback": [
      "\u001b[1;31m---------------------------------------------------------------------------\u001b[0m",
      "\u001b[1;31mValueError\u001b[0m                                Traceback (most recent call last)",
      "\u001b[1;32m<ipython-input-15-370a3afde3e1>\u001b[0m in \u001b[0;36m<module>\u001b[1;34m\u001b[0m\n\u001b[0;32m      3\u001b[0m \u001b[1;33m\u001b[0m\u001b[0m\n\u001b[0;32m      4\u001b[0m \u001b[0mplt\u001b[0m\u001b[1;33m.\u001b[0m\u001b[0mscatter\u001b[0m\u001b[1;33m(\u001b[0m\u001b[0mdf\u001b[0m\u001b[1;33m[\u001b[0m\u001b[1;34m\"X\"\u001b[0m\u001b[1;33m]\u001b[0m\u001b[1;33m,\u001b[0m \u001b[0mdf\u001b[0m\u001b[1;33m[\u001b[0m\u001b[1;34m\"y\"\u001b[0m\u001b[1;33m]\u001b[0m\u001b[1;33m,\u001b[0m\u001b[0ms\u001b[0m\u001b[1;33m=\u001b[0m\u001b[1;36m5\u001b[0m\u001b[1;33m,\u001b[0m \u001b[0mcolor\u001b[0m\u001b[1;33m=\u001b[0m\u001b[1;34m'b'\u001b[0m\u001b[1;33m,\u001b[0m\u001b[0mmarker\u001b[0m\u001b[1;33m=\u001b[0m\u001b[1;34m'.'\u001b[0m\u001b[1;33m)\u001b[0m\u001b[1;33m\u001b[0m\u001b[1;33m\u001b[0m\u001b[0m\n\u001b[1;32m----> 5\u001b[1;33m \u001b[0mplt\u001b[0m\u001b[1;33m.\u001b[0m\u001b[0mscatter\u001b[0m\u001b[1;33m(\u001b[0m\u001b[0mdf\u001b[0m\u001b[1;33m[\u001b[0m\u001b[1;34m\"X\"\u001b[0m\u001b[1;33m]\u001b[0m\u001b[1;33m,\u001b[0m \u001b[0my_new_inverse\u001b[0m\u001b[1;33m,\u001b[0m\u001b[0ms\u001b[0m\u001b[1;33m=\u001b[0m\u001b[1;36m5\u001b[0m\u001b[1;33m,\u001b[0m \u001b[0mcolor\u001b[0m\u001b[1;33m=\u001b[0m\u001b[1;34m'r'\u001b[0m\u001b[1;33m,\u001b[0m\u001b[0mmarker\u001b[0m \u001b[1;33m=\u001b[0m \u001b[1;34m','\u001b[0m\u001b[1;33m)\u001b[0m\u001b[1;33m\u001b[0m\u001b[1;33m\u001b[0m\u001b[0m\n\u001b[0m\u001b[0;32m      6\u001b[0m \u001b[0mplt\u001b[0m\u001b[1;33m.\u001b[0m\u001b[0mxlabel\u001b[0m\u001b[1;33m(\u001b[0m\u001b[1;34m'x'\u001b[0m\u001b[1;33m)\u001b[0m\u001b[1;33m\u001b[0m\u001b[1;33m\u001b[0m\u001b[0m\n\u001b[0;32m      7\u001b[0m \u001b[0mplt\u001b[0m\u001b[1;33m.\u001b[0m\u001b[0mylabel\u001b[0m\u001b[1;33m(\u001b[0m\u001b[1;34m'y'\u001b[0m\u001b[1;33m)\u001b[0m\u001b[1;33m\u001b[0m\u001b[1;33m\u001b[0m\u001b[0m\n",
      "\u001b[1;32mC:\\ProgramData\\Anaconda3\\lib\\site-packages\\matplotlib\\pyplot.py\u001b[0m in \u001b[0;36mscatter\u001b[1;34m(x, y, s, c, marker, cmap, norm, vmin, vmax, alpha, linewidths, verts, edgecolors, plotnonfinite, data, **kwargs)\u001b[0m\n\u001b[0;32m   2839\u001b[0m         \u001b[0mverts\u001b[0m\u001b[1;33m=\u001b[0m\u001b[0mverts\u001b[0m\u001b[1;33m,\u001b[0m \u001b[0medgecolors\u001b[0m\u001b[1;33m=\u001b[0m\u001b[0medgecolors\u001b[0m\u001b[1;33m,\u001b[0m\u001b[1;33m\u001b[0m\u001b[1;33m\u001b[0m\u001b[0m\n\u001b[0;32m   2840\u001b[0m         plotnonfinite=plotnonfinite, **({\"data\": data} if data is not\n\u001b[1;32m-> 2841\u001b[1;33m         None else {}), **kwargs)\n\u001b[0m\u001b[0;32m   2842\u001b[0m     \u001b[0msci\u001b[0m\u001b[1;33m(\u001b[0m\u001b[0m__ret\u001b[0m\u001b[1;33m)\u001b[0m\u001b[1;33m\u001b[0m\u001b[1;33m\u001b[0m\u001b[0m\n\u001b[0;32m   2843\u001b[0m     \u001b[1;32mreturn\u001b[0m \u001b[0m__ret\u001b[0m\u001b[1;33m\u001b[0m\u001b[1;33m\u001b[0m\u001b[0m\n",
      "\u001b[1;32mC:\\ProgramData\\Anaconda3\\lib\\site-packages\\matplotlib\\__init__.py\u001b[0m in \u001b[0;36minner\u001b[1;34m(ax, data, *args, **kwargs)\u001b[0m\n\u001b[0;32m   1587\u001b[0m     \u001b[1;32mdef\u001b[0m \u001b[0minner\u001b[0m\u001b[1;33m(\u001b[0m\u001b[0max\u001b[0m\u001b[1;33m,\u001b[0m \u001b[1;33m*\u001b[0m\u001b[0margs\u001b[0m\u001b[1;33m,\u001b[0m \u001b[0mdata\u001b[0m\u001b[1;33m=\u001b[0m\u001b[1;32mNone\u001b[0m\u001b[1;33m,\u001b[0m \u001b[1;33m**\u001b[0m\u001b[0mkwargs\u001b[0m\u001b[1;33m)\u001b[0m\u001b[1;33m:\u001b[0m\u001b[1;33m\u001b[0m\u001b[1;33m\u001b[0m\u001b[0m\n\u001b[0;32m   1588\u001b[0m         \u001b[1;32mif\u001b[0m \u001b[0mdata\u001b[0m \u001b[1;32mis\u001b[0m \u001b[1;32mNone\u001b[0m\u001b[1;33m:\u001b[0m\u001b[1;33m\u001b[0m\u001b[1;33m\u001b[0m\u001b[0m\n\u001b[1;32m-> 1589\u001b[1;33m             \u001b[1;32mreturn\u001b[0m \u001b[0mfunc\u001b[0m\u001b[1;33m(\u001b[0m\u001b[0max\u001b[0m\u001b[1;33m,\u001b[0m \u001b[1;33m*\u001b[0m\u001b[0mmap\u001b[0m\u001b[1;33m(\u001b[0m\u001b[0msanitize_sequence\u001b[0m\u001b[1;33m,\u001b[0m \u001b[0margs\u001b[0m\u001b[1;33m)\u001b[0m\u001b[1;33m,\u001b[0m \u001b[1;33m**\u001b[0m\u001b[0mkwargs\u001b[0m\u001b[1;33m)\u001b[0m\u001b[1;33m\u001b[0m\u001b[1;33m\u001b[0m\u001b[0m\n\u001b[0m\u001b[0;32m   1590\u001b[0m \u001b[1;33m\u001b[0m\u001b[0m\n\u001b[0;32m   1591\u001b[0m         \u001b[0mbound\u001b[0m \u001b[1;33m=\u001b[0m \u001b[0mnew_sig\u001b[0m\u001b[1;33m.\u001b[0m\u001b[0mbind\u001b[0m\u001b[1;33m(\u001b[0m\u001b[0max\u001b[0m\u001b[1;33m,\u001b[0m \u001b[1;33m*\u001b[0m\u001b[0margs\u001b[0m\u001b[1;33m,\u001b[0m \u001b[1;33m**\u001b[0m\u001b[0mkwargs\u001b[0m\u001b[1;33m)\u001b[0m\u001b[1;33m\u001b[0m\u001b[1;33m\u001b[0m\u001b[0m\n",
      "\u001b[1;32mC:\\ProgramData\\Anaconda3\\lib\\site-packages\\matplotlib\\axes\\_axes.py\u001b[0m in \u001b[0;36mscatter\u001b[1;34m(self, x, y, s, c, marker, cmap, norm, vmin, vmax, alpha, linewidths, verts, edgecolors, plotnonfinite, **kwargs)\u001b[0m\n\u001b[0;32m   4434\u001b[0m         \u001b[0my\u001b[0m \u001b[1;33m=\u001b[0m \u001b[0mnp\u001b[0m\u001b[1;33m.\u001b[0m\u001b[0mma\u001b[0m\u001b[1;33m.\u001b[0m\u001b[0mravel\u001b[0m\u001b[1;33m(\u001b[0m\u001b[0my\u001b[0m\u001b[1;33m)\u001b[0m\u001b[1;33m\u001b[0m\u001b[1;33m\u001b[0m\u001b[0m\n\u001b[0;32m   4435\u001b[0m         \u001b[1;32mif\u001b[0m \u001b[0mx\u001b[0m\u001b[1;33m.\u001b[0m\u001b[0msize\u001b[0m \u001b[1;33m!=\u001b[0m \u001b[0my\u001b[0m\u001b[1;33m.\u001b[0m\u001b[0msize\u001b[0m\u001b[1;33m:\u001b[0m\u001b[1;33m\u001b[0m\u001b[1;33m\u001b[0m\u001b[0m\n\u001b[1;32m-> 4436\u001b[1;33m             \u001b[1;32mraise\u001b[0m \u001b[0mValueError\u001b[0m\u001b[1;33m(\u001b[0m\u001b[1;34m\"x and y must be the same size\"\u001b[0m\u001b[1;33m)\u001b[0m\u001b[1;33m\u001b[0m\u001b[1;33m\u001b[0m\u001b[0m\n\u001b[0m\u001b[0;32m   4437\u001b[0m \u001b[1;33m\u001b[0m\u001b[0m\n\u001b[0;32m   4438\u001b[0m         \u001b[1;32mif\u001b[0m \u001b[0ms\u001b[0m \u001b[1;32mis\u001b[0m \u001b[1;32mNone\u001b[0m\u001b[1;33m:\u001b[0m\u001b[1;33m\u001b[0m\u001b[1;33m\u001b[0m\u001b[0m\n",
      "\u001b[1;31mValueError\u001b[0m: x and y must be the same size"
     ]
    },
    {
     "data": {
      "image/png": "[encoded data removed]",
      "text/plain": [
       "<Figure size 432x288 with 1 Axes>"
      ]
     },
     "metadata": {
      "needs_background": "light"
     },
     "output_type": "display_data"
    }
   ],
   "source": [
    "y_new_inverse = y_scaler.inverse_transform(predictions)\n",
    "x_test_inverse = x_scaler.inverse_transform(X_test)\n",
    "\n",
    "plt.scatter(df[\"X\"], df[\"y\"],s=5, color='b',marker='.')\n",
    "plt.scatter(x_test_inverse, y_new_inverse,s=5, color='r',marker = ',')\n",
    "plt.xlabel('x')\n",
    "plt.ylabel('y')\n",
    "plt.axis('tight')\n",
    "plt.show()"
   ]
  },
  {
   "cell_type": "code",
   "execution_count": 11,
   "metadata": {},
   "outputs": [
    {
     "data": {
      "text/plain": [
       "array([[-1.19380521],\n",
       "       [ 4.17831823],\n",
       "       [ 6.25176938],\n",
       "       [-2.6075219 ],\n",
       "       [-3.76991118]])"
      ]
     },
     "execution_count": 11,
     "metadata": {},
     "output_type": "execute_result"
    }
   ],
   "source": [
    "x_test_inverse[:5]"
   ]
  },
  {
   "cell_type": "code",
   "execution_count": 12,
   "metadata": {},
   "outputs": [
    {
     "data": {
      "text/plain": [
       "array([[-0.9323055 ],\n",
       "       [-0.8479119 ],\n",
       "       [-0.01901737],\n",
       "       [-0.50710714],\n",
       "       [ 0.5922446 ]], dtype=float32)"
      ]
     },
     "execution_count": 12,
     "metadata": {},
     "output_type": "execute_result"
    }
   ],
   "source": [
    "y_new_inverse[:5]"
   ]
  },
  {
   "cell_type": "code",
   "execution_count": 13,
   "metadata": {},
   "outputs": [
    {
     "data": {
      "text/plain": [
       "array([[-0.92977649],\n",
       "       [-0.86074203],\n",
       "       [-0.03141076],\n",
       "       [-0.50904142],\n",
       "       [ 0.58778525]])"
      ]
     },
     "execution_count": 13,
     "metadata": {},
     "output_type": "execute_result"
    }
   ],
   "source": [
    "np.sin(x_test_inverse[:5])"
   ]
  },
  {
   "cell_type": "code",
   "execution_count": 14,
   "metadata": {},
   "outputs": [
    {
     "data": {
      "text/plain": [
       "array([[-0.00252903],\n",
       "       [ 0.01283013],\n",
       "       [ 0.01239339],\n",
       "       [ 0.00193428],\n",
       "       [ 0.00445937]])"
      ]
     },
     "execution_count": 14,
     "metadata": {},
     "output_type": "execute_result"
    }
   ],
   "source": [
    "y_new_inverse[:5] - np.sin(x_test_inverse[:5])"
   ]
  },
  {
   "cell_type": "code",
   "execution_count": null,
   "metadata": {},
   "outputs": [],
   "source": []
  }
 ],
 "metadata": {
  "kernelspec": {
   "display_name": "Python 3",
   "language": "python",
   "name": "python3"
  },
  "language_info": {
   "codemirror_mode": {
    "name": "ipython",
    "version": 3
   },
   "file_extension": ".py",
   "mimetype": "text/x-python",
   "name": "python",
   "nbconvert_exporter": "python",
   "pygments_lexer": "ipython3",
   "version": "3.7.3"
  }
 },
 "nbformat": 4,
 "nbformat_minor": 2
}
