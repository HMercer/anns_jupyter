{
 "cells": [
  {
   "cell_type": "markdown",
   "metadata": {},
   "source": [
    "Full verstion with:\n",
    "- train, test, validation.\n",
    "- model saver\n",
    "- tensorboard\n",
    "- early stopping\n"
   ]
  },
  {
   "cell_type": "code",
   "execution_count": 1,
   "metadata": {},
   "outputs": [
    {
     "name": "stdout",
     "output_type": "stream",
     "text": [
      "C:\\Users\\kicjo\\Desktop\\my-anns\\sinus full\n"
     ]
    }
   ],
   "source": [
    "import numpy as np\n",
    "import tensorflow as tf\n",
    "from datetime import datetime\n",
    "import matplotlib.pyplot as plt\n",
    "from sklearn.preprocessing import StandardScaler\n",
    "from sklearn.model_selection import train_test_split\n",
    "import pandas as pd\n",
    "from utils import shuffle_batch, variable_summaries\n",
    "import os\n",
    "\n",
    "%matplotlib notebook\n",
    "\n",
    "dir_path = os.getcwd()\n",
    "\n",
    "now = datetime.utcnow().strftime(\"%Y%m%d%H%M%S\")\n",
    "root_logdir = \"tf_logs\"\n",
    "logdir = \"{}/run-{}/\".format(root_logdir, now)\n",
    "print(dir_path)"
   ]
  },
  {
   "cell_type": "code",
   "execution_count": 2,
   "metadata": {},
   "outputs": [
    {
     "data": {
      "image/png": "[encoded data removed]",
      "text/plain": [
       "<Figure size 432x288 with 1 Axes>"
      ]
     },
     "metadata": {
      "needs_background": "light"
     },
     "output_type": "display_data"
    }
   ],
   "source": [
    "data_length = 401\n",
    "noise = np.random.normal(0.01, 0.3, data_length)\n",
    "x = np.linspace(-2 * np.pi, 2 * np.pi, data_length)\n",
    "y = np.sin(x)  # + noise\n",
    "df = pd.DataFrame(data={'X': x, 'y': y})\n",
    "\n",
    "plt.scatter(df[\"X\"], df[\"y\"], s=5)\n",
    "plt.xlabel('x')\n",
    "plt.ylabel('y')\n",
    "plt.axis('tight')\n",
    "plt.show()\n",
    "\n",
    "X_train_o, X_test_o, y_train_o, y_test_o = train_test_split(x, y, test_size=0.2, random_state=1)\n",
    "X_train_o, X_val_o, y_train_o, y_val_o  = train_test_split(X_train_o, y_train_o, test_size=0.2, random_state=1)\n"
   ]
  },
  {
   "cell_type": "code",
   "execution_count": 3,
   "metadata": {},
   "outputs": [],
   "source": [
    "x_scaler = StandardScaler()\n",
    "y_scaler = StandardScaler()\n",
    "\n",
    "X_train = x_scaler.fit_transform(X_train_o.reshape(-1, 1))\n",
    "X_test = x_scaler.transform(X_test_o.reshape(-1, 1))\n",
    "X_val = x_scaler.transform(X_val_o.reshape(-1, 1))\n",
    "\n",
    "y_train = y_scaler.fit_transform(y_train_o.reshape(-1, 1))\n",
    "y_test = y_scaler.transform(y_test_o.reshape(-1, 1))\n",
    "y_val = y_scaler.transform(y_val_o.reshape(-1, 1))\n",
    "\n",
    "n_inputs = X_train.shape[1]\n",
    "n_outputs = y_train.shape[1]"
   ]
  },
  {
   "cell_type": "code",
   "execution_count": 4,
   "metadata": {},
   "outputs": [
    {
     "name": "stderr",
     "output_type": "stream",
     "text": [
      "WARNING: Logging before flag parsing goes to stderr.\n",
      "W0731 13:04:24.750508 25492 deprecation.py:506] From C:\\ProgramData\\Anaconda3\\lib\\site-packages\\tensorflow\\python\\ops\\init_ops.py:1251: calling VarianceScaling.__init__ (from tensorflow.python.ops.init_ops) with dtype is deprecated and will be removed in a future version.\n",
      "Instructions for updating:\n",
      "Call initializer instance with the dtype argument instead of passing it to the constructor\n",
      "W0731 13:04:24.887171 25492 deprecation_wrapper.py:119] From C:\\Users\\kicjo\\Desktop\\my-anns\\sinus full\\utils.py:16: The name tf.summary.scalar is deprecated. Please use tf.compat.v1.summary.scalar instead.\n",
      "\n",
      "W0731 13:04:24.902131 25492 deprecation_wrapper.py:119] From C:\\Users\\kicjo\\Desktop\\my-anns\\sinus full\\utils.py:22: The name tf.summary.histogram is deprecated. Please use tf.compat.v1.summary.histogram instead.\n",
      "\n"
     ]
    }
   ],
   "source": [
    "\n",
    "with tf.name_scope(\"dnn\"):\n",
    "    with tf.name_scope(\"inputs\"):\n",
    "        X = tf.placeholder(tf.float32, shape=(None, n_inputs), name=\"X\")\n",
    "        y = tf.placeholder(tf.float32, shape=(None, n_outputs), name=\"y\")\n",
    "\n",
    "    hidden1 = tf.keras.layers.Dense(10, name=\"hidden1\")(X)\n",
    "    hidden2 = tf.keras.layers.Dense(150, name=\"hidden2\", activation=tf.nn.leaky_relu)(hidden1)\n",
    "    dropout = tf.keras.layers.Dropout(0.5)(hidden2)\n",
    "    hidden3 = tf.keras.layers.Dense(50, name=\"hidden3\")(dropout)    \n",
    "    hidden4 = tf.keras.layers.Dense(150, name=\"hidden4\", activation=tf.nn.leaky_relu)(hidden3)\n",
    "    y_pred = tf.keras.layers.Dense(1, name=\"output\")(hidden4)\n",
    "\n",
    "with tf.name_scope('MSE'):\n",
    "    error = y_pred - y\n",
    "    mse = tf.reduce_mean(tf.square(error), name=\"mse\")\n",
    "    variable_summaries(mse)\n",
    "\n",
    "\n",
    "with tf.name_scope('optimiser'):\n",
    "    optimiser = tf.train.AdamOptimizer(0.01)\n",
    "    training_op = optimiser.minimize(mse)\n",
    "\n",
    "for var in tf.trainable_variables():\n",
    "    tf.summary.histogram(var.name, var)"
   ]
  },
  {
   "cell_type": "code",
   "execution_count": 5,
   "metadata": {},
   "outputs": [],
   "source": [
    "merged = tf.summary.merge_all()\n",
    "train_writer = tf.summary.FileWriter(logdir + '/train', tf.get_default_graph())\n",
    "test_writer = tf.summary.FileWriter(logdir + '/test')\n",
    "valid_writer = tf.summary.FileWriter(logdir + '/valid')\n",
    "init = tf.global_variables_initializer()\n",
    "\n",
    "saver = tf.train.Saver()\n",
    "\n",
    "checkpoint_path = os.path.join(dir_path, \"sinus_tmp\",\"sinus_full_model.ckpt\")\n",
    "checkpoint_epoch_path = checkpoint_path + \".epoch\"\n",
    "final_model_path = os.path.join(dir_path, \"model\", \"my_sinus_full_model\")"
   ]
  },
  {
   "cell_type": "code",
   "execution_count": 6,
   "metadata": {},
   "outputs": [],
   "source": [
    "best_loss = np.infty\n",
    "epochs_without_progress = 0\n",
    "max_epochs_without_progress = 150\n",
    "\n",
    "n_epochs = 1000\n",
    "n_batches = 50\n"
   ]
  },
  {
   "cell_type": "code",
   "execution_count": 7,
   "metadata": {},
   "outputs": [
    {
     "name": "stdout",
     "output_type": "stream",
     "text": [
      "0 train loss: 0.6654971 valid loss: 0.70538914\n",
      "1 train loss: 0.3757066 valid loss: 0.44278425\n",
      "2 train loss: 0.45803362 valid loss: 0.48189774\n",
      "3 train loss: 0.34429145 valid loss: 0.42890653\n",
      "4 train loss: 0.30992258 valid loss: 0.3893629\n",
      "5 train loss: 0.30077356 valid loss: 0.33828363\n",
      "6 train loss: 0.22364488 valid loss: 0.27676752\n",
      "7 train loss: 0.30991676 valid loss: 0.30142727\n",
      "8 train loss: 0.14362377 valid loss: 0.2039456\n",
      "9 train loss: 0.20130962 valid loss: 0.21017984\n",
      "10 train loss: 0.15302543 valid loss: 0.20337018\n",
      "11 train loss: 0.116392836 valid loss: 0.16358627\n",
      "12 train loss: 0.10379986 valid loss: 0.15253308\n",
      "13 train loss: 0.09892352 valid loss: 0.14243814\n",
      "14 train loss: 0.14810905 valid loss: 0.15168065\n",
      "15 train loss: 0.14711253 valid loss: 0.15588702\n",
      "16 train loss: 0.072644755 valid loss: 0.105668955\n",
      "17 train loss: 0.049387053 valid loss: 0.06754877\n",
      "18 train loss: 0.08375885 valid loss: 0.08533552\n",
      "19 train loss: 0.028108547 valid loss: 0.042363178\n",
      "20 train loss: 0.024758615 valid loss: 0.04448442\n",
      "21 train loss: 0.035824426 valid loss: 0.03676708\n",
      "22 train loss: 0.013541911 valid loss: 0.025357325\n",
      "23 train loss: 0.013672918 valid loss: 0.015210652\n",
      "24 train loss: 0.082332164 valid loss: 0.08428707\n",
      "25 train loss: 0.075404815 valid loss: 0.08082178\n",
      "26 train loss: 0.050353453 valid loss: 0.052817807\n",
      "27 train loss: 0.03389798 valid loss: 0.039749637\n",
      "28 train loss: 0.031840038 valid loss: 0.035304755\n",
      "29 train loss: 0.03773808 valid loss: 0.03931738\n",
      "30 train loss: 0.017374001 valid loss: 0.017767388\n",
      "31 train loss: 0.012965964 valid loss: 0.013738562\n",
      "32 train loss: 0.008734292 valid loss: 0.008416612\n",
      "33 train loss: 0.035836022 valid loss: 0.038438767\n",
      "34 train loss: 0.048284844 valid loss: 0.052782267\n",
      "35 train loss: 0.017940417 valid loss: 0.02928527\n",
      "36 train loss: 0.010261803 valid loss: 0.009537915\n",
      "37 train loss: 0.011290751 valid loss: 0.013405824\n",
      "38 train loss: 0.0058828834 valid loss: 0.007146778\n",
      "39 train loss: 0.012541552 valid loss: 0.012639089\n",
      "40 train loss: 0.0069967806 valid loss: 0.008074927\n",
      "41 train loss: 0.004800442 valid loss: 0.0058405055\n",
      "42 train loss: 0.0031250431 valid loss: 0.0040429127\n",
      "43 train loss: 0.005730304 valid loss: 0.005611834\n",
      "44 train loss: 0.007595439 valid loss: 0.008342292\n",
      "45 train loss: 0.003467666 valid loss: 0.0043178843\n",
      "46 train loss: 0.0011488574 valid loss: 0.00088601036\n",
      "47 train loss: 0.00095423136 valid loss: 0.00074914924\n",
      "48 train loss: 0.0012723346 valid loss: 0.0016500818\n",
      "49 train loss: 0.0010468167 valid loss: 0.00080821535\n",
      "50 train loss: 0.00045258505 valid loss: 0.0003651346\n",
      "51 train loss: 0.0012568645 valid loss: 0.0014539991\n",
      "52 train loss: 0.0010812755 valid loss: 0.0013802934\n",
      "53 train loss: 0.0027368865 valid loss: 0.0026113866\n",
      "54 train loss: 0.010451788 valid loss: 0.0122337\n",
      "55 train loss: 0.01337249 valid loss: 0.016023915\n",
      "56 train loss: 0.0031814044 valid loss: 0.003020526\n",
      "57 train loss: 0.005734328 valid loss: 0.0065670367\n",
      "58 train loss: 0.006074707 valid loss: 0.005034554\n",
      "59 train loss: 0.010203126 valid loss: 0.011697806\n",
      "60 train loss: 0.00806294 valid loss: 0.0075777704\n",
      "61 train loss: 0.009015763 valid loss: 0.011514448\n",
      "62 train loss: 0.043322876 valid loss: 0.038318224\n",
      "63 train loss: 0.025947658 valid loss: 0.039779797\n",
      "64 train loss: 0.014424939 valid loss: 0.0143173365\n",
      "65 train loss: 0.007993479 valid loss: 0.008344594\n",
      "66 train loss: 0.009616349 valid loss: 0.012785798\n",
      "67 train loss: 0.0042374516 valid loss: 0.0038341936\n",
      "68 train loss: 0.007396711 valid loss: 0.0058957385\n",
      "69 train loss: 0.0031986632 valid loss: 0.0045536202\n",
      "70 train loss: 0.005070828 valid loss: 0.00802199\n",
      "71 train loss: 0.009776669 valid loss: 0.00904328\n",
      "72 train loss: 0.0050723893 valid loss: 0.0052573746\n",
      "73 train loss: 0.014033359 valid loss: 0.020293402\n",
      "74 train loss: 0.016269172 valid loss: 0.013801429\n",
      "75 train loss: 0.017391996 valid loss: 0.018692203\n",
      "76 train loss: 0.01697117 valid loss: 0.013499305\n",
      "77 train loss: 0.004370397 valid loss: 0.004566908\n",
      "78 train loss: 0.0017757344 valid loss: 0.0022063507\n",
      "79 train loss: 0.0024931156 valid loss: 0.0020194885\n",
      "80 train loss: 0.0024225335 valid loss: 0.0028612185\n",
      "81 train loss: 0.002649424 valid loss: 0.003371186\n",
      "82 train loss: 0.013455259 valid loss: 0.014792961\n",
      "83 train loss: 0.008593057 valid loss: 0.010627598\n",
      "84 train loss: 0.0054793516 valid loss: 0.0046787495\n",
      "85 train loss: 0.006460534 valid loss: 0.0064679673\n",
      "86 train loss: 0.0011886636 valid loss: 0.0012689596\n",
      "87 train loss: 0.0040481267 valid loss: 0.0040073227\n",
      "88 train loss: 0.0034562598 valid loss: 0.0026975546\n",
      "89 train loss: 0.0018016866 valid loss: 0.0019833671\n",
      "90 train loss: 0.0010375306 valid loss: 0.0012658613\n",
      "91 train loss: 0.0005150364 valid loss: 0.00054779416\n",
      "92 train loss: 0.00071800273 valid loss: 0.000731361\n",
      "93 train loss: 0.0003177328 valid loss: 0.00023835542\n",
      "94 train loss: 0.002025764 valid loss: 0.0025439896\n",
      "95 train loss: 0.001524719 valid loss: 0.0014724825\n",
      "96 train loss: 0.00059631845 valid loss: 0.0005116047\n",
      "97 train loss: 0.0030139717 valid loss: 0.0037821387\n",
      "98 train loss: 0.00092101947 valid loss: 0.0013942156\n",
      "99 train loss: 0.0008110519 valid loss: 0.00089067465\n",
      "100 train loss: 0.006238032 valid loss: 0.0071045607\n",
      "101 train loss: 0.0035308609 valid loss: 0.0037684955\n",
      "102 train loss: 0.012018 valid loss: 0.018758884\n",
      "103 train loss: 0.0022648196 valid loss: 0.0018611385\n",
      "104 train loss: 0.0021821703 valid loss: 0.002812041\n",
      "105 train loss: 0.005398496 valid loss: 0.007212194\n",
      "106 train loss: 0.001232865 valid loss: 0.0012210057\n",
      "107 train loss: 0.00093987846 valid loss: 0.00070286007\n",
      "108 train loss: 0.0014045783 valid loss: 0.0016728162\n",
      "109 train loss: 0.0016973114 valid loss: 0.0019294159\n",
      "110 train loss: 0.0037967619 valid loss: 0.0040044584\n",
      "111 train loss: 0.006310157 valid loss: 0.008275279\n",
      "112 train loss: 0.007331835 valid loss: 0.0067705996\n",
      "113 train loss: 0.014031242 valid loss: 0.016939558\n",
      "114 train loss: 0.0030805385 valid loss: 0.0027525295\n",
      "115 train loss: 0.0028727832 valid loss: 0.0025174695\n",
      "116 train loss: 0.0035774175 valid loss: 0.0035914434\n",
      "117 train loss: 0.005238612 valid loss: 0.0068755513\n",
      "118 train loss: 0.0022129992 valid loss: 0.0020954493\n",
      "119 train loss: 0.0008139491 valid loss: 0.00077027665\n",
      "120 train loss: 0.015828716 valid loss: 0.020743424\n",
      "121 train loss: 0.041562635 valid loss: 0.037390493\n",
      "122 train loss: 0.009442238 valid loss: 0.010025505\n",
      "123 train loss: 0.016247328 valid loss: 0.019606207\n",
      "124 train loss: 0.013794128 valid loss: 0.013468482\n",
      "125 train loss: 0.0067515383 valid loss: 0.0072511323\n",
      "126 train loss: 0.007913401 valid loss: 0.008010985\n",
      "127 train loss: 0.01145795 valid loss: 0.013207922\n",
      "128 train loss: 0.004936702 valid loss: 0.005027797\n",
      "129 train loss: 0.010628045 valid loss: 0.009636694\n",
      "130 train loss: 0.0038025342 valid loss: 0.004086928\n",
      "131 train loss: 0.004382287 valid loss: 0.005216265\n",
      "132 train loss: 0.0038344222 valid loss: 0.003186267\n",
      "133 train loss: 0.0045919335 valid loss: 0.0041757543\n",
      "134 train loss: 0.008079927 valid loss: 0.009703243\n",
      "135 train loss: 0.033692732 valid loss: 0.04426329\n",
      "136 train loss: 0.047891364 valid loss: 0.053226706\n",
      "137 train loss: 0.03497489 valid loss: 0.058721695\n",
      "138 train loss: 0.026188735 valid loss: 0.030377798\n",
      "139 train loss: 0.028802369 valid loss: 0.026182141\n",
      "140 train loss: 0.007999837 valid loss: 0.0073636062\n",
      "141 train loss: 0.011612024 valid loss: 0.013040198\n",
      "142 train loss: 0.0052350303 valid loss: 0.006448932\n",
      "143 train loss: 0.0062515615 valid loss: 0.0059806947\n",
      "144 train loss: 0.007082099 valid loss: 0.0070342473\n",
      "145 train loss: 0.0065811425 valid loss: 0.0059355325\n",
      "146 train loss: 0.0012598359 valid loss: 0.0010107512\n",
      "147 train loss: 0.0013114626 valid loss: 0.0014951095\n",
      "148 train loss: 0.0011645696 valid loss: 0.00097045285\n",
      "149 train loss: 0.0015175205 valid loss: 0.0015483596\n",
      "150 train loss: 0.0009819224 valid loss: 0.0010002122\n",
      "151 train loss: 0.0016198386 valid loss: 0.0016651832\n",
      "152 train loss: 0.002171974 valid loss: 0.0023972474\n",
      "153 train loss: 0.0013696202 valid loss: 0.001371153\n",
      "154 train loss: 0.001147866 valid loss: 0.0010773258\n",
      "155 train loss: 0.0005676988 valid loss: 0.0005981612\n",
      "156 train loss: 0.00078528794 valid loss: 0.0007223458\n",
      "157 train loss: 0.00033949537 valid loss: 0.0004189817\n",
      "158 train loss: 0.004123772 valid loss: 0.0035430666\n",
      "159 train loss: 0.0063211373 valid loss: 0.0050907265\n",
      "160 train loss: 0.011284573 valid loss: 0.011413267\n"
     ]
    },
    {
     "name": "stdout",
     "output_type": "stream",
     "text": [
      "161 train loss: 0.0045460816 valid loss: 0.0059785973\n",
      "162 train loss: 0.0037622452 valid loss: 0.0049633193\n",
      "163 train loss: 0.0148258535 valid loss: 0.01628479\n",
      "164 train loss: 0.0051050377 valid loss: 0.006118563\n",
      "165 train loss: 0.022009194 valid loss: 0.021359932\n",
      "166 train loss: 0.0035851162 valid loss: 0.0024858038\n",
      "167 train loss: 0.014418144 valid loss: 0.014739662\n",
      "168 train loss: 0.008524425 valid loss: 0.0092507275\n",
      "169 train loss: 0.003705685 valid loss: 0.004381569\n",
      "170 train loss: 0.0052442015 valid loss: 0.00516395\n",
      "171 train loss: 0.0012581843 valid loss: 0.0015361484\n",
      "172 train loss: 0.0006331431 valid loss: 0.0009933903\n",
      "173 train loss: 0.0015692043 valid loss: 0.0011042559\n",
      "174 train loss: 0.0027984118 valid loss: 0.0031200307\n",
      "175 train loss: 0.0020926655 valid loss: 0.0022124737\n",
      "176 train loss: 0.00053969014 valid loss: 0.00054080295\n",
      "177 train loss: 0.0026905728 valid loss: 0.0023717287\n",
      "178 train loss: 0.0007861802 valid loss: 0.0008891822\n",
      "179 train loss: 0.00069482584 valid loss: 0.00054377335\n",
      "180 train loss: 0.00027952826 valid loss: 0.0003046799\n",
      "181 train loss: 0.00037213112 valid loss: 0.00032123408\n",
      "182 train loss: 0.0011085083 valid loss: 0.001093999\n",
      "183 train loss: 0.00063386466 valid loss: 0.0008651905\n",
      "184 train loss: 0.00041482996 valid loss: 0.000580255\n",
      "185 train loss: 0.0006837968 valid loss: 0.0007496047\n",
      "186 train loss: 0.003695393 valid loss: 0.00410071\n",
      "187 train loss: 0.00071063655 valid loss: 0.0007284913\n",
      "188 train loss: 0.020029223 valid loss: 0.02171217\n",
      "189 train loss: 0.005787028 valid loss: 0.006824169\n",
      "190 train loss: 0.0067407005 valid loss: 0.004698874\n",
      "191 train loss: 0.004453703 valid loss: 0.004536717\n",
      "192 train loss: 0.004217877 valid loss: 0.005389532\n",
      "193 train loss: 0.03839867 valid loss: 0.037400257\n",
      "194 train loss: 0.012697909 valid loss: 0.011634126\n",
      "195 train loss: 0.0059122667 valid loss: 0.005705365\n",
      "196 train loss: 0.006302168 valid loss: 0.005356859\n",
      "197 train loss: 0.0038820654 valid loss: 0.0043613557\n",
      "198 train loss: 0.03793501 valid loss: 0.03801044\n",
      "199 train loss: 0.027741333 valid loss: 0.031920634\n",
      "200 train loss: 0.029677805 valid loss: 0.030034041\n",
      "201 train loss: 0.03259958 valid loss: 0.03651376\n",
      "202 train loss: 0.014045134 valid loss: 0.012880769\n",
      "203 train loss: 0.012777962 valid loss: 0.017903099\n",
      "204 train loss: 0.016779706 valid loss: 0.021340517\n",
      "205 train loss: 0.008428061 valid loss: 0.007251404\n",
      "206 train loss: 0.0033806898 valid loss: 0.0037687658\n",
      "207 train loss: 0.003308183 valid loss: 0.0028708293\n",
      "208 train loss: 0.0014420965 valid loss: 0.0010936954\n",
      "209 train loss: 0.0016982544 valid loss: 0.0013245672\n",
      "210 train loss: 0.0032929238 valid loss: 0.0030434444\n",
      "211 train loss: 0.0019149736 valid loss: 0.0016189922\n",
      "212 train loss: 0.0012926727 valid loss: 0.0014734322\n",
      "213 train loss: 0.001157151 valid loss: 0.0010136664\n",
      "214 train loss: 0.0002699131 valid loss: 0.0003503947\n",
      "215 train loss: 0.00034929253 valid loss: 0.00044697477\n",
      "216 train loss: 0.00046054996 valid loss: 0.0004581302\n",
      "217 train loss: 0.0007570663 valid loss: 0.00072217267\n",
      "218 train loss: 0.00073422084 valid loss: 0.0007115633\n",
      "219 train loss: 0.0009193913 valid loss: 0.0010172615\n",
      "220 train loss: 0.0013567121 valid loss: 0.0011632354\n",
      "Early stopping\n"
     ]
    }
   ],
   "source": [
    "with tf.Session() as sess:\n",
    "    if os.path.isfile(checkpoint_epoch_path):\n",
    "        # if the checkpoint file exists, restore the model and load the epoch number\n",
    "        with open(checkpoint_epoch_path, \"rb\") as f:\n",
    "            start_epoch = int(f.read())\n",
    "        print(\"Training was interrupted. Continuing at epoch\", start_epoch)\n",
    "        saver.restore(sess, checkpoint_path)\n",
    "    else:\n",
    "        start_epoch = 0\n",
    "        sess.run(init)\n",
    "\n",
    "    for epoch in range(start_epoch, n_epochs):\n",
    "        for X_batch, y_batch in shuffle_batch(X_train, y_train, n_batches):\n",
    "            summary, _ = sess.run([merged, training_op],\n",
    "                                  feed_dict={X: X_batch, y: y_batch})\n",
    "\n",
    "        train_summary, _ = sess.run([merged, training_op],feed_dict={X: X_train, y: y_train})\n",
    "        test_summary, _ =sess.run([merged, training_op],feed_dict={X: X_test, y: y_test})\n",
    "        validation_summary, _ = sess.run([merged, training_op], feed_dict={X: X_val, y: y_val})\n",
    "\n",
    "        train_writer.add_summary(train_summary, epoch)\n",
    "        test_writer.add_summary(test_summary, epoch)\n",
    "        valid_writer.add_summary(validation_summary,epoch)\n",
    "\n",
    "        loss_train = mse.eval(feed_dict={X: X_train, y: y_train})\n",
    "        loss_val = mse.eval(feed_dict={X: X_val, y: y_val})\n",
    "        print(epoch, \"train loss:\", loss_train, \"valid loss:\", loss_val)\n",
    "\n",
    "        iteration_skip = 10\n",
    "        if epoch % iteration_skip == 0:\n",
    "            saver.save(sess, checkpoint_path)\n",
    "            with open(checkpoint_epoch_path, \"wb\") as f:\n",
    "                f.write(b\"%d\" % (epoch + 1))\n",
    "\n",
    "            if loss_val < best_loss:\n",
    "                saver.save(sess, final_model_path)\n",
    "                best_loss = loss_val\n",
    "            else:\n",
    "                epochs_without_progress += iteration_skip\n",
    "                if epochs_without_progress > max_epochs_without_progress:\n",
    "                    print(\"Early stopping\")\n",
    "                    break\n",
    "\n",
    "\n",
    "train_writer.close()\n",
    "test_writer.close()\n",
    "valid_writer.close()"
   ]
  },
  {
   "cell_type": "code",
   "execution_count": 8,
   "metadata": {},
   "outputs": [],
   "source": [
    "os.remove(checkpoint_epoch_path)"
   ]
  },
  {
   "cell_type": "code",
   "execution_count": 9,
   "metadata": {},
   "outputs": [
    {
     "name": "stderr",
     "output_type": "stream",
     "text": [
      "W0731 13:04:32.247069 25492 deprecation.py:323] From C:\\ProgramData\\Anaconda3\\lib\\site-packages\\tensorflow\\python\\training\\saver.py:1276: checkpoint_exists (from tensorflow.python.training.checkpoint_management) is deprecated and will be removed in a future version.\n",
      "Instructions for updating:\n",
      "Use standard file APIs to check for files with this prefix.\n"
     ]
    },
    {
     "name": "stdout",
     "output_type": "stream",
     "text": [
      "0.00031106942\n"
     ]
    }
   ],
   "source": [
    "with tf.Session() as sess:\n",
    "    saver.restore(sess, final_model_path)\n",
    "    test_mse = mse.eval(feed_dict={X: X_test, y: y_test})\n",
    "    predictions = y_pred.eval(feed_dict={X: X_test, y: y_test})\n",
    "    \n",
    "    \n",
    "print(test_mse)"
   ]
  },
  {
   "cell_type": "code",
   "execution_count": 10,
   "metadata": {},
   "outputs": [
    {
     "data": {
      "image/png": "[encoded data removed]",
      "text/plain": [
       "<Figure size 432x288 with 1 Axes>"
      ]
     },
     "metadata": {
      "needs_background": "light"
     },
     "output_type": "display_data"
    }
   ],
   "source": [
    "y_new_inverse = y_scaler.inverse_transform(predictions)\n",
    "x_test_inverse = x_scaler.inverse_transform(X_test)\n",
    "\n",
    "plt.scatter(df[\"X\"], df[\"y\"],s=5, color='b',marker='.')\n",
    "plt.scatter(x_test_inverse, y_new_inverse,s=10, color='r',marker = ',')\n",
    "plt.xlabel('x')\n",
    "plt.ylabel('y')\n",
    "plt.axis('tight')\n",
    "plt.show()"
   ]
  },
  {
   "cell_type": "markdown",
   "metadata": {},
   "source": [
    "How will nn behave beyond seen range?"
   ]
  },
  {
   "cell_type": "code",
   "execution_count": 11,
   "metadata": {},
   "outputs": [
    {
     "data": {
      "image/png": "[encoded data removed]",
      "text/plain": [
       "<Figure size 432x288 with 1 Axes>"
      ]
     },
     "metadata": {
      "needs_background": "light"
     },
     "output_type": "display_data"
    }
   ],
   "source": [
    "data_length = 10000\n",
    "x_long = np.linspace(-5 * np.pi, 5 * np.pi, data_length)\n",
    "y_long = np.sin(x_long) \n",
    "\n",
    "X_train_long = x_scaler.transform(x_long.reshape(-1, 1))\n",
    "y_train_long = y_scaler.transform(y_long.reshape(-1, 1))\n",
    "\n",
    "plt.scatter(x_long, y_long,s=5, color='b',marker = ',')\n",
    "plt.xlabel('x')\n",
    "plt.ylabel('y')\n",
    "plt.axis('tight')\n",
    "plt.show()"
   ]
  },
  {
   "cell_type": "code",
   "execution_count": 12,
   "metadata": {},
   "outputs": [
    {
     "name": "stdout",
     "output_type": "stream",
     "text": [
      "14.032307\n"
     ]
    }
   ],
   "source": [
    "with tf.Session() as sess:\n",
    "    saver.restore(sess, final_model_path)\n",
    "    test_mse_long = mse.eval(feed_dict={X: X_train_long, y: y_train_long})\n",
    "    predictions_long = y_pred.eval(feed_dict={X: X_train_long, y: y_train_long})\n",
    "    \n",
    "    \n",
    "print(test_mse_long)"
   ]
  },
  {
   "cell_type": "code",
   "execution_count": 13,
   "metadata": {},
   "outputs": [
    {
     "data": {
      "image/png": "[encoded data removed]",
      "text/plain": [
       "<Figure size 432x288 with 1 Axes>"
      ]
     },
     "metadata": {
      "needs_background": "light"
     },
     "output_type": "display_data"
    }
   ],
   "source": [
    "y_new_inverse_long = y_scaler.inverse_transform(predictions_long)\n",
    "x_test_inverse_long = x_scaler.inverse_transform(X_train_long)\n",
    "\n",
    "plt.scatter(x_long,y_long,s=5, color='b',marker='.')\n",
    "plt.scatter(x_test_inverse_long, predictions_long,s=7, color='r',marker = ',')\n",
    "plt.xlabel('x')\n",
    "plt.ylabel('y')\n",
    "plt.axis('tight')\n",
    "plt.show()"
   ]
  },
  {
   "cell_type": "markdown",
   "metadata": {},
   "source": [
    "Easy to notice, some memory will be required "
   ]
  },
  {
   "cell_type": "code",
   "execution_count": null,
   "metadata": {},
   "outputs": [],
   "source": []
  }
 ],
 "metadata": {
  "kernelspec": {
   "display_name": "Python 3",
   "language": "python",
   "name": "python3"
  },
  "language_info": {
   "codemirror_mode": {
    "name": "ipython",
    "version": 3
   },
   "file_extension": ".py",
   "mimetype": "text/x-python",
   "name": "python",
   "nbconvert_exporter": "python",
   "pygments_lexer": "ipython3",
   "version": "3.7.3"
  }
 },
 "nbformat": 4,
 "nbformat_minor": 2
}
