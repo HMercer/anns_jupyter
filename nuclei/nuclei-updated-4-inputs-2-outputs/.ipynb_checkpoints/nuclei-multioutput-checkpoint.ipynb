{
 "cells": [
  {
   "cell_type": "markdown",
   "metadata": {},
   "source": [
    "# Two imputs (N,Z) and two outputs (Mass excess, seperation energey) in single ANN"
   ]
  },
  {
   "cell_type": "markdown",
   "metadata": {},
   "source": [
    "# Imports"
   ]
  },
  {
   "cell_type": "code",
   "execution_count": 1,
   "metadata": {},
   "outputs": [
    {
     "name": "stdout",
     "output_type": "stream",
     "text": [
      "C:\\Users\\kicjo\\Desktop\\my-anns\\nuclei\\nuclei-updated-2-inputs-2-outputs\n",
      "2019-08-19-12-02-09\n"
     ]
    }
   ],
   "source": [
    "import numpy as np\n",
    "import tensorflow as tf\n",
    "from datetime import datetime\n",
    "import matplotlib.pyplot as plt\n",
    "from sklearn.preprocessing import StandardScaler\n",
    "from sklearn.model_selection import train_test_split\n",
    "import pandas as pd\n",
    "from utils import shuffle_batch, variable_summaries\n",
    "import os\n",
    "\n",
    "%matplotlib notebook\n",
    "\n",
    "dir_path = os.getcwd()\n",
    "\n",
    "now = datetime.now().strftime(\"%Y-%m-%d-%H-%M-%S\")\n",
    "root_logdir = \"tf_logs\"\n",
    "logdir = \"{}/run-{}/\".format(root_logdir, now)\n",
    "print(dir_path)\n",
    "print(now)"
   ]
  },
  {
   "cell_type": "code",
   "execution_count": 2,
   "metadata": {},
   "outputs": [],
   "source": [
    "#%matplotlib notebook"
   ]
  },
  {
   "cell_type": "markdown",
   "metadata": {},
   "source": [
    "# Read the data set"
   ]
  },
  {
   "cell_type": "code",
   "execution_count": 3,
   "metadata": {
    "scrolled": true
   },
   "outputs": [
    {
     "name": "stdout",
     "output_type": "stream",
     "text": [
      "<class 'pandas.core.frame.DataFrame'>\n",
      "RangeIndex: 3436 entries, 0 to 3435\n",
      "Data columns (total 10 columns):\n",
      "Z                                  3436 non-null int64\n",
      "N                                  3436 non-null int64\n",
      "UQ                                 3436 non-null int64\n",
      "DQ                                 3436 non-null int64\n",
      "Mass Excess [MeV]                  3436 non-null float64\n",
      "Mass Error                         3436 non-null float64\n",
      "Mass Estimated                     3436 non-null int64\n",
      "Neutron separation energy [MeV]    3318 non-null float64\n",
      "Separation Error                   3318 non-null float64\n",
      "Separation Estimated               3318 non-null float64\n",
      "dtypes: float64(5), int64(5)\n",
      "memory usage: 268.5 KB\n",
      "None\n"
     ]
    },
    {
     "data": {
      "text/plain": [
       "Index(['Z', 'N', 'UQ', 'DQ', 'Mass Excess [MeV]', 'Mass Error',\n",
       "       'Mass Estimated', 'Neutron separation energy [MeV]', 'Separation Error',\n",
       "       'Separation Estimated'],\n",
       "      dtype='object')"
      ]
     },
     "execution_count": 3,
     "metadata": {},
     "output_type": "execute_result"
    }
   ],
   "source": [
    "df = pd.read_csv(\"better-nuclei-19-08.csv\")\n",
    "print(df.info())\n",
    "df.columns"
   ]
  },
  {
   "cell_type": "code",
   "execution_count": 4,
   "metadata": {},
   "outputs": [
    {
     "name": "stdout",
     "output_type": "stream",
     "text": [
      "<class 'pandas.core.frame.DataFrame'>\n",
      "RangeIndex: 3436 entries, 0 to 3435\n",
      "Data columns (total 10 columns):\n",
      "z                       3436 non-null int64\n",
      "n                       3436 non-null int64\n",
      "uq                      3436 non-null int64\n",
      "dq                      3436 non-null int64\n",
      "d                       3436 non-null float64\n",
      "mass error              3436 non-null float64\n",
      "mass estimated          3436 non-null int64\n",
      "d2                      3318 non-null float64\n",
      "separation error        3318 non-null float64\n",
      "separation estimated    3318 non-null float64\n",
      "dtypes: float64(5), int64(5)\n",
      "memory usage: 268.5 KB\n",
      "None\n"
     ]
    }
   ],
   "source": [
    "df = df.rename(columns=\n",
    "               {\"Mass Excess [MeV]\": \"d\",\n",
    "                \"Z\":'z',\n",
    "                'N':'n',\n",
    "                'UQ':\"uq\",\n",
    "                'DQ':\"dq\",\n",
    "                \"Mass Error\":\"mass error\",\n",
    "                \"Mass Estimated\":\"mass estimated\",\n",
    "                \"Neutron separation energy [MeV]\":\"d2\",\n",
    "                \"Separation Error\":\"separation error\",\n",
    "                \"Separation Estimated\":\"separation estimated\"               \n",
    "               })\n",
    "print(df.info())"
   ]
  },
  {
   "cell_type": "code",
   "execution_count": 5,
   "metadata": {},
   "outputs": [
    {
     "data": {
      "text/html": [
       "<div>\n",
       "<style scoped>\n",
       "    .dataframe tbody tr th:only-of-type {\n",
       "        vertical-align: middle;\n",
       "    }\n",
       "\n",
       "    .dataframe tbody tr th {\n",
       "        vertical-align: top;\n",
       "    }\n",
       "\n",
       "    .dataframe thead th {\n",
       "        text-align: right;\n",
       "    }\n",
       "</style>\n",
       "<table border=\"1\" class=\"dataframe\">\n",
       "  <thead>\n",
       "    <tr style=\"text-align: right;\">\n",
       "      <th></th>\n",
       "      <th>z</th>\n",
       "      <th>n</th>\n",
       "      <th>uq</th>\n",
       "      <th>dq</th>\n",
       "      <th>d</th>\n",
       "      <th>mass error</th>\n",
       "      <th>mass estimated</th>\n",
       "      <th>d2</th>\n",
       "      <th>separation error</th>\n",
       "      <th>separation estimated</th>\n",
       "    </tr>\n",
       "  </thead>\n",
       "  <tbody>\n",
       "    <tr>\n",
       "      <th>count</th>\n",
       "      <td>3436.000000</td>\n",
       "      <td>3436.000000</td>\n",
       "      <td>3436.000000</td>\n",
       "      <td>3436.000000</td>\n",
       "      <td>3436.000000</td>\n",
       "      <td>3436.000000</td>\n",
       "      <td>3436.000000</td>\n",
       "      <td>3318.000000</td>\n",
       "      <td>3318.000000</td>\n",
       "      <td>3318.000000</td>\n",
       "    </tr>\n",
       "    <tr>\n",
       "      <th>mean</th>\n",
       "      <td>57.857392</td>\n",
       "      <td>82.034051</td>\n",
       "      <td>197.748836</td>\n",
       "      <td>221.925495</td>\n",
       "      <td>-24.144121</td>\n",
       "      <td>0.123589</td>\n",
       "      <td>0.272992</td>\n",
       "      <td>7.755557</td>\n",
       "      <td>0.164216</td>\n",
       "      <td>0.295660</td>\n",
       "    </tr>\n",
       "    <tr>\n",
       "      <th>std</th>\n",
       "      <td>27.809406</td>\n",
       "      <td>43.293558</td>\n",
       "      <td>98.188326</td>\n",
       "      <td>113.771063</td>\n",
       "      <td>56.200706</td>\n",
       "      <td>0.197548</td>\n",
       "      <td>0.445562</td>\n",
       "      <td>3.631747</td>\n",
       "      <td>0.254378</td>\n",
       "      <td>0.456408</td>\n",
       "    </tr>\n",
       "    <tr>\n",
       "      <th>min</th>\n",
       "      <td>0.000000</td>\n",
       "      <td>0.000000</td>\n",
       "      <td>1.000000</td>\n",
       "      <td>1.000000</td>\n",
       "      <td>-91.652853</td>\n",
       "      <td>0.000000</td>\n",
       "      <td>0.000000</td>\n",
       "      <td>-2.488000</td>\n",
       "      <td>0.000000</td>\n",
       "      <td>0.000000</td>\n",
       "    </tr>\n",
       "    <tr>\n",
       "      <th>25%</th>\n",
       "      <td>36.000000</td>\n",
       "      <td>47.000000</td>\n",
       "      <td>120.750000</td>\n",
       "      <td>131.000000</td>\n",
       "      <td>-65.400443</td>\n",
       "      <td>0.003006</td>\n",
       "      <td>0.000000</td>\n",
       "      <td>5.414787</td>\n",
       "      <td>0.005140</td>\n",
       "      <td>0.000000</td>\n",
       "    </tr>\n",
       "    <tr>\n",
       "      <th>50%</th>\n",
       "      <td>58.000000</td>\n",
       "      <td>81.000000</td>\n",
       "      <td>197.000000</td>\n",
       "      <td>219.000000</td>\n",
       "      <td>-39.335024</td>\n",
       "      <td>0.014474</td>\n",
       "      <td>0.000000</td>\n",
       "      <td>7.249960</td>\n",
       "      <td>0.025005</td>\n",
       "      <td>0.000000</td>\n",
       "    </tr>\n",
       "    <tr>\n",
       "      <th>75%</th>\n",
       "      <td>80.000000</td>\n",
       "      <td>114.000000</td>\n",
       "      <td>273.000000</td>\n",
       "      <td>308.000000</td>\n",
       "      <td>1.172301</td>\n",
       "      <td>0.196000</td>\n",
       "      <td>1.000000</td>\n",
       "      <td>9.654658</td>\n",
       "      <td>0.269058</td>\n",
       "      <td>1.000000</td>\n",
       "    </tr>\n",
       "    <tr>\n",
       "      <th>max</th>\n",
       "      <td>118.000000</td>\n",
       "      <td>177.000000</td>\n",
       "      <td>413.000000</td>\n",
       "      <td>472.000000</td>\n",
       "      <td>201.512000</td>\n",
       "      <td>2.003000</td>\n",
       "      <td>1.000000</td>\n",
       "      <td>27.715000</td>\n",
       "      <td>2.011000</td>\n",
       "      <td>1.000000</td>\n",
       "    </tr>\n",
       "  </tbody>\n",
       "</table>\n",
       "</div>"
      ],
      "text/plain": [
       "                 z            n           uq           dq            d  \\\n",
       "count  3436.000000  3436.000000  3436.000000  3436.000000  3436.000000   \n",
       "mean     57.857392    82.034051   197.748836   221.925495   -24.144121   \n",
       "std      27.809406    43.293558    98.188326   113.771063    56.200706   \n",
       "min       0.000000     0.000000     1.000000     1.000000   -91.652853   \n",
       "25%      36.000000    47.000000   120.750000   131.000000   -65.400443   \n",
       "50%      58.000000    81.000000   197.000000   219.000000   -39.335024   \n",
       "75%      80.000000   114.000000   273.000000   308.000000     1.172301   \n",
       "max     118.000000   177.000000   413.000000   472.000000   201.512000   \n",
       "\n",
       "        mass error  mass estimated           d2  separation error  \\\n",
       "count  3436.000000     3436.000000  3318.000000       3318.000000   \n",
       "mean      0.123589        0.272992     7.755557          0.164216   \n",
       "std       0.197548        0.445562     3.631747          0.254378   \n",
       "min       0.000000        0.000000    -2.488000          0.000000   \n",
       "25%       0.003006        0.000000     5.414787          0.005140   \n",
       "50%       0.014474        0.000000     7.249960          0.025005   \n",
       "75%       0.196000        1.000000     9.654658          0.269058   \n",
       "max       2.003000        1.000000    27.715000          2.011000   \n",
       "\n",
       "       separation estimated  \n",
       "count           3318.000000  \n",
       "mean               0.295660  \n",
       "std                0.456408  \n",
       "min                0.000000  \n",
       "25%                0.000000  \n",
       "50%                0.000000  \n",
       "75%                1.000000  \n",
       "max                1.000000  "
      ]
     },
     "execution_count": 5,
     "metadata": {},
     "output_type": "execute_result"
    }
   ],
   "source": [
    "df.describe()"
   ]
  },
  {
   "cell_type": "markdown",
   "metadata": {},
   "source": [
    "# Remove estimated Excess and estimated Seperation"
   ]
  },
  {
   "cell_type": "code",
   "execution_count": 6,
   "metadata": {},
   "outputs": [],
   "source": [
    "not_estimated_filter = (df[\"mass estimated\"] == 0)\n",
    "df = df[not_estimated_filter]\n",
    "\n",
    "not_estimated_filter = (df[\"separation estimated\"] == 0)\n",
    "df = df[not_estimated_filter]"
   ]
  },
  {
   "cell_type": "code",
   "execution_count": 7,
   "metadata": {},
   "outputs": [
    {
     "name": "stdout",
     "output_type": "stream",
     "text": [
      "<class 'pandas.core.frame.DataFrame'>\n",
      "Int64Index: 2337 entries, 0 to 3369\n",
      "Data columns (total 10 columns):\n",
      "z                       2337 non-null int64\n",
      "n                       2337 non-null int64\n",
      "uq                      2337 non-null int64\n",
      "dq                      2337 non-null int64\n",
      "d                       2337 non-null float64\n",
      "mass error              2337 non-null float64\n",
      "mass estimated          2337 non-null int64\n",
      "d2                      2337 non-null float64\n",
      "separation error        2337 non-null float64\n",
      "separation estimated    2337 non-null float64\n",
      "dtypes: float64(5), int64(5)\n",
      "memory usage: 200.8 KB\n"
     ]
    }
   ],
   "source": [
    "df.info()"
   ]
  },
  {
   "cell_type": "code",
   "execution_count": 8,
   "metadata": {},
   "outputs": [
    {
     "data": {
      "text/plain": [
       "False"
      ]
     },
     "execution_count": 8,
     "metadata": {},
     "output_type": "execute_result"
    }
   ],
   "source": [
    "df.isnull().values.any()"
   ]
  },
  {
   "cell_type": "code",
   "execution_count": 9,
   "metadata": {},
   "outputs": [
    {
     "data": {
      "text/plain": [
       "(2337,)"
      ]
     },
     "execution_count": 9,
     "metadata": {},
     "output_type": "execute_result"
    }
   ],
   "source": [
    "df['z'].shape"
   ]
  },
  {
   "cell_type": "code",
   "execution_count": 10,
   "metadata": {},
   "outputs": [
    {
     "data": {
      "text/plain": [
       "z                       2337\n",
       "n                       2337\n",
       "uq                      2337\n",
       "dq                      2337\n",
       "d                       2337\n",
       "mass error              2337\n",
       "mass estimated          2337\n",
       "d2                      2337\n",
       "separation error        2337\n",
       "separation estimated    2337\n",
       "dtype: int64"
      ]
     },
     "execution_count": 10,
     "metadata": {},
     "output_type": "execute_result"
    }
   ],
   "source": [
    "df.count()"
   ]
  },
  {
   "cell_type": "code",
   "execution_count": 11,
   "metadata": {},
   "outputs": [
    {
     "data": {
      "text/html": [
       "<div>\n",
       "<style scoped>\n",
       "    .dataframe tbody tr th:only-of-type {\n",
       "        vertical-align: middle;\n",
       "    }\n",
       "\n",
       "    .dataframe tbody tr th {\n",
       "        vertical-align: top;\n",
       "    }\n",
       "\n",
       "    .dataframe thead th {\n",
       "        text-align: right;\n",
       "    }\n",
       "</style>\n",
       "<table border=\"1\" class=\"dataframe\">\n",
       "  <thead>\n",
       "    <tr style=\"text-align: right;\">\n",
       "      <th></th>\n",
       "      <th>z</th>\n",
       "      <th>n</th>\n",
       "      <th>uq</th>\n",
       "      <th>dq</th>\n",
       "      <th>d</th>\n",
       "      <th>mass error</th>\n",
       "      <th>mass estimated</th>\n",
       "      <th>d2</th>\n",
       "      <th>separation error</th>\n",
       "      <th>separation estimated</th>\n",
       "    </tr>\n",
       "  </thead>\n",
       "  <tbody>\n",
       "    <tr>\n",
       "      <th>0</th>\n",
       "      <td>0</td>\n",
       "      <td>1</td>\n",
       "      <td>1</td>\n",
       "      <td>2</td>\n",
       "      <td>8.071317</td>\n",
       "      <td>4.000000e-07</td>\n",
       "      <td>0</td>\n",
       "      <td>0.00000</td>\n",
       "      <td>0.00000</td>\n",
       "      <td>0.0</td>\n",
       "    </tr>\n",
       "    <tr>\n",
       "      <th>2</th>\n",
       "      <td>1</td>\n",
       "      <td>1</td>\n",
       "      <td>3</td>\n",
       "      <td>3</td>\n",
       "      <td>13.135722</td>\n",
       "      <td>1.000000e-07</td>\n",
       "      <td>0</td>\n",
       "      <td>2.22457</td>\n",
       "      <td>0.00000</td>\n",
       "      <td>0.0</td>\n",
       "    </tr>\n",
       "    <tr>\n",
       "      <th>3</th>\n",
       "      <td>1</td>\n",
       "      <td>2</td>\n",
       "      <td>4</td>\n",
       "      <td>5</td>\n",
       "      <td>14.949810</td>\n",
       "      <td>2.000000e-07</td>\n",
       "      <td>0</td>\n",
       "      <td>6.25723</td>\n",
       "      <td>0.00000</td>\n",
       "      <td>0.0</td>\n",
       "    </tr>\n",
       "    <tr>\n",
       "      <th>4</th>\n",
       "      <td>1</td>\n",
       "      <td>3</td>\n",
       "      <td>5</td>\n",
       "      <td>7</td>\n",
       "      <td>24.621127</td>\n",
       "      <td>1.000000e-01</td>\n",
       "      <td>0</td>\n",
       "      <td>-1.60000</td>\n",
       "      <td>0.10000</td>\n",
       "      <td>0.0</td>\n",
       "    </tr>\n",
       "    <tr>\n",
       "      <th>5</th>\n",
       "      <td>1</td>\n",
       "      <td>4</td>\n",
       "      <td>6</td>\n",
       "      <td>9</td>\n",
       "      <td>32.892444</td>\n",
       "      <td>8.944300e-02</td>\n",
       "      <td>0</td>\n",
       "      <td>-0.20000</td>\n",
       "      <td>0.13416</td>\n",
       "      <td>0.0</td>\n",
       "    </tr>\n",
       "  </tbody>\n",
       "</table>\n",
       "</div>"
      ],
      "text/plain": [
       "   z  n  uq  dq          d    mass error  mass estimated       d2  \\\n",
       "0  0  1   1   2   8.071317  4.000000e-07               0  0.00000   \n",
       "2  1  1   3   3  13.135722  1.000000e-07               0  2.22457   \n",
       "3  1  2   4   5  14.949810  2.000000e-07               0  6.25723   \n",
       "4  1  3   5   7  24.621127  1.000000e-01               0 -1.60000   \n",
       "5  1  4   6   9  32.892444  8.944300e-02               0 -0.20000   \n",
       "\n",
       "   separation error  separation estimated  \n",
       "0           0.00000                   0.0  \n",
       "2           0.00000                   0.0  \n",
       "3           0.00000                   0.0  \n",
       "4           0.10000                   0.0  \n",
       "5           0.13416                   0.0  "
      ]
     },
     "execution_count": 11,
     "metadata": {},
     "output_type": "execute_result"
    }
   ],
   "source": [
    "df.head()"
   ]
  },
  {
   "cell_type": "markdown",
   "metadata": {},
   "source": [
    "# Plot made up column"
   ]
  },
  {
   "cell_type": "code",
   "execution_count": null,
   "metadata": {},
   "outputs": [],
   "source": [
    "from pylab import *\n",
    "from mpl_toolkits.mplot3d import Axes3D\n",
    "import matplotlib.pyplot as plt\n",
    "\n",
    "fig = plt.figure(figsize=(8,6))\n",
    "\n",
    "ax = fig.add_subplot(111,projection='3d')\n",
    "\n",
    "xs = df['n']\n",
    "ys = df['z']\n",
    "zs = df['d2']\n",
    "\n",
    "colmap = cm.ScalarMappable(cmap=cm.get_cmap(\"jet\"))\n",
    "colmap.set_array(zs)\n",
    "\n",
    "yg = ax.scatter(xs, ys, zs, c=cm.get_cmap(\"jet\")(zs/max(zs)), marker='^',alpha=0.05)\n",
    "cb = fig.colorbar(colmap)\n",
    "\n",
    "ax.set_xlabel('N')\n",
    "ax.set_ylabel('Z')\n",
    "ax.set_zlabel('D2')\n",
    "\n",
    "\n",
    "plt.show()"
   ]
  },
  {
   "cell_type": "code",
   "execution_count": null,
   "metadata": {},
   "outputs": [],
   "source": [
    "df['d2'].to_numpy().shape"
   ]
  },
  {
   "cell_type": "code",
   "execution_count": null,
   "metadata": {},
   "outputs": [],
   "source": [
    "plt.scatter(range(df['d2'].count()), df['d2'].to_numpy(), s=5)\n",
    "plt.xlabel('x')\n",
    "plt.ylabel('y')\n",
    "plt.axis('tight')\n",
    "plt.show()"
   ]
  },
  {
   "cell_type": "markdown",
   "metadata": {},
   "source": [
    "# Dividing Mass Excess by A = Z + N"
   ]
  },
  {
   "cell_type": "code",
   "execution_count": null,
   "metadata": {},
   "outputs": [],
   "source": [
    "zes = df['z'].to_numpy()\n",
    "ns = df['n'].to_numpy()\n",
    "a = zes + ns\n",
    "\n",
    "des = df['d'].to_numpy() / a\n",
    "df['d'] = des\n"
   ]
  },
  {
   "cell_type": "markdown",
   "metadata": {},
   "source": [
    "# Plot first output column"
   ]
  },
  {
   "cell_type": "code",
   "execution_count": null,
   "metadata": {
    "scrolled": false
   },
   "outputs": [],
   "source": [
    "from pylab import *\n",
    "from mpl_toolkits.mplot3d import Axes3D\n",
    "import matplotlib.pyplot as plt\n",
    "\n",
    "fig = plt.figure(figsize=(8,6))\n",
    "\n",
    "ax = fig.add_subplot(111,projection='3d')\n",
    "\n",
    "xs = df['n']\n",
    "ys = df['z']\n",
    "zs = df['d']\n",
    "\n",
    "colmap = cm.ScalarMappable(cmap=cm.get_cmap(\"jet\"))\n",
    "colmap.set_array(zs)\n",
    "\n",
    "yg = ax.scatter(xs, ys, zs, c=cm.get_cmap(\"jet\")(zs/max(zs)), marker='^',alpha=0.05)\n",
    "cb = fig.colorbar(colmap)\n",
    "\n",
    "ax.set_xlabel('N')\n",
    "ax.set_ylabel('Z')\n",
    "ax.set_zlabel('D')\n",
    "\n",
    "\n",
    "plt.show()"
   ]
  },
  {
   "cell_type": "markdown",
   "metadata": {},
   "source": [
    "# Tripcolor"
   ]
  },
  {
   "cell_type": "code",
   "execution_count": null,
   "metadata": {},
   "outputs": [],
   "source": [
    "zs = df['d']\n",
    "\n",
    "colmap = cm.ScalarMappable(cmap=cm.get_cmap(\"jet\"))\n",
    "colmap.set_array(zs)\n",
    "\n",
    "#yg = ax.scatter(xs, ys, zs, c=cm.get_cmap(\"jet\")(zs/max(zs)), marker='^',alpha=0.05)\n",
    "\n",
    "\n",
    "fig, (ax)=plt.subplots(ncols=1)\n",
    "ax.tripcolor(df[\"n\"], df[\"z\"], df[\"d\"])\n",
    "cb = fig.colorbar(colmap)\n",
    "\n",
    "plt.show()"
   ]
  },
  {
   "cell_type": "markdown",
   "metadata": {},
   "source": [
    "# Set X inputs"
   ]
  },
  {
   "cell_type": "code",
   "execution_count": null,
   "metadata": {
    "scrolled": true
   },
   "outputs": [],
   "source": [
    "x = df.drop(['d','d2',\"error\",\"estimated\"], axis='columns')\n",
    "print(x.info())\n",
    "x = x.to_numpy()\n",
    "print(x.shape)"
   ]
  },
  {
   "cell_type": "code",
   "execution_count": null,
   "metadata": {},
   "outputs": [],
   "source": [
    "df.info()"
   ]
  },
  {
   "cell_type": "markdown",
   "metadata": {},
   "source": [
    "# Set Y inputs _(HERE CHANGE NUMBER OF INPUTS AND RESHAPE)"
   ]
  },
  {
   "cell_type": "code",
   "execution_count": null,
   "metadata": {},
   "outputs": [],
   "source": [
    "y = df[['d','d2']].to_numpy() #HERE\n",
    "y.shape"
   ]
  },
  {
   "cell_type": "code",
   "execution_count": null,
   "metadata": {},
   "outputs": [],
   "source": [
    "y = y.reshape(-1,2) #HERE\n",
    "y.shape"
   ]
  },
  {
   "cell_type": "code",
   "execution_count": null,
   "metadata": {},
   "outputs": [],
   "source": [
    "y[0:5]"
   ]
  },
  {
   "cell_type": "markdown",
   "metadata": {},
   "source": [
    "# Prepare X_train_o, Y_train_o etc"
   ]
  },
  {
   "cell_type": "code",
   "execution_count": null,
   "metadata": {},
   "outputs": [],
   "source": [
    "X_train_o, X_test_o, y_train_o, y_test_o = train_test_split(x, y, test_size=0.2, random_state=1)\n",
    "X_train_o, X_val_o, y_train_o, y_val_o  = train_test_split(X_train_o, y_train_o, test_size=0.2, random_state=1)\n",
    "n_inputs = X_train_o.shape[1]\n",
    "n_outputs = y_train_o.shape[1]\n",
    "print(n_inputs)\n",
    "print(n_outputs)\n",
    "print(X_train_o.shape, X_test_o.shape,X_val_o.shape)"
   ]
  },
  {
   "cell_type": "markdown",
   "metadata": {},
   "source": [
    "# Scaling"
   ]
  },
  {
   "cell_type": "code",
   "execution_count": null,
   "metadata": {},
   "outputs": [],
   "source": [
    "x_scaler = StandardScaler()\n",
    "y_scaler = StandardScaler()\n",
    "\n",
    "X_train = x_scaler.fit_transform(X_train_o.reshape(-1, n_inputs))\n",
    "X_test = x_scaler.transform(X_test_o.reshape(-1, n_inputs))\n",
    "X_val = x_scaler.transform(X_val_o.reshape(-1, n_inputs))\n",
    "\n",
    "y_train = y_scaler.fit_transform(y_train_o.reshape(-1, n_outputs))\n",
    "y_test = y_scaler.transform(y_test_o.reshape(-1, n_outputs))\n",
    "y_val = y_scaler.transform(y_val_o.reshape(-1, n_outputs))\n",
    "\n",
    "n_inputs = X_train.shape[1]\n",
    "n_outputs = y_train.shape[1]\n",
    "print(n_inputs)\n",
    "print(n_outputs)"
   ]
  },
  {
   "cell_type": "markdown",
   "metadata": {},
   "source": [
    "# ANN TOPOLOGY"
   ]
  },
  {
   "cell_type": "code",
   "execution_count": null,
   "metadata": {},
   "outputs": [],
   "source": [
    "def cust_layer(inputs,number_of_neurons, name, activation=None, dropout=False):\n",
    "    init = tf.initializers.he_normal(seed=None)\n",
    "    hidden = tf.keras.layers.Dense(number_of_neurons,\n",
    "                                   name=name,\n",
    "                                    kernel_initializer=init,\n",
    "                                   activation = activation,\n",
    "                                   kernel_regularizer = tf.keras.regularizers.l2(l=0.1)\n",
    "                                  )(inputs)\n",
    "    \n",
    "    batch_norm = tf.keras.layers.BatchNormalization()(hidden, training=True)\n",
    "    \n",
    "    if dropout:\n",
    "        dropout_layer = tf.keras.layers.Dropout(0.5)(batch_norm)\n",
    "        return dropout_layer\n",
    "    else:\n",
    "        return batch_norm\n",
    "    \n",
    "tf.reset_default_graph()\n",
    "with tf.name_scope(\"dnn\"):\n",
    "    with tf.name_scope(\"inputs\"):\n",
    "        X_node = tf.placeholder(tf.float32, shape=(None, n_inputs), name=\"X\")\n",
    "        y_node = tf.placeholder(tf.float32, shape=(None, n_outputs), name=\"y\")\n",
    "    \n",
    "    \n",
    " \n",
    "    last_layer = cust_layer(X_node,20,\"hidden1\")\n",
    "    \n",
    "    n_layers = 3\n",
    "    \n",
    "    for i in range(n_layers):\n",
    "        is_odd = False\n",
    "            \n",
    "        last_layer = cust_layer(last_layer,70,\"hidden\"+str(i),activation=tf.nn.elu,dropout=True)\n",
    "   \n",
    "    init = tf.initializers.he_normal(seed=None)    \n",
    "    y_pred = tf.keras.layers.Dense(n_outputs, name=\"output\",\n",
    "                                   kernel_initializer=init)(last_layer)\n",
    "\n",
    "#TO BE FIXED\n",
    "# with tf.name_scope('MSE_combined'):    \n",
    "#     error = y_pred - y_node\n",
    "#     print(error.get_shape())    \n",
    "#     square = tf.square(error)\n",
    "#     print(square.get_shape())    \n",
    "#     summed = tf.reshape(tf.math.reduce_sum(error,1),[-1,1])\n",
    "#     print(summed.get_shape())\n",
    "#     mse = tf.reduce_mean(summed, name=\"mse\")\n",
    "#     print(mse.get_shape())    \n",
    "#     variable_summaries(mse)\n",
    "\n",
    "    \n",
    "with tf.name_scope('MSE_first_output'):\n",
    "    error_f = y_pred[:,0] - y_node[:,0]\n",
    "    square_f = tf.square(error_f)\n",
    "    mse_f = tf.reduce_mean(square_f, name=\"mse_first\")\n",
    "    variable_summaries(mse_f)\n",
    "    print(error_f.get_shape())\n",
    "\n",
    "with tf.name_scope('MSE_second_output'):\n",
    "    error_s = y_pred[:,1] - y_node[:,1]\n",
    "    square_s = tf.square(error_s)\n",
    "    mse_s = tf.reduce_mean(square_s, name=\"mse_second\")\n",
    "    variable_summaries(mse_s)\n",
    "\n",
    "with tf.name_scope('MSE_combined'):\n",
    "    mse = mse_f + mse_s\n",
    "    variable_summaries(mse)\n",
    "\n",
    "with tf.name_scope('optimiser'):\n",
    "    optimiser = tf.train.AdamOptimizer(0.01)\n",
    "    training_op = optimiser.minimize(mse)\n",
    "\n",
    "for var in tf.trainable_variables():\n",
    "    tf.summary.histogram(var.name, var)"
   ]
  },
  {
   "cell_type": "code",
   "execution_count": null,
   "metadata": {},
   "outputs": [],
   "source": []
  },
  {
   "cell_type": "markdown",
   "metadata": {},
   "source": [
    "# File writers"
   ]
  },
  {
   "cell_type": "code",
   "execution_count": null,
   "metadata": {},
   "outputs": [],
   "source": [
    "merged = tf.summary.merge_all()\n",
    "train_writer = tf.summary.FileWriter(logdir + '/train', tf.get_default_graph())\n",
    "test_writer = tf.summary.FileWriter(logdir + '/test')\n",
    "valid_writer = tf.summary.FileWriter(logdir + '/valid')\n",
    "init = tf.global_variables_initializer()\n",
    "\n",
    "saver = tf.train.Saver()\n",
    "\n",
    "checkpoint_path = os.path.join(dir_path, \"sinus_tmp\",\"sinus_full_model.ckpt\")\n",
    "checkpoint_epoch_path = checkpoint_path + \".epoch\"\n",
    "final_model_path = os.path.join(dir_path, \"model\", \"my_sinus_full_model\")"
   ]
  },
  {
   "cell_type": "markdown",
   "metadata": {},
   "source": [
    "# Number of epochs and batches"
   ]
  },
  {
   "cell_type": "code",
   "execution_count": null,
   "metadata": {},
   "outputs": [],
   "source": [
    "n_epochs = 600\n",
    "n_batches = 50\n",
    "\n",
    "best_loss = np.infty\n",
    "epochs_without_progress = 0\n",
    "max_epochs_without_progress = n_epochs * 0.2\n",
    "print(max_epochs_without_progress)\n",
    "\n"
   ]
  },
  {
   "cell_type": "markdown",
   "metadata": {},
   "source": [
    "# Training"
   ]
  },
  {
   "cell_type": "code",
   "execution_count": null,
   "metadata": {
    "scrolled": true
   },
   "outputs": [],
   "source": [
    "with tf.Session() as sess:\n",
    "    if os.path.isfile(checkpoint_epoch_path):\n",
    "        # if the checkpoint file exists, restore the model and load the epoch number\n",
    "        with open(checkpoint_epoch_path, \"rb\") as f:\n",
    "            start_epoch = int(f.read())\n",
    "        print(\"Training was interrupted. Continuing at epoch\", start_epoch)\n",
    "        saver.restore(sess, checkpoint_path)\n",
    "    else:\n",
    "        start_epoch = 0\n",
    "        sess.run(init)\n",
    "\n",
    "    for epoch in range(start_epoch, n_epochs):\n",
    "        for X_batch, y_batch in shuffle_batch(X_train, y_train, n_batches):\n",
    "            summary, _ = sess.run([merged, training_op],\n",
    "                                  feed_dict={X_node: X_batch, y_node: y_batch})\n",
    "\n",
    "        train_summary, _ = sess.run([merged, training_op],feed_dict={X_node: X_train, y_node: y_train})\n",
    "        test_summary, _ =sess.run([merged, training_op],feed_dict={X_node: X_test, y_node: y_test})\n",
    "        validation_summary, _ = sess.run([merged, training_op], feed_dict={X_node: X_val, y_node: y_val})\n",
    "\n",
    "        train_writer.add_summary(train_summary, epoch)\n",
    "        test_writer.add_summary(test_summary, epoch)\n",
    "        valid_writer.add_summary(validation_summary,epoch)\n",
    "\n",
    "        loss_train = mse.eval(feed_dict={X_node: X_train, y_node: y_train})\n",
    "        loss_val = mse.eval(feed_dict={X_node: X_val, y_node: y_val})\n",
    "        print(epoch, \"train loss:\", loss_train, \"valid loss:\", loss_val)\n",
    "\n",
    "        iteration_skip = 10\n",
    "        if epoch % iteration_skip == 0:\n",
    "            saver.save(sess, checkpoint_path)\n",
    "            with open(checkpoint_epoch_path, \"wb\") as f:\n",
    "                f.write(b\"%d\" % (epoch + 1))\n",
    "\n",
    "        if loss_val < best_loss:\n",
    "            saver.save(sess, final_model_path)\n",
    "            best_loss = loss_val\n",
    "            print(\"best loss:\", best_loss)\n",
    "            epochs_without_progress = 0\n",
    "        else:\n",
    "            epochs_without_progress += 1\n",
    "            if epochs_without_progress > max_epochs_without_progress:\n",
    "                print(\"Early stopping\")\n",
    "                break\n",
    "\n",
    "\n",
    "train_writer.close()\n",
    "test_writer.close()\n",
    "valid_writer.close()"
   ]
  },
  {
   "cell_type": "code",
   "execution_count": null,
   "metadata": {},
   "outputs": [],
   "source": [
    "os.remove(checkpoint_epoch_path)"
   ]
  },
  {
   "cell_type": "markdown",
   "metadata": {},
   "source": [
    "# Predictions"
   ]
  },
  {
   "cell_type": "code",
   "execution_count": null,
   "metadata": {},
   "outputs": [],
   "source": [
    "with tf.Session() as sess:\n",
    "    saver.restore(sess, final_model_path)\n",
    "    test_mse = mse.eval(feed_dict={X_node: X_test, y_node: y_test})\n",
    "    predictions = y_pred.eval(feed_dict={X_node: X_test, y_node: y_test})\n",
    "    \n",
    "    \n",
    "print(test_mse)"
   ]
  },
  {
   "cell_type": "code",
   "execution_count": null,
   "metadata": {},
   "outputs": [],
   "source": [
    "predictions.shape"
   ]
  },
  {
   "cell_type": "markdown",
   "metadata": {},
   "source": [
    "# Plot  _first (0th)_ output column of _predictions_"
   ]
  },
  {
   "cell_type": "code",
   "execution_count": null,
   "metadata": {},
   "outputs": [],
   "source": [
    "y_new_inverse = y_scaler.inverse_transform(predictions)\n",
    "x_test_inverse = x_scaler.inverse_transform(X_test)\n",
    "\n",
    "fig = plt.figure(figsize=(8,6))\n",
    "\n",
    "ax = fig.add_subplot(111,projection='3d')\n",
    "\n",
    "xs = x_test_inverse[:,0]\n",
    "ys = x_test_inverse[:,1]\n",
    "zs = y_new_inverse[:,0]\n",
    "\n",
    "colmap = cm.ScalarMappable(cmap=cm.get_cmap(\"jet\"))\n",
    "colmap.set_array(zs)\n",
    "\n",
    "yg = ax.scatter(xs, ys, zs, c=cm.get_cmap(\"jet\")(zs/max(zs)), marker='^',alpha=0.15)\n",
    "cb = fig.colorbar(colmap)\n",
    "\n",
    "ax.set_xlabel('N')\n",
    "ax.set_ylabel('Z')\n",
    "ax.set_zlabel('D')\n",
    "\n",
    "\n",
    "plt.show()"
   ]
  },
  {
   "cell_type": "code",
   "execution_count": null,
   "metadata": {},
   "outputs": [],
   "source": [
    "y_test_o.shape[0]\n"
   ]
  },
  {
   "cell_type": "code",
   "execution_count": null,
   "metadata": {},
   "outputs": [],
   "source": [
    "plt.scatter(range(y_new_inverse.shape[0]), y_new_inverse[:,0], s=5)\n",
    "plt.xlabel('x')\n",
    "plt.ylabel('y')\n",
    "plt.axis('tight')\n",
    "plt.show()"
   ]
  },
  {
   "cell_type": "markdown",
   "metadata": {},
   "source": [
    "# Plot _first 0th_ column of TEST set"
   ]
  },
  {
   "cell_type": "code",
   "execution_count": null,
   "metadata": {},
   "outputs": [],
   "source": [
    "plt.scatter(range(y_test_o.shape[0]), y_test_o[:,0], s=5)\n",
    "plt.xlabel('x')\n",
    "plt.ylabel('y')\n",
    "plt.axis('tight')\n",
    "plt.show()"
   ]
  },
  {
   "cell_type": "code",
   "execution_count": null,
   "metadata": {},
   "outputs": [],
   "source": []
  },
  {
   "cell_type": "code",
   "execution_count": null,
   "metadata": {},
   "outputs": [],
   "source": [
    "fig = plt.figure(figsize=(8,6))\n",
    "\n",
    "ax = fig.add_subplot(111,projection='3d')\n",
    "\n",
    "xs = X_test_o[:,0]\n",
    "ys = X_test_o[:,1]\n",
    "zs = y_test_o[:,0]\n",
    "\n",
    "colmap = cm.ScalarMappable(cmap=cm.get_cmap(\"jet\"))\n",
    "colmap.set_array(zs)\n",
    "\n",
    "yg = ax.scatter(xs, ys, zs, c=cm.get_cmap(\"jet\")(zs/max(zs)), marker='^',alpha=0.15)\n",
    "cb = fig.colorbar(colmap)\n",
    "\n",
    "ax.set_xlabel('N')\n",
    "ax.set_ylabel('Z')\n",
    "ax.set_zlabel('D')\n",
    "\n",
    "\n",
    "plt.show()"
   ]
  },
  {
   "cell_type": "markdown",
   "metadata": {},
   "source": [
    "# Plot second column of Predictions "
   ]
  },
  {
   "cell_type": "code",
   "execution_count": null,
   "metadata": {},
   "outputs": [],
   "source": [
    "y_new_inverse = y_scaler.inverse_transform(predictions)\n",
    "x_test_inverse = x_scaler.inverse_transform(X_test)\n",
    "\n",
    "fig = plt.figure(figsize=(8,6))\n",
    "\n",
    "ax = fig.add_subplot(111,projection='3d')\n",
    "\n",
    "xs = x_test_inverse[:,0]\n",
    "ys = x_test_inverse[:,1]\n",
    "zs = y_new_inverse[:,1]\n",
    "\n",
    "colmap = cm.ScalarMappable(cmap=cm.get_cmap(\"jet\"))\n",
    "colmap.set_array(zs)\n",
    "\n",
    "yg = ax.scatter(xs, ys, zs, c=cm.get_cmap(\"jet\")(zs/max(zs)), marker='^',alpha=0.15)\n",
    "cb = fig.colorbar(colmap)\n",
    "\n",
    "ax.set_xlabel('N')\n",
    "ax.set_ylabel('Z')\n",
    "ax.set_zlabel('D')\n",
    "\n",
    "\n",
    "plt.show()"
   ]
  },
  {
   "cell_type": "code",
   "execution_count": null,
   "metadata": {},
   "outputs": [],
   "source": [
    "plt.scatter(range(y_new_inverse.shape[0]), y_new_inverse[:,1], s=5)\n",
    "plt.xlabel('x')\n",
    "plt.ylabel('y')\n",
    "plt.axis('tight')\n",
    "plt.show()"
   ]
  },
  {
   "cell_type": "markdown",
   "metadata": {},
   "source": [
    "# Plot second column of TEST set"
   ]
  },
  {
   "cell_type": "code",
   "execution_count": null,
   "metadata": {},
   "outputs": [],
   "source": [
    "plt.scatter(range(y_test_o.shape[0]), y_test_o[:,1], s=5)\n",
    "plt.xlabel('x')\n",
    "plt.ylabel('y')\n",
    "plt.axis('tight')\n",
    "plt.show()"
   ]
  },
  {
   "cell_type": "code",
   "execution_count": null,
   "metadata": {},
   "outputs": [],
   "source": [
    "fig = plt.figure(figsize=(8,6))\n",
    "\n",
    "ax = fig.add_subplot(111,projection='3d')\n",
    "\n",
    "xs = X_test_o[:,0]\n",
    "ys = X_test_o[:,1]\n",
    "zs = y_test_o[:,1]\n",
    "\n",
    "colmap = cm.ScalarMappable(cmap=cm.get_cmap(\"jet\"))\n",
    "colmap.set_array(zs)\n",
    "\n",
    "yg = ax.scatter(xs, ys, zs, c=cm.get_cmap(\"jet\")(zs/max(zs)), marker='^',alpha=0.15)\n",
    "cb = fig.colorbar(colmap)\n",
    "\n",
    "ax.set_xlabel('N')\n",
    "ax.set_ylabel('Z')\n",
    "ax.set_zlabel('D')\n",
    "\n",
    "\n",
    "plt.show()"
   ]
  },
  {
   "cell_type": "markdown",
   "metadata": {},
   "source": [
    "# Get the error for X_test_o set"
   ]
  },
  {
   "cell_type": "code",
   "execution_count": null,
   "metadata": {},
   "outputs": [],
   "source": [
    "test_df = pd.DataFrame(data=X_test_o)\n",
    "test_df = test_df.rename(columns={ 0: \"z\", 1: \"n\" })\n",
    "test_df.info()"
   ]
  },
  {
   "cell_type": "code",
   "execution_count": null,
   "metadata": {},
   "outputs": [],
   "source": [
    "merged_df = pd.merge(df,test_df, on=['z','n'],how=\"right\")\n",
    "merged_df.info()"
   ]
  },
  {
   "cell_type": "code",
   "execution_count": null,
   "metadata": {},
   "outputs": [],
   "source": [
    "merged_df.head()"
   ]
  },
  {
   "cell_type": "markdown",
   "metadata": {},
   "source": [
    "# Set the error to 1 if smaller then 1"
   ]
  },
  {
   "cell_type": "code",
   "execution_count": null,
   "metadata": {},
   "outputs": [],
   "source": [
    "merged_df['error'] = merged_df['error'].apply(lambda y: y if y > 1 else 1)"
   ]
  },
  {
   "cell_type": "code",
   "execution_count": null,
   "metadata": {},
   "outputs": [],
   "source": [
    "error_vals = merged_df['error'].to_numpy().reshape(-1,1)"
   ]
  },
  {
   "cell_type": "code",
   "execution_count": null,
   "metadata": {},
   "outputs": [],
   "source": [
    "error_vals.shape"
   ]
  },
  {
   "cell_type": "code",
   "execution_count": null,
   "metadata": {},
   "outputs": [],
   "source": [
    "print(y_new_inverse.shape)\n",
    "print(y_test_o.shape)\n",
    "print(error_vals.shape)"
   ]
  },
  {
   "cell_type": "markdown",
   "metadata": {},
   "source": [
    "# Calculate _diff_ and _diff_abs_ (no distinction for columns)"
   ]
  },
  {
   "cell_type": "code",
   "execution_count": null,
   "metadata": {},
   "outputs": [],
   "source": [
    "\n",
    "diff = np.square((y_new_inverse - y_test_o) / y_test_o)\n",
    "diff_abs = y_new_inverse - y_test_o\n",
    "print(diff.shape)\n",
    "print(diff[:5])\n",
    "reshaped_diff = diff.reshape(-1,1)[:,0]\n",
    "print(reshaped_diff.shape)\n",
    "print(reshaped_diff[:5])"
   ]
  },
  {
   "cell_type": "code",
   "execution_count": null,
   "metadata": {},
   "outputs": [],
   "source": [
    "diff_df = pd.DataFrame(data={'diff': reshaped_diff})\n",
    "diff_df.info()"
   ]
  },
  {
   "cell_type": "code",
   "execution_count": null,
   "metadata": {},
   "outputs": [],
   "source": [
    "diff_df.isnull().values.any()"
   ]
  },
  {
   "cell_type": "code",
   "execution_count": null,
   "metadata": {},
   "outputs": [],
   "source": [
    "diff_df.max()"
   ]
  },
  {
   "cell_type": "code",
   "execution_count": null,
   "metadata": {},
   "outputs": [],
   "source": []
  },
  {
   "cell_type": "code",
   "execution_count": null,
   "metadata": {},
   "outputs": [],
   "source": [
    "diff_df.describe()"
   ]
  },
  {
   "cell_type": "markdown",
   "metadata": {},
   "source": [
    "# Plot the relative diff of the first column"
   ]
  },
  {
   "cell_type": "code",
   "execution_count": null,
   "metadata": {},
   "outputs": [],
   "source": [
    "fig = plt.figure(figsize=(8,6))\n",
    "\n",
    "ax = fig.add_subplot(111,projection='3d')\n",
    "\n",
    "xs = x_test_inverse[:,0]\n",
    "ys = x_test_inverse[:,1]\n",
    "zs = diff[:,0]\n",
    "\n",
    "colmap = cm.ScalarMappable(cmap=cm.get_cmap(\"jet\"))\n",
    "colmap.set_array(zs)\n",
    "\n",
    "yg = ax.scatter(xs, ys, zs, c=cm.get_cmap(\"jet\")(zs/max(zs)), marker='^',alpha=0.5)\n",
    "cb = fig.colorbar(colmap)\n",
    "\n",
    "ax.set_xlabel('N')\n",
    "ax.set_ylabel('Z')\n",
    "ax.set_zlabel('D')\n",
    "\n",
    "\n",
    "plt.show()"
   ]
  },
  {
   "cell_type": "code",
   "execution_count": null,
   "metadata": {},
   "outputs": [],
   "source": [
    "range_x = x_test_inverse.shape[0]\n",
    "range_x"
   ]
  },
  {
   "cell_type": "code",
   "execution_count": null,
   "metadata": {},
   "outputs": [],
   "source": [
    "iterate_x = list(range(0,range_x))\n",
    "len(iterate_x)"
   ]
  },
  {
   "cell_type": "code",
   "execution_count": null,
   "metadata": {},
   "outputs": [],
   "source": [
    "diff[:,0].shape"
   ]
  },
  {
   "cell_type": "code",
   "execution_count": null,
   "metadata": {},
   "outputs": [],
   "source": [
    "temp = pd.DataFrame(data=diff[:,0])\n",
    "temp.describe()"
   ]
  },
  {
   "cell_type": "code",
   "execution_count": null,
   "metadata": {},
   "outputs": [],
   "source": [
    "#%matplotlib notebook"
   ]
  },
  {
   "cell_type": "code",
   "execution_count": null,
   "metadata": {
    "scrolled": true
   },
   "outputs": [],
   "source": [
    "plt.scatter(iterate_x, diff[:,0], s=5)\n",
    "plt.xlabel('x')\n",
    "plt.ylabel('y')\n",
    "plt.axis('tight')\n",
    "plt.show()"
   ]
  },
  {
   "cell_type": "code",
   "execution_count": null,
   "metadata": {},
   "outputs": [],
   "source": [
    "diff_df.describe()"
   ]
  },
  {
   "cell_type": "markdown",
   "metadata": {},
   "source": [
    "# Plot the relative diff of the second column"
   ]
  },
  {
   "cell_type": "code",
   "execution_count": null,
   "metadata": {},
   "outputs": [],
   "source": [
    "temp2 = pd.DataFrame(data=diff[:,1])\n",
    "temp2.describe()"
   ]
  },
  {
   "cell_type": "code",
   "execution_count": null,
   "metadata": {},
   "outputs": [],
   "source": []
  },
  {
   "cell_type": "code",
   "execution_count": null,
   "metadata": {},
   "outputs": [],
   "source": [
    "plt.scatter(iterate_x, diff[:,1], s=5)\n",
    "plt.xlabel('x')\n",
    "plt.ylabel('y')\n",
    "plt.axis('tight')\n",
    "plt.show()"
   ]
  },
  {
   "cell_type": "markdown",
   "metadata": {},
   "source": [
    "# Diff ABSOLUTE of first column"
   ]
  },
  {
   "cell_type": "code",
   "execution_count": null,
   "metadata": {},
   "outputs": [],
   "source": [
    "temp3 = pd.DataFrame(data=diff_abs[:,0])\n",
    "temp3.describe()"
   ]
  },
  {
   "cell_type": "code",
   "execution_count": null,
   "metadata": {},
   "outputs": [],
   "source": [
    "plt.scatter(iterate_x, diff_abs[:,0], s=5)\n",
    "plt.xlabel('x')\n",
    "plt.ylabel('y')\n",
    "plt.axis('tight')\n",
    "plt.show()"
   ]
  },
  {
   "cell_type": "markdown",
   "metadata": {},
   "source": [
    "# Diff ABSOLUTE of second column"
   ]
  },
  {
   "cell_type": "code",
   "execution_count": null,
   "metadata": {},
   "outputs": [],
   "source": [
    "plt.scatter(iterate_x, diff_abs[:,1], s=5)\n",
    "plt.xlabel('x')\n",
    "plt.ylabel('y')\n",
    "plt.axis('tight')\n",
    "plt.show()"
   ]
  },
  {
   "cell_type": "code",
   "execution_count": null,
   "metadata": {},
   "outputs": [],
   "source": []
  },
  {
   "cell_type": "code",
   "execution_count": null,
   "metadata": {},
   "outputs": [],
   "source": []
  },
  {
   "cell_type": "code",
   "execution_count": null,
   "metadata": {},
   "outputs": [],
   "source": []
  }
 ],
 "metadata": {
  "kernelspec": {
   "display_name": "Python 3",
   "language": "python",
   "name": "python3"
  },
  "language_info": {
   "codemirror_mode": {
    "name": "ipython",
    "version": 3
   },
   "file_extension": ".py",
   "mimetype": "text/x-python",
   "name": "python",
   "nbconvert_exporter": "python",
   "pygments_lexer": "ipython3",
   "version": "3.7.3"
  }
 },
 "nbformat": 4,
 "nbformat_minor": 2
}
