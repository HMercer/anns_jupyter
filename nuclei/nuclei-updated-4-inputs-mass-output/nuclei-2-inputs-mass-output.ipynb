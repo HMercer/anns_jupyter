{
 "cells": [
  {
   "cell_type": "markdown",
   "metadata": {},
   "source": [
    "# Four imputs (N,Z, uq, dq) and 1 outputs (Mass excess) in single ANN"
   ]
  },
  {
   "cell_type": "markdown",
   "metadata": {},
   "source": [
    "# Imports"
   ]
  },
  {
   "cell_type": "code",
   "execution_count": 1,
   "metadata": {},
   "outputs": [
    {
     "name": "stdout",
     "output_type": "stream",
     "text": [
      "C:\\Users\\kicjo\\Desktop\\my-anns\\nuclei\\nuclei-updated-4-inputs-mass-output\n",
      "2019-08-20-15-09-54\n"
     ]
    }
   ],
   "source": [
    "import numpy as np\n",
    "import tensorflow as tf\n",
    "from datetime import datetime\n",
    "import matplotlib.pyplot as plt\n",
    "from sklearn.preprocessing import StandardScaler\n",
    "from sklearn.model_selection import train_test_split\n",
    "import pandas as pd\n",
    "from utils import shuffle_batch, variable_summaries\n",
    "import os\n",
    "\n",
    "%matplotlib notebook\n",
    "\n",
    "dir_path = os.getcwd()\n",
    "\n",
    "now = datetime.now().strftime(\"%Y-%m-%d-%H-%M-%S\")\n",
    "root_logdir = \"tf_logs\"\n",
    "logdir = \"{}/run-{}/\".format(root_logdir, now)\n",
    "print(dir_path)\n",
    "print(now)"
   ]
  },
  {
   "cell_type": "code",
   "execution_count": 2,
   "metadata": {},
   "outputs": [],
   "source": [
    "#%matplotlib notebook"
   ]
  },
  {
   "cell_type": "markdown",
   "metadata": {},
   "source": [
    "# Read the data set"
   ]
  },
  {
   "cell_type": "code",
   "execution_count": 3,
   "metadata": {
    "scrolled": true
   },
   "outputs": [
    {
     "name": "stdout",
     "output_type": "stream",
     "text": [
      "<class 'pandas.core.frame.DataFrame'>\n",
      "RangeIndex: 3436 entries, 0 to 3435\n",
      "Data columns (total 10 columns):\n",
      "Z                                  3436 non-null int64\n",
      "N                                  3436 non-null int64\n",
      "UQ                                 3436 non-null int64\n",
      "DQ                                 3436 non-null int64\n",
      "Mass Excess [MeV]                  3436 non-null float64\n",
      "Mass Error                         3436 non-null float64\n",
      "Mass Estimated                     3436 non-null int64\n",
      "Neutron separation energy [MeV]    3318 non-null float64\n",
      "Separation Error                   3318 non-null float64\n",
      "Separation Estimated               3318 non-null float64\n",
      "dtypes: float64(5), int64(5)\n",
      "memory usage: 268.5 KB\n",
      "None\n"
     ]
    },
    {
     "data": {
      "text/plain": [
       "Index(['Z', 'N', 'UQ', 'DQ', 'Mass Excess [MeV]', 'Mass Error',\n",
       "       'Mass Estimated', 'Neutron separation energy [MeV]', 'Separation Error',\n",
       "       'Separation Estimated'],\n",
       "      dtype='object')"
      ]
     },
     "execution_count": 3,
     "metadata": {},
     "output_type": "execute_result"
    }
   ],
   "source": [
    "df = pd.read_csv(\"better-nuclei-19-08.csv\")\n",
    "print(df.info())\n",
    "df.columns"
   ]
  },
  {
   "cell_type": "code",
   "execution_count": 4,
   "metadata": {},
   "outputs": [
    {
     "name": "stdout",
     "output_type": "stream",
     "text": [
      "<class 'pandas.core.frame.DataFrame'>\n",
      "RangeIndex: 3436 entries, 0 to 3435\n",
      "Data columns (total 10 columns):\n",
      "z                       3436 non-null int64\n",
      "n                       3436 non-null int64\n",
      "uq                      3436 non-null int64\n",
      "dq                      3436 non-null int64\n",
      "d                       3436 non-null float64\n",
      "mass error              3436 non-null float64\n",
      "mass estimated          3436 non-null int64\n",
      "d2                      3318 non-null float64\n",
      "separation error        3318 non-null float64\n",
      "separation estimated    3318 non-null float64\n",
      "dtypes: float64(5), int64(5)\n",
      "memory usage: 268.5 KB\n",
      "None\n"
     ]
    }
   ],
   "source": [
    "df = df.rename(columns=\n",
    "               {\"Mass Excess [MeV]\": \"d\",\n",
    "                \"Z\":'z',\n",
    "                'N':'n',\n",
    "                'UQ':\"uq\",\n",
    "                'DQ':\"dq\",\n",
    "                \"Mass Error\":\"mass error\",\n",
    "                \"Mass Estimated\":\"mass estimated\",\n",
    "                \"Neutron separation energy [MeV]\":\"d2\",\n",
    "                \"Separation Error\":\"separation error\",\n",
    "                \"Separation Estimated\":\"separation estimated\"               \n",
    "               })\n",
    "print(df.info())"
   ]
  },
  {
   "cell_type": "code",
   "execution_count": 5,
   "metadata": {},
   "outputs": [
    {
     "data": {
      "text/html": [
       "<div>\n",
       "<style scoped>\n",
       "    .dataframe tbody tr th:only-of-type {\n",
       "        vertical-align: middle;\n",
       "    }\n",
       "\n",
       "    .dataframe tbody tr th {\n",
       "        vertical-align: top;\n",
       "    }\n",
       "\n",
       "    .dataframe thead th {\n",
       "        text-align: right;\n",
       "    }\n",
       "</style>\n",
       "<table border=\"1\" class=\"dataframe\">\n",
       "  <thead>\n",
       "    <tr style=\"text-align: right;\">\n",
       "      <th></th>\n",
       "      <th>z</th>\n",
       "      <th>n</th>\n",
       "      <th>uq</th>\n",
       "      <th>dq</th>\n",
       "      <th>d</th>\n",
       "      <th>mass error</th>\n",
       "      <th>mass estimated</th>\n",
       "      <th>d2</th>\n",
       "      <th>separation error</th>\n",
       "      <th>separation estimated</th>\n",
       "    </tr>\n",
       "  </thead>\n",
       "  <tbody>\n",
       "    <tr>\n",
       "      <th>count</th>\n",
       "      <td>3436.000000</td>\n",
       "      <td>3436.000000</td>\n",
       "      <td>3436.000000</td>\n",
       "      <td>3436.000000</td>\n",
       "      <td>3436.000000</td>\n",
       "      <td>3436.000000</td>\n",
       "      <td>3436.000000</td>\n",
       "      <td>3318.000000</td>\n",
       "      <td>3318.000000</td>\n",
       "      <td>3318.000000</td>\n",
       "    </tr>\n",
       "    <tr>\n",
       "      <th>mean</th>\n",
       "      <td>57.857392</td>\n",
       "      <td>82.034051</td>\n",
       "      <td>197.748836</td>\n",
       "      <td>221.925495</td>\n",
       "      <td>-24.144121</td>\n",
       "      <td>0.123589</td>\n",
       "      <td>0.272992</td>\n",
       "      <td>7.755557</td>\n",
       "      <td>0.164216</td>\n",
       "      <td>0.295660</td>\n",
       "    </tr>\n",
       "    <tr>\n",
       "      <th>std</th>\n",
       "      <td>27.809406</td>\n",
       "      <td>43.293558</td>\n",
       "      <td>98.188326</td>\n",
       "      <td>113.771063</td>\n",
       "      <td>56.200706</td>\n",
       "      <td>0.197548</td>\n",
       "      <td>0.445562</td>\n",
       "      <td>3.631747</td>\n",
       "      <td>0.254378</td>\n",
       "      <td>0.456408</td>\n",
       "    </tr>\n",
       "    <tr>\n",
       "      <th>min</th>\n",
       "      <td>0.000000</td>\n",
       "      <td>0.000000</td>\n",
       "      <td>1.000000</td>\n",
       "      <td>1.000000</td>\n",
       "      <td>-91.652853</td>\n",
       "      <td>0.000000</td>\n",
       "      <td>0.000000</td>\n",
       "      <td>-2.488000</td>\n",
       "      <td>0.000000</td>\n",
       "      <td>0.000000</td>\n",
       "    </tr>\n",
       "    <tr>\n",
       "      <th>25%</th>\n",
       "      <td>36.000000</td>\n",
       "      <td>47.000000</td>\n",
       "      <td>120.750000</td>\n",
       "      <td>131.000000</td>\n",
       "      <td>-65.400443</td>\n",
       "      <td>0.003006</td>\n",
       "      <td>0.000000</td>\n",
       "      <td>5.414787</td>\n",
       "      <td>0.005140</td>\n",
       "      <td>0.000000</td>\n",
       "    </tr>\n",
       "    <tr>\n",
       "      <th>50%</th>\n",
       "      <td>58.000000</td>\n",
       "      <td>81.000000</td>\n",
       "      <td>197.000000</td>\n",
       "      <td>219.000000</td>\n",
       "      <td>-39.335024</td>\n",
       "      <td>0.014474</td>\n",
       "      <td>0.000000</td>\n",
       "      <td>7.249960</td>\n",
       "      <td>0.025005</td>\n",
       "      <td>0.000000</td>\n",
       "    </tr>\n",
       "    <tr>\n",
       "      <th>75%</th>\n",
       "      <td>80.000000</td>\n",
       "      <td>114.000000</td>\n",
       "      <td>273.000000</td>\n",
       "      <td>308.000000</td>\n",
       "      <td>1.172301</td>\n",
       "      <td>0.196000</td>\n",
       "      <td>1.000000</td>\n",
       "      <td>9.654658</td>\n",
       "      <td>0.269058</td>\n",
       "      <td>1.000000</td>\n",
       "    </tr>\n",
       "    <tr>\n",
       "      <th>max</th>\n",
       "      <td>118.000000</td>\n",
       "      <td>177.000000</td>\n",
       "      <td>413.000000</td>\n",
       "      <td>472.000000</td>\n",
       "      <td>201.512000</td>\n",
       "      <td>2.003000</td>\n",
       "      <td>1.000000</td>\n",
       "      <td>27.715000</td>\n",
       "      <td>2.011000</td>\n",
       "      <td>1.000000</td>\n",
       "    </tr>\n",
       "  </tbody>\n",
       "</table>\n",
       "</div>"
      ],
      "text/plain": [
       "                 z            n           uq           dq            d  \\\n",
       "count  3436.000000  3436.000000  3436.000000  3436.000000  3436.000000   \n",
       "mean     57.857392    82.034051   197.748836   221.925495   -24.144121   \n",
       "std      27.809406    43.293558    98.188326   113.771063    56.200706   \n",
       "min       0.000000     0.000000     1.000000     1.000000   -91.652853   \n",
       "25%      36.000000    47.000000   120.750000   131.000000   -65.400443   \n",
       "50%      58.000000    81.000000   197.000000   219.000000   -39.335024   \n",
       "75%      80.000000   114.000000   273.000000   308.000000     1.172301   \n",
       "max     118.000000   177.000000   413.000000   472.000000   201.512000   \n",
       "\n",
       "        mass error  mass estimated           d2  separation error  \\\n",
       "count  3436.000000     3436.000000  3318.000000       3318.000000   \n",
       "mean      0.123589        0.272992     7.755557          0.164216   \n",
       "std       0.197548        0.445562     3.631747          0.254378   \n",
       "min       0.000000        0.000000    -2.488000          0.000000   \n",
       "25%       0.003006        0.000000     5.414787          0.005140   \n",
       "50%       0.014474        0.000000     7.249960          0.025005   \n",
       "75%       0.196000        1.000000     9.654658          0.269058   \n",
       "max       2.003000        1.000000    27.715000          2.011000   \n",
       "\n",
       "       separation estimated  \n",
       "count           3318.000000  \n",
       "mean               0.295660  \n",
       "std                0.456408  \n",
       "min                0.000000  \n",
       "25%                0.000000  \n",
       "50%                0.000000  \n",
       "75%                1.000000  \n",
       "max                1.000000  "
      ]
     },
     "execution_count": 5,
     "metadata": {},
     "output_type": "execute_result"
    }
   ],
   "source": [
    "df.describe()"
   ]
  },
  {
   "cell_type": "markdown",
   "metadata": {},
   "source": [
    "# Remove estimated Excess and estimated Seperation"
   ]
  },
  {
   "cell_type": "code",
   "execution_count": 6,
   "metadata": {},
   "outputs": [],
   "source": [
    "not_estimated_filter = (df[\"mass estimated\"] == 0)\n",
    "df = df[not_estimated_filter]\n",
    "\n",
    "not_estimated_filter = (df[\"separation estimated\"] == 0)\n",
    "df = df[not_estimated_filter]"
   ]
  },
  {
   "cell_type": "code",
   "execution_count": 7,
   "metadata": {},
   "outputs": [
    {
     "name": "stdout",
     "output_type": "stream",
     "text": [
      "<class 'pandas.core.frame.DataFrame'>\n",
      "Int64Index: 2337 entries, 0 to 3369\n",
      "Data columns (total 10 columns):\n",
      "z                       2337 non-null int64\n",
      "n                       2337 non-null int64\n",
      "uq                      2337 non-null int64\n",
      "dq                      2337 non-null int64\n",
      "d                       2337 non-null float64\n",
      "mass error              2337 non-null float64\n",
      "mass estimated          2337 non-null int64\n",
      "d2                      2337 non-null float64\n",
      "separation error        2337 non-null float64\n",
      "separation estimated    2337 non-null float64\n",
      "dtypes: float64(5), int64(5)\n",
      "memory usage: 200.8 KB\n"
     ]
    }
   ],
   "source": [
    "df.info()"
   ]
  },
  {
   "cell_type": "code",
   "execution_count": 8,
   "metadata": {},
   "outputs": [
    {
     "data": {
      "text/plain": [
       "False"
      ]
     },
     "execution_count": 8,
     "metadata": {},
     "output_type": "execute_result"
    }
   ],
   "source": [
    "df.isnull().values.any()"
   ]
  },
  {
   "cell_type": "code",
   "execution_count": 9,
   "metadata": {},
   "outputs": [
    {
     "data": {
      "text/plain": [
       "(2337,)"
      ]
     },
     "execution_count": 9,
     "metadata": {},
     "output_type": "execute_result"
    }
   ],
   "source": [
    "df['z'].shape"
   ]
  },
  {
   "cell_type": "code",
   "execution_count": 10,
   "metadata": {},
   "outputs": [
    {
     "data": {
      "text/plain": [
       "z                       2337\n",
       "n                       2337\n",
       "uq                      2337\n",
       "dq                      2337\n",
       "d                       2337\n",
       "mass error              2337\n",
       "mass estimated          2337\n",
       "d2                      2337\n",
       "separation error        2337\n",
       "separation estimated    2337\n",
       "dtype: int64"
      ]
     },
     "execution_count": 10,
     "metadata": {},
     "output_type": "execute_result"
    }
   ],
   "source": [
    "df.count()"
   ]
  },
  {
   "cell_type": "code",
   "execution_count": 11,
   "metadata": {},
   "outputs": [
    {
     "data": {
      "text/html": [
       "<div>\n",
       "<style scoped>\n",
       "    .dataframe tbody tr th:only-of-type {\n",
       "        vertical-align: middle;\n",
       "    }\n",
       "\n",
       "    .dataframe tbody tr th {\n",
       "        vertical-align: top;\n",
       "    }\n",
       "\n",
       "    .dataframe thead th {\n",
       "        text-align: right;\n",
       "    }\n",
       "</style>\n",
       "<table border=\"1\" class=\"dataframe\">\n",
       "  <thead>\n",
       "    <tr style=\"text-align: right;\">\n",
       "      <th></th>\n",
       "      <th>z</th>\n",
       "      <th>n</th>\n",
       "      <th>uq</th>\n",
       "      <th>dq</th>\n",
       "      <th>d</th>\n",
       "      <th>mass error</th>\n",
       "      <th>mass estimated</th>\n",
       "      <th>d2</th>\n",
       "      <th>separation error</th>\n",
       "      <th>separation estimated</th>\n",
       "    </tr>\n",
       "  </thead>\n",
       "  <tbody>\n",
       "    <tr>\n",
       "      <th>0</th>\n",
       "      <td>0</td>\n",
       "      <td>1</td>\n",
       "      <td>1</td>\n",
       "      <td>2</td>\n",
       "      <td>8.071317</td>\n",
       "      <td>4.000000e-07</td>\n",
       "      <td>0</td>\n",
       "      <td>0.00000</td>\n",
       "      <td>0.00000</td>\n",
       "      <td>0.0</td>\n",
       "    </tr>\n",
       "    <tr>\n",
       "      <th>2</th>\n",
       "      <td>1</td>\n",
       "      <td>1</td>\n",
       "      <td>3</td>\n",
       "      <td>3</td>\n",
       "      <td>13.135722</td>\n",
       "      <td>1.000000e-07</td>\n",
       "      <td>0</td>\n",
       "      <td>2.22457</td>\n",
       "      <td>0.00000</td>\n",
       "      <td>0.0</td>\n",
       "    </tr>\n",
       "    <tr>\n",
       "      <th>3</th>\n",
       "      <td>1</td>\n",
       "      <td>2</td>\n",
       "      <td>4</td>\n",
       "      <td>5</td>\n",
       "      <td>14.949810</td>\n",
       "      <td>2.000000e-07</td>\n",
       "      <td>0</td>\n",
       "      <td>6.25723</td>\n",
       "      <td>0.00000</td>\n",
       "      <td>0.0</td>\n",
       "    </tr>\n",
       "    <tr>\n",
       "      <th>4</th>\n",
       "      <td>1</td>\n",
       "      <td>3</td>\n",
       "      <td>5</td>\n",
       "      <td>7</td>\n",
       "      <td>24.621127</td>\n",
       "      <td>1.000000e-01</td>\n",
       "      <td>0</td>\n",
       "      <td>-1.60000</td>\n",
       "      <td>0.10000</td>\n",
       "      <td>0.0</td>\n",
       "    </tr>\n",
       "    <tr>\n",
       "      <th>5</th>\n",
       "      <td>1</td>\n",
       "      <td>4</td>\n",
       "      <td>6</td>\n",
       "      <td>9</td>\n",
       "      <td>32.892444</td>\n",
       "      <td>8.944300e-02</td>\n",
       "      <td>0</td>\n",
       "      <td>-0.20000</td>\n",
       "      <td>0.13416</td>\n",
       "      <td>0.0</td>\n",
       "    </tr>\n",
       "  </tbody>\n",
       "</table>\n",
       "</div>"
      ],
      "text/plain": [
       "   z  n  uq  dq          d    mass error  mass estimated       d2  \\\n",
       "0  0  1   1   2   8.071317  4.000000e-07               0  0.00000   \n",
       "2  1  1   3   3  13.135722  1.000000e-07               0  2.22457   \n",
       "3  1  2   4   5  14.949810  2.000000e-07               0  6.25723   \n",
       "4  1  3   5   7  24.621127  1.000000e-01               0 -1.60000   \n",
       "5  1  4   6   9  32.892444  8.944300e-02               0 -0.20000   \n",
       "\n",
       "   separation error  separation estimated  \n",
       "0           0.00000                   0.0  \n",
       "2           0.00000                   0.0  \n",
       "3           0.00000                   0.0  \n",
       "4           0.10000                   0.0  \n",
       "5           0.13416                   0.0  "
      ]
     },
     "execution_count": 11,
     "metadata": {},
     "output_type": "execute_result"
    }
   ],
   "source": [
    "df.head()"
   ]
  },
  {
   "cell_type": "markdown",
   "metadata": {},
   "source": [
    "# Plot upper quarks column"
   ]
  },
  {
   "cell_type": "code",
   "execution_count": 12,
   "metadata": {},
   "outputs": [
    {
     "data": {
      "image/png": "[encoded data removed]",
      "text/plain": [
       "<Figure size 576x432 with 2 Axes>"
      ]
     },
     "metadata": {
      "needs_background": "light"
     },
     "output_type": "display_data"
    }
   ],
   "source": [
    "from pylab import *\n",
    "from mpl_toolkits.mplot3d import Axes3D\n",
    "import matplotlib.pyplot as plt\n",
    "\n",
    "fig = plt.figure(figsize=(8,6))\n",
    "\n",
    "ax = fig.add_subplot(111,projection='3d')\n",
    "\n",
    "xs = df['n']\n",
    "ys = df['z']\n",
    "zs = df['uq']\n",
    "\n",
    "colmap = cm.ScalarMappable(cmap=cm.get_cmap(\"jet\"))\n",
    "colmap.set_array(zs)\n",
    "\n",
    "yg = ax.scatter(xs, ys, zs, c=cm.get_cmap(\"jet\")(zs/max(zs)), marker='^',alpha=0.05)\n",
    "cb = fig.colorbar(colmap)\n",
    "\n",
    "ax.set_xlabel('N')\n",
    "ax.set_ylabel('Z')\n",
    "ax.set_zlabel('up')\n",
    "\n",
    "\n",
    "plt.show()"
   ]
  },
  {
   "cell_type": "code",
   "execution_count": 13,
   "metadata": {},
   "outputs": [
    {
     "data": {
      "text/plain": [
       "(2337,)"
      ]
     },
     "execution_count": 13,
     "metadata": {},
     "output_type": "execute_result"
    }
   ],
   "source": [
    "df['uq'].to_numpy().shape"
   ]
  },
  {
   "cell_type": "code",
   "execution_count": 14,
   "metadata": {},
   "outputs": [
    {
     "data": {
      "image/png": "[encoded data removed]",
      "text/plain": [
       "<Figure size 432x288 with 1 Axes>"
      ]
     },
     "metadata": {
      "needs_background": "light"
     },
     "output_type": "display_data"
    }
   ],
   "source": [
    "plt.scatter(range(df['uq'].count()), df['uq'].to_numpy(), s=5)\n",
    "plt.xlabel('x')\n",
    "plt.ylabel('y')\n",
    "plt.axis('tight')\n",
    "plt.show()"
   ]
  },
  {
   "cell_type": "markdown",
   "metadata": {},
   "source": [
    "# Plot down quarks"
   ]
  },
  {
   "cell_type": "code",
   "execution_count": 15,
   "metadata": {},
   "outputs": [
    {
     "data": {
      "image/png": "[encoded data removed]",
      "text/plain": [
       "<Figure size 576x432 with 2 Axes>"
      ]
     },
     "metadata": {
      "needs_background": "light"
     },
     "output_type": "display_data"
    }
   ],
   "source": [
    "from pylab import *\n",
    "from mpl_toolkits.mplot3d import Axes3D\n",
    "import matplotlib.pyplot as plt\n",
    "\n",
    "fig = plt.figure(figsize=(8,6))\n",
    "\n",
    "ax = fig.add_subplot(111,projection='3d')\n",
    "\n",
    "xs = df['n']\n",
    "ys = df['z']\n",
    "zs = df['dq']\n",
    "\n",
    "colmap = cm.ScalarMappable(cmap=cm.get_cmap(\"jet\"))\n",
    "colmap.set_array(zs)\n",
    "\n",
    "yg = ax.scatter(xs, ys, zs, c=cm.get_cmap(\"jet\")(zs/max(zs)), marker='^',alpha=0.05)\n",
    "cb = fig.colorbar(colmap)\n",
    "\n",
    "ax.set_xlabel('N')\n",
    "ax.set_ylabel('Z')\n",
    "ax.set_zlabel('dq')\n",
    "\n",
    "\n",
    "plt.show()"
   ]
  },
  {
   "cell_type": "code",
   "execution_count": 16,
   "metadata": {},
   "outputs": [
    {
     "data": {
      "image/png": "[encoded data removed]",
      "text/plain": [
       "<Figure size 432x288 with 1 Axes>"
      ]
     },
     "metadata": {
      "needs_background": "light"
     },
     "output_type": "display_data"
    }
   ],
   "source": [
    "plt.scatter(range(df['dq'].count()), df['dq'].to_numpy(), s=5)\n",
    "plt.xlabel('x')\n",
    "plt.ylabel('y')\n",
    "plt.axis('tight')\n",
    "plt.show()"
   ]
  },
  {
   "cell_type": "code",
   "execution_count": null,
   "metadata": {},
   "outputs": [],
   "source": []
  },
  {
   "cell_type": "markdown",
   "metadata": {},
   "source": [
    "# Dividing Mass Excess by A = Z + N"
   ]
  },
  {
   "cell_type": "code",
   "execution_count": 17,
   "metadata": {},
   "outputs": [],
   "source": [
    "zes = df['z'].to_numpy()\n",
    "ns = df['n'].to_numpy()\n",
    "a = zes + ns\n",
    "\n",
    "des = df['d'].to_numpy() / a\n",
    "df['d'] = des\n"
   ]
  },
  {
   "cell_type": "markdown",
   "metadata": {},
   "source": [
    "# Plot Mass excess output column"
   ]
  },
  {
   "cell_type": "code",
   "execution_count": 18,
   "metadata": {
    "scrolled": false
   },
   "outputs": [
    {
     "data": {
      "image/png": "[encoded data removed]",
      "text/plain": [
       "<Figure size 576x432 with 2 Axes>"
      ]
     },
     "metadata": {
      "needs_background": "light"
     },
     "output_type": "display_data"
    }
   ],
   "source": [
    "from pylab import *\n",
    "from mpl_toolkits.mplot3d import Axes3D\n",
    "import matplotlib.pyplot as plt\n",
    "\n",
    "fig = plt.figure(figsize=(8,6))\n",
    "\n",
    "ax = fig.add_subplot(111,projection='3d')\n",
    "\n",
    "xs = df['n']\n",
    "ys = df['z']\n",
    "zs = df['d']\n",
    "\n",
    "colmap = cm.ScalarMappable(cmap=cm.get_cmap(\"jet\"))\n",
    "colmap.set_array(zs)\n",
    "\n",
    "yg = ax.scatter(xs, ys, zs, c=cm.get_cmap(\"jet\")(zs/max(zs)), marker='^',alpha=0.05)\n",
    "cb = fig.colorbar(colmap)\n",
    "\n",
    "ax.set_xlabel('N')\n",
    "ax.set_ylabel('Z')\n",
    "ax.set_zlabel('D')\n",
    "\n",
    "\n",
    "plt.show()"
   ]
  },
  {
   "cell_type": "markdown",
   "metadata": {},
   "source": [
    "# Tripcolor"
   ]
  },
  {
   "cell_type": "code",
   "execution_count": 19,
   "metadata": {},
   "outputs": [
    {
     "data": {
      "image/png": "[encoded data removed]",
      "text/plain": [
       "<Figure size 432x288 with 2 Axes>"
      ]
     },
     "metadata": {
      "needs_background": "light"
     },
     "output_type": "display_data"
    }
   ],
   "source": [
    "zs = df['d']\n",
    "\n",
    "colmap = cm.ScalarMappable(cmap=cm.get_cmap(\"jet\"))\n",
    "colmap.set_array(zs)\n",
    "\n",
    "#yg = ax.scatter(xs, ys, zs, c=cm.get_cmap(\"jet\")(zs/max(zs)), marker='^',alpha=0.05)\n",
    "\n",
    "\n",
    "fig, (ax)=plt.subplots(ncols=1)\n",
    "ax.tripcolor(df[\"n\"], df[\"z\"], df[\"d\"])\n",
    "cb = fig.colorbar(colmap)\n",
    "\n",
    "plt.show()"
   ]
  },
  {
   "cell_type": "markdown",
   "metadata": {},
   "source": [
    "# Set X inputs"
   ]
  },
  {
   "cell_type": "code",
   "execution_count": 20,
   "metadata": {
    "scrolled": true
   },
   "outputs": [
    {
     "name": "stdout",
     "output_type": "stream",
     "text": [
      "<class 'pandas.core.frame.DataFrame'>\n",
      "Int64Index: 2337 entries, 0 to 3369\n",
      "Data columns (total 4 columns):\n",
      "z     2337 non-null int64\n",
      "n     2337 non-null int64\n",
      "dq    2337 non-null int64\n",
      "uq    2337 non-null int64\n",
      "dtypes: int64(4)\n",
      "memory usage: 91.3 KB\n",
      "None\n",
      "(2337, 4)\n"
     ]
    }
   ],
   "source": [
    "x = df[['z','n','dq','uq']]\n",
    "print(x.info())\n",
    "x = x.to_numpy()\n",
    "print(x.shape)"
   ]
  },
  {
   "cell_type": "code",
   "execution_count": 21,
   "metadata": {},
   "outputs": [
    {
     "name": "stdout",
     "output_type": "stream",
     "text": [
      "<class 'pandas.core.frame.DataFrame'>\n",
      "Int64Index: 2337 entries, 0 to 3369\n",
      "Data columns (total 10 columns):\n",
      "z                       2337 non-null int64\n",
      "n                       2337 non-null int64\n",
      "uq                      2337 non-null int64\n",
      "dq                      2337 non-null int64\n",
      "d                       2337 non-null float64\n",
      "mass error              2337 non-null float64\n",
      "mass estimated          2337 non-null int64\n",
      "d2                      2337 non-null float64\n",
      "separation error        2337 non-null float64\n",
      "separation estimated    2337 non-null float64\n",
      "dtypes: float64(5), int64(5)\n",
      "memory usage: 200.8 KB\n"
     ]
    }
   ],
   "source": [
    "df.info()"
   ]
  },
  {
   "cell_type": "markdown",
   "metadata": {},
   "source": [
    "# Set Y inputs _(HERE CHANGE NUMBER OF INPUTS AND RESHAPE)"
   ]
  },
  {
   "cell_type": "code",
   "execution_count": 22,
   "metadata": {},
   "outputs": [
    {
     "data": {
      "text/plain": [
       "(2337, 1)"
      ]
     },
     "execution_count": 22,
     "metadata": {},
     "output_type": "execute_result"
    }
   ],
   "source": [
    "y = df[['d']].to_numpy() #HERE\n",
    "y.shape"
   ]
  },
  {
   "cell_type": "code",
   "execution_count": 23,
   "metadata": {},
   "outputs": [
    {
     "data": {
      "text/plain": [
       "(2337, 1)"
      ]
     },
     "execution_count": 23,
     "metadata": {},
     "output_type": "execute_result"
    }
   ],
   "source": [
    "y = y.reshape(-1,1) #HERE\n",
    "y.shape"
   ]
  },
  {
   "cell_type": "code",
   "execution_count": 24,
   "metadata": {},
   "outputs": [
    {
     "data": {
      "text/plain": [
       "array([[8.07131713],\n",
       "       [6.56786088],\n",
       "       [4.98326998],\n",
       "       [6.15528175],\n",
       "       [6.5784888 ]])"
      ]
     },
     "execution_count": 24,
     "metadata": {},
     "output_type": "execute_result"
    }
   ],
   "source": [
    "y[0:5]"
   ]
  },
  {
   "cell_type": "markdown",
   "metadata": {},
   "source": [
    "# Prepare X_train_o, Y_train_o etc"
   ]
  },
  {
   "cell_type": "code",
   "execution_count": 25,
   "metadata": {},
   "outputs": [
    {
     "name": "stdout",
     "output_type": "stream",
     "text": [
      "4\n",
      "1\n",
      "(1495, 4) (468, 4) (374, 4)\n"
     ]
    }
   ],
   "source": [
    "X_train_o, X_test_o, y_train_o, y_test_o = train_test_split(x, y, test_size=0.2, random_state=1)\n",
    "X_train_o, X_val_o, y_train_o, y_val_o  = train_test_split(X_train_o, y_train_o, test_size=0.2, random_state=1)\n",
    "n_inputs = X_train_o.shape[1]\n",
    "n_outputs = y_train_o.shape[1]\n",
    "print(n_inputs)\n",
    "print(n_outputs)\n",
    "print(X_train_o.shape, X_test_o.shape,X_val_o.shape)"
   ]
  },
  {
   "cell_type": "markdown",
   "metadata": {},
   "source": [
    "# Scaling"
   ]
  },
  {
   "cell_type": "code",
   "execution_count": 26,
   "metadata": {},
   "outputs": [
    {
     "name": "stdout",
     "output_type": "stream",
     "text": [
      "4\n",
      "1\n"
     ]
    }
   ],
   "source": [
    "x_scaler = StandardScaler()\n",
    "y_scaler = StandardScaler()\n",
    "\n",
    "X_train = x_scaler.fit_transform(X_train_o.reshape(-1, n_inputs))\n",
    "X_test = x_scaler.transform(X_test_o.reshape(-1, n_inputs))\n",
    "X_val = x_scaler.transform(X_val_o.reshape(-1, n_inputs))\n",
    "\n",
    "y_train = y_scaler.fit_transform(y_train_o.reshape(-1, n_outputs))\n",
    "y_test = y_scaler.transform(y_test_o.reshape(-1, n_outputs))\n",
    "y_val = y_scaler.transform(y_val_o.reshape(-1, n_outputs))\n",
    "\n",
    "n_inputs = X_train.shape[1]\n",
    "n_outputs = y_train.shape[1]\n",
    "print(n_inputs)\n",
    "print(n_outputs)"
   ]
  },
  {
   "cell_type": "markdown",
   "metadata": {},
   "source": [
    "# ANN TOPOLOGY"
   ]
  },
  {
   "cell_type": "code",
   "execution_count": 27,
   "metadata": {},
   "outputs": [
    {
     "name": "stderr",
     "output_type": "stream",
     "text": [
      "WARNING: Logging before flag parsing goes to stderr.\n",
      "W0820 15:09:58.390559 24028 deprecation_wrapper.py:119] From C:\\Users\\kicjo\\Desktop\\my-anns\\nuclei\\nuclei-updated-4-inputs-mass-output\\utils.py:16: The name tf.summary.scalar is deprecated. Please use tf.compat.v1.summary.scalar instead.\n",
      "\n",
      "W0820 15:09:58.403526 24028 deprecation_wrapper.py:119] From C:\\Users\\kicjo\\Desktop\\my-anns\\nuclei\\nuclei-updated-4-inputs-mass-output\\utils.py:22: The name tf.summary.histogram is deprecated. Please use tf.compat.v1.summary.histogram instead.\n",
      "\n"
     ]
    },
    {
     "name": "stdout",
     "output_type": "stream",
     "text": [
      "(?, 1)\n"
     ]
    }
   ],
   "source": [
    "def cust_layer(inputs,number_of_neurons, name, activation=None, dropout=False):\n",
    "    init = tf.initializers.he_normal(seed=None)\n",
    "    hidden = tf.keras.layers.Dense(number_of_neurons,\n",
    "                                   name=name,\n",
    "                                    kernel_initializer=init,\n",
    "                                   activation = activation,\n",
    "                                   kernel_regularizer = tf.keras.regularizers.l2(l=0.1)\n",
    "                                  )(inputs)\n",
    "    \n",
    "    batch_norm = tf.keras.layers.BatchNormalization()(hidden, training=True)\n",
    "    \n",
    "    if dropout:\n",
    "        dropout_layer = tf.keras.layers.Dropout(0.5)(batch_norm)\n",
    "        return dropout_layer\n",
    "    else:\n",
    "        return batch_norm\n",
    "    \n",
    "tf.reset_default_graph()\n",
    "with tf.name_scope(\"dnn\"):\n",
    "    with tf.name_scope(\"inputs\"):\n",
    "        X_node = tf.placeholder(tf.float32, shape=(None, n_inputs), name=\"X\")\n",
    "        y_node = tf.placeholder(tf.float32, shape=(None, n_outputs), name=\"y\")\n",
    "    \n",
    "    last_layer = cust_layer(X_node,50,\"hidden1\")    \n",
    "    n_layers = 10\n",
    "    \n",
    "    for i in range(n_layers):      \n",
    "            \n",
    "        last_layer = cust_layer(last_layer,150,\"hidden\"+str(i),activation=tf.nn.elu,dropout=True)\n",
    "    last_layer = cust_layer(last_layer,50,\"hidden\"+str(i+1),activation=tf.nn.elu,dropout=True)\n",
    "    \n",
    "    init = tf.initializers.he_normal()    \n",
    "    y_pred = tf.keras.layers.Dense(n_outputs, name=\"output\",kernel_initializer=init)(last_layer)\n",
    "\n",
    "    \n",
    "with tf.name_scope('MSE'):\n",
    "    error_f = y_pred - y_node\n",
    "    square_f = tf.square(error_f)\n",
    "    mse = tf.reduce_mean(square_f, name=\"mse_first\")\n",
    "    variable_summaries(mse)\n",
    "    print(error_f.get_shape())\n",
    "\n",
    "\n",
    "with tf.name_scope('optimiser'):\n",
    "    optimiser = tf.train.AdamOptimizer(0.01)\n",
    "    training_op = optimiser.minimize(mse)\n",
    "\n",
    "for var in tf.trainable_variables():\n",
    "    tf.summary.histogram(var.name, var)"
   ]
  },
  {
   "cell_type": "code",
   "execution_count": null,
   "metadata": {},
   "outputs": [],
   "source": []
  },
  {
   "cell_type": "markdown",
   "metadata": {},
   "source": [
    "# File writers"
   ]
  },
  {
   "cell_type": "code",
   "execution_count": 28,
   "metadata": {},
   "outputs": [],
   "source": [
    "merged = tf.summary.merge_all()\n",
    "train_writer = tf.summary.FileWriter(logdir + '/train', tf.get_default_graph())\n",
    "test_writer = tf.summary.FileWriter(logdir + '/test')\n",
    "valid_writer = tf.summary.FileWriter(logdir + '/valid')\n",
    "init = tf.global_variables_initializer()\n",
    "\n",
    "saver = tf.train.Saver()\n",
    "\n",
    "checkpoint_path = os.path.join(dir_path, \"sinus_tmp\",\"sinus_full_model.ckpt\")\n",
    "checkpoint_epoch_path = checkpoint_path + \".epoch\"\n",
    "final_model_path = os.path.join(dir_path, \"model\", \"my_sinus_full_model\")"
   ]
  },
  {
   "cell_type": "markdown",
   "metadata": {},
   "source": [
    "# Number of epochs and batches"
   ]
  },
  {
   "cell_type": "code",
   "execution_count": 29,
   "metadata": {},
   "outputs": [
    {
     "name": "stdout",
     "output_type": "stream",
     "text": [
      "400.0\n"
     ]
    }
   ],
   "source": [
    "n_epochs = 2000\n",
    "n_batches = 50\n",
    "\n",
    "best_loss = np.infty\n",
    "epochs_without_progress = 0\n",
    "max_epochs_without_progress = n_epochs * 0.2\n",
    "print(max_epochs_without_progress)\n",
    "\n"
   ]
  },
  {
   "cell_type": "markdown",
   "metadata": {},
   "source": [
    "# Training"
   ]
  },
  {
   "cell_type": "code",
   "execution_count": 30,
   "metadata": {
    "scrolled": true
   },
   "outputs": [
    {
     "name": "stdout",
     "output_type": "stream",
     "text": [
      "0 train loss: 0.1884652 valid loss: 0.27415377\n",
      "best loss: 0.27415377\n",
      "1 train loss: 0.126547 valid loss: 0.21128482\n",
      "best loss: 0.21128482\n",
      "2 train loss: 0.2153945 valid loss: 0.34169835\n",
      "3 train loss: 0.23598795 valid loss: 0.38241193\n",
      "4 train loss: 0.08159679 valid loss: 0.16696051\n",
      "best loss: 0.16696051\n",
      "5 train loss: 0.1700338 valid loss: 0.24761763\n",
      "6 train loss: 0.12045347 valid loss: 0.18293786\n",
      "7 train loss: 0.16591118 valid loss: 0.25581983\n",
      "8 train loss: 0.13850757 valid loss: 0.14876844\n",
      "best loss: 0.14876844\n",
      "9 train loss: 0.103949465 valid loss: 0.15365973\n",
      "10 train loss: 0.11515224 valid loss: 0.16989948\n",
      "11 train loss: 0.14307357 valid loss: 0.21467644\n",
      "12 train loss: 0.093216635 valid loss: 0.14835449\n",
      "best loss: 0.14835449\n",
      "13 train loss: 0.11301655 valid loss: 0.18987158\n",
      "14 train loss: 0.12883517 valid loss: 0.2308014\n",
      "15 train loss: 0.1082148 valid loss: 0.16984399\n",
      "16 train loss: 0.13317302 valid loss: 0.23856963\n",
      "17 train loss: 0.11999964 valid loss: 0.20467399\n",
      "18 train loss: 0.08598046 valid loss: 0.14544845\n",
      "best loss: 0.14544845\n",
      "19 train loss: 0.09740916 valid loss: 0.16340344\n",
      "20 train loss: 0.07867759 valid loss: 0.14815144\n",
      "21 train loss: 0.08070504 valid loss: 0.13329607\n",
      "best loss: 0.13329607\n",
      "22 train loss: 0.10720726 valid loss: 0.17867738\n",
      "23 train loss: 0.1311762 valid loss: 0.2202055\n",
      "24 train loss: 0.07606302 valid loss: 0.121527985\n",
      "best loss: 0.121527985\n",
      "25 train loss: 0.1286183 valid loss: 0.20941031\n",
      "26 train loss: 0.08212529 valid loss: 0.13633457\n",
      "27 train loss: 0.17353466 valid loss: 0.29906797\n",
      "28 train loss: 0.09562932 valid loss: 0.1344339\n",
      "29 train loss: 0.12927772 valid loss: 0.22340848\n",
      "30 train loss: 0.09793488 valid loss: 0.16927266\n",
      "31 train loss: 0.10957654 valid loss: 0.19711491\n",
      "32 train loss: 0.16666028 valid loss: 0.28457674\n",
      "33 train loss: 0.067635834 valid loss: 0.104313195\n",
      "best loss: 0.104313195\n",
      "34 train loss: 0.05065476 valid loss: 0.10034522\n",
      "best loss: 0.10034522\n",
      "35 train loss: 0.08792051 valid loss: 0.17561302\n",
      "36 train loss: 0.17853764 valid loss: 0.26975435\n",
      "37 train loss: 0.115213685 valid loss: 0.20106328\n",
      "38 train loss: 0.08030641 valid loss: 0.15824863\n",
      "39 train loss: 0.10880077 valid loss: 0.17243102\n",
      "40 train loss: 0.121926054 valid loss: 0.21742822\n",
      "41 train loss: 0.12951104 valid loss: 0.24305864\n",
      "42 train loss: 0.086236514 valid loss: 0.15529637\n",
      "43 train loss: 0.07622965 valid loss: 0.158899\n",
      "44 train loss: 0.10942278 valid loss: 0.1849761\n",
      "45 train loss: 0.11760671 valid loss: 0.20373884\n",
      "46 train loss: 0.10511829 valid loss: 0.17854403\n",
      "47 train loss: 0.07601309 valid loss: 0.14450331\n",
      "48 train loss: 0.07655668 valid loss: 0.15171812\n",
      "49 train loss: 0.13124378 valid loss: 0.2255557\n",
      "50 train loss: 0.1131562 valid loss: 0.18932426\n",
      "51 train loss: 0.09423146 valid loss: 0.16540922\n",
      "52 train loss: 0.089361265 valid loss: 0.176472\n",
      "53 train loss: 0.0586834 valid loss: 0.13523923\n",
      "54 train loss: 0.10637413 valid loss: 0.19969489\n",
      "55 train loss: 0.12166163 valid loss: 0.2226525\n",
      "56 train loss: 0.0960403 valid loss: 0.18147261\n",
      "57 train loss: 0.09826614 valid loss: 0.19048427\n",
      "58 train loss: 0.08366098 valid loss: 0.17868915\n",
      "59 train loss: 0.08112297 valid loss: 0.16276687\n",
      "60 train loss: 0.09147357 valid loss: 0.18655767\n",
      "61 train loss: 0.12088865 valid loss: 0.21249369\n",
      "62 train loss: 0.15685143 valid loss: 0.2727885\n",
      "63 train loss: 0.10516909 valid loss: 0.20454422\n",
      "64 train loss: 0.08299339 valid loss: 0.17451511\n",
      "65 train loss: 0.100734174 valid loss: 0.19934139\n",
      "66 train loss: 0.09125484 valid loss: 0.16287595\n",
      "67 train loss: 0.10299293 valid loss: 0.18576856\n",
      "68 train loss: 0.110857084 valid loss: 0.21422336\n",
      "69 train loss: 0.06253233 valid loss: 0.13681285\n",
      "70 train loss: 0.1357865 valid loss: 0.2343191\n",
      "71 train loss: 0.10052723 valid loss: 0.17012814\n",
      "72 train loss: 0.11801953 valid loss: 0.21781361\n",
      "73 train loss: 0.096285805 valid loss: 0.18911351\n",
      "74 train loss: 0.08267887 valid loss: 0.16137439\n",
      "75 train loss: 0.07976363 valid loss: 0.16812944\n",
      "76 train loss: 0.11506057 valid loss: 0.20567472\n",
      "77 train loss: 0.10797041 valid loss: 0.20587638\n",
      "78 train loss: 0.13099045 valid loss: 0.22109024\n",
      "79 train loss: 0.07391385 valid loss: 0.13973519\n",
      "80 train loss: 0.10591319 valid loss: 0.20351416\n",
      "81 train loss: 0.098852284 valid loss: 0.19166428\n",
      "82 train loss: 0.12395015 valid loss: 0.21747273\n",
      "83 train loss: 0.10267102 valid loss: 0.2040601\n",
      "84 train loss: 0.09634684 valid loss: 0.20047764\n",
      "85 train loss: 0.074361555 valid loss: 0.14761049\n",
      "86 train loss: 0.075776085 valid loss: 0.15746157\n",
      "87 train loss: 0.073487505 valid loss: 0.15270115\n",
      "88 train loss: 0.083719224 valid loss: 0.17130601\n",
      "89 train loss: 0.0824103 valid loss: 0.154231\n",
      "90 train loss: 0.106862165 valid loss: 0.17194067\n",
      "91 train loss: 0.0871052 valid loss: 0.16385786\n",
      "92 train loss: 0.06138518 valid loss: 0.12505326\n",
      "93 train loss: 0.09473065 valid loss: 0.17247038\n",
      "94 train loss: 0.0691849 valid loss: 0.12346288\n",
      "95 train loss: 0.0684327 valid loss: 0.13799083\n",
      "96 train loss: 0.07597639 valid loss: 0.14188181\n",
      "97 train loss: 0.10236459 valid loss: 0.20178388\n",
      "98 train loss: 0.10582439 valid loss: 0.1943079\n",
      "99 train loss: 0.07922644 valid loss: 0.16029528\n",
      "100 train loss: 0.09264419 valid loss: 0.17221123\n",
      "101 train loss: 0.13870001 valid loss: 0.2672885\n",
      "102 train loss: 0.112085216 valid loss: 0.20450015\n",
      "103 train loss: 0.062765196 valid loss: 0.13536866\n",
      "104 train loss: 0.16731954 valid loss: 0.2958643\n",
      "105 train loss: 0.13976856 valid loss: 0.23940504\n",
      "106 train loss: 0.090563774 valid loss: 0.15830262\n",
      "107 train loss: 0.083741345 valid loss: 0.1467381\n",
      "108 train loss: 0.086691655 valid loss: 0.18213631\n",
      "109 train loss: 0.09815689 valid loss: 0.1797649\n",
      "110 train loss: 0.08496184 valid loss: 0.15677121\n",
      "111 train loss: 0.10612342 valid loss: 0.21147397\n",
      "112 train loss: 0.08046279 valid loss: 0.17016101\n",
      "113 train loss: 0.09199781 valid loss: 0.16698475\n",
      "114 train loss: 0.11735708 valid loss: 0.2150057\n",
      "115 train loss: 0.1426272 valid loss: 0.2594949\n",
      "116 train loss: 0.112990566 valid loss: 0.21679673\n",
      "117 train loss: 0.07809519 valid loss: 0.15593363\n",
      "118 train loss: 0.08060108 valid loss: 0.1676645\n",
      "119 train loss: 0.08803841 valid loss: 0.18657464\n",
      "120 train loss: 0.08809815 valid loss: 0.17854673\n",
      "121 train loss: 0.05550727 valid loss: 0.1196628\n",
      "122 train loss: 0.08038669 valid loss: 0.18183595\n",
      "123 train loss: 0.08030869 valid loss: 0.15415682\n",
      "124 train loss: 0.09460186 valid loss: 0.17961672\n",
      "125 train loss: 0.14159302 valid loss: 0.24077362\n",
      "126 train loss: 0.0821506 valid loss: 0.14875938\n",
      "127 train loss: 0.065249264 valid loss: 0.14936094\n",
      "128 train loss: 0.07678306 valid loss: 0.17522977\n",
      "129 train loss: 0.07622419 valid loss: 0.14433238\n",
      "130 train loss: 0.055033725 valid loss: 0.1271917\n",
      "131 train loss: 0.08111628 valid loss: 0.17279756\n",
      "132 train loss: 0.10244202 valid loss: 0.19459736\n",
      "133 train loss: 0.10890691 valid loss: 0.21227497\n",
      "134 train loss: 0.087624446 valid loss: 0.17712362\n",
      "135 train loss: 0.08285627 valid loss: 0.16154763\n",
      "136 train loss: 0.07253815 valid loss: 0.14873368\n",
      "137 train loss: 0.08822886 valid loss: 0.17770769\n",
      "138 train loss: 0.06124823 valid loss: 0.12692696\n",
      "139 train loss: 0.10478803 valid loss: 0.2038994\n",
      "140 train loss: 0.065118276 valid loss: 0.14387552\n",
      "141 train loss: 0.08756668 valid loss: 0.1620912\n",
      "142 train loss: 0.07310972 valid loss: 0.13535044\n",
      "143 train loss: 0.08067193 valid loss: 0.13626803\n",
      "144 train loss: 0.12543052 valid loss: 0.23540315\n",
      "145 train loss: 0.0719862 valid loss: 0.14763248\n",
      "146 train loss: 0.09440944 valid loss: 0.19986239\n",
      "147 train loss: 0.08598902 valid loss: 0.17459127\n",
      "148 train loss: 0.10281031 valid loss: 0.20604232\n",
      "149 train loss: 0.10278847 valid loss: 0.20165467\n",
      "150 train loss: 0.07950321 valid loss: 0.17143032\n",
      "151 train loss: 0.10431237 valid loss: 0.2016241\n",
      "152 train loss: 0.077312 valid loss: 0.16269146\n",
      "153 train loss: 0.06757665 valid loss: 0.13780673\n",
      "154 train loss: 0.07780429 valid loss: 0.16816188\n",
      "155 train loss: 0.10735531 valid loss: 0.16586421\n",
      "156 train loss: 0.123782724 valid loss: 0.22925653\n",
      "157 train loss: 0.08886245 valid loss: 0.17329638\n",
      "158 train loss: 0.079204515 valid loss: 0.15559192\n",
      "159 train loss: 0.10315222 valid loss: 0.20790344\n",
      "160 train loss: 0.10301479 valid loss: 0.20499122\n",
      "161 train loss: 0.08969933 valid loss: 0.16849312\n"
     ]
    },
    {
     "name": "stdout",
     "output_type": "stream",
     "text": [
      "162 train loss: 0.08732945 valid loss: 0.16857451\n",
      "163 train loss: 0.07754921 valid loss: 0.15180111\n",
      "164 train loss: 0.100974396 valid loss: 0.20005994\n",
      "165 train loss: 0.06400305 valid loss: 0.12658787\n",
      "166 train loss: 0.06405713 valid loss: 0.11957453\n",
      "167 train loss: 0.12416614 valid loss: 0.21639411\n",
      "168 train loss: 0.09841746 valid loss: 0.18560237\n",
      "169 train loss: 0.101364225 valid loss: 0.21840398\n",
      "170 train loss: 0.123243384 valid loss: 0.24242383\n",
      "171 train loss: 0.092534676 valid loss: 0.20639095\n",
      "172 train loss: 0.066894785 valid loss: 0.1424603\n",
      "173 train loss: 0.10743502 valid loss: 0.20975898\n",
      "174 train loss: 0.07450975 valid loss: 0.17020215\n",
      "175 train loss: 0.06948464 valid loss: 0.16170622\n",
      "176 train loss: 0.09930251 valid loss: 0.18347399\n",
      "177 train loss: 0.078716844 valid loss: 0.16625054\n",
      "178 train loss: 0.105941534 valid loss: 0.19535783\n",
      "179 train loss: 0.07180836 valid loss: 0.16277392\n",
      "180 train loss: 0.06737421 valid loss: 0.14500839\n",
      "181 train loss: 0.082621686 valid loss: 0.16433452\n",
      "182 train loss: 0.084045336 valid loss: 0.18583634\n",
      "183 train loss: 0.10077094 valid loss: 0.1739999\n",
      "184 train loss: 0.0926656 valid loss: 0.18064445\n",
      "185 train loss: 0.10563815 valid loss: 0.1978361\n",
      "186 train loss: 0.08083637 valid loss: 0.17581065\n",
      "187 train loss: 0.06854161 valid loss: 0.13813706\n",
      "188 train loss: 0.08400756 valid loss: 0.17909423\n",
      "189 train loss: 0.09259226 valid loss: 0.1857762\n",
      "190 train loss: 0.08894881 valid loss: 0.17698598\n",
      "191 train loss: 0.06535883 valid loss: 0.16057058\n",
      "192 train loss: 0.08844822 valid loss: 0.16393025\n",
      "193 train loss: 0.13991734 valid loss: 0.264992\n",
      "194 train loss: 0.08044723 valid loss: 0.16055723\n",
      "195 train loss: 0.05520834 valid loss: 0.13326664\n",
      "196 train loss: 0.06750878 valid loss: 0.14213793\n",
      "197 train loss: 0.06105013 valid loss: 0.14127077\n",
      "198 train loss: 0.050830215 valid loss: 0.11726348\n",
      "199 train loss: 0.07020986 valid loss: 0.14951149\n",
      "200 train loss: 0.07581199 valid loss: 0.16062552\n",
      "201 train loss: 0.047901437 valid loss: 0.112671144\n",
      "202 train loss: 0.057997875 valid loss: 0.12075635\n",
      "203 train loss: 0.11884765 valid loss: 0.21811305\n",
      "204 train loss: 0.116484635 valid loss: 0.21791264\n",
      "205 train loss: 0.075815275 valid loss: 0.16147228\n",
      "206 train loss: 0.096333794 valid loss: 0.16739714\n",
      "207 train loss: 0.0705454 valid loss: 0.13477762\n",
      "208 train loss: 0.13091601 valid loss: 0.23129857\n",
      "209 train loss: 0.09176945 valid loss: 0.17014055\n",
      "210 train loss: 0.08543765 valid loss: 0.18897474\n",
      "211 train loss: 0.06513706 valid loss: 0.14019623\n",
      "212 train loss: 0.07649829 valid loss: 0.16110122\n",
      "213 train loss: 0.09107044 valid loss: 0.17617047\n",
      "214 train loss: 0.085376635 valid loss: 0.1735141\n",
      "215 train loss: 0.0730457 valid loss: 0.16004893\n",
      "216 train loss: 0.07273837 valid loss: 0.1609592\n",
      "217 train loss: 0.09072482 valid loss: 0.18273224\n",
      "218 train loss: 0.06531663 valid loss: 0.13968712\n",
      "219 train loss: 0.0861475 valid loss: 0.18503007\n",
      "220 train loss: 0.067073196 valid loss: 0.15421182\n",
      "221 train loss: 0.06065583 valid loss: 0.14168335\n",
      "222 train loss: 0.11619658 valid loss: 0.21400501\n",
      "223 train loss: 0.12691988 valid loss: 0.22145058\n",
      "224 train loss: 0.097614005 valid loss: 0.16571505\n",
      "225 train loss: 0.06338372 valid loss: 0.13967182\n",
      "226 train loss: 0.09961804 valid loss: 0.15849222\n",
      "227 train loss: 0.07572382 valid loss: 0.15975873\n",
      "228 train loss: 0.07695043 valid loss: 0.14948565\n",
      "229 train loss: 0.07922995 valid loss: 0.17507888\n",
      "230 train loss: 0.0592324 valid loss: 0.14472306\n",
      "231 train loss: 0.07647881 valid loss: 0.1682478\n",
      "232 train loss: 0.097636305 valid loss: 0.17791621\n",
      "233 train loss: 0.081542894 valid loss: 0.16369645\n",
      "234 train loss: 0.056501046 valid loss: 0.116870575\n",
      "235 train loss: 0.06968633 valid loss: 0.14503497\n",
      "236 train loss: 0.05824287 valid loss: 0.1291549\n",
      "237 train loss: 0.07935031 valid loss: 0.16987681\n",
      "238 train loss: 0.084806964 valid loss: 0.13907427\n",
      "239 train loss: 0.05993142 valid loss: 0.13085617\n",
      "240 train loss: 0.051907822 valid loss: 0.11314033\n",
      "241 train loss: 0.09971537 valid loss: 0.20798005\n",
      "242 train loss: 0.075803615 valid loss: 0.1637905\n",
      "243 train loss: 0.07345275 valid loss: 0.16078883\n",
      "244 train loss: 0.080234885 valid loss: 0.16530405\n",
      "245 train loss: 0.06380877 valid loss: 0.1300669\n",
      "246 train loss: 0.08332051 valid loss: 0.16289076\n",
      "247 train loss: 0.09084106 valid loss: 0.19232912\n",
      "248 train loss: 0.107933976 valid loss: 0.20858084\n",
      "249 train loss: 0.05585876 valid loss: 0.124614574\n",
      "250 train loss: 0.08751156 valid loss: 0.18095486\n",
      "251 train loss: 0.06565513 valid loss: 0.13034366\n",
      "252 train loss: 0.06513822 valid loss: 0.14258747\n",
      "253 train loss: 0.06381877 valid loss: 0.13909186\n",
      "254 train loss: 0.051510777 valid loss: 0.13311993\n",
      "255 train loss: 0.06059414 valid loss: 0.13097754\n",
      "256 train loss: 0.07670234 valid loss: 0.1519499\n",
      "257 train loss: 0.062110998 valid loss: 0.12636997\n",
      "258 train loss: 0.09009295 valid loss: 0.16677119\n",
      "259 train loss: 0.118996724 valid loss: 0.23472817\n",
      "260 train loss: 0.07025586 valid loss: 0.15814863\n",
      "261 train loss: 0.07838451 valid loss: 0.16293931\n",
      "262 train loss: 0.068430245 valid loss: 0.15166394\n",
      "263 train loss: 0.09385962 valid loss: 0.1922934\n",
      "264 train loss: 0.07736794 valid loss: 0.1555613\n",
      "265 train loss: 0.10095337 valid loss: 0.16267914\n",
      "266 train loss: 0.07448857 valid loss: 0.17582549\n",
      "267 train loss: 0.05460832 valid loss: 0.120805055\n",
      "268 train loss: 0.08062903 valid loss: 0.1526003\n",
      "269 train loss: 0.081932575 valid loss: 0.15358782\n",
      "270 train loss: 0.08135038 valid loss: 0.17506474\n",
      "271 train loss: 0.08232794 valid loss: 0.17233378\n",
      "272 train loss: 0.075028725 valid loss: 0.17191051\n",
      "273 train loss: 0.06141919 valid loss: 0.13766512\n",
      "274 train loss: 0.059763182 valid loss: 0.11767382\n",
      "275 train loss: 0.058578983 valid loss: 0.11129387\n",
      "276 train loss: 0.0975338 valid loss: 0.17223784\n",
      "277 train loss: 0.1229245 valid loss: 0.22724965\n",
      "278 train loss: 0.08717815 valid loss: 0.1688436\n",
      "279 train loss: 0.06436592 valid loss: 0.13496375\n",
      "280 train loss: 0.07647826 valid loss: 0.1681988\n",
      "281 train loss: 0.20701157 valid loss: 0.36793908\n",
      "282 train loss: 0.09953873 valid loss: 0.19096376\n",
      "283 train loss: 0.06451165 valid loss: 0.11168455\n",
      "284 train loss: 0.11301791 valid loss: 0.22120672\n",
      "285 train loss: 0.09181721 valid loss: 0.19115059\n",
      "286 train loss: 0.09323837 valid loss: 0.20556849\n",
      "287 train loss: 0.06399059 valid loss: 0.15502663\n",
      "288 train loss: 0.092846125 valid loss: 0.19585292\n",
      "289 train loss: 0.083831295 valid loss: 0.19417936\n",
      "290 train loss: 0.066566736 valid loss: 0.13612303\n",
      "291 train loss: 0.06972657 valid loss: 0.15436351\n",
      "292 train loss: 0.083098 valid loss: 0.17550898\n",
      "293 train loss: 0.0710685 valid loss: 0.14803101\n",
      "294 train loss: 0.075781845 valid loss: 0.16724576\n",
      "295 train loss: 0.07170161 valid loss: 0.16513093\n",
      "296 train loss: 0.07836124 valid loss: 0.16791542\n",
      "297 train loss: 0.06771792 valid loss: 0.14434752\n",
      "298 train loss: 0.08908467 valid loss: 0.17812972\n",
      "299 train loss: 0.08306498 valid loss: 0.16700934\n",
      "300 train loss: 0.049889628 valid loss: 0.11768602\n",
      "301 train loss: 0.05473024 valid loss: 0.12804687\n",
      "302 train loss: 0.05957456 valid loss: 0.13236953\n",
      "303 train loss: 0.07713779 valid loss: 0.17301567\n",
      "304 train loss: 0.06200637 valid loss: 0.13318163\n",
      "305 train loss: 0.09492901 valid loss: 0.17159513\n",
      "306 train loss: 0.14378066 valid loss: 0.24616624\n",
      "307 train loss: 0.10348331 valid loss: 0.2033548\n",
      "308 train loss: 0.07203189 valid loss: 0.15023792\n",
      "309 train loss: 0.06420407 valid loss: 0.1480883\n",
      "310 train loss: 0.053353146 valid loss: 0.109663814\n",
      "311 train loss: 0.07550921 valid loss: 0.14555036\n",
      "312 train loss: 0.07130525 valid loss: 0.14877343\n",
      "313 train loss: 0.0663897 valid loss: 0.13017616\n",
      "314 train loss: 0.07449908 valid loss: 0.15922636\n",
      "315 train loss: 0.058537945 valid loss: 0.14216603\n",
      "316 train loss: 0.07954073 valid loss: 0.17383729\n",
      "317 train loss: 0.07199214 valid loss: 0.16435531\n",
      "318 train loss: 0.08296045 valid loss: 0.18625261\n",
      "319 train loss: 0.10262562 valid loss: 0.20150071\n",
      "320 train loss: 0.11022542 valid loss: 0.21630916\n",
      "321 train loss: 0.062452875 valid loss: 0.15055542\n",
      "322 train loss: 0.064084426 valid loss: 0.14090468\n",
      "323 train loss: 0.08246561 valid loss: 0.16623978\n",
      "324 train loss: 0.07194857 valid loss: 0.15399857\n",
      "325 train loss: 0.057824682 valid loss: 0.13302207\n"
     ]
    },
    {
     "name": "stdout",
     "output_type": "stream",
     "text": [
      "326 train loss: 0.07284359 valid loss: 0.15990108\n",
      "327 train loss: 0.06714861 valid loss: 0.15317512\n",
      "328 train loss: 0.04492997 valid loss: 0.105203465\n",
      "329 train loss: 0.083913535 valid loss: 0.18077144\n",
      "330 train loss: 0.108368695 valid loss: 0.2080797\n",
      "331 train loss: 0.06373236 valid loss: 0.13770574\n",
      "332 train loss: 0.05287986 valid loss: 0.1230518\n",
      "333 train loss: 0.08052193 valid loss: 0.15566327\n",
      "334 train loss: 0.083351925 valid loss: 0.15347448\n",
      "335 train loss: 0.049644377 valid loss: 0.10097676\n",
      "336 train loss: 0.062701516 valid loss: 0.14302462\n",
      "337 train loss: 0.061826225 valid loss: 0.1155529\n",
      "338 train loss: 0.08367665 valid loss: 0.17244792\n",
      "339 train loss: 0.08654279 valid loss: 0.17759798\n",
      "340 train loss: 0.12256441 valid loss: 0.2306593\n",
      "341 train loss: 0.068108484 valid loss: 0.14537828\n",
      "342 train loss: 0.07021926 valid loss: 0.1535722\n",
      "343 train loss: 0.047904238 valid loss: 0.10637684\n",
      "344 train loss: 0.05938802 valid loss: 0.13189231\n",
      "345 train loss: 0.08924043 valid loss: 0.18103608\n",
      "346 train loss: 0.07598698 valid loss: 0.16890709\n",
      "347 train loss: 0.041925218 valid loss: 0.08920116\n",
      "best loss: 0.08920116\n",
      "348 train loss: 0.08673313 valid loss: 0.18651277\n",
      "349 train loss: 0.06908367 valid loss: 0.14713222\n",
      "350 train loss: 0.08535832 valid loss: 0.17500599\n",
      "351 train loss: 0.06700565 valid loss: 0.1572535\n",
      "352 train loss: 0.057412397 valid loss: 0.12624982\n",
      "353 train loss: 0.06773049 valid loss: 0.1470206\n",
      "354 train loss: 0.065656565 valid loss: 0.14612293\n",
      "355 train loss: 0.053048123 valid loss: 0.13208461\n",
      "356 train loss: 0.077123925 valid loss: 0.16478682\n",
      "357 train loss: 0.059261438 valid loss: 0.12888531\n",
      "358 train loss: 0.0767595 valid loss: 0.12956278\n",
      "359 train loss: 0.07639749 valid loss: 0.16182801\n",
      "360 train loss: 0.05217037 valid loss: 0.10855663\n",
      "361 train loss: 0.05641398 valid loss: 0.1273486\n",
      "362 train loss: 0.087157354 valid loss: 0.17382492\n",
      "363 train loss: 0.05293699 valid loss: 0.12709194\n",
      "364 train loss: 0.053402502 valid loss: 0.13020168\n",
      "365 train loss: 0.057991926 valid loss: 0.13731466\n",
      "366 train loss: 0.043327983 valid loss: 0.11411097\n",
      "367 train loss: 0.049543854 valid loss: 0.12652576\n",
      "368 train loss: 0.06052888 valid loss: 0.118282296\n",
      "369 train loss: 0.06202727 valid loss: 0.12532634\n",
      "370 train loss: 0.052551176 valid loss: 0.12600273\n",
      "371 train loss: 0.053909123 valid loss: 0.12778154\n",
      "372 train loss: 0.049286645 valid loss: 0.12379589\n",
      "373 train loss: 0.059592664 valid loss: 0.14392787\n",
      "374 train loss: 0.061926845 valid loss: 0.14496888\n",
      "375 train loss: 0.0486774 valid loss: 0.11938717\n",
      "376 train loss: 0.06253566 valid loss: 0.14083892\n",
      "377 train loss: 0.07735287 valid loss: 0.15682723\n",
      "378 train loss: 0.07902734 valid loss: 0.16121903\n",
      "379 train loss: 0.066017956 valid loss: 0.14266486\n",
      "380 train loss: 0.04721268 valid loss: 0.11091498\n",
      "381 train loss: 0.043335237 valid loss: 0.10623218\n",
      "382 train loss: 0.06187268 valid loss: 0.15179749\n",
      "383 train loss: 0.089821726 valid loss: 0.18777837\n",
      "384 train loss: 0.059553083 valid loss: 0.1311834\n",
      "385 train loss: 0.07015444 valid loss: 0.14926092\n",
      "386 train loss: 0.051031258 valid loss: 0.11469019\n",
      "387 train loss: 0.060051925 valid loss: 0.1367458\n",
      "388 train loss: 0.053255383 valid loss: 0.11713451\n",
      "389 train loss: 0.036657747 valid loss: 0.095929876\n",
      "390 train loss: 0.072479464 valid loss: 0.15435126\n",
      "391 train loss: 0.06984572 valid loss: 0.15382257\n",
      "392 train loss: 0.057722762 valid loss: 0.13797048\n",
      "393 train loss: 0.039196253 valid loss: 0.10465678\n",
      "394 train loss: 0.05572768 valid loss: 0.13301754\n",
      "395 train loss: 0.08536839 valid loss: 0.16269462\n",
      "396 train loss: 0.045640144 valid loss: 0.108044684\n",
      "397 train loss: 0.0628238 valid loss: 0.13838995\n",
      "398 train loss: 0.085437045 valid loss: 0.16123767\n",
      "399 train loss: 0.07689516 valid loss: 0.16679138\n",
      "400 train loss: 0.07519884 valid loss: 0.15098529\n",
      "401 train loss: 0.05502548 valid loss: 0.13160652\n",
      "402 train loss: 0.07279614 valid loss: 0.15867603\n",
      "403 train loss: 0.06263308 valid loss: 0.12385147\n",
      "404 train loss: 0.058712356 valid loss: 0.13430408\n",
      "405 train loss: 0.05682314 valid loss: 0.13679077\n",
      "406 train loss: 0.046372894 valid loss: 0.10294178\n",
      "407 train loss: 0.068385385 valid loss: 0.14620896\n",
      "408 train loss: 0.060425065 valid loss: 0.12187551\n",
      "409 train loss: 0.063524514 valid loss: 0.12847738\n",
      "410 train loss: 0.054733872 valid loss: 0.1205029\n",
      "411 train loss: 0.056580428 valid loss: 0.13285233\n",
      "412 train loss: 0.039162535 valid loss: 0.09723808\n",
      "413 train loss: 0.08467969 valid loss: 0.17017564\n",
      "414 train loss: 0.07076996 valid loss: 0.14512761\n",
      "415 train loss: 0.05774003 valid loss: 0.13222834\n",
      "416 train loss: 0.06064737 valid loss: 0.14684339\n",
      "417 train loss: 0.055719554 valid loss: 0.13574432\n",
      "418 train loss: 0.057106264 valid loss: 0.13817395\n",
      "419 train loss: 0.052934077 valid loss: 0.131427\n",
      "420 train loss: 0.09577095 valid loss: 0.19275667\n",
      "421 train loss: 0.100694716 valid loss: 0.20901185\n",
      "422 train loss: 0.05181076 valid loss: 0.11188062\n",
      "423 train loss: 0.06595631 valid loss: 0.14120032\n",
      "424 train loss: 0.056930114 valid loss: 0.13214552\n",
      "425 train loss: 0.056364838 valid loss: 0.12978083\n",
      "426 train loss: 0.08223438 valid loss: 0.17697315\n",
      "427 train loss: 0.07890616 valid loss: 0.15885536\n",
      "428 train loss: 0.07864354 valid loss: 0.17404522\n",
      "429 train loss: 0.07463768 valid loss: 0.1392921\n",
      "430 train loss: 0.060826473 valid loss: 0.1309989\n",
      "431 train loss: 0.07268836 valid loss: 0.14959148\n",
      "432 train loss: 0.071097836 valid loss: 0.13551287\n",
      "433 train loss: 0.06644308 valid loss: 0.14946769\n",
      "434 train loss: 0.069829315 valid loss: 0.14565036\n",
      "435 train loss: 0.059484612 valid loss: 0.12635718\n",
      "436 train loss: 0.0676856 valid loss: 0.14546669\n",
      "437 train loss: 0.08605822 valid loss: 0.1631732\n",
      "438 train loss: 0.056493778 valid loss: 0.13412191\n",
      "439 train loss: 0.052366182 valid loss: 0.12717578\n",
      "440 train loss: 0.05525085 valid loss: 0.13830633\n",
      "441 train loss: 0.06473465 valid loss: 0.14669226\n",
      "442 train loss: 0.04446004 valid loss: 0.11122115\n",
      "443 train loss: 0.082209535 valid loss: 0.14593641\n",
      "444 train loss: 0.05795757 valid loss: 0.13550282\n",
      "445 train loss: 0.09398428 valid loss: 0.1388895\n",
      "446 train loss: 0.06619197 valid loss: 0.1458537\n",
      "447 train loss: 0.050936386 valid loss: 0.12565805\n",
      "448 train loss: 0.07653638 valid loss: 0.14932603\n",
      "449 train loss: 0.06337871 valid loss: 0.14353381\n",
      "450 train loss: 0.08714517 valid loss: 0.1847853\n",
      "451 train loss: 0.056404054 valid loss: 0.12464402\n",
      "452 train loss: 0.058371846 valid loss: 0.12830739\n",
      "453 train loss: 0.06815339 valid loss: 0.1393263\n",
      "454 train loss: 0.0782883 valid loss: 0.17366542\n",
      "455 train loss: 0.077202804 valid loss: 0.17509384\n",
      "456 train loss: 0.034268644 valid loss: 0.08498476\n",
      "best loss: 0.08498476\n",
      "457 train loss: 0.06589898 valid loss: 0.1551602\n",
      "458 train loss: 0.06147802 valid loss: 0.1366812\n",
      "459 train loss: 0.05673044 valid loss: 0.13541351\n",
      "460 train loss: 0.060684893 valid loss: 0.15114136\n",
      "461 train loss: 0.06906468 valid loss: 0.14315246\n",
      "462 train loss: 0.08722838 valid loss: 0.16664508\n",
      "463 train loss: 0.0677835 valid loss: 0.14146978\n",
      "464 train loss: 0.08869484 valid loss: 0.18858908\n",
      "465 train loss: 0.052894484 valid loss: 0.11784009\n",
      "466 train loss: 0.05114331 valid loss: 0.11928334\n",
      "467 train loss: 0.050398383 valid loss: 0.11380995\n",
      "468 train loss: 0.04844616 valid loss: 0.116055\n",
      "469 train loss: 0.074552685 valid loss: 0.141406\n",
      "470 train loss: 0.060952395 valid loss: 0.12712844\n",
      "471 train loss: 0.035745002 valid loss: 0.09235727\n",
      "472 train loss: 0.0688556 valid loss: 0.15183207\n",
      "473 train loss: 0.063792296 valid loss: 0.15069325\n",
      "474 train loss: 0.050410017 valid loss: 0.12574206\n",
      "475 train loss: 0.058121994 valid loss: 0.1234742\n",
      "476 train loss: 0.04302225 valid loss: 0.098925374\n",
      "477 train loss: 0.06158123 valid loss: 0.13452257\n",
      "478 train loss: 0.058789175 valid loss: 0.13858415\n",
      "479 train loss: 0.044472415 valid loss: 0.10888078\n",
      "480 train loss: 0.04021423 valid loss: 0.10446125\n",
      "481 train loss: 0.051115673 valid loss: 0.109667815\n",
      "482 train loss: 0.07218087 valid loss: 0.158619\n",
      "483 train loss: 0.058992576 valid loss: 0.1318799\n",
      "484 train loss: 0.06554386 valid loss: 0.13542397\n",
      "485 train loss: 0.068722285 valid loss: 0.14234981\n",
      "486 train loss: 0.040151317 valid loss: 0.09986092\n",
      "487 train loss: 0.067747556 valid loss: 0.11033105\n",
      "488 train loss: 0.10217133 valid loss: 0.16835557\n"
     ]
    },
    {
     "name": "stdout",
     "output_type": "stream",
     "text": [
      "489 train loss: 0.06261365 valid loss: 0.14192437\n",
      "490 train loss: 0.07304615 valid loss: 0.15050809\n",
      "491 train loss: 0.07229284 valid loss: 0.16671717\n",
      "492 train loss: 0.07865243 valid loss: 0.15918247\n",
      "493 train loss: 0.07706878 valid loss: 0.16932021\n",
      "494 train loss: 0.056606814 valid loss: 0.13021933\n",
      "495 train loss: 0.04401672 valid loss: 0.1099004\n",
      "496 train loss: 0.06894727 valid loss: 0.14598177\n",
      "497 train loss: 0.072124936 valid loss: 0.1581885\n",
      "498 train loss: 0.07286711 valid loss: 0.16198154\n",
      "499 train loss: 0.098950274 valid loss: 0.20306984\n",
      "500 train loss: 0.05205663 valid loss: 0.12443802\n",
      "501 train loss: 0.11606715 valid loss: 0.21641633\n",
      "502 train loss: 0.059174094 valid loss: 0.12929986\n",
      "503 train loss: 0.05277719 valid loss: 0.12630604\n",
      "504 train loss: 0.04851133 valid loss: 0.111059405\n",
      "505 train loss: 0.061198328 valid loss: 0.14367862\n",
      "506 train loss: 0.049592406 valid loss: 0.12416607\n",
      "507 train loss: 0.057005286 valid loss: 0.13656664\n",
      "508 train loss: 0.06394102 valid loss: 0.13959491\n",
      "509 train loss: 0.05538825 valid loss: 0.11992659\n",
      "510 train loss: 0.050860453 valid loss: 0.11638891\n",
      "511 train loss: 0.05270328 valid loss: 0.12114306\n",
      "512 train loss: 0.06445987 valid loss: 0.14195748\n",
      "513 train loss: 0.0822677 valid loss: 0.1314769\n",
      "514 train loss: 0.0549465 valid loss: 0.11512331\n",
      "515 train loss: 0.062469203 valid loss: 0.138108\n",
      "516 train loss: 0.07853737 valid loss: 0.113094255\n",
      "517 train loss: 0.048543062 valid loss: 0.112543955\n",
      "518 train loss: 0.07845499 valid loss: 0.14567536\n",
      "519 train loss: 0.065421596 valid loss: 0.135431\n",
      "520 train loss: 0.072036445 valid loss: 0.14250888\n",
      "521 train loss: 0.060710426 valid loss: 0.13046998\n",
      "522 train loss: 0.088203005 valid loss: 0.1849567\n",
      "523 train loss: 0.09154151 valid loss: 0.18398656\n",
      "524 train loss: 0.045466863 valid loss: 0.10052332\n",
      "525 train loss: 0.04265204 valid loss: 0.10617196\n",
      "526 train loss: 0.06608052 valid loss: 0.123600446\n",
      "527 train loss: 0.05420094 valid loss: 0.118029475\n",
      "528 train loss: 0.06782772 valid loss: 0.14982325\n",
      "529 train loss: 0.06967248 valid loss: 0.15611818\n",
      "530 train loss: 0.058601845 valid loss: 0.116958834\n",
      "531 train loss: 0.055088867 valid loss: 0.12907875\n",
      "532 train loss: 0.064096786 valid loss: 0.13711992\n",
      "533 train loss: 0.05439818 valid loss: 0.12228058\n",
      "534 train loss: 0.058222797 valid loss: 0.13711199\n",
      "535 train loss: 0.042409394 valid loss: 0.11406943\n",
      "536 train loss: 0.04753819 valid loss: 0.10739205\n",
      "537 train loss: 0.05163151 valid loss: 0.10577625\n",
      "538 train loss: 0.085847765 valid loss: 0.161713\n",
      "539 train loss: 0.060955547 valid loss: 0.133247\n",
      "540 train loss: 0.076891534 valid loss: 0.1325068\n",
      "541 train loss: 0.060114276 valid loss: 0.12693207\n",
      "542 train loss: 0.06747748 valid loss: 0.1458132\n",
      "543 train loss: 0.0627021 valid loss: 0.1378324\n",
      "544 train loss: 0.06305077 valid loss: 0.13862523\n",
      "545 train loss: 0.06853555 valid loss: 0.1262495\n",
      "546 train loss: 0.08305491 valid loss: 0.1707098\n",
      "547 train loss: 0.083186515 valid loss: 0.16351566\n",
      "548 train loss: 0.061357025 valid loss: 0.13325194\n",
      "549 train loss: 0.075754635 valid loss: 0.15365124\n",
      "550 train loss: 0.08172571 valid loss: 0.16747414\n",
      "551 train loss: 0.07104115 valid loss: 0.14492388\n",
      "552 train loss: 0.07556563 valid loss: 0.15655175\n",
      "553 train loss: 0.050867353 valid loss: 0.11751559\n",
      "554 train loss: 0.067914106 valid loss: 0.15877637\n",
      "555 train loss: 0.07671576 valid loss: 0.1637674\n",
      "556 train loss: 0.049869142 valid loss: 0.1213712\n",
      "557 train loss: 0.05948218 valid loss: 0.1334778\n",
      "558 train loss: 0.039638694 valid loss: 0.10366495\n",
      "559 train loss: 0.066246584 valid loss: 0.15353042\n",
      "560 train loss: 0.055569217 valid loss: 0.12372706\n",
      "561 train loss: 0.039850235 valid loss: 0.11440766\n",
      "562 train loss: 0.061075624 valid loss: 0.14422053\n",
      "563 train loss: 0.050941717 valid loss: 0.12138699\n",
      "564 train loss: 0.06115434 valid loss: 0.1197182\n",
      "565 train loss: 0.04980756 valid loss: 0.10787726\n",
      "566 train loss: 0.079770364 valid loss: 0.1442993\n",
      "567 train loss: 0.069426805 valid loss: 0.15805343\n",
      "568 train loss: 0.0639879 valid loss: 0.14377789\n",
      "569 train loss: 0.047677387 valid loss: 0.10857977\n",
      "570 train loss: 0.056323208 valid loss: 0.12625273\n",
      "571 train loss: 0.09117557 valid loss: 0.1658526\n",
      "572 train loss: 0.06552347 valid loss: 0.14678049\n",
      "573 train loss: 0.060889024 valid loss: 0.12590943\n",
      "574 train loss: 0.06599955 valid loss: 0.12001803\n",
      "575 train loss: 0.0669649 valid loss: 0.15099463\n",
      "576 train loss: 0.068092965 valid loss: 0.15463795\n",
      "577 train loss: 0.068929285 valid loss: 0.15454052\n",
      "578 train loss: 0.06719131 valid loss: 0.15807107\n",
      "579 train loss: 0.03997744 valid loss: 0.08928185\n",
      "580 train loss: 0.06974403 valid loss: 0.12900738\n",
      "581 train loss: 0.0550017 valid loss: 0.12456573\n",
      "582 train loss: 0.08586637 valid loss: 0.1793235\n",
      "583 train loss: 0.048257854 valid loss: 0.12910382\n",
      "584 train loss: 0.06096151 valid loss: 0.1368124\n",
      "585 train loss: 0.06810128 valid loss: 0.13575876\n",
      "586 train loss: 0.069893494 valid loss: 0.16132738\n",
      "587 train loss: 0.057166625 valid loss: 0.1363117\n",
      "588 train loss: 0.061707113 valid loss: 0.14436287\n",
      "589 train loss: 0.06603715 valid loss: 0.1476521\n",
      "590 train loss: 0.06721599 valid loss: 0.15566523\n",
      "591 train loss: 0.057776503 valid loss: 0.14050527\n",
      "592 train loss: 0.06299833 valid loss: 0.124073505\n",
      "593 train loss: 0.05450947 valid loss: 0.12987289\n",
      "594 train loss: 0.06211387 valid loss: 0.13833497\n",
      "595 train loss: 0.07728417 valid loss: 0.15763642\n",
      "596 train loss: 0.042232703 valid loss: 0.10123399\n",
      "597 train loss: 0.059132706 valid loss: 0.13496257\n",
      "598 train loss: 0.070386425 valid loss: 0.13684505\n",
      "599 train loss: 0.060500685 valid loss: 0.13561966\n",
      "600 train loss: 0.043888416 valid loss: 0.10764758\n",
      "601 train loss: 0.03775118 valid loss: 0.09774838\n",
      "602 train loss: 0.05088995 valid loss: 0.12114937\n",
      "603 train loss: 0.062821746 valid loss: 0.12961946\n",
      "604 train loss: 0.041277014 valid loss: 0.09118614\n",
      "605 train loss: 0.081462935 valid loss: 0.15451966\n",
      "606 train loss: 0.06345114 valid loss: 0.13995463\n",
      "607 train loss: 0.041531663 valid loss: 0.10475787\n",
      "608 train loss: 0.053532444 valid loss: 0.13045794\n",
      "609 train loss: 0.052462522 valid loss: 0.12207752\n",
      "610 train loss: 0.056859598 valid loss: 0.13802294\n",
      "611 train loss: 0.06258784 valid loss: 0.1352735\n",
      "612 train loss: 0.04770836 valid loss: 0.11669878\n",
      "613 train loss: 0.044980757 valid loss: 0.10059735\n",
      "614 train loss: 0.060063247 valid loss: 0.11406931\n",
      "615 train loss: 0.060735114 valid loss: 0.12783293\n",
      "616 train loss: 0.058660164 valid loss: 0.1347172\n",
      "617 train loss: 0.05867669 valid loss: 0.12661742\n",
      "618 train loss: 0.08462757 valid loss: 0.18247107\n",
      "619 train loss: 0.067892954 valid loss: 0.14580618\n",
      "620 train loss: 0.04087391 valid loss: 0.09296457\n",
      "621 train loss: 0.06442429 valid loss: 0.14640665\n",
      "622 train loss: 0.0539923 valid loss: 0.11294638\n",
      "623 train loss: 0.05362816 valid loss: 0.13012572\n",
      "624 train loss: 0.047102623 valid loss: 0.11153553\n",
      "625 train loss: 0.043452807 valid loss: 0.10563715\n",
      "626 train loss: 0.05414648 valid loss: 0.11797651\n",
      "627 train loss: 0.049020078 valid loss: 0.12295245\n",
      "628 train loss: 0.04664231 valid loss: 0.11895232\n",
      "629 train loss: 0.0501557 valid loss: 0.11469788\n",
      "630 train loss: 0.05902729 valid loss: 0.14200065\n",
      "631 train loss: 0.058561727 valid loss: 0.14254992\n",
      "632 train loss: 0.046300825 valid loss: 0.1111802\n",
      "633 train loss: 0.08501521 valid loss: 0.17481193\n",
      "634 train loss: 0.098177664 valid loss: 0.20614894\n",
      "635 train loss: 0.07884923 valid loss: 0.1690608\n",
      "636 train loss: 0.06586542 valid loss: 0.12489341\n",
      "637 train loss: 0.052322827 valid loss: 0.13030054\n",
      "638 train loss: 0.047836322 valid loss: 0.11373114\n",
      "639 train loss: 0.071344584 valid loss: 0.1628955\n",
      "640 train loss: 0.05876426 valid loss: 0.12863995\n",
      "641 train loss: 0.042362906 valid loss: 0.104010366\n",
      "642 train loss: 0.04088515 valid loss: 0.1026789\n",
      "643 train loss: 0.054662485 valid loss: 0.13097276\n",
      "644 train loss: 0.064903215 valid loss: 0.14468518\n",
      "645 train loss: 0.07227443 valid loss: 0.16406345\n",
      "646 train loss: 0.06873612 valid loss: 0.13586663\n",
      "647 train loss: 0.059011616 valid loss: 0.117414646\n",
      "648 train loss: 0.05936479 valid loss: 0.11894502\n",
      "649 train loss: 0.07555583 valid loss: 0.13664138\n",
      "650 train loss: 0.05930738 valid loss: 0.12843522\n",
      "651 train loss: 0.07531727 valid loss: 0.1371556\n"
     ]
    },
    {
     "name": "stdout",
     "output_type": "stream",
     "text": [
      "652 train loss: 0.087236404 valid loss: 0.17650416\n",
      "653 train loss: 0.07712004 valid loss: 0.1595043\n",
      "654 train loss: 0.06668608 valid loss: 0.118746586\n",
      "655 train loss: 0.06098764 valid loss: 0.104002886\n",
      "656 train loss: 0.07089471 valid loss: 0.15894371\n",
      "657 train loss: 0.101669036 valid loss: 0.16335958\n",
      "658 train loss: 0.05853749 valid loss: 0.10895176\n",
      "659 train loss: 0.05120207 valid loss: 0.13100158\n",
      "660 train loss: 0.050069064 valid loss: 0.12834093\n",
      "661 train loss: 0.05725367 valid loss: 0.14042039\n",
      "662 train loss: 0.04756828 valid loss: 0.113790005\n",
      "663 train loss: 0.052489985 valid loss: 0.124173425\n",
      "664 train loss: 0.04073555 valid loss: 0.10842544\n",
      "665 train loss: 0.049712013 valid loss: 0.11629865\n",
      "666 train loss: 0.05433684 valid loss: 0.1301234\n",
      "667 train loss: 0.040898018 valid loss: 0.11058586\n",
      "668 train loss: 0.051751066 valid loss: 0.1324483\n",
      "669 train loss: 0.061373916 valid loss: 0.13888742\n",
      "670 train loss: 0.06313921 valid loss: 0.1169859\n",
      "671 train loss: 0.070484884 valid loss: 0.13865572\n",
      "672 train loss: 0.048312806 valid loss: 0.1269963\n",
      "673 train loss: 0.042037606 valid loss: 0.11319622\n",
      "674 train loss: 0.06685444 valid loss: 0.15134467\n",
      "675 train loss: 0.050721113 valid loss: 0.12845868\n",
      "676 train loss: 0.058054157 valid loss: 0.14526877\n",
      "677 train loss: 0.036417138 valid loss: 0.108507544\n",
      "678 train loss: 0.060422387 valid loss: 0.1486968\n",
      "679 train loss: 0.046795372 valid loss: 0.11233513\n",
      "680 train loss: 0.049785167 valid loss: 0.10697028\n",
      "681 train loss: 0.05586589 valid loss: 0.12603927\n",
      "682 train loss: 0.04904153 valid loss: 0.12059549\n",
      "683 train loss: 0.03942878 valid loss: 0.09906614\n",
      "684 train loss: 0.042920683 valid loss: 0.11739007\n",
      "685 train loss: 0.046727527 valid loss: 0.10398895\n",
      "686 train loss: 0.060973946 valid loss: 0.13022166\n",
      "687 train loss: 0.047784485 valid loss: 0.114442855\n",
      "688 train loss: 0.04720308 valid loss: 0.12116296\n",
      "689 train loss: 0.065250345 valid loss: 0.14550292\n",
      "690 train loss: 0.03611044 valid loss: 0.07694726\n",
      "best loss: 0.07694726\n",
      "691 train loss: 0.06862553 valid loss: 0.14481622\n",
      "692 train loss: 0.061471324 valid loss: 0.12889406\n",
      "693 train loss: 0.056977052 valid loss: 0.13246225\n",
      "694 train loss: 0.048077993 valid loss: 0.12058753\n",
      "695 train loss: 0.048282806 valid loss: 0.115063734\n",
      "696 train loss: 0.045618705 valid loss: 0.112275384\n",
      "697 train loss: 0.043063782 valid loss: 0.10249096\n",
      "698 train loss: 0.04025299 valid loss: 0.09919244\n",
      "699 train loss: 0.042548053 valid loss: 0.1006297\n",
      "700 train loss: 0.04564507 valid loss: 0.10679569\n",
      "701 train loss: 0.05460487 valid loss: 0.13120425\n",
      "702 train loss: 0.036316775 valid loss: 0.09548933\n",
      "703 train loss: 0.04879254 valid loss: 0.12105663\n",
      "704 train loss: 0.055281557 valid loss: 0.115476884\n",
      "705 train loss: 0.05757007 valid loss: 0.1303265\n",
      "706 train loss: 0.046074063 valid loss: 0.1148034\n",
      "707 train loss: 0.06689692 valid loss: 0.14216816\n",
      "708 train loss: 0.058115184 valid loss: 0.1365328\n",
      "709 train loss: 0.049044438 valid loss: 0.12465067\n",
      "710 train loss: 0.042827833 valid loss: 0.10501725\n",
      "711 train loss: 0.048688147 valid loss: 0.11006659\n",
      "712 train loss: 0.051118545 valid loss: 0.11250106\n",
      "713 train loss: 0.05272287 valid loss: 0.12704079\n",
      "714 train loss: 0.036213223 valid loss: 0.10131864\n",
      "715 train loss: 0.046618596 valid loss: 0.10865274\n",
      "716 train loss: 0.053726126 valid loss: 0.13197659\n",
      "717 train loss: 0.040383995 valid loss: 0.10984339\n",
      "718 train loss: 0.04715943 valid loss: 0.121141404\n",
      "719 train loss: 0.049103472 valid loss: 0.118981704\n",
      "720 train loss: 0.06413657 valid loss: 0.15155756\n",
      "721 train loss: 0.053962898 valid loss: 0.11818455\n",
      "722 train loss: 0.054693416 valid loss: 0.1287992\n",
      "723 train loss: 0.0774582 valid loss: 0.1520083\n",
      "724 train loss: 0.071630254 valid loss: 0.16134252\n",
      "725 train loss: 0.044646233 valid loss: 0.114567086\n",
      "726 train loss: 0.05538579 valid loss: 0.11890484\n",
      "727 train loss: 0.05264275 valid loss: 0.113653295\n",
      "728 train loss: 0.059979524 valid loss: 0.13510375\n",
      "729 train loss: 0.057459872 valid loss: 0.13811356\n",
      "730 train loss: 0.05299528 valid loss: 0.13271838\n",
      "731 train loss: 0.053055592 valid loss: 0.13671699\n",
      "732 train loss: 0.06367773 valid loss: 0.14154881\n",
      "733 train loss: 0.05535771 valid loss: 0.13006529\n",
      "734 train loss: 0.05613878 valid loss: 0.13145363\n",
      "735 train loss: 0.04834332 valid loss: 0.11431172\n",
      "736 train loss: 0.04373707 valid loss: 0.10720728\n",
      "737 train loss: 0.055386607 valid loss: 0.12722175\n",
      "738 train loss: 0.05513696 valid loss: 0.12794787\n",
      "739 train loss: 0.06357162 valid loss: 0.12081281\n",
      "740 train loss: 0.06198971 valid loss: 0.13662551\n",
      "741 train loss: 0.04861544 valid loss: 0.114769675\n",
      "742 train loss: 0.051150605 valid loss: 0.13412932\n",
      "743 train loss: 0.049106333 valid loss: 0.118641056\n",
      "744 train loss: 0.0396433 valid loss: 0.10515976\n",
      "745 train loss: 0.03599239 valid loss: 0.09935482\n",
      "746 train loss: 0.05338585 valid loss: 0.13341108\n",
      "747 train loss: 0.041247323 valid loss: 0.10651573\n",
      "748 train loss: 0.04776864 valid loss: 0.12328527\n",
      "749 train loss: 0.038232762 valid loss: 0.1106851\n",
      "750 train loss: 0.08594613 valid loss: 0.17060636\n",
      "751 train loss: 0.052580465 valid loss: 0.13910651\n",
      "752 train loss: 0.050263524 valid loss: 0.11393029\n",
      "753 train loss: 0.050027248 valid loss: 0.11637344\n",
      "754 train loss: 0.08951351 valid loss: 0.17006017\n",
      "755 train loss: 0.05654935 valid loss: 0.13963963\n",
      "756 train loss: 0.044417053 valid loss: 0.09765928\n",
      "757 train loss: 0.06726203 valid loss: 0.1643507\n",
      "758 train loss: 0.060635053 valid loss: 0.14421049\n",
      "759 train loss: 0.051278263 valid loss: 0.12149538\n",
      "760 train loss: 0.053010955 valid loss: 0.12211312\n",
      "761 train loss: 0.06263651 valid loss: 0.12314149\n",
      "762 train loss: 0.06063674 valid loss: 0.13803956\n",
      "763 train loss: 0.06367851 valid loss: 0.14088187\n",
      "764 train loss: 0.056366593 valid loss: 0.1175356\n",
      "765 train loss: 0.050715156 valid loss: 0.12740737\n",
      "766 train loss: 0.036052234 valid loss: 0.08680496\n",
      "767 train loss: 0.0557428 valid loss: 0.12432054\n",
      "768 train loss: 0.08330626 valid loss: 0.14477505\n",
      "769 train loss: 0.055894546 valid loss: 0.122811474\n",
      "770 train loss: 0.055905845 valid loss: 0.13541941\n",
      "771 train loss: 0.05082694 valid loss: 0.1250326\n",
      "772 train loss: 0.0661271 valid loss: 0.14994127\n",
      "773 train loss: 0.08340545 valid loss: 0.18122762\n",
      "774 train loss: 0.07273518 valid loss: 0.16373852\n",
      "775 train loss: 0.07362403 valid loss: 0.1590986\n",
      "776 train loss: 0.04845983 valid loss: 0.116804406\n",
      "777 train loss: 0.037758242 valid loss: 0.10282751\n",
      "778 train loss: 0.06340138 valid loss: 0.14923272\n",
      "779 train loss: 0.04305843 valid loss: 0.10980396\n",
      "780 train loss: 0.03550903 valid loss: 0.09997731\n",
      "781 train loss: 0.056012243 valid loss: 0.12756915\n",
      "782 train loss: 0.040653225 valid loss: 0.1005949\n",
      "783 train loss: 0.050768286 valid loss: 0.115734816\n",
      "784 train loss: 0.039302897 valid loss: 0.10475379\n",
      "785 train loss: 0.048200656 valid loss: 0.11939234\n",
      "786 train loss: 0.040903784 valid loss: 0.09936758\n",
      "787 train loss: 0.109051086 valid loss: 0.19488013\n",
      "788 train loss: 0.03589914 valid loss: 0.027214926\n",
      "best loss: 0.027214926\n",
      "789 train loss: 0.07580892 valid loss: 0.16383684\n",
      "790 train loss: 0.06593682 valid loss: 0.1462369\n",
      "791 train loss: 0.045142177 valid loss: 0.09693464\n",
      "792 train loss: 0.06886827 valid loss: 0.14188708\n",
      "793 train loss: 0.036457866 valid loss: 0.09173087\n",
      "794 train loss: 0.05272368 valid loss: 0.11513213\n",
      "795 train loss: 0.04644847 valid loss: 0.11452973\n",
      "796 train loss: 0.0626256 valid loss: 0.13910013\n",
      "797 train loss: 0.06308728 valid loss: 0.14373037\n",
      "798 train loss: 0.050506685 valid loss: 0.13501367\n",
      "799 train loss: 0.044979822 valid loss: 0.102546886\n",
      "800 train loss: 0.042528406 valid loss: 0.107353486\n",
      "801 train loss: 0.04666273 valid loss: 0.11644052\n",
      "802 train loss: 0.053603545 valid loss: 0.12597571\n",
      "803 train loss: 0.048387676 valid loss: 0.113581955\n",
      "804 train loss: 0.03218668 valid loss: 0.08957843\n",
      "805 train loss: 0.048509307 valid loss: 0.11881295\n",
      "806 train loss: 0.06255681 valid loss: 0.1420638\n",
      "807 train loss: 0.040263057 valid loss: 0.09223106\n",
      "808 train loss: 0.046788722 valid loss: 0.103640325\n",
      "809 train loss: 0.056927603 valid loss: 0.13684466\n",
      "810 train loss: 0.06010165 valid loss: 0.14066216\n",
      "811 train loss: 0.044042345 valid loss: 0.112475246\n",
      "812 train loss: 0.044045877 valid loss: 0.11100816\n",
      "813 train loss: 0.039576773 valid loss: 0.09667795\n"
     ]
    },
    {
     "name": "stdout",
     "output_type": "stream",
     "text": [
      "814 train loss: 0.04021478 valid loss: 0.10128804\n",
      "815 train loss: 0.03520336 valid loss: 0.092866234\n",
      "816 train loss: 0.030441836 valid loss: 0.08301626\n",
      "817 train loss: 0.040472884 valid loss: 0.0802276\n",
      "818 train loss: 0.0496296 valid loss: 0.114426404\n",
      "819 train loss: 0.04979216 valid loss: 0.12507185\n",
      "820 train loss: 0.05058531 valid loss: 0.10751357\n",
      "821 train loss: 0.04827136 valid loss: 0.11864612\n",
      "822 train loss: 0.05034883 valid loss: 0.11840709\n",
      "823 train loss: 0.04242683 valid loss: 0.11053948\n",
      "824 train loss: 0.04437093 valid loss: 0.11601636\n",
      "825 train loss: 0.049262274 valid loss: 0.11863292\n",
      "826 train loss: 0.040471796 valid loss: 0.100042075\n",
      "827 train loss: 0.040880516 valid loss: 0.099856615\n",
      "828 train loss: 0.02653657 valid loss: 0.07216617\n",
      "829 train loss: 0.033844784 valid loss: 0.09513012\n",
      "830 train loss: 0.05733982 valid loss: 0.12097583\n",
      "831 train loss: 0.039828654 valid loss: 0.10462288\n",
      "832 train loss: 0.045151968 valid loss: 0.1141679\n",
      "833 train loss: 0.040787864 valid loss: 0.10723698\n",
      "834 train loss: 0.0445346 valid loss: 0.10819992\n",
      "835 train loss: 0.05894745 valid loss: 0.13327089\n",
      "836 train loss: 0.03564601 valid loss: 0.09268488\n",
      "837 train loss: 0.04225909 valid loss: 0.10963829\n",
      "838 train loss: 0.05497955 valid loss: 0.12156498\n",
      "839 train loss: 0.05423399 valid loss: 0.12159738\n",
      "840 train loss: 0.035754878 valid loss: 0.09065059\n",
      "841 train loss: 0.059992127 valid loss: 0.13415907\n",
      "842 train loss: 0.049055967 valid loss: 0.11692487\n",
      "843 train loss: 0.0375853 valid loss: 0.09182255\n",
      "844 train loss: 0.041011076 valid loss: 0.09135785\n",
      "845 train loss: 0.06173628 valid loss: 0.12924966\n",
      "846 train loss: 0.03885609 valid loss: 0.10137002\n",
      "847 train loss: 0.05134233 valid loss: 0.12241607\n",
      "848 train loss: 0.05007069 valid loss: 0.111088686\n",
      "849 train loss: 0.03968665 valid loss: 0.10430122\n",
      "850 train loss: 0.049453538 valid loss: 0.13190751\n",
      "851 train loss: 0.038097553 valid loss: 0.09799056\n",
      "852 train loss: 0.044551734 valid loss: 0.098973654\n",
      "853 train loss: 0.04239437 valid loss: 0.11150686\n",
      "854 train loss: 0.04735481 valid loss: 0.10320417\n",
      "855 train loss: 0.041124765 valid loss: 0.10884124\n",
      "856 train loss: 0.037120186 valid loss: 0.08696985\n",
      "857 train loss: 0.035931163 valid loss: 0.0932871\n",
      "858 train loss: 0.05742185 valid loss: 0.12550524\n",
      "859 train loss: 0.032633547 valid loss: 0.0908176\n",
      "860 train loss: 0.04327119 valid loss: 0.11275577\n",
      "861 train loss: 0.053194508 valid loss: 0.11744709\n",
      "862 train loss: 0.058806527 valid loss: 0.13880421\n",
      "863 train loss: 0.03441678 valid loss: 0.08663298\n",
      "864 train loss: 0.05325748 valid loss: 0.121341504\n",
      "865 train loss: 0.035145108 valid loss: 0.10200274\n",
      "866 train loss: 0.04160648 valid loss: 0.10667824\n",
      "867 train loss: 0.06983597 valid loss: 0.13111456\n",
      "868 train loss: 0.039578017 valid loss: 0.10537482\n",
      "869 train loss: 0.05374005 valid loss: 0.11839014\n",
      "870 train loss: 0.041702617 valid loss: 0.100125216\n",
      "871 train loss: 0.05412639 valid loss: 0.11496898\n",
      "872 train loss: 0.052787434 valid loss: 0.120588295\n",
      "873 train loss: 0.048851877 valid loss: 0.114971295\n",
      "874 train loss: 0.036913544 valid loss: 0.10035285\n",
      "875 train loss: 0.054730516 valid loss: 0.12559077\n",
      "876 train loss: 0.049214516 valid loss: 0.116688274\n",
      "877 train loss: 0.03486603 valid loss: 0.077070996\n",
      "878 train loss: 0.039645262 valid loss: 0.10505922\n",
      "879 train loss: 0.0680124 valid loss: 0.13953456\n",
      "880 train loss: 0.05545499 valid loss: 0.13197923\n",
      "881 train loss: 0.026928194 valid loss: 0.07593884\n",
      "882 train loss: 0.07098504 valid loss: 0.14847949\n",
      "883 train loss: 0.0587761 valid loss: 0.13982885\n",
      "884 train loss: 0.06087494 valid loss: 0.12732914\n",
      "885 train loss: 0.055637117 valid loss: 0.12069011\n",
      "886 train loss: 0.05842034 valid loss: 0.1365946\n",
      "887 train loss: 0.047866452 valid loss: 0.11838816\n",
      "888 train loss: 0.06886936 valid loss: 0.1381183\n",
      "889 train loss: 0.049820762 valid loss: 0.13131963\n",
      "890 train loss: 0.059205864 valid loss: 0.13061023\n",
      "891 train loss: 0.047326863 valid loss: 0.109619334\n",
      "892 train loss: 0.03864101 valid loss: 0.0920032\n",
      "893 train loss: 0.046060655 valid loss: 0.10079082\n",
      "894 train loss: 0.040864997 valid loss: 0.10546259\n",
      "895 train loss: 0.0475912 valid loss: 0.1072247\n",
      "896 train loss: 0.047285467 valid loss: 0.11573061\n",
      "897 train loss: 0.04372625 valid loss: 0.10658142\n",
      "898 train loss: 0.054653972 valid loss: 0.12833752\n",
      "899 train loss: 0.035192613 valid loss: 0.08656248\n",
      "900 train loss: 0.039268676 valid loss: 0.099339224\n",
      "901 train loss: 0.04321326 valid loss: 0.09770653\n",
      "902 train loss: 0.059776373 valid loss: 0.13462603\n",
      "903 train loss: 0.037416454 valid loss: 0.09802299\n",
      "904 train loss: 0.058252208 valid loss: 0.12581727\n",
      "905 train loss: 0.06087026 valid loss: 0.14650564\n",
      "906 train loss: 0.046457663 valid loss: 0.10403472\n",
      "907 train loss: 0.042034317 valid loss: 0.1068282\n",
      "908 train loss: 0.05534323 valid loss: 0.12141296\n",
      "909 train loss: 0.050090697 valid loss: 0.12435432\n",
      "910 train loss: 0.051620673 valid loss: 0.11737732\n",
      "911 train loss: 0.04514834 valid loss: 0.11056279\n",
      "912 train loss: 0.04977091 valid loss: 0.11706436\n",
      "913 train loss: 0.04293546 valid loss: 0.10429761\n",
      "914 train loss: 0.057486884 valid loss: 0.13853174\n",
      "915 train loss: 0.04374655 valid loss: 0.10800343\n",
      "916 train loss: 0.05867218 valid loss: 0.13703403\n",
      "917 train loss: 0.04482444 valid loss: 0.11300675\n",
      "918 train loss: 0.056214824 valid loss: 0.13276799\n",
      "919 train loss: 0.04706131 valid loss: 0.11291784\n",
      "920 train loss: 0.03677218 valid loss: 0.09373696\n",
      "921 train loss: 0.04533772 valid loss: 0.10893315\n",
      "922 train loss: 0.039897587 valid loss: 0.10066211\n",
      "923 train loss: 0.036209438 valid loss: 0.09223267\n",
      "924 train loss: 0.039223034 valid loss: 0.09667994\n",
      "925 train loss: 0.044996 valid loss: 0.11215463\n",
      "926 train loss: 0.06264541 valid loss: 0.12569156\n",
      "927 train loss: 0.043360695 valid loss: 0.102716945\n",
      "928 train loss: 0.042212766 valid loss: 0.09502961\n",
      "929 train loss: 0.06673981 valid loss: 0.1452036\n",
      "930 train loss: 0.045755807 valid loss: 0.10586841\n",
      "931 train loss: 0.04203933 valid loss: 0.099856585\n",
      "932 train loss: 0.050724164 valid loss: 0.117197484\n",
      "933 train loss: 0.03523386 valid loss: 0.09410397\n",
      "934 train loss: 0.041553024 valid loss: 0.10180158\n",
      "935 train loss: 0.028353224 valid loss: 0.08175536\n",
      "936 train loss: 0.058374073 valid loss: 0.11616764\n",
      "937 train loss: 0.05816513 valid loss: 0.12420757\n",
      "938 train loss: 0.039439686 valid loss: 0.10091087\n",
      "939 train loss: 0.04494856 valid loss: 0.106713556\n",
      "940 train loss: 0.03864194 valid loss: 0.08535708\n",
      "941 train loss: 0.048091244 valid loss: 0.11230099\n",
      "942 train loss: 0.043759756 valid loss: 0.1094534\n",
      "943 train loss: 0.054697063 valid loss: 0.12473888\n",
      "944 train loss: 0.03897301 valid loss: 0.09879081\n",
      "945 train loss: 0.05065642 valid loss: 0.11555915\n",
      "946 train loss: 0.043711025 valid loss: 0.09756155\n",
      "947 train loss: 0.051581535 valid loss: 0.1253655\n",
      "948 train loss: 0.03620897 valid loss: 0.09472568\n",
      "949 train loss: 0.06606287 valid loss: 0.11893737\n",
      "950 train loss: 0.040794164 valid loss: 0.104069225\n",
      "951 train loss: 0.03709852 valid loss: 0.09600511\n",
      "952 train loss: 0.046585053 valid loss: 0.12039571\n",
      "953 train loss: 0.060594186 valid loss: 0.12668559\n",
      "954 train loss: 0.0655073 valid loss: 0.14452049\n",
      "955 train loss: 0.06461688 valid loss: 0.13816965\n",
      "956 train loss: 0.051609755 valid loss: 0.12477368\n",
      "957 train loss: 0.04893407 valid loss: 0.12333356\n",
      "958 train loss: 0.062491335 valid loss: 0.13294245\n",
      "959 train loss: 0.04519394 valid loss: 0.12152058\n",
      "960 train loss: 0.03722898 valid loss: 0.09933135\n",
      "961 train loss: 0.035607185 valid loss: 0.08562097\n",
      "962 train loss: 0.05604099 valid loss: 0.13825025\n",
      "963 train loss: 0.052412294 valid loss: 0.12601152\n",
      "964 train loss: 0.042746473 valid loss: 0.11449947\n",
      "965 train loss: 0.038327385 valid loss: 0.09732307\n",
      "966 train loss: 0.039523546 valid loss: 0.09807396\n",
      "967 train loss: 0.045641456 valid loss: 0.11974722\n",
      "968 train loss: 0.036326274 valid loss: 0.10288922\n",
      "969 train loss: 0.040803235 valid loss: 0.10864037\n",
      "970 train loss: 0.04396558 valid loss: 0.105090626\n",
      "971 train loss: 0.038039234 valid loss: 0.097823955\n",
      "972 train loss: 0.044291783 valid loss: 0.106953755\n",
      "973 train loss: 0.060573645 valid loss: 0.14482787\n",
      "974 train loss: 0.042443816 valid loss: 0.115393095\n",
      "975 train loss: 0.047432218 valid loss: 0.120745085\n",
      "976 train loss: 0.04299464 valid loss: 0.10772399\n"
     ]
    },
    {
     "name": "stdout",
     "output_type": "stream",
     "text": [
      "977 train loss: 0.058674496 valid loss: 0.1337619\n",
      "978 train loss: 0.054562736 valid loss: 0.11803334\n",
      "979 train loss: 0.046741158 valid loss: 0.12044118\n",
      "980 train loss: 0.038861003 valid loss: 0.08717904\n",
      "981 train loss: 0.044051692 valid loss: 0.11008829\n",
      "982 train loss: 0.055222735 valid loss: 0.11542448\n",
      "983 train loss: 0.045341026 valid loss: 0.11216434\n",
      "984 train loss: 0.052420232 valid loss: 0.12437052\n",
      "985 train loss: 0.04994564 valid loss: 0.12314965\n",
      "986 train loss: 0.061301567 valid loss: 0.14135686\n",
      "987 train loss: 0.041372262 valid loss: 0.10910077\n",
      "988 train loss: 0.049839858 valid loss: 0.12062261\n",
      "989 train loss: 0.15317892 valid loss: 0.2799822\n",
      "990 train loss: 0.07813889 valid loss: 0.12974547\n",
      "991 train loss: 0.07681384 valid loss: 0.13131377\n",
      "992 train loss: 0.058578108 valid loss: 0.14798833\n",
      "993 train loss: 0.055033598 valid loss: 0.119539686\n",
      "994 train loss: 0.059206 valid loss: 0.13102113\n",
      "995 train loss: 0.07589193 valid loss: 0.16089897\n",
      "996 train loss: 0.055160705 valid loss: 0.128781\n",
      "997 train loss: 0.058826663 valid loss: 0.12353431\n",
      "998 train loss: 0.06406558 valid loss: 0.13908291\n",
      "999 train loss: 0.070340484 valid loss: 0.13575915\n",
      "1000 train loss: 0.064299814 valid loss: 0.124942884\n",
      "1001 train loss: 0.05386646 valid loss: 0.12328808\n",
      "1002 train loss: 0.04527236 valid loss: 0.11643362\n",
      "1003 train loss: 0.07164973 valid loss: 0.12852001\n",
      "1004 train loss: 0.05693173 valid loss: 0.12545446\n",
      "1005 train loss: 0.070534475 valid loss: 0.12579583\n",
      "1006 train loss: 0.07168648 valid loss: 0.14619234\n",
      "1007 train loss: 0.07485489 valid loss: 0.13354644\n",
      "1008 train loss: 0.038914636 valid loss: 0.09242327\n",
      "1009 train loss: 0.060205817 valid loss: 0.13797943\n",
      "1010 train loss: 0.05573086 valid loss: 0.1327433\n",
      "1011 train loss: 0.06253049 valid loss: 0.13536626\n",
      "1012 train loss: 0.044104684 valid loss: 0.10837386\n",
      "1013 train loss: 0.04045259 valid loss: 0.10417194\n",
      "1014 train loss: 0.049052265 valid loss: 0.118387505\n",
      "1015 train loss: 0.047134615 valid loss: 0.10506513\n",
      "1016 train loss: 0.055809226 valid loss: 0.13304688\n",
      "1017 train loss: 0.042512756 valid loss: 0.09448691\n",
      "1018 train loss: 0.07179595 valid loss: 0.12767945\n",
      "1019 train loss: 0.052548327 valid loss: 0.12852813\n",
      "1020 train loss: 0.05572128 valid loss: 0.122409\n",
      "1021 train loss: 0.057399508 valid loss: 0.13461778\n",
      "1022 train loss: 0.037241753 valid loss: 0.08161067\n",
      "1023 train loss: 0.070909105 valid loss: 0.1389022\n",
      "1024 train loss: 0.07689794 valid loss: 0.15539077\n",
      "1025 train loss: 0.06707044 valid loss: 0.13778904\n",
      "1026 train loss: 0.09214865 valid loss: 0.15201008\n",
      "1027 train loss: 0.061992627 valid loss: 0.123971835\n",
      "1028 train loss: 0.05016546 valid loss: 0.12257277\n",
      "1029 train loss: 0.046475347 valid loss: 0.11333117\n",
      "1030 train loss: 0.04572874 valid loss: 0.11906253\n",
      "1031 train loss: 0.046304137 valid loss: 0.108520456\n",
      "1032 train loss: 0.06663248 valid loss: 0.13948697\n",
      "1033 train loss: 0.04626176 valid loss: 0.10969253\n",
      "1034 train loss: 0.045453876 valid loss: 0.10455362\n",
      "1035 train loss: 0.06424312 valid loss: 0.13131133\n",
      "1036 train loss: 0.067786016 valid loss: 0.13317235\n",
      "1037 train loss: 0.056381788 valid loss: 0.13248166\n",
      "1038 train loss: 0.040033426 valid loss: 0.09391544\n",
      "1039 train loss: 0.07055102 valid loss: 0.12837183\n",
      "1040 train loss: 0.056872528 valid loss: 0.13435656\n",
      "1041 train loss: 0.043158364 valid loss: 0.10460619\n",
      "1042 train loss: 0.041661985 valid loss: 0.10052\n",
      "1043 train loss: 0.042736 valid loss: 0.107644126\n",
      "1044 train loss: 0.04456751 valid loss: 0.11324202\n",
      "1045 train loss: 0.04396226 valid loss: 0.09493606\n",
      "1046 train loss: 0.035395283 valid loss: 0.092518516\n",
      "1047 train loss: 0.0447689 valid loss: 0.11829334\n",
      "1048 train loss: 0.051256258 valid loss: 0.12891534\n",
      "1049 train loss: 0.039688077 valid loss: 0.091903165\n",
      "1050 train loss: 0.04082205 valid loss: 0.10102979\n",
      "1051 train loss: 0.060799606 valid loss: 0.13963325\n",
      "1052 train loss: 0.04813033 valid loss: 0.11208206\n",
      "1053 train loss: 0.04064068 valid loss: 0.10203412\n",
      "1054 train loss: 0.04305842 valid loss: 0.09642355\n",
      "1055 train loss: 0.03691356 valid loss: 0.09249632\n",
      "1056 train loss: 0.036103506 valid loss: 0.08102633\n",
      "1057 train loss: 0.054057837 valid loss: 0.11975805\n",
      "1058 train loss: 0.052513853 valid loss: 0.11577722\n",
      "1059 train loss: 0.051658135 valid loss: 0.123274215\n",
      "1060 train loss: 0.050175022 valid loss: 0.12224834\n",
      "1061 train loss: 0.058616005 valid loss: 0.123322524\n",
      "1062 train loss: 0.047798198 valid loss: 0.11973248\n",
      "1063 train loss: 0.035367463 valid loss: 0.09431593\n",
      "1064 train loss: 0.038584735 valid loss: 0.087957464\n",
      "1065 train loss: 0.06903718 valid loss: 0.14337806\n",
      "1066 train loss: 0.045422155 valid loss: 0.10026371\n",
      "1067 train loss: 0.05419553 valid loss: 0.10669383\n",
      "1068 train loss: 0.04696201 valid loss: 0.11139901\n",
      "1069 train loss: 0.05944396 valid loss: 0.13621983\n",
      "1070 train loss: 0.040999327 valid loss: 0.09455855\n",
      "1071 train loss: 0.042534053 valid loss: 0.09025342\n",
      "1072 train loss: 0.04515019 valid loss: 0.11491597\n",
      "1073 train loss: 0.04698184 valid loss: 0.11297893\n",
      "1074 train loss: 0.045436814 valid loss: 0.11504978\n",
      "1075 train loss: 0.057828065 valid loss: 0.12161286\n",
      "1076 train loss: 0.061915047 valid loss: 0.13994727\n",
      "1077 train loss: 0.051055618 valid loss: 0.12069578\n",
      "1078 train loss: 0.0554245 valid loss: 0.12843004\n",
      "1079 train loss: 0.055271395 valid loss: 0.1165944\n",
      "1080 train loss: 0.047938406 valid loss: 0.1176534\n",
      "1081 train loss: 0.055976536 valid loss: 0.13066246\n",
      "1082 train loss: 0.056050323 valid loss: 0.12274988\n",
      "1083 train loss: 0.047079887 valid loss: 0.11547479\n",
      "1084 train loss: 0.03813889 valid loss: 0.09115053\n",
      "1085 train loss: 0.07670945 valid loss: 0.14512995\n",
      "1086 train loss: 0.047725916 valid loss: 0.10719358\n",
      "1087 train loss: 0.062368892 valid loss: 0.13335517\n",
      "1088 train loss: 0.048832342 valid loss: 0.10937785\n",
      "1089 train loss: 0.046493314 valid loss: 0.09693967\n",
      "1090 train loss: 0.055154275 valid loss: 0.11128539\n",
      "1091 train loss: 0.04153906 valid loss: 0.094320804\n",
      "1092 train loss: 0.032635257 valid loss: 0.0860432\n",
      "1093 train loss: 0.04001093 valid loss: 0.10418387\n",
      "1094 train loss: 0.042258233 valid loss: 0.10571916\n",
      "1095 train loss: 0.05357438 valid loss: 0.11974932\n",
      "1096 train loss: 0.08495917 valid loss: 0.14295109\n",
      "1097 train loss: 0.06106698 valid loss: 0.12582761\n",
      "1098 train loss: 0.052766632 valid loss: 0.115938276\n",
      "1099 train loss: 0.03793175 valid loss: 0.09749097\n",
      "1100 train loss: 0.03518569 valid loss: 0.08770365\n",
      "1101 train loss: 0.04261704 valid loss: 0.10644475\n",
      "1102 train loss: 0.039442614 valid loss: 0.09908742\n",
      "1103 train loss: 0.03204052 valid loss: 0.087295055\n",
      "1104 train loss: 0.04005707 valid loss: 0.104346894\n",
      "1105 train loss: 0.046659656 valid loss: 0.112905554\n",
      "1106 train loss: 0.06133568 valid loss: 0.13604654\n",
      "1107 train loss: 0.058053926 valid loss: 0.12597454\n",
      "1108 train loss: 0.04621831 valid loss: 0.11335281\n",
      "1109 train loss: 0.03905045 valid loss: 0.10053099\n",
      "1110 train loss: 0.042955343 valid loss: 0.112639\n",
      "1111 train loss: 0.04632139 valid loss: 0.10733908\n",
      "1112 train loss: 0.051173843 valid loss: 0.126818\n",
      "1113 train loss: 0.038696006 valid loss: 0.10039401\n",
      "1114 train loss: 0.044756044 valid loss: 0.11708807\n",
      "1115 train loss: 0.052927524 valid loss: 0.1258223\n",
      "1116 train loss: 0.04792537 valid loss: 0.11252823\n",
      "1117 train loss: 0.058504723 valid loss: 0.10009036\n",
      "1118 train loss: 0.06607927 valid loss: 0.1509651\n",
      "1119 train loss: 0.06656555 valid loss: 0.1477588\n",
      "1120 train loss: 0.04190521 valid loss: 0.09592357\n",
      "1121 train loss: 0.043018103 valid loss: 0.10043124\n",
      "1122 train loss: 0.042885672 valid loss: 0.09807086\n",
      "1123 train loss: 0.03164251 valid loss: 0.09136891\n",
      "1124 train loss: 0.039602842 valid loss: 0.09889871\n",
      "1125 train loss: 0.041210826 valid loss: 0.1074406\n",
      "1126 train loss: 0.06970823 valid loss: 0.15141635\n",
      "1127 train loss: 0.048726898 valid loss: 0.11446015\n",
      "1128 train loss: 0.044841856 valid loss: 0.107907996\n",
      "1129 train loss: 0.043282963 valid loss: 0.0901408\n",
      "1130 train loss: 0.04996517 valid loss: 0.112169035\n",
      "1131 train loss: 0.041482154 valid loss: 0.109792344\n",
      "1132 train loss: 0.03657358 valid loss: 0.09455895\n",
      "1133 train loss: 0.035676736 valid loss: 0.08295047\n",
      "1134 train loss: 0.04818172 valid loss: 0.11821093\n",
      "1135 train loss: 0.03331052 valid loss: 0.08462325\n",
      "1136 train loss: 0.041958045 valid loss: 0.10320445\n"
     ]
    },
    {
     "name": "stdout",
     "output_type": "stream",
     "text": [
      "1137 train loss: 0.035798613 valid loss: 0.090467155\n",
      "1138 train loss: 0.026702126 valid loss: 0.08307312\n",
      "1139 train loss: 0.050622582 valid loss: 0.10933436\n",
      "1140 train loss: 0.041997094 valid loss: 0.10752477\n",
      "1141 train loss: 0.048740365 valid loss: 0.10587922\n",
      "1142 train loss: 0.04535776 valid loss: 0.10435793\n",
      "1143 train loss: 0.056394555 valid loss: 0.12874763\n",
      "1144 train loss: 0.059416633 valid loss: 0.1092409\n",
      "1145 train loss: 0.058677893 valid loss: 0.08849589\n",
      "1146 train loss: 0.07846644 valid loss: 0.16375093\n",
      "1147 train loss: 0.06706834 valid loss: 0.14654915\n",
      "1148 train loss: 0.03521543 valid loss: 0.08939093\n",
      "1149 train loss: 0.067256905 valid loss: 0.15287828\n",
      "1150 train loss: 0.052796885 valid loss: 0.13167603\n",
      "1151 train loss: 0.05553279 valid loss: 0.12560734\n",
      "1152 train loss: 0.03458336 valid loss: 0.094193436\n",
      "1153 train loss: 0.032489717 valid loss: 0.09235092\n",
      "1154 train loss: 0.024343846 valid loss: 0.07574722\n",
      "1155 train loss: 0.0367928 valid loss: 0.09192409\n",
      "1156 train loss: 0.037809357 valid loss: 0.097971246\n",
      "1157 train loss: 0.05184928 valid loss: 0.11962195\n",
      "1158 train loss: 0.04690401 valid loss: 0.106128395\n",
      "1159 train loss: 0.043164268 valid loss: 0.1100387\n",
      "1160 train loss: 0.035185747 valid loss: 0.09184378\n",
      "1161 train loss: 0.039864272 valid loss: 0.11425999\n",
      "1162 train loss: 0.035644237 valid loss: 0.094465084\n",
      "1163 train loss: 0.051792018 valid loss: 0.12856667\n",
      "1164 train loss: 0.046462834 valid loss: 0.10925553\n",
      "1165 train loss: 0.05431287 valid loss: 0.12881193\n",
      "1166 train loss: 0.050450236 valid loss: 0.11810103\n",
      "1167 train loss: 0.07332635 valid loss: 0.13972399\n",
      "1168 train loss: 0.075526 valid loss: 0.12761657\n",
      "1169 train loss: 0.05469848 valid loss: 0.12485225\n",
      "1170 train loss: 0.04135889 valid loss: 0.10264886\n",
      "1171 train loss: 0.03944606 valid loss: 0.09449881\n",
      "1172 train loss: 0.045521177 valid loss: 0.10676152\n",
      "1173 train loss: 0.04368373 valid loss: 0.10134949\n",
      "1174 train loss: 0.041615088 valid loss: 0.109032586\n",
      "1175 train loss: 0.036086224 valid loss: 0.09963538\n",
      "1176 train loss: 0.043626454 valid loss: 0.10926642\n",
      "1177 train loss: 0.05744922 valid loss: 0.11766154\n",
      "1178 train loss: 0.05897534 valid loss: 0.11426083\n",
      "1179 train loss: 0.045850605 valid loss: 0.11338015\n",
      "1180 train loss: 0.053574696 valid loss: 0.124468826\n",
      "1181 train loss: 0.05045095 valid loss: 0.114191405\n",
      "1182 train loss: 0.072535284 valid loss: 0.14529438\n",
      "1183 train loss: 0.040358245 valid loss: 0.09805098\n",
      "1184 train loss: 0.042454246 valid loss: 0.09723699\n",
      "1185 train loss: 0.05491619 valid loss: 0.12731859\n",
      "1186 train loss: 0.05914358 valid loss: 0.13230753\n",
      "1187 train loss: 0.054001283 valid loss: 0.12741932\n",
      "1188 train loss: 0.045815576 valid loss: 0.09616321\n",
      "1189 train loss: 0.048892718 valid loss: 0.102958865\n",
      "Early stopping\n"
     ]
    }
   ],
   "source": [
    "with tf.Session() as sess:\n",
    "    if os.path.isfile(checkpoint_epoch_path):\n",
    "        # if the checkpoint file exists, restore the model and load the epoch number\n",
    "        with open(checkpoint_epoch_path, \"rb\") as f:\n",
    "            start_epoch = int(f.read())\n",
    "        print(\"Training was interrupted. Continuing at epoch\", start_epoch)\n",
    "        saver.restore(sess, checkpoint_path)\n",
    "    else:\n",
    "        start_epoch = 0\n",
    "        sess.run(init)\n",
    "\n",
    "    for epoch in range(start_epoch, n_epochs):\n",
    "        for X_batch, y_batch in shuffle_batch(X_train, y_train, n_batches):\n",
    "            summary, _ = sess.run([merged, training_op],\n",
    "                                  feed_dict={X_node: X_batch, y_node: y_batch})\n",
    "\n",
    "        train_summary, _ = sess.run([merged, training_op],feed_dict={X_node: X_train, y_node: y_train})\n",
    "        test_summary, _ =sess.run([merged, training_op],feed_dict={X_node: X_test, y_node: y_test})\n",
    "        validation_summary, _ = sess.run([merged, training_op], feed_dict={X_node: X_val, y_node: y_val})\n",
    "\n",
    "        train_writer.add_summary(train_summary, epoch)\n",
    "        test_writer.add_summary(test_summary, epoch)\n",
    "        valid_writer.add_summary(validation_summary,epoch)\n",
    "\n",
    "        loss_train = mse.eval(feed_dict={X_node: X_train, y_node: y_train})\n",
    "        loss_val = mse.eval(feed_dict={X_node: X_val, y_node: y_val})\n",
    "        print(epoch, \"train loss:\", loss_train, \"valid loss:\", loss_val)\n",
    "\n",
    "        iteration_skip = 10\n",
    "        if epoch % iteration_skip == 0:\n",
    "            saver.save(sess, checkpoint_path)\n",
    "            with open(checkpoint_epoch_path, \"wb\") as f:\n",
    "                f.write(b\"%d\" % (epoch + 1))\n",
    "\n",
    "        if loss_val < best_loss:\n",
    "            saver.save(sess, final_model_path)\n",
    "            best_loss = loss_val\n",
    "            print(\"best loss:\", best_loss)\n",
    "            epochs_without_progress = 0\n",
    "        else:\n",
    "            epochs_without_progress += 1\n",
    "            if epochs_without_progress > max_epochs_without_progress:\n",
    "                print(\"Early stopping\")\n",
    "                break\n",
    "\n",
    "\n",
    "train_writer.close()\n",
    "test_writer.close()\n",
    "valid_writer.close()"
   ]
  },
  {
   "cell_type": "code",
   "execution_count": 31,
   "metadata": {},
   "outputs": [],
   "source": [
    "os.remove(checkpoint_epoch_path)"
   ]
  },
  {
   "cell_type": "markdown",
   "metadata": {},
   "source": [
    "# Predictions"
   ]
  },
  {
   "cell_type": "code",
   "execution_count": 32,
   "metadata": {},
   "outputs": [
    {
     "name": "stderr",
     "output_type": "stream",
     "text": [
      "W0820 15:21:49.747424 24028 deprecation.py:323] From C:\\ProgramData\\Anaconda3\\lib\\site-packages\\tensorflow\\python\\training\\saver.py:1276: checkpoint_exists (from tensorflow.python.training.checkpoint_management) is deprecated and will be removed in a future version.\n",
      "Instructions for updating:\n",
      "Use standard file APIs to check for files with this prefix.\n"
     ]
    },
    {
     "name": "stdout",
     "output_type": "stream",
     "text": [
      "0.19529067\n"
     ]
    }
   ],
   "source": [
    "with tf.Session() as sess:\n",
    "    saver.restore(sess, final_model_path)\n",
    "    test_mse = mse.eval(feed_dict={X_node: X_test, y_node: y_test})\n",
    "    predictions = y_pred.eval(feed_dict={X_node: X_test, y_node: y_test})\n",
    "    \n",
    "    \n",
    "print(test_mse)"
   ]
  },
  {
   "cell_type": "code",
   "execution_count": 33,
   "metadata": {},
   "outputs": [
    {
     "data": {
      "text/plain": [
       "(468, 1)"
      ]
     },
     "execution_count": 33,
     "metadata": {},
     "output_type": "execute_result"
    }
   ],
   "source": [
    "predictions.shape"
   ]
  },
  {
   "cell_type": "markdown",
   "metadata": {},
   "source": [
    "# Plot  _first (0th)_ output column of _predictions_"
   ]
  },
  {
   "cell_type": "code",
   "execution_count": 34,
   "metadata": {},
   "outputs": [
    {
     "data": {
      "image/png": "[encoded data removed]",
      "text/plain": [
       "<Figure size 576x432 with 2 Axes>"
      ]
     },
     "metadata": {
      "needs_background": "light"
     },
     "output_type": "display_data"
    }
   ],
   "source": [
    "y_new_inverse = y_scaler.inverse_transform(predictions)\n",
    "x_test_inverse = x_scaler.inverse_transform(X_test)\n",
    "\n",
    "fig = plt.figure(figsize=(8,6))\n",
    "\n",
    "ax = fig.add_subplot(111,projection='3d')\n",
    "\n",
    "xs = x_test_inverse[:,0]\n",
    "ys = x_test_inverse[:,1]\n",
    "zs = y_new_inverse[:,0]\n",
    "\n",
    "colmap = cm.ScalarMappable(cmap=cm.get_cmap(\"jet\"))\n",
    "colmap.set_array(zs)\n",
    "\n",
    "yg = ax.scatter(xs, ys, zs, c=cm.get_cmap(\"jet\")(zs/max(zs)), marker='^',alpha=0.15)\n",
    "cb = fig.colorbar(colmap)\n",
    "\n",
    "ax.set_xlabel('N')\n",
    "ax.set_ylabel('Z')\n",
    "ax.set_zlabel('D')\n",
    "\n",
    "\n",
    "plt.show()"
   ]
  },
  {
   "cell_type": "code",
   "execution_count": 35,
   "metadata": {},
   "outputs": [
    {
     "data": {
      "text/plain": [
       "468"
      ]
     },
     "execution_count": 35,
     "metadata": {},
     "output_type": "execute_result"
    }
   ],
   "source": [
    "y_test_o.shape[0]\n"
   ]
  },
  {
   "cell_type": "code",
   "execution_count": 36,
   "metadata": {},
   "outputs": [
    {
     "data": {
      "image/png": "[encoded data removed]",
      "text/plain": [
       "<Figure size 432x288 with 1 Axes>"
      ]
     },
     "metadata": {
      "needs_background": "light"
     },
     "output_type": "display_data"
    }
   ],
   "source": [
    "plt.scatter(range(y_new_inverse.shape[0]), y_new_inverse[:,0], s=5)\n",
    "plt.xlabel('x')\n",
    "plt.ylabel('y')\n",
    "plt.axis('tight')\n",
    "plt.show()"
   ]
  },
  {
   "cell_type": "markdown",
   "metadata": {},
   "source": [
    "# Plot _first 0th_ column of TEST set"
   ]
  },
  {
   "cell_type": "code",
   "execution_count": 37,
   "metadata": {},
   "outputs": [
    {
     "data": {
      "image/png": "[encoded data removed]",
      "text/plain": [
       "<Figure size 432x288 with 1 Axes>"
      ]
     },
     "metadata": {
      "needs_background": "light"
     },
     "output_type": "display_data"
    }
   ],
   "source": [
    "plt.scatter(range(y_test_o.shape[0]), y_test_o, s=5)\n",
    "plt.xlabel('x')\n",
    "plt.ylabel('y')\n",
    "plt.axis('tight')\n",
    "plt.show()"
   ]
  },
  {
   "cell_type": "code",
   "execution_count": null,
   "metadata": {},
   "outputs": [],
   "source": []
  },
  {
   "cell_type": "code",
   "execution_count": 38,
   "metadata": {},
   "outputs": [
    {
     "data": {
      "image/png": "[encoded data removed]",
      "text/plain": [
       "<Figure size 576x432 with 2 Axes>"
      ]
     },
     "metadata": {
      "needs_background": "light"
     },
     "output_type": "display_data"
    }
   ],
   "source": [
    "fig = plt.figure(figsize=(8,6))\n",
    "\n",
    "ax = fig.add_subplot(111,projection='3d')\n",
    "\n",
    "xs = X_test_o[:,0]\n",
    "ys = X_test_o[:,1]\n",
    "zs = y_test_o[:,0]\n",
    "\n",
    "colmap = cm.ScalarMappable(cmap=cm.get_cmap(\"jet\"))\n",
    "colmap.set_array(zs)\n",
    "\n",
    "yg = ax.scatter(xs, ys, zs, c=cm.get_cmap(\"jet\")(zs/max(zs)), marker='^',alpha=0.15)\n",
    "cb = fig.colorbar(colmap)\n",
    "\n",
    "ax.set_xlabel('N')\n",
    "ax.set_ylabel('Z')\n",
    "ax.set_zlabel('D')\n",
    "\n",
    "\n",
    "plt.show()"
   ]
  },
  {
   "cell_type": "markdown",
   "metadata": {},
   "source": [
    "# Calculate _diff_ and _diff_abs_ (no distinction for columns)"
   ]
  },
  {
   "cell_type": "code",
   "execution_count": 39,
   "metadata": {},
   "outputs": [],
   "source": [
    "#diff = np.square((y_new_inverse - y_test_o) / y_test_o)\n",
    "substraction = y_new_inverse - y_test_o\n",
    "diff = np.divide( substraction , y_test_o, out = substraction, where = y_test_o != 0)\n",
    "diff_abs = y_new_inverse - y_test_o"
   ]
  },
  {
   "cell_type": "code",
   "execution_count": 40,
   "metadata": {},
   "outputs": [
    {
     "name": "stdout",
     "output_type": "stream",
     "text": [
      "(468, 1)\n",
      "(468, 1)\n"
     ]
    }
   ],
   "source": [
    "print(diff.shape)\n",
    "print(diff_abs.shape)"
   ]
  },
  {
   "cell_type": "code",
   "execution_count": 41,
   "metadata": {},
   "outputs": [
    {
     "name": "stdout",
     "output_type": "stream",
     "text": [
      "<class 'pandas.core.frame.DataFrame'>\n",
      "RangeIndex: 468 entries, 0 to 467\n",
      "Data columns (total 2 columns):\n",
      "rel diff mass    468 non-null float64\n",
      "abs diff mass    468 non-null float64\n",
      "dtypes: float64(2)\n",
      "memory usage: 7.4 KB\n"
     ]
    }
   ],
   "source": [
    "diff_df = pd.DataFrame(data={\n",
    "                            'rel diff mass': diff[:,0],                            \n",
    "                            'abs diff mass' : diff_abs[:,0]                             \n",
    "                            })\n",
    "diff_df.info()"
   ]
  },
  {
   "cell_type": "markdown",
   "metadata": {},
   "source": [
    "# Replace inf and -inf with Nan, then drop the nans"
   ]
  },
  {
   "cell_type": "code",
   "execution_count": 42,
   "metadata": {},
   "outputs": [],
   "source": [
    "diff_df = diff_df.replace([np.inf, -np.inf], np.nan)"
   ]
  },
  {
   "cell_type": "code",
   "execution_count": 43,
   "metadata": {
    "scrolled": true
   },
   "outputs": [
    {
     "name": "stdout",
     "output_type": "stream",
     "text": [
      "False\n",
      "rel diff mass    0\n",
      "abs diff mass    0\n",
      "dtype: int64\n"
     ]
    }
   ],
   "source": [
    "print(diff_df.isnull().values.any())\n",
    "print(diff_df.isnull().sum())\n",
    "diff_df = diff_df.dropna()"
   ]
  },
  {
   "cell_type": "code",
   "execution_count": 44,
   "metadata": {},
   "outputs": [
    {
     "data": {
      "text/html": [
       "<div>\n",
       "<style scoped>\n",
       "    .dataframe tbody tr th:only-of-type {\n",
       "        vertical-align: middle;\n",
       "    }\n",
       "\n",
       "    .dataframe tbody tr th {\n",
       "        vertical-align: top;\n",
       "    }\n",
       "\n",
       "    .dataframe thead th {\n",
       "        text-align: right;\n",
       "    }\n",
       "</style>\n",
       "<table border=\"1\" class=\"dataframe\">\n",
       "  <thead>\n",
       "    <tr style=\"text-align: right;\">\n",
       "      <th></th>\n",
       "      <th>rel diff mass</th>\n",
       "      <th>abs diff mass</th>\n",
       "    </tr>\n",
       "  </thead>\n",
       "  <tbody>\n",
       "    <tr>\n",
       "      <th>count</th>\n",
       "      <td>468.000000</td>\n",
       "      <td>468.000000</td>\n",
       "    </tr>\n",
       "    <tr>\n",
       "      <th>mean</th>\n",
       "      <td>0.264491</td>\n",
       "      <td>0.037392</td>\n",
       "    </tr>\n",
       "    <tr>\n",
       "      <th>std</th>\n",
       "      <td>3.242786</td>\n",
       "      <td>0.300519</td>\n",
       "    </tr>\n",
       "    <tr>\n",
       "      <th>min</th>\n",
       "      <td>-7.046741</td>\n",
       "      <td>-0.100234</td>\n",
       "    </tr>\n",
       "    <tr>\n",
       "      <th>25%</th>\n",
       "      <td>-0.040393</td>\n",
       "      <td>-0.031956</td>\n",
       "    </tr>\n",
       "    <tr>\n",
       "      <th>50%</th>\n",
       "      <td>0.032672</td>\n",
       "      <td>-0.014069</td>\n",
       "    </tr>\n",
       "    <tr>\n",
       "      <th>75%</th>\n",
       "      <td>0.084792</td>\n",
       "      <td>0.003313</td>\n",
       "    </tr>\n",
       "    <tr>\n",
       "      <th>max</th>\n",
       "      <td>59.947451</td>\n",
       "      <td>5.001624</td>\n",
       "    </tr>\n",
       "  </tbody>\n",
       "</table>\n",
       "</div>"
      ],
      "text/plain": [
       "       rel diff mass  abs diff mass\n",
       "count     468.000000     468.000000\n",
       "mean        0.264491       0.037392\n",
       "std         3.242786       0.300519\n",
       "min        -7.046741      -0.100234\n",
       "25%        -0.040393      -0.031956\n",
       "50%         0.032672      -0.014069\n",
       "75%         0.084792       0.003313\n",
       "max        59.947451       5.001624"
      ]
     },
     "execution_count": 44,
     "metadata": {},
     "output_type": "execute_result"
    }
   ],
   "source": [
    "diff_df.describe()"
   ]
  },
  {
   "cell_type": "markdown",
   "metadata": {},
   "source": [
    "# Plot the relative diff of the first column"
   ]
  },
  {
   "cell_type": "code",
   "execution_count": 45,
   "metadata": {},
   "outputs": [
    {
     "data": {
      "image/png": "[encoded data removed]",
      "text/plain": [
       "<Figure size 576x432 with 2 Axes>"
      ]
     },
     "metadata": {
      "needs_background": "light"
     },
     "output_type": "display_data"
    }
   ],
   "source": [
    "fig = plt.figure(figsize=(8,6))\n",
    "\n",
    "ax = fig.add_subplot(111,projection='3d')\n",
    "\n",
    "xs = x_test_inverse[:,0]\n",
    "ys = x_test_inverse[:,1]\n",
    "zs = diff_df['rel diff mass']# diff[:,0]\n",
    "\n",
    "colmap = cm.ScalarMappable(cmap=cm.get_cmap(\"jet\"))\n",
    "colmap.set_array(zs)\n",
    "\n",
    "yg = ax.scatter(xs, ys, zs, c=cm.get_cmap(\"jet\")(zs/max(zs)), marker='^',alpha=0.5)\n",
    "cb = fig.colorbar(colmap)\n",
    "\n",
    "ax.set_xlabel('N')\n",
    "ax.set_ylabel('Z')\n",
    "ax.set_zlabel('D')\n",
    "\n",
    "\n",
    "plt.show()"
   ]
  },
  {
   "cell_type": "code",
   "execution_count": 46,
   "metadata": {},
   "outputs": [],
   "source": [
    "#%matplotlib notebook"
   ]
  },
  {
   "cell_type": "code",
   "execution_count": 47,
   "metadata": {},
   "outputs": [
    {
     "name": "stdout",
     "output_type": "stream",
     "text": [
      "(468,)\n",
      "468\n"
     ]
    }
   ],
   "source": [
    "vals = diff_df['rel diff mass'].to_numpy()\n",
    "print(vals.shape)\n",
    "print(vals.shape[0])"
   ]
  },
  {
   "cell_type": "code",
   "execution_count": 48,
   "metadata": {
    "scrolled": true
   },
   "outputs": [
    {
     "data": {
      "image/png": "[encoded data removed]",
      "text/plain": [
       "<Figure size 432x288 with 1 Axes>"
      ]
     },
     "metadata": {
      "needs_background": "light"
     },
     "output_type": "display_data"
    }
   ],
   "source": [
    "#plt.scatter(iterate_x, diff[:,0], s=5)\n",
    "\n",
    "plt.scatter(range(vals.shape[0]),vals, s=5)\n",
    "plt.xlabel('x')\n",
    "plt.ylabel('y')\n",
    "plt.axis('tight')\n",
    "plt.show()"
   ]
  },
  {
   "cell_type": "markdown",
   "metadata": {},
   "source": [
    "# Diff ABSOLUTE of first column"
   ]
  },
  {
   "cell_type": "code",
   "execution_count": 49,
   "metadata": {},
   "outputs": [
    {
     "name": "stdout",
     "output_type": "stream",
     "text": [
      "(468,)\n"
     ]
    }
   ],
   "source": [
    "vals = diff_df['abs diff mass'].to_numpy()\n",
    "print(vals.shape)\n",
    "range_x = range(vals.shape[0])"
   ]
  },
  {
   "cell_type": "code",
   "execution_count": 50,
   "metadata": {},
   "outputs": [
    {
     "data": {
      "image/png": "[encoded data removed]",
      "text/plain": [
       "<Figure size 432x288 with 1 Axes>"
      ]
     },
     "metadata": {
      "needs_background": "light"
     },
     "output_type": "display_data"
    }
   ],
   "source": [
    "plt.scatter(range_x,vals, s=5)\n",
    "plt.xlabel('x')\n",
    "plt.ylabel('y')\n",
    "plt.axis('tight')\n",
    "plt.show()"
   ]
  },
  {
   "cell_type": "code",
   "execution_count": null,
   "metadata": {},
   "outputs": [],
   "source": []
  },
  {
   "cell_type": "code",
   "execution_count": null,
   "metadata": {},
   "outputs": [],
   "source": []
  },
  {
   "cell_type": "code",
   "execution_count": null,
   "metadata": {},
   "outputs": [],
   "source": []
  }
 ],
 "metadata": {
  "kernelspec": {
   "display_name": "Python 3",
   "language": "python",
   "name": "python3"
  },
  "language_info": {
   "codemirror_mode": {
    "name": "ipython",
    "version": 3
   },
   "file_extension": ".py",
   "mimetype": "text/x-python",
   "name": "python",
   "nbconvert_exporter": "python",
   "pygments_lexer": "ipython3",
   "version": "3.7.3"
  }
 },
 "nbformat": 4,
 "nbformat_minor": 2
}
