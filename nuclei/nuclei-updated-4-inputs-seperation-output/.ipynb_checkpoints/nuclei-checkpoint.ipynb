{
 "cells": [
  {
   "cell_type": "markdown",
   "metadata": {},
   "source": [
    "# 4 imputs (N,Z,dq,uq) and 1 outputs (Seperation energy) in single ANN"
   ]
  },
  {
   "cell_type": "markdown",
   "metadata": {},
   "source": [
    "# Imports"
   ]
  },
  {
   "cell_type": "code",
   "execution_count": 1,
   "metadata": {},
   "outputs": [
    {
     "name": "stdout",
     "output_type": "stream",
     "text": [
      "C:\\Users\\kicjo\\Desktop\\my-anns\\nuclei\\nuclei-updated-4-inputs-seperation-output\n",
      "2019-08-20-19-53-57\n"
     ]
    }
   ],
   "source": [
    "import numpy as np\n",
    "import tensorflow as tf\n",
    "from datetime import datetime\n",
    "import matplotlib.pyplot as plt\n",
    "from sklearn.preprocessing import StandardScaler\n",
    "from sklearn.model_selection import train_test_split\n",
    "import pandas as pd\n",
    "from utils import shuffle_batch, variable_summaries\n",
    "import os\n",
    "\n",
    "%matplotlib notebook\n",
    "\n",
    "dir_path = os.getcwd()\n",
    "\n",
    "now = datetime.now().strftime(\"%Y-%m-%d-%H-%M-%S\")\n",
    "root_logdir = \"tf_logs\"\n",
    "logdir = \"{}/run-{}/\".format(root_logdir, now)\n",
    "print(dir_path)\n",
    "print(now)"
   ]
  },
  {
   "cell_type": "code",
   "execution_count": 2,
   "metadata": {},
   "outputs": [],
   "source": [
    "#%matplotlib notebook"
   ]
  },
  {
   "cell_type": "markdown",
   "metadata": {},
   "source": [
    "# Read the data set"
   ]
  },
  {
   "cell_type": "code",
   "execution_count": 3,
   "metadata": {
    "scrolled": true
   },
   "outputs": [
    {
     "name": "stdout",
     "output_type": "stream",
     "text": [
      "<class 'pandas.core.frame.DataFrame'>\n",
      "RangeIndex: 3436 entries, 0 to 3435\n",
      "Data columns (total 10 columns):\n",
      "Z                                  3436 non-null int64\n",
      "N                                  3436 non-null int64\n",
      "UQ                                 3436 non-null int64\n",
      "DQ                                 3436 non-null int64\n",
      "Mass Excess [MeV]                  3436 non-null float64\n",
      "Mass Error                         3436 non-null float64\n",
      "Mass Estimated                     3436 non-null int64\n",
      "Neutron separation energy [MeV]    3318 non-null float64\n",
      "Separation Error                   3318 non-null float64\n",
      "Separation Estimated               3318 non-null float64\n",
      "dtypes: float64(5), int64(5)\n",
      "memory usage: 268.5 KB\n",
      "None\n"
     ]
    },
    {
     "data": {
      "text/plain": [
       "Index(['Z', 'N', 'UQ', 'DQ', 'Mass Excess [MeV]', 'Mass Error',\n",
       "       'Mass Estimated', 'Neutron separation energy [MeV]', 'Separation Error',\n",
       "       'Separation Estimated'],\n",
       "      dtype='object')"
      ]
     },
     "execution_count": 3,
     "metadata": {},
     "output_type": "execute_result"
    }
   ],
   "source": [
    "df = pd.read_csv(\"better-nuclei-19-08.csv\")\n",
    "print(df.info())\n",
    "df.columns"
   ]
  },
  {
   "cell_type": "code",
   "execution_count": 4,
   "metadata": {},
   "outputs": [
    {
     "name": "stdout",
     "output_type": "stream",
     "text": [
      "<class 'pandas.core.frame.DataFrame'>\n",
      "RangeIndex: 3436 entries, 0 to 3435\n",
      "Data columns (total 10 columns):\n",
      "z                       3436 non-null int64\n",
      "n                       3436 non-null int64\n",
      "uq                      3436 non-null int64\n",
      "dq                      3436 non-null int64\n",
      "d                       3436 non-null float64\n",
      "mass error              3436 non-null float64\n",
      "mass estimated          3436 non-null int64\n",
      "d2                      3318 non-null float64\n",
      "separation error        3318 non-null float64\n",
      "separation estimated    3318 non-null float64\n",
      "dtypes: float64(5), int64(5)\n",
      "memory usage: 268.5 KB\n",
      "None\n"
     ]
    }
   ],
   "source": [
    "df = df.rename(columns=\n",
    "               {\"Mass Excess [MeV]\": \"d\",\n",
    "                \"Z\":'z',\n",
    "                'N':'n',\n",
    "                'UQ':\"uq\",\n",
    "                'DQ':\"dq\",\n",
    "                \"Mass Error\":\"mass error\",\n",
    "                \"Mass Estimated\":\"mass estimated\",\n",
    "                \"Neutron separation energy [MeV]\":\"d2\",\n",
    "                \"Separation Error\":\"separation error\",\n",
    "                \"Separation Estimated\":\"separation estimated\"               \n",
    "               })\n",
    "print(df.info())"
   ]
  },
  {
   "cell_type": "code",
   "execution_count": 5,
   "metadata": {},
   "outputs": [
    {
     "data": {
      "text/html": [
       "<div>\n",
       "<style scoped>\n",
       "    .dataframe tbody tr th:only-of-type {\n",
       "        vertical-align: middle;\n",
       "    }\n",
       "\n",
       "    .dataframe tbody tr th {\n",
       "        vertical-align: top;\n",
       "    }\n",
       "\n",
       "    .dataframe thead th {\n",
       "        text-align: right;\n",
       "    }\n",
       "</style>\n",
       "<table border=\"1\" class=\"dataframe\">\n",
       "  <thead>\n",
       "    <tr style=\"text-align: right;\">\n",
       "      <th></th>\n",
       "      <th>z</th>\n",
       "      <th>n</th>\n",
       "      <th>uq</th>\n",
       "      <th>dq</th>\n",
       "      <th>d</th>\n",
       "      <th>mass error</th>\n",
       "      <th>mass estimated</th>\n",
       "      <th>d2</th>\n",
       "      <th>separation error</th>\n",
       "      <th>separation estimated</th>\n",
       "    </tr>\n",
       "  </thead>\n",
       "  <tbody>\n",
       "    <tr>\n",
       "      <th>count</th>\n",
       "      <td>3436.000000</td>\n",
       "      <td>3436.000000</td>\n",
       "      <td>3436.000000</td>\n",
       "      <td>3436.000000</td>\n",
       "      <td>3436.000000</td>\n",
       "      <td>3436.000000</td>\n",
       "      <td>3436.000000</td>\n",
       "      <td>3318.000000</td>\n",
       "      <td>3318.000000</td>\n",
       "      <td>3318.000000</td>\n",
       "    </tr>\n",
       "    <tr>\n",
       "      <th>mean</th>\n",
       "      <td>57.857392</td>\n",
       "      <td>82.034051</td>\n",
       "      <td>197.748836</td>\n",
       "      <td>221.925495</td>\n",
       "      <td>-24.144121</td>\n",
       "      <td>0.123589</td>\n",
       "      <td>0.272992</td>\n",
       "      <td>7.755557</td>\n",
       "      <td>0.164216</td>\n",
       "      <td>0.295660</td>\n",
       "    </tr>\n",
       "    <tr>\n",
       "      <th>std</th>\n",
       "      <td>27.809406</td>\n",
       "      <td>43.293558</td>\n",
       "      <td>98.188326</td>\n",
       "      <td>113.771063</td>\n",
       "      <td>56.200706</td>\n",
       "      <td>0.197548</td>\n",
       "      <td>0.445562</td>\n",
       "      <td>3.631747</td>\n",
       "      <td>0.254378</td>\n",
       "      <td>0.456408</td>\n",
       "    </tr>\n",
       "    <tr>\n",
       "      <th>min</th>\n",
       "      <td>0.000000</td>\n",
       "      <td>0.000000</td>\n",
       "      <td>1.000000</td>\n",
       "      <td>1.000000</td>\n",
       "      <td>-91.652853</td>\n",
       "      <td>0.000000</td>\n",
       "      <td>0.000000</td>\n",
       "      <td>-2.488000</td>\n",
       "      <td>0.000000</td>\n",
       "      <td>0.000000</td>\n",
       "    </tr>\n",
       "    <tr>\n",
       "      <th>25%</th>\n",
       "      <td>36.000000</td>\n",
       "      <td>47.000000</td>\n",
       "      <td>120.750000</td>\n",
       "      <td>131.000000</td>\n",
       "      <td>-65.400443</td>\n",
       "      <td>0.003006</td>\n",
       "      <td>0.000000</td>\n",
       "      <td>5.414787</td>\n",
       "      <td>0.005140</td>\n",
       "      <td>0.000000</td>\n",
       "    </tr>\n",
       "    <tr>\n",
       "      <th>50%</th>\n",
       "      <td>58.000000</td>\n",
       "      <td>81.000000</td>\n",
       "      <td>197.000000</td>\n",
       "      <td>219.000000</td>\n",
       "      <td>-39.335024</td>\n",
       "      <td>0.014474</td>\n",
       "      <td>0.000000</td>\n",
       "      <td>7.249960</td>\n",
       "      <td>0.025005</td>\n",
       "      <td>0.000000</td>\n",
       "    </tr>\n",
       "    <tr>\n",
       "      <th>75%</th>\n",
       "      <td>80.000000</td>\n",
       "      <td>114.000000</td>\n",
       "      <td>273.000000</td>\n",
       "      <td>308.000000</td>\n",
       "      <td>1.172301</td>\n",
       "      <td>0.196000</td>\n",
       "      <td>1.000000</td>\n",
       "      <td>9.654658</td>\n",
       "      <td>0.269058</td>\n",
       "      <td>1.000000</td>\n",
       "    </tr>\n",
       "    <tr>\n",
       "      <th>max</th>\n",
       "      <td>118.000000</td>\n",
       "      <td>177.000000</td>\n",
       "      <td>413.000000</td>\n",
       "      <td>472.000000</td>\n",
       "      <td>201.512000</td>\n",
       "      <td>2.003000</td>\n",
       "      <td>1.000000</td>\n",
       "      <td>27.715000</td>\n",
       "      <td>2.011000</td>\n",
       "      <td>1.000000</td>\n",
       "    </tr>\n",
       "  </tbody>\n",
       "</table>\n",
       "</div>"
      ],
      "text/plain": [
       "                 z            n           uq           dq            d  \\\n",
       "count  3436.000000  3436.000000  3436.000000  3436.000000  3436.000000   \n",
       "mean     57.857392    82.034051   197.748836   221.925495   -24.144121   \n",
       "std      27.809406    43.293558    98.188326   113.771063    56.200706   \n",
       "min       0.000000     0.000000     1.000000     1.000000   -91.652853   \n",
       "25%      36.000000    47.000000   120.750000   131.000000   -65.400443   \n",
       "50%      58.000000    81.000000   197.000000   219.000000   -39.335024   \n",
       "75%      80.000000   114.000000   273.000000   308.000000     1.172301   \n",
       "max     118.000000   177.000000   413.000000   472.000000   201.512000   \n",
       "\n",
       "        mass error  mass estimated           d2  separation error  \\\n",
       "count  3436.000000     3436.000000  3318.000000       3318.000000   \n",
       "mean      0.123589        0.272992     7.755557          0.164216   \n",
       "std       0.197548        0.445562     3.631747          0.254378   \n",
       "min       0.000000        0.000000    -2.488000          0.000000   \n",
       "25%       0.003006        0.000000     5.414787          0.005140   \n",
       "50%       0.014474        0.000000     7.249960          0.025005   \n",
       "75%       0.196000        1.000000     9.654658          0.269058   \n",
       "max       2.003000        1.000000    27.715000          2.011000   \n",
       "\n",
       "       separation estimated  \n",
       "count           3318.000000  \n",
       "mean               0.295660  \n",
       "std                0.456408  \n",
       "min                0.000000  \n",
       "25%                0.000000  \n",
       "50%                0.000000  \n",
       "75%                1.000000  \n",
       "max                1.000000  "
      ]
     },
     "execution_count": 5,
     "metadata": {},
     "output_type": "execute_result"
    }
   ],
   "source": [
    "df.describe()"
   ]
  },
  {
   "cell_type": "markdown",
   "metadata": {},
   "source": [
    "# Remove estimated Excess and estimated Seperation"
   ]
  },
  {
   "cell_type": "code",
   "execution_count": 6,
   "metadata": {},
   "outputs": [],
   "source": [
    "not_estimated_filter = (df[\"mass estimated\"] == 0)\n",
    "df = df[not_estimated_filter]\n",
    "\n",
    "not_estimated_filter = (df[\"separation estimated\"] == 0)\n",
    "df = df[not_estimated_filter]"
   ]
  },
  {
   "cell_type": "code",
   "execution_count": 7,
   "metadata": {},
   "outputs": [
    {
     "name": "stdout",
     "output_type": "stream",
     "text": [
      "<class 'pandas.core.frame.DataFrame'>\n",
      "Int64Index: 2337 entries, 0 to 3369\n",
      "Data columns (total 10 columns):\n",
      "z                       2337 non-null int64\n",
      "n                       2337 non-null int64\n",
      "uq                      2337 non-null int64\n",
      "dq                      2337 non-null int64\n",
      "d                       2337 non-null float64\n",
      "mass error              2337 non-null float64\n",
      "mass estimated          2337 non-null int64\n",
      "d2                      2337 non-null float64\n",
      "separation error        2337 non-null float64\n",
      "separation estimated    2337 non-null float64\n",
      "dtypes: float64(5), int64(5)\n",
      "memory usage: 200.8 KB\n"
     ]
    }
   ],
   "source": [
    "df.info()"
   ]
  },
  {
   "cell_type": "code",
   "execution_count": 8,
   "metadata": {},
   "outputs": [
    {
     "data": {
      "text/plain": [
       "False"
      ]
     },
     "execution_count": 8,
     "metadata": {},
     "output_type": "execute_result"
    }
   ],
   "source": [
    "df.isnull().values.any()"
   ]
  },
  {
   "cell_type": "code",
   "execution_count": 9,
   "metadata": {},
   "outputs": [
    {
     "data": {
      "text/plain": [
       "(2337,)"
      ]
     },
     "execution_count": 9,
     "metadata": {},
     "output_type": "execute_result"
    }
   ],
   "source": [
    "df['z'].shape"
   ]
  },
  {
   "cell_type": "code",
   "execution_count": 10,
   "metadata": {},
   "outputs": [
    {
     "data": {
      "text/plain": [
       "z                       2337\n",
       "n                       2337\n",
       "uq                      2337\n",
       "dq                      2337\n",
       "d                       2337\n",
       "mass error              2337\n",
       "mass estimated          2337\n",
       "d2                      2337\n",
       "separation error        2337\n",
       "separation estimated    2337\n",
       "dtype: int64"
      ]
     },
     "execution_count": 10,
     "metadata": {},
     "output_type": "execute_result"
    }
   ],
   "source": [
    "df.count()"
   ]
  },
  {
   "cell_type": "code",
   "execution_count": 11,
   "metadata": {},
   "outputs": [
    {
     "data": {
      "text/html": [
       "<div>\n",
       "<style scoped>\n",
       "    .dataframe tbody tr th:only-of-type {\n",
       "        vertical-align: middle;\n",
       "    }\n",
       "\n",
       "    .dataframe tbody tr th {\n",
       "        vertical-align: top;\n",
       "    }\n",
       "\n",
       "    .dataframe thead th {\n",
       "        text-align: right;\n",
       "    }\n",
       "</style>\n",
       "<table border=\"1\" class=\"dataframe\">\n",
       "  <thead>\n",
       "    <tr style=\"text-align: right;\">\n",
       "      <th></th>\n",
       "      <th>z</th>\n",
       "      <th>n</th>\n",
       "      <th>uq</th>\n",
       "      <th>dq</th>\n",
       "      <th>d</th>\n",
       "      <th>mass error</th>\n",
       "      <th>mass estimated</th>\n",
       "      <th>d2</th>\n",
       "      <th>separation error</th>\n",
       "      <th>separation estimated</th>\n",
       "    </tr>\n",
       "  </thead>\n",
       "  <tbody>\n",
       "    <tr>\n",
       "      <th>0</th>\n",
       "      <td>0</td>\n",
       "      <td>1</td>\n",
       "      <td>1</td>\n",
       "      <td>2</td>\n",
       "      <td>8.071317</td>\n",
       "      <td>4.000000e-07</td>\n",
       "      <td>0</td>\n",
       "      <td>0.00000</td>\n",
       "      <td>0.00000</td>\n",
       "      <td>0.0</td>\n",
       "    </tr>\n",
       "    <tr>\n",
       "      <th>2</th>\n",
       "      <td>1</td>\n",
       "      <td>1</td>\n",
       "      <td>3</td>\n",
       "      <td>3</td>\n",
       "      <td>13.135722</td>\n",
       "      <td>1.000000e-07</td>\n",
       "      <td>0</td>\n",
       "      <td>2.22457</td>\n",
       "      <td>0.00000</td>\n",
       "      <td>0.0</td>\n",
       "    </tr>\n",
       "    <tr>\n",
       "      <th>3</th>\n",
       "      <td>1</td>\n",
       "      <td>2</td>\n",
       "      <td>4</td>\n",
       "      <td>5</td>\n",
       "      <td>14.949810</td>\n",
       "      <td>2.000000e-07</td>\n",
       "      <td>0</td>\n",
       "      <td>6.25723</td>\n",
       "      <td>0.00000</td>\n",
       "      <td>0.0</td>\n",
       "    </tr>\n",
       "    <tr>\n",
       "      <th>4</th>\n",
       "      <td>1</td>\n",
       "      <td>3</td>\n",
       "      <td>5</td>\n",
       "      <td>7</td>\n",
       "      <td>24.621127</td>\n",
       "      <td>1.000000e-01</td>\n",
       "      <td>0</td>\n",
       "      <td>-1.60000</td>\n",
       "      <td>0.10000</td>\n",
       "      <td>0.0</td>\n",
       "    </tr>\n",
       "    <tr>\n",
       "      <th>5</th>\n",
       "      <td>1</td>\n",
       "      <td>4</td>\n",
       "      <td>6</td>\n",
       "      <td>9</td>\n",
       "      <td>32.892444</td>\n",
       "      <td>8.944300e-02</td>\n",
       "      <td>0</td>\n",
       "      <td>-0.20000</td>\n",
       "      <td>0.13416</td>\n",
       "      <td>0.0</td>\n",
       "    </tr>\n",
       "  </tbody>\n",
       "</table>\n",
       "</div>"
      ],
      "text/plain": [
       "   z  n  uq  dq          d    mass error  mass estimated       d2  \\\n",
       "0  0  1   1   2   8.071317  4.000000e-07               0  0.00000   \n",
       "2  1  1   3   3  13.135722  1.000000e-07               0  2.22457   \n",
       "3  1  2   4   5  14.949810  2.000000e-07               0  6.25723   \n",
       "4  1  3   5   7  24.621127  1.000000e-01               0 -1.60000   \n",
       "5  1  4   6   9  32.892444  8.944300e-02               0 -0.20000   \n",
       "\n",
       "   separation error  separation estimated  \n",
       "0           0.00000                   0.0  \n",
       "2           0.00000                   0.0  \n",
       "3           0.00000                   0.0  \n",
       "4           0.10000                   0.0  \n",
       "5           0.13416                   0.0  "
      ]
     },
     "execution_count": 11,
     "metadata": {},
     "output_type": "execute_result"
    }
   ],
   "source": [
    "df.head()"
   ]
  },
  {
   "cell_type": "markdown",
   "metadata": {},
   "source": [
    "# Plot seperation energy column"
   ]
  },
  {
   "cell_type": "code",
   "execution_count": 12,
   "metadata": {},
   "outputs": [
    {
     "data": {
      "image/png": "[encoded data removed]",
      "text/plain": [
       "<Figure size 576x432 with 2 Axes>"
      ]
     },
     "metadata": {
      "needs_background": "light"
     },
     "output_type": "display_data"
    }
   ],
   "source": [
    "from pylab import *\n",
    "from mpl_toolkits.mplot3d import Axes3D\n",
    "import matplotlib.pyplot as plt\n",
    "\n",
    "fig = plt.figure(figsize=(8,6))\n",
    "\n",
    "ax = fig.add_subplot(111,projection='3d')\n",
    "\n",
    "xs = df['n']\n",
    "ys = df['z']\n",
    "zs = df['d2']\n",
    "\n",
    "colmap = cm.ScalarMappable(cmap=cm.get_cmap(\"jet\"))\n",
    "colmap.set_array(zs)\n",
    "\n",
    "yg = ax.scatter(xs, ys, zs, c=cm.get_cmap(\"jet\")(zs/max(zs)), marker='^',alpha=0.05)\n",
    "cb = fig.colorbar(colmap)\n",
    "\n",
    "ax.set_xlabel('N')\n",
    "ax.set_ylabel('Z')\n",
    "ax.set_zlabel('D2')\n",
    "\n",
    "\n",
    "plt.show()"
   ]
  },
  {
   "cell_type": "code",
   "execution_count": 13,
   "metadata": {},
   "outputs": [
    {
     "data": {
      "text/plain": [
       "(2337,)"
      ]
     },
     "execution_count": 13,
     "metadata": {},
     "output_type": "execute_result"
    }
   ],
   "source": [
    "df['d2'].to_numpy().shape"
   ]
  },
  {
   "cell_type": "code",
   "execution_count": 14,
   "metadata": {},
   "outputs": [
    {
     "data": {
      "image/png": "[encoded data removed]",
      "text/plain": [
       "<Figure size 432x288 with 1 Axes>"
      ]
     },
     "metadata": {
      "needs_background": "light"
     },
     "output_type": "display_data"
    }
   ],
   "source": [
    "plt.scatter(range(df['d2'].count()), df['d2'].to_numpy(), s=5)\n",
    "plt.xlabel('x')\n",
    "plt.ylabel('y')\n",
    "plt.axis('tight')\n",
    "plt.show()"
   ]
  },
  {
   "cell_type": "markdown",
   "metadata": {},
   "source": [
    "# Dividing Mass Excess by A = Z + N"
   ]
  },
  {
   "cell_type": "code",
   "execution_count": 15,
   "metadata": {},
   "outputs": [],
   "source": [
    "zes = df['z'].to_numpy()\n",
    "ns = df['n'].to_numpy()\n",
    "a = zes + ns\n",
    "\n",
    "des = df['d'].to_numpy() / a\n",
    "df['d'] = des\n"
   ]
  },
  {
   "cell_type": "markdown",
   "metadata": {},
   "source": [
    "# Plot Mass excess output column"
   ]
  },
  {
   "cell_type": "code",
   "execution_count": 16,
   "metadata": {
    "scrolled": false
   },
   "outputs": [
    {
     "data": {
      "image/png": "[encoded data removed]",
      "text/plain": [
       "<Figure size 576x432 with 2 Axes>"
      ]
     },
     "metadata": {
      "needs_background": "light"
     },
     "output_type": "display_data"
    }
   ],
   "source": [
    "from pylab import *\n",
    "from mpl_toolkits.mplot3d import Axes3D\n",
    "import matplotlib.pyplot as plt\n",
    "\n",
    "fig = plt.figure(figsize=(8,6))\n",
    "\n",
    "ax = fig.add_subplot(111,projection='3d')\n",
    "\n",
    "xs = df['n']\n",
    "ys = df['z']\n",
    "zs = df['d']\n",
    "\n",
    "colmap = cm.ScalarMappable(cmap=cm.get_cmap(\"jet\"))\n",
    "colmap.set_array(zs)\n",
    "\n",
    "yg = ax.scatter(xs, ys, zs, c=cm.get_cmap(\"jet\")(zs/max(zs)), marker='^',alpha=0.05)\n",
    "cb = fig.colorbar(colmap)\n",
    "\n",
    "ax.set_xlabel('N')\n",
    "ax.set_ylabel('Z')\n",
    "ax.set_zlabel('D')\n",
    "\n",
    "\n",
    "plt.show()"
   ]
  },
  {
   "cell_type": "markdown",
   "metadata": {},
   "source": [
    "# Tripcolor"
   ]
  },
  {
   "cell_type": "code",
   "execution_count": 17,
   "metadata": {},
   "outputs": [
    {
     "data": {
      "image/png": "[encoded data removed]",
      "text/plain": [
       "<Figure size 432x288 with 2 Axes>"
      ]
     },
     "metadata": {
      "needs_background": "light"
     },
     "output_type": "display_data"
    }
   ],
   "source": [
    "zs = df['d']\n",
    "\n",
    "colmap = cm.ScalarMappable(cmap=cm.get_cmap(\"jet\"))\n",
    "colmap.set_array(zs)\n",
    "\n",
    "#yg = ax.scatter(xs, ys, zs, c=cm.get_cmap(\"jet\")(zs/max(zs)), marker='^',alpha=0.05)\n",
    "\n",
    "\n",
    "fig, (ax)=plt.subplots(ncols=1)\n",
    "ax.tripcolor(df[\"n\"], df[\"z\"], df[\"d\"])\n",
    "cb = fig.colorbar(colmap)\n",
    "\n",
    "plt.show()"
   ]
  },
  {
   "cell_type": "markdown",
   "metadata": {},
   "source": [
    "# Set X inputs"
   ]
  },
  {
   "cell_type": "code",
   "execution_count": 18,
   "metadata": {
    "scrolled": true
   },
   "outputs": [
    {
     "name": "stdout",
     "output_type": "stream",
     "text": [
      "<class 'pandas.core.frame.DataFrame'>\n",
      "Int64Index: 2337 entries, 0 to 3369\n",
      "Data columns (total 4 columns):\n",
      "z     2337 non-null int64\n",
      "n     2337 non-null int64\n",
      "dq    2337 non-null int64\n",
      "uq    2337 non-null int64\n",
      "dtypes: int64(4)\n",
      "memory usage: 91.3 KB\n",
      "None\n",
      "(2337, 4)\n"
     ]
    }
   ],
   "source": [
    "x = df[['z','n','dq','uq']]\n",
    "print(x.info())\n",
    "x = x.to_numpy()\n",
    "print(x.shape)"
   ]
  },
  {
   "cell_type": "code",
   "execution_count": 19,
   "metadata": {},
   "outputs": [
    {
     "name": "stdout",
     "output_type": "stream",
     "text": [
      "<class 'pandas.core.frame.DataFrame'>\n",
      "Int64Index: 2337 entries, 0 to 3369\n",
      "Data columns (total 10 columns):\n",
      "z                       2337 non-null int64\n",
      "n                       2337 non-null int64\n",
      "uq                      2337 non-null int64\n",
      "dq                      2337 non-null int64\n",
      "d                       2337 non-null float64\n",
      "mass error              2337 non-null float64\n",
      "mass estimated          2337 non-null int64\n",
      "d2                      2337 non-null float64\n",
      "separation error        2337 non-null float64\n",
      "separation estimated    2337 non-null float64\n",
      "dtypes: float64(5), int64(5)\n",
      "memory usage: 200.8 KB\n"
     ]
    }
   ],
   "source": [
    "df.info()"
   ]
  },
  {
   "cell_type": "markdown",
   "metadata": {},
   "source": [
    "# Set Y inputs _(HERE CHANGE NUMBER OF INPUTS AND RESHAPE)"
   ]
  },
  {
   "cell_type": "code",
   "execution_count": 20,
   "metadata": {},
   "outputs": [
    {
     "data": {
      "text/plain": [
       "(2337, 1)"
      ]
     },
     "execution_count": 20,
     "metadata": {},
     "output_type": "execute_result"
    }
   ],
   "source": [
    "y = df[['d2']].to_numpy() #HERE\n",
    "y.shape"
   ]
  },
  {
   "cell_type": "code",
   "execution_count": 21,
   "metadata": {},
   "outputs": [
    {
     "data": {
      "text/plain": [
       "(2337, 1)"
      ]
     },
     "execution_count": 21,
     "metadata": {},
     "output_type": "execute_result"
    }
   ],
   "source": [
    "y = y.reshape(-1,1) #HERE\n",
    "y.shape"
   ]
  },
  {
   "cell_type": "code",
   "execution_count": 22,
   "metadata": {},
   "outputs": [
    {
     "data": {
      "text/plain": [
       "array([[ 0.     ],\n",
       "       [ 2.22457],\n",
       "       [ 6.25723],\n",
       "       [-1.6    ],\n",
       "       [-0.2    ]])"
      ]
     },
     "execution_count": 22,
     "metadata": {},
     "output_type": "execute_result"
    }
   ],
   "source": [
    "y[0:5]"
   ]
  },
  {
   "cell_type": "markdown",
   "metadata": {},
   "source": [
    "# Prepare X_train_o, Y_train_o etc"
   ]
  },
  {
   "cell_type": "code",
   "execution_count": 23,
   "metadata": {},
   "outputs": [
    {
     "name": "stdout",
     "output_type": "stream",
     "text": [
      "4\n",
      "1\n",
      "(1495, 4) (468, 4) (374, 4)\n"
     ]
    }
   ],
   "source": [
    "X_train_o, X_test_o, y_train_o, y_test_o = train_test_split(x, y, test_size=0.2, random_state=1)\n",
    "X_train_o, X_val_o, y_train_o, y_val_o  = train_test_split(X_train_o, y_train_o, test_size=0.2, random_state=1)\n",
    "n_inputs = X_train_o.shape[1]\n",
    "n_outputs = y_train_o.shape[1]\n",
    "print(n_inputs)\n",
    "print(n_outputs)\n",
    "print(X_train_o.shape, X_test_o.shape,X_val_o.shape)"
   ]
  },
  {
   "cell_type": "markdown",
   "metadata": {},
   "source": [
    "# Scaling"
   ]
  },
  {
   "cell_type": "code",
   "execution_count": 24,
   "metadata": {},
   "outputs": [
    {
     "name": "stdout",
     "output_type": "stream",
     "text": [
      "4\n",
      "1\n"
     ]
    }
   ],
   "source": [
    "x_scaler = StandardScaler()\n",
    "y_scaler = StandardScaler()\n",
    "\n",
    "X_train = x_scaler.fit_transform(X_train_o.reshape(-1, n_inputs))\n",
    "X_test = x_scaler.transform(X_test_o.reshape(-1, n_inputs))\n",
    "X_val = x_scaler.transform(X_val_o.reshape(-1, n_inputs))\n",
    "\n",
    "y_train = y_scaler.fit_transform(y_train_o.reshape(-1, n_outputs))\n",
    "y_test = y_scaler.transform(y_test_o.reshape(-1, n_outputs))\n",
    "y_val = y_scaler.transform(y_val_o.reshape(-1, n_outputs))\n",
    "\n",
    "n_inputs = X_train.shape[1]\n",
    "n_outputs = y_train.shape[1]\n",
    "print(n_inputs)\n",
    "print(n_outputs)"
   ]
  },
  {
   "cell_type": "markdown",
   "metadata": {},
   "source": [
    "# ANN TOPOLOGY"
   ]
  },
  {
   "cell_type": "code",
   "execution_count": 5,
   "metadata": {},
   "outputs": [
    {
     "name": "stdout",
     "output_type": "stream",
     "text": [
      "400\n",
      "360\n",
      "320\n",
      "280\n",
      "240\n",
      "200\n",
      "159\n",
      "120\n",
      "80\n",
      "40\n",
      "0\n"
     ]
    }
   ],
   "source": [
    "for i in range(1):\n",
    "    print(int(400-400*(0.1*i)))"
   ]
  },
  {
   "cell_type": "code",
   "execution_count": 25,
   "metadata": {},
   "outputs": [
    {
     "name": "stderr",
     "output_type": "stream",
     "text": [
      "WARNING: Logging before flag parsing goes to stderr.\n",
      "W0820 19:54:00.107100 28652 deprecation_wrapper.py:119] From C:\\Users\\kicjo\\Desktop\\my-anns\\nuclei\\nuclei-updated-4-inputs-seperation-output\\utils.py:16: The name tf.summary.scalar is deprecated. Please use tf.compat.v1.summary.scalar instead.\n",
      "\n",
      "W0820 19:54:00.122089 28652 deprecation_wrapper.py:119] From C:\\Users\\kicjo\\Desktop\\my-anns\\nuclei\\nuclei-updated-4-inputs-seperation-output\\utils.py:22: The name tf.summary.histogram is deprecated. Please use tf.compat.v1.summary.histogram instead.\n",
      "\n"
     ]
    },
    {
     "name": "stdout",
     "output_type": "stream",
     "text": [
      "(?, 1)\n"
     ]
    }
   ],
   "source": [
    "def cust_layer(inputs,number_of_neurons, name, activation=None, dropout=False):\n",
    "    init = tf.initializers.he_normal(seed=None)\n",
    "    hidden = tf.keras.layers.Dense(number_of_neurons,\n",
    "                                   name=name,\n",
    "                                    kernel_initializer=init,\n",
    "                                   activation = activation,\n",
    "                                   kernel_regularizer = tf.keras.regularizers.l2(l=0.1)\n",
    "                                  )(inputs)\n",
    "    \n",
    "    batch_norm = tf.keras.layers.BatchNormalization()(hidden, training=True)\n",
    "    \n",
    "    if dropout:\n",
    "        dropout_layer = tf.keras.layers.Dropout(0.5)(batch_norm)\n",
    "        return dropout_layer\n",
    "    else:\n",
    "        return batch_norm\n",
    "    \n",
    "tf.reset_default_graph()\n",
    "with tf.name_scope(\"dnn\"):\n",
    "    with tf.name_scope(\"inputs\"):\n",
    "        X_node = tf.placeholder(tf.float32, shape=(None, n_inputs), name=\"X\")\n",
    "        y_node = tf.placeholder(tf.float32, shape=(None, n_outputs), name=\"y\")\n",
    "    \n",
    "    last_layer = cust_layer(X_node,400,\"hidden1\")    \n",
    "    n_layers = 10\n",
    "    \n",
    "    for i in range(n_layers):      \n",
    "        n_this_layer_neurons = int(400-400*(0.1*i))\n",
    "        last_layer = cust_layer(last_layer,n_this_layer_neurons,\"hidden\"+str(i),activation=tf.nn.elu,dropout=True)\n",
    "    last_layer = cust_layer(last_layer,20,\"hidden\"+str(i+1),activation=tf.nn.elu,dropout=True)\n",
    "    \n",
    "    init = tf.initializers.he_normal()    \n",
    "    y_pred = tf.keras.layers.Dense(n_outputs, name=\"output\",kernel_initializer=init)(last_layer)\n",
    "\n",
    "    \n",
    "with tf.name_scope('MSE'):\n",
    "    error_f = y_pred - y_node\n",
    "    square_f = tf.square(error_f)\n",
    "    mse = tf.reduce_mean(square_f, name=\"mse_first\")\n",
    "    variable_summaries(mse)\n",
    "    print(error_f.get_shape())\n",
    "\n",
    "\n",
    "with tf.name_scope('optimiser'):\n",
    "    optimiser = tf.train.AdamOptimizer(0.01)\n",
    "    training_op = optimiser.minimize(mse)\n",
    "\n",
    "for var in tf.trainable_variables():\n",
    "    tf.summary.histogram(var.name, var)"
   ]
  },
  {
   "cell_type": "code",
   "execution_count": null,
   "metadata": {},
   "outputs": [],
   "source": []
  },
  {
   "cell_type": "markdown",
   "metadata": {},
   "source": [
    "# File writers"
   ]
  },
  {
   "cell_type": "code",
   "execution_count": 26,
   "metadata": {},
   "outputs": [],
   "source": [
    "merged = tf.summary.merge_all()\n",
    "train_writer = tf.summary.FileWriter(logdir + '/train', tf.get_default_graph())\n",
    "test_writer = tf.summary.FileWriter(logdir + '/test')\n",
    "valid_writer = tf.summary.FileWriter(logdir + '/valid')\n",
    "init = tf.global_variables_initializer()\n",
    "\n",
    "saver = tf.train.Saver()\n",
    "\n",
    "checkpoint_path = os.path.join(dir_path, \"sinus_tmp\",\"sinus_full_model.ckpt\")\n",
    "checkpoint_epoch_path = checkpoint_path + \".epoch\"\n",
    "final_model_path = os.path.join(dir_path, \"model\", \"my_sinus_full_model\")"
   ]
  },
  {
   "cell_type": "markdown",
   "metadata": {},
   "source": [
    "# Number of epochs and batches"
   ]
  },
  {
   "cell_type": "code",
   "execution_count": 27,
   "metadata": {},
   "outputs": [
    {
     "name": "stdout",
     "output_type": "stream",
     "text": [
      "400.0\n"
     ]
    }
   ],
   "source": [
    "n_epochs = 2000\n",
    "n_batches = 50\n",
    "\n",
    "best_loss = np.infty\n",
    "epochs_without_progress = 0\n",
    "max_epochs_without_progress = n_epochs * 0.2\n",
    "print(max_epochs_without_progress)\n",
    "\n"
   ]
  },
  {
   "cell_type": "markdown",
   "metadata": {},
   "source": [
    "# Training"
   ]
  },
  {
   "cell_type": "code",
   "execution_count": null,
   "metadata": {
    "scrolled": true
   },
   "outputs": [
    {
     "name": "stdout",
     "output_type": "stream",
     "text": [
      "0 train loss: 0.36222062 valid loss: 0.47139892\n",
      "best loss: 0.47139892\n",
      "1 train loss: 0.23326765 valid loss: 0.2487538\n",
      "best loss: 0.2487538\n",
      "2 train loss: 0.28795046 valid loss: 0.2529521\n",
      "3 train loss: 0.3019862 valid loss: 0.35192144\n",
      "4 train loss: 0.39815348 valid loss: 0.4811636\n",
      "5 train loss: 0.23600693 valid loss: 0.2283742\n",
      "best loss: 0.2283742\n",
      "6 train loss: 0.28041625 valid loss: 0.34415567\n",
      "7 train loss: 0.26132548 valid loss: 0.2846738\n",
      "8 train loss: 0.26126197 valid loss: 0.23667249\n",
      "9 train loss: 0.4638779 valid loss: 0.413638\n",
      "10 train loss: 0.3351939 valid loss: 0.35293224\n",
      "11 train loss: 0.27436563 valid loss: 0.25735092\n",
      "12 train loss: 0.27830905 valid loss: 0.31738585\n",
      "13 train loss: 0.22450513 valid loss: 0.2511354\n",
      "14 train loss: 0.2442846 valid loss: 0.2173641\n",
      "best loss: 0.2173641\n",
      "15 train loss: 0.22380301 valid loss: 0.2614689\n",
      "16 train loss: 0.2404229 valid loss: 0.23106346\n",
      "17 train loss: 0.22655632 valid loss: 0.2443115\n",
      "18 train loss: 0.22711475 valid loss: 0.24692756\n",
      "19 train loss: 0.23137306 valid loss: 0.23979844\n",
      "20 train loss: 0.2411659 valid loss: 0.26109964\n",
      "21 train loss: 0.2745764 valid loss: 0.2755256\n",
      "22 train loss: 0.3267997 valid loss: 0.3792947\n",
      "23 train loss: 0.2133021 valid loss: 0.25561494\n",
      "24 train loss: 0.22874515 valid loss: 0.21351117\n",
      "best loss: 0.21351117\n",
      "25 train loss: 0.2534478 valid loss: 0.25012073\n",
      "26 train loss: 0.21622473 valid loss: 0.25737092\n",
      "27 train loss: 0.22408831 valid loss: 0.21849696\n",
      "28 train loss: 0.26377955 valid loss: 0.272794\n",
      "29 train loss: 0.31533077 valid loss: 0.36814243\n",
      "30 train loss: 0.24998102 valid loss: 0.243856\n",
      "31 train loss: 0.27197903 valid loss: 0.23747982\n",
      "32 train loss: 0.22158657 valid loss: 0.21280228\n",
      "best loss: 0.21280228\n",
      "33 train loss: 0.2678295 valid loss: 0.30804646\n",
      "34 train loss: 0.2601497 valid loss: 0.2039199\n",
      "best loss: 0.2039199\n",
      "35 train loss: 0.24698056 valid loss: 0.2328654\n",
      "36 train loss: 0.21470553 valid loss: 0.24684045\n",
      "37 train loss: 0.2449201 valid loss: 0.3036125\n",
      "38 train loss: 0.26745752 valid loss: 0.2958001\n",
      "39 train loss: 0.27450338 valid loss: 0.28832063\n",
      "40 train loss: 0.21954694 valid loss: 0.2342063\n",
      "41 train loss: 0.25043002 valid loss: 0.23932621\n",
      "42 train loss: 0.30523875 valid loss: 0.24918239\n",
      "43 train loss: 0.21213587 valid loss: 0.23102403\n",
      "44 train loss: 0.21305948 valid loss: 0.2549719\n",
      "45 train loss: 0.20632222 valid loss: 0.20230897\n",
      "best loss: 0.20230897\n",
      "46 train loss: 0.23995854 valid loss: 0.23595507\n",
      "47 train loss: 0.22905728 valid loss: 0.28080368\n",
      "48 train loss: 0.26505905 valid loss: 0.272126\n",
      "49 train loss: 0.24832147 valid loss: 0.25625977\n",
      "50 train loss: 0.21533117 valid loss: 0.19927098\n",
      "best loss: 0.19927098\n",
      "51 train loss: 0.23008285 valid loss: 0.25473264\n",
      "52 train loss: 0.2502721 valid loss: 0.27085254\n",
      "53 train loss: 0.20516269 valid loss: 0.21153392\n",
      "54 train loss: 0.24529333 valid loss: 0.22637255\n",
      "55 train loss: 0.2226113 valid loss: 0.24378532\n",
      "56 train loss: 0.2556982 valid loss: 0.2894408\n",
      "57 train loss: 0.2295616 valid loss: 0.27632034\n",
      "58 train loss: 0.2265333 valid loss: 0.20236221\n",
      "59 train loss: 0.20712915 valid loss: 0.23918904\n",
      "60 train loss: 0.20952632 valid loss: 0.21633169\n",
      "61 train loss: 0.20919746 valid loss: 0.21444577\n",
      "62 train loss: 0.2561255 valid loss: 0.30665585\n",
      "63 train loss: 0.27032357 valid loss: 0.32591256\n",
      "64 train loss: 0.2975685 valid loss: 0.22164817\n",
      "65 train loss: 0.20861362 valid loss: 0.21049194\n",
      "66 train loss: 0.29438993 valid loss: 0.35871923\n",
      "67 train loss: 0.20493008 valid loss: 0.21783629\n",
      "68 train loss: 0.26731336 valid loss: 0.30766287\n",
      "69 train loss: 0.22879295 valid loss: 0.2193589\n",
      "70 train loss: 0.2088914 valid loss: 0.20684277\n",
      "71 train loss: 0.2480667 valid loss: 0.31255046\n",
      "72 train loss: 0.2366594 valid loss: 0.26411927\n",
      "73 train loss: 0.21532403 valid loss: 0.23195295\n",
      "74 train loss: 0.20793624 valid loss: 0.2274599\n",
      "75 train loss: 0.20872115 valid loss: 0.21693972\n",
      "76 train loss: 0.64607275 valid loss: 0.67523897\n",
      "77 train loss: 0.25829092 valid loss: 0.28639752\n",
      "78 train loss: 0.25740433 valid loss: 0.3038496\n",
      "79 train loss: 0.22305883 valid loss: 0.22355667\n",
      "80 train loss: 0.21422137 valid loss: 0.22677274\n",
      "81 train loss: 0.22456309 valid loss: 0.2632449\n",
      "82 train loss: 0.22899535 valid loss: 0.25503004\n",
      "83 train loss: 0.2302213 valid loss: 0.24385409\n",
      "84 train loss: 0.2244999 valid loss: 0.24325147\n",
      "85 train loss: 0.21551934 valid loss: 0.23417723\n",
      "86 train loss: 0.22818299 valid loss: 0.19497824\n",
      "best loss: 0.19497824\n",
      "87 train loss: 0.20983313 valid loss: 0.2313087\n",
      "88 train loss: 0.25450194 valid loss: 0.2500901\n",
      "89 train loss: 0.21841595 valid loss: 0.24479422\n",
      "90 train loss: 0.24196482 valid loss: 0.19645612\n",
      "91 train loss: 0.24574375 valid loss: 0.2679648\n",
      "92 train loss: 0.21364334 valid loss: 0.23105387\n",
      "93 train loss: 0.21778056 valid loss: 0.24271034\n",
      "94 train loss: 0.21043731 valid loss: 0.21505241\n",
      "95 train loss: 0.22299893 valid loss: 0.2390522\n",
      "96 train loss: 0.23531596 valid loss: 0.28639477\n",
      "97 train loss: 0.2568262 valid loss: 0.3074147\n",
      "98 train loss: 0.25484338 valid loss: 0.2982491\n",
      "99 train loss: 0.20947711 valid loss: 0.20411871\n",
      "100 train loss: 0.23353685 valid loss: 0.23443167\n",
      "101 train loss: 0.24399142 valid loss: 0.30405095\n",
      "102 train loss: 0.22452539 valid loss: 0.27741125\n",
      "103 train loss: 0.23491779 valid loss: 0.28051114\n",
      "104 train loss: 0.22060677 valid loss: 0.21684746\n",
      "105 train loss: 0.21380334 valid loss: 0.23797104\n",
      "106 train loss: 0.24085644 valid loss: 0.29429787\n",
      "107 train loss: 0.22497281 valid loss: 0.22848333\n",
      "108 train loss: 0.23499264 valid loss: 0.22783816\n",
      "109 train loss: 0.254464 valid loss: 0.2982081\n",
      "110 train loss: 0.28828895 valid loss: 0.35919347\n",
      "111 train loss: 0.2200462 valid loss: 0.22363597\n",
      "112 train loss: 0.21631208 valid loss: 0.2560192\n",
      "113 train loss: 0.22961591 valid loss: 0.2398924\n",
      "114 train loss: 0.22090262 valid loss: 0.24248073\n",
      "115 train loss: 0.21265593 valid loss: 0.23670368\n",
      "116 train loss: 0.20706509 valid loss: 0.20707779\n",
      "117 train loss: 0.254481 valid loss: 0.32459727\n",
      "118 train loss: 0.5356024 valid loss: 0.6654658\n",
      "119 train loss: 0.2250864 valid loss: 0.22194272\n",
      "120 train loss: 0.25545427 valid loss: 0.25539923\n",
      "121 train loss: 0.20965922 valid loss: 0.21115696\n",
      "122 train loss: 0.20901297 valid loss: 0.21561348\n",
      "123 train loss: 0.25593108 valid loss: 0.2524401\n",
      "124 train loss: 0.21571288 valid loss: 0.22585844\n",
      "125 train loss: 0.21254708 valid loss: 0.23795049\n",
      "126 train loss: 0.20499437 valid loss: 0.22398603\n",
      "127 train loss: 0.20446706 valid loss: 0.22721383\n",
      "128 train loss: 0.24444614 valid loss: 0.20541045\n",
      "129 train loss: 0.28352693 valid loss: 0.33625707\n",
      "130 train loss: 0.21236913 valid loss: 0.2209032\n",
      "131 train loss: 0.21756113 valid loss: 0.21391197\n",
      "132 train loss: 0.23065153 valid loss: 0.20804851\n",
      "133 train loss: 0.21568507 valid loss: 0.20712464\n",
      "134 train loss: 0.24117823 valid loss: 0.2886041\n",
      "135 train loss: 0.21493751 valid loss: 0.19917324\n",
      "136 train loss: 0.22011855 valid loss: 0.21216157\n",
      "137 train loss: 0.21772708 valid loss: 0.24231537\n",
      "138 train loss: 0.24120772 valid loss: 0.206061\n",
      "139 train loss: 0.21091922 valid loss: 0.22360441\n",
      "140 train loss: 0.22095908 valid loss: 0.2661824\n",
      "141 train loss: 0.20798263 valid loss: 0.23406163\n",
      "142 train loss: 0.2396095 valid loss: 0.21426192\n",
      "143 train loss: 0.23734458 valid loss: 0.22858882\n",
      "144 train loss: 0.20741439 valid loss: 0.2048405\n",
      "145 train loss: 0.21177875 valid loss: 0.21490821\n",
      "146 train loss: 0.22041546 valid loss: 0.22383006\n",
      "147 train loss: 0.21366526 valid loss: 0.21808657\n",
      "148 train loss: 0.2133345 valid loss: 0.25702247\n",
      "149 train loss: 0.20728166 valid loss: 0.21180514\n",
      "150 train loss: 0.21769746 valid loss: 0.22827592\n",
      "151 train loss: 0.211941 valid loss: 0.21190208\n",
      "152 train loss: 0.20766163 valid loss: 0.24577443\n",
      "153 train loss: 0.20287617 valid loss: 0.2162722\n",
      "154 train loss: 0.21541579 valid loss: 0.24172729\n",
      "155 train loss: 0.2139875 valid loss: 0.20558207\n",
      "156 train loss: 0.21064349 valid loss: 0.2002196\n",
      "157 train loss: 0.20275767 valid loss: 0.22208902\n",
      "158 train loss: 0.21466552 valid loss: 0.22067712\n",
      "159 train loss: 0.33223373 valid loss: 0.38885435\n",
      "160 train loss: 0.2328179 valid loss: 0.21058163\n",
      "161 train loss: 0.20706591 valid loss: 0.22340073\n",
      "162 train loss: 0.28254837 valid loss: 0.33551824\n",
      "163 train loss: 0.22538039 valid loss: 0.23882614\n"
     ]
    },
    {
     "name": "stdout",
     "output_type": "stream",
     "text": [
      "164 train loss: 0.2493322 valid loss: 0.2676038\n",
      "165 train loss: 0.22917478 valid loss: 0.19786601\n",
      "166 train loss: 0.25146836 valid loss: 0.22561492\n",
      "167 train loss: 0.20494938 valid loss: 0.21033461\n",
      "168 train loss: 0.2277699 valid loss: 0.2648926\n",
      "169 train loss: 0.21538942 valid loss: 0.24348412\n",
      "170 train loss: 0.20501238 valid loss: 0.20871946\n",
      "171 train loss: 0.21789072 valid loss: 0.20853773\n",
      "172 train loss: 0.22948356 valid loss: 0.22673547\n",
      "173 train loss: 0.25762796 valid loss: 0.2994379\n",
      "174 train loss: 0.20845072 valid loss: 0.20743273\n",
      "175 train loss: 0.23091438 valid loss: 0.2743173\n",
      "176 train loss: 0.2485293 valid loss: 0.30263296\n",
      "177 train loss: 0.20581886 valid loss: 0.22248961\n",
      "178 train loss: 0.20427342 valid loss: 0.19688056\n",
      "179 train loss: 0.20635998 valid loss: 0.19473542\n",
      "best loss: 0.19473542\n",
      "180 train loss: 0.21733549 valid loss: 0.21631727\n",
      "181 train loss: 0.2068459 valid loss: 0.20203985\n",
      "182 train loss: 0.20443851 valid loss: 0.21598665\n",
      "183 train loss: 0.21005131 valid loss: 0.22704148\n",
      "184 train loss: 0.22852616 valid loss: 0.22456934\n",
      "185 train loss: 0.2156911 valid loss: 0.24545613\n",
      "186 train loss: 0.22698162 valid loss: 0.24418116\n",
      "187 train loss: 0.21276905 valid loss: 0.24831484\n",
      "188 train loss: 0.20529458 valid loss: 0.20715061\n",
      "189 train loss: 0.21538113 valid loss: 0.24648562\n",
      "190 train loss: 0.23608637 valid loss: 0.2964154\n",
      "191 train loss: 0.22012097 valid loss: 0.19826868\n",
      "192 train loss: 0.20724574 valid loss: 0.21785924\n",
      "193 train loss: 0.25563517 valid loss: 0.31244895\n",
      "194 train loss: 0.2183795 valid loss: 0.24838197\n",
      "195 train loss: 0.34406543 valid loss: 0.40310943\n",
      "196 train loss: 0.21410882 valid loss: 0.22287722\n",
      "197 train loss: 0.21100633 valid loss: 0.21911138\n",
      "198 train loss: 0.21950948 valid loss: 0.2224518\n",
      "199 train loss: 0.21300805 valid loss: 0.23194519\n",
      "200 train loss: 0.2174339 valid loss: 0.25238287\n",
      "201 train loss: 0.21327396 valid loss: 0.21626219\n",
      "202 train loss: 0.20823754 valid loss: 0.22680034\n",
      "203 train loss: 0.21797752 valid loss: 0.25000176\n",
      "204 train loss: 0.2034886 valid loss: 0.22883074\n",
      "205 train loss: 0.20911984 valid loss: 0.23044649\n",
      "206 train loss: 0.20647486 valid loss: 0.21819161\n",
      "207 train loss: 0.20479703 valid loss: 0.20860419\n",
      "208 train loss: 0.21847975 valid loss: 0.25077853\n",
      "209 train loss: 0.21095216 valid loss: 0.24039422\n",
      "210 train loss: 0.2108506 valid loss: 0.23659544\n",
      "211 train loss: 0.20959881 valid loss: 0.23627107\n",
      "212 train loss: 0.22386378 valid loss: 0.26260754\n",
      "213 train loss: 0.20627859 valid loss: 0.21207847\n",
      "214 train loss: 0.22217305 valid loss: 0.2221951\n",
      "215 train loss: 0.20725742 valid loss: 0.21742858\n",
      "216 train loss: 0.22059335 valid loss: 0.22665785\n",
      "217 train loss: 0.22215502 valid loss: 0.20890735\n",
      "218 train loss: 0.24628614 valid loss: 0.21531014\n",
      "219 train loss: 0.20653854 valid loss: 0.23119533\n",
      "220 train loss: 0.21702564 valid loss: 0.24876855\n",
      "221 train loss: 0.20215458 valid loss: 0.22249201\n",
      "222 train loss: 0.20566387 valid loss: 0.22041602\n",
      "223 train loss: 0.20795943 valid loss: 0.22042526\n",
      "224 train loss: 0.21458106 valid loss: 0.2587013\n",
      "225 train loss: 0.20930615 valid loss: 0.22968733\n",
      "226 train loss: 0.21570471 valid loss: 0.24012434\n",
      "227 train loss: 0.19873486 valid loss: 0.2113568\n",
      "228 train loss: 0.2081248 valid loss: 0.2103542\n",
      "229 train loss: 0.21716152 valid loss: 0.23568743\n",
      "230 train loss: 0.202442 valid loss: 0.2192574\n",
      "231 train loss: 0.22433418 valid loss: 0.23885211\n",
      "232 train loss: 0.2177843 valid loss: 0.19966103\n",
      "233 train loss: 0.23036471 valid loss: 0.1910276\n",
      "best loss: 0.1910276\n",
      "234 train loss: 0.24152665 valid loss: 0.19818123\n",
      "235 train loss: 0.21467084 valid loss: 0.2583561\n",
      "236 train loss: 0.20839082 valid loss: 0.20429252\n",
      "237 train loss: 0.21118759 valid loss: 0.2288175\n",
      "238 train loss: 0.24270204 valid loss: 0.21012956\n",
      "239 train loss: 0.20405447 valid loss: 0.2256652\n",
      "240 train loss: 0.20833975 valid loss: 0.21486294\n",
      "241 train loss: 0.21022545 valid loss: 0.23675941\n",
      "242 train loss: 0.21115911 valid loss: 0.23422655\n",
      "243 train loss: 0.2523558 valid loss: 0.22845311\n",
      "244 train loss: 0.21999294 valid loss: 0.2309488\n",
      "245 train loss: 0.21689112 valid loss: 0.22998513\n",
      "246 train loss: 0.21177042 valid loss: 0.20726739\n",
      "247 train loss: 0.21619554 valid loss: 0.21623683\n",
      "248 train loss: 0.21289103 valid loss: 0.2330158\n",
      "249 train loss: 0.2183558 valid loss: 0.20658834\n",
      "250 train loss: 0.22214518 valid loss: 0.26683035\n",
      "251 train loss: 0.205974 valid loss: 0.23285373\n",
      "252 train loss: 0.21070144 valid loss: 0.22018792\n",
      "253 train loss: 0.21605176 valid loss: 0.26748207\n",
      "254 train loss: 0.22023258 valid loss: 0.20270279\n",
      "255 train loss: 0.21927406 valid loss: 0.25136888\n",
      "256 train loss: 0.25979215 valid loss: 0.32556587\n",
      "257 train loss: 0.20734134 valid loss: 0.21494962\n",
      "258 train loss: 0.21037741 valid loss: 0.24852896\n",
      "259 train loss: 0.25844574 valid loss: 0.22505482\n",
      "260 train loss: 0.21264398 valid loss: 0.19143316\n",
      "261 train loss: 0.20394734 valid loss: 0.22442952\n",
      "262 train loss: 0.25644225 valid loss: 0.2375031\n",
      "263 train loss: 0.22622925 valid loss: 0.22071932\n",
      "264 train loss: 0.20225185 valid loss: 0.2101347\n",
      "265 train loss: 0.22112705 valid loss: 0.24612781\n",
      "266 train loss: 0.23400728 valid loss: 0.22180586\n",
      "267 train loss: 0.21987732 valid loss: 0.2092452\n",
      "268 train loss: 0.21824592 valid loss: 0.23322384\n",
      "269 train loss: 0.22811855 valid loss: 0.26103285\n",
      "270 train loss: 0.20597921 valid loss: 0.21256863\n",
      "271 train loss: 0.22306804 valid loss: 0.21245621\n",
      "272 train loss: 0.21486706 valid loss: 0.25297004\n",
      "273 train loss: 0.2089914 valid loss: 0.2164325\n",
      "274 train loss: 0.21339855 valid loss: 0.20731643\n",
      "275 train loss: 0.20360634 valid loss: 0.23283152\n",
      "276 train loss: 0.20461082 valid loss: 0.24158266\n",
      "277 train loss: 0.21730863 valid loss: 0.24461526\n",
      "278 train loss: 0.2059041 valid loss: 0.24085522\n",
      "279 train loss: 0.22919193 valid loss: 0.20913929\n",
      "280 train loss: 0.20914452 valid loss: 0.25555626\n",
      "281 train loss: 0.21248734 valid loss: 0.25786868\n",
      "282 train loss: 0.2329792 valid loss: 0.29767597\n",
      "283 train loss: 0.20411518 valid loss: 0.22906747\n",
      "284 train loss: 0.22308059 valid loss: 0.22608875\n",
      "285 train loss: 0.21785623 valid loss: 0.26453844\n",
      "286 train loss: 0.21007311 valid loss: 0.24050605\n",
      "287 train loss: 0.25214174 valid loss: 0.3082481\n",
      "288 train loss: 0.21684715 valid loss: 0.2515219\n",
      "289 train loss: 0.2071788 valid loss: 0.2242435\n",
      "290 train loss: 0.2057159 valid loss: 0.22463436\n",
      "291 train loss: 0.23915634 valid loss: 0.22216928\n",
      "292 train loss: 0.22330116 valid loss: 0.21743779\n",
      "293 train loss: 0.21148714 valid loss: 0.233168\n",
      "294 train loss: 0.2012223 valid loss: 0.23001541\n",
      "295 train loss: 0.1991321 valid loss: 0.19840959\n",
      "296 train loss: 0.21584244 valid loss: 0.2341113\n",
      "297 train loss: 0.20686118 valid loss: 0.21236895\n",
      "298 train loss: 0.20338447 valid loss: 0.2217739\n",
      "299 train loss: 0.20470321 valid loss: 0.21382378\n",
      "300 train loss: 0.21791433 valid loss: 0.239973\n",
      "301 train loss: 0.20470071 valid loss: 0.21918362\n",
      "302 train loss: 0.2056589 valid loss: 0.21435344\n",
      "303 train loss: 0.20594841 valid loss: 0.21997678\n",
      "304 train loss: 0.26594737 valid loss: 0.32292432\n",
      "305 train loss: 0.20868626 valid loss: 0.23173682\n",
      "306 train loss: 0.22173676 valid loss: 0.2708558\n",
      "307 train loss: 0.20759678 valid loss: 0.20906281\n",
      "308 train loss: 0.2296168 valid loss: 0.2745484\n",
      "309 train loss: 0.24212871 valid loss: 0.24715777\n",
      "310 train loss: 0.20824827 valid loss: 0.22690506\n",
      "311 train loss: 0.20908469 valid loss: 0.23041649\n",
      "312 train loss: 0.21689455 valid loss: 0.25896645\n",
      "313 train loss: 0.20861353 valid loss: 0.23545004\n",
      "314 train loss: 0.25279534 valid loss: 0.31194404\n",
      "315 train loss: 0.24456881 valid loss: 0.22119173\n",
      "316 train loss: 0.22446987 valid loss: 0.26996723\n",
      "317 train loss: 0.22261538 valid loss: 0.22306606\n",
      "318 train loss: 0.21184537 valid loss: 0.25734475\n",
      "319 train loss: 0.21514015 valid loss: 0.25727814\n",
      "320 train loss: 0.21187954 valid loss: 0.22328909\n",
      "321 train loss: 0.214889 valid loss: 0.2496897\n",
      "322 train loss: 0.23819345 valid loss: 0.21644814\n",
      "323 train loss: 0.23377706 valid loss: 0.28738996\n",
      "324 train loss: 0.23162057 valid loss: 0.28155452\n",
      "325 train loss: 0.20796537 valid loss: 0.2093073\n",
      "326 train loss: 0.21745402 valid loss: 0.2154033\n",
      "327 train loss: 0.22982524 valid loss: 0.2091887\n",
      "328 train loss: 0.21499121 valid loss: 0.20759456\n"
     ]
    },
    {
     "name": "stdout",
     "output_type": "stream",
     "text": [
      "329 train loss: 0.2021897 valid loss: 0.23320962\n",
      "330 train loss: 0.20065738 valid loss: 0.21128714\n",
      "331 train loss: 0.23087934 valid loss: 0.27733773\n",
      "332 train loss: 0.22386615 valid loss: 0.262409\n",
      "333 train loss: 0.21063982 valid loss: 0.23646055\n",
      "334 train loss: 0.20995177 valid loss: 0.22680558\n",
      "335 train loss: 0.21606626 valid loss: 0.24203865\n",
      "336 train loss: 0.25396863 valid loss: 0.24205333\n",
      "337 train loss: 0.27051133 valid loss: 0.3365418\n",
      "338 train loss: 0.21011737 valid loss: 0.22823219\n",
      "339 train loss: 0.21133694 valid loss: 0.21432713\n",
      "340 train loss: 0.2203533 valid loss: 0.21336289\n",
      "341 train loss: 0.21478486 valid loss: 0.24384524\n",
      "342 train loss: 0.2043765 valid loss: 0.22336121\n",
      "343 train loss: 0.20905313 valid loss: 0.22308315\n",
      "344 train loss: 0.20278774 valid loss: 0.21681942\n",
      "345 train loss: 0.22632822 valid loss: 0.22995007\n",
      "346 train loss: 0.21152234 valid loss: 0.22801854\n",
      "347 train loss: 0.24966446 valid loss: 0.3250833\n",
      "348 train loss: 0.23232214 valid loss: 0.29110244\n",
      "349 train loss: 0.22337824 valid loss: 0.2039982\n",
      "350 train loss: 0.21185009 valid loss: 0.23797767\n",
      "351 train loss: 0.29604307 valid loss: 0.3756349\n",
      "352 train loss: 0.23473966 valid loss: 0.22046624\n",
      "353 train loss: 0.21858703 valid loss: 0.23502947\n",
      "354 train loss: 0.20229585 valid loss: 0.22390535\n",
      "355 train loss: 0.21894552 valid loss: 0.22197774\n",
      "356 train loss: 0.21092378 valid loss: 0.21046944\n",
      "357 train loss: 0.20287861 valid loss: 0.22280343\n",
      "358 train loss: 0.20514183 valid loss: 0.22648129\n",
      "359 train loss: 0.20170142 valid loss: 0.21525796\n",
      "360 train loss: 0.22624718 valid loss: 0.2646119\n",
      "361 train loss: 0.21515234 valid loss: 0.20592545\n",
      "362 train loss: 0.21773128 valid loss: 0.2661033\n",
      "363 train loss: 0.21252492 valid loss: 0.22004867\n",
      "364 train loss: 0.22997686 valid loss: 0.2778979\n",
      "365 train loss: 0.22959289 valid loss: 0.21461007\n",
      "366 train loss: 0.20659705 valid loss: 0.23868258\n",
      "367 train loss: 0.26408035 valid loss: 0.21174636\n",
      "368 train loss: 0.26262918 valid loss: 0.22688815\n",
      "369 train loss: 0.23957029 valid loss: 0.23430002\n",
      "370 train loss: 0.21105145 valid loss: 0.2486319\n",
      "371 train loss: 0.21118098 valid loss: 0.2661229\n",
      "372 train loss: 0.2012524 valid loss: 0.22793528\n",
      "373 train loss: 0.21703064 valid loss: 0.26361033\n",
      "374 train loss: 0.21032572 valid loss: 0.21418783\n",
      "375 train loss: 0.24251865 valid loss: 0.27920607\n",
      "376 train loss: 0.20315044 valid loss: 0.2129709\n",
      "377 train loss: 0.2378267 valid loss: 0.23377769\n",
      "378 train loss: 0.21937165 valid loss: 0.23955175\n",
      "379 train loss: 0.20758055 valid loss: 0.23472705\n",
      "380 train loss: 0.21357156 valid loss: 0.22911225\n",
      "381 train loss: 0.2079914 valid loss: 0.2273213\n",
      "382 train loss: 0.20715757 valid loss: 0.21879369\n",
      "383 train loss: 0.2279006 valid loss: 0.22917616\n",
      "384 train loss: 0.20603532 valid loss: 0.2161119\n",
      "385 train loss: 0.21343243 valid loss: 0.26106653\n",
      "386 train loss: 0.2102543 valid loss: 0.22914378\n",
      "387 train loss: 0.24574228 valid loss: 0.29784113\n",
      "388 train loss: 0.23625626 valid loss: 0.27211326\n",
      "389 train loss: 0.20839192 valid loss: 0.23748945\n",
      "390 train loss: 0.2614305 valid loss: 0.309245\n",
      "391 train loss: 0.21217726 valid loss: 0.2378461\n",
      "392 train loss: 0.27215 valid loss: 0.23416425\n",
      "393 train loss: 0.22233687 valid loss: 0.26243722\n",
      "394 train loss: 0.20360075 valid loss: 0.2225563\n",
      "395 train loss: 0.2057607 valid loss: 0.23047382\n",
      "396 train loss: 0.2367386 valid loss: 0.23263195\n",
      "397 train loss: 0.28469443 valid loss: 0.37248254\n",
      "398 train loss: 0.22780307 valid loss: 0.20185703\n",
      "399 train loss: 0.20674501 valid loss: 0.22250569\n",
      "400 train loss: 0.20442668 valid loss: 0.21054085\n",
      "401 train loss: 0.20871249 valid loss: 0.23942107\n",
      "402 train loss: 0.2059027 valid loss: 0.20198323\n",
      "403 train loss: 0.23588708 valid loss: 0.22003986\n",
      "404 train loss: 0.21502163 valid loss: 0.21659221\n",
      "405 train loss: 0.21006252 valid loss: 0.23339292\n",
      "406 train loss: 0.20284316 valid loss: 0.21879828\n",
      "407 train loss: 0.21293925 valid loss: 0.21727122\n",
      "408 train loss: 0.20196015 valid loss: 0.2142695\n",
      "409 train loss: 0.20886728 valid loss: 0.24322504\n",
      "410 train loss: 0.23378932 valid loss: 0.2775848\n",
      "411 train loss: 0.22473127 valid loss: 0.27424982\n",
      "412 train loss: 0.21778311 valid loss: 0.21814059\n",
      "413 train loss: 0.21041502 valid loss: 0.22275986\n",
      "414 train loss: 0.2207597 valid loss: 0.2347795\n",
      "415 train loss: 0.20871103 valid loss: 0.20672289\n",
      "416 train loss: 0.21056612 valid loss: 0.21039477\n",
      "417 train loss: 0.20929827 valid loss: 0.2259313\n",
      "418 train loss: 0.2051475 valid loss: 0.22081855\n",
      "419 train loss: 0.25792885 valid loss: 0.23777562\n",
      "420 train loss: 0.20582864 valid loss: 0.22892763\n",
      "421 train loss: 0.20776689 valid loss: 0.2315503\n",
      "422 train loss: 0.21592303 valid loss: 0.22908044\n",
      "423 train loss: 0.20951657 valid loss: 0.22333202\n",
      "424 train loss: 0.21644771 valid loss: 0.23604478\n",
      "425 train loss: 0.21135001 valid loss: 0.2421149\n",
      "426 train loss: 0.20637454 valid loss: 0.21495709\n",
      "427 train loss: 0.20997463 valid loss: 0.19471376\n",
      "428 train loss: 0.1996076 valid loss: 0.21133754\n",
      "429 train loss: 0.20647587 valid loss: 0.22613923\n",
      "430 train loss: 0.20063376 valid loss: 0.20083034\n",
      "431 train loss: 0.2378567 valid loss: 0.23823868\n",
      "432 train loss: 0.21286462 valid loss: 0.20441927\n",
      "433 train loss: 0.21017766 valid loss: 0.20421574\n",
      "434 train loss: 0.2182835 valid loss: 0.239592\n",
      "435 train loss: 0.22170053 valid loss: 0.2384642\n",
      "436 train loss: 0.22187868 valid loss: 0.21667956\n",
      "437 train loss: 0.22165933 valid loss: 0.21931551\n",
      "438 train loss: 0.20021269 valid loss: 0.21878482\n",
      "439 train loss: 0.20458636 valid loss: 0.2240845\n",
      "440 train loss: 0.23481768 valid loss: 0.2994615\n",
      "441 train loss: 0.21911849 valid loss: 0.23051989\n",
      "442 train loss: 0.20857307 valid loss: 0.24076101\n",
      "443 train loss: 0.2055541 valid loss: 0.23720242\n",
      "444 train loss: 0.21867278 valid loss: 0.25723243\n",
      "445 train loss: 0.22629522 valid loss: 0.21775422\n",
      "446 train loss: 0.21231127 valid loss: 0.22688071\n",
      "447 train loss: 0.20702495 valid loss: 0.23861673\n",
      "448 train loss: 0.20967606 valid loss: 0.2535585\n",
      "449 train loss: 0.20321351 valid loss: 0.2183583\n",
      "450 train loss: 0.21709993 valid loss: 0.24438252\n",
      "451 train loss: 0.20583566 valid loss: 0.22981668\n",
      "452 train loss: 0.20839202 valid loss: 0.20165251\n",
      "453 train loss: 0.21161816 valid loss: 0.24400474\n",
      "454 train loss: 0.21453999 valid loss: 0.26539382\n",
      "455 train loss: 0.20474382 valid loss: 0.21054885\n",
      "456 train loss: 0.21163128 valid loss: 0.23891266\n",
      "457 train loss: 0.20909338 valid loss: 0.2147611\n",
      "458 train loss: 0.21673003 valid loss: 0.24585027\n",
      "459 train loss: 0.22080228 valid loss: 0.20287222\n",
      "460 train loss: 0.2190071 valid loss: 0.22455746\n",
      "461 train loss: 0.26790956 valid loss: 0.30657637\n",
      "462 train loss: 0.20146355 valid loss: 0.22623958\n",
      "463 train loss: 0.21199824 valid loss: 0.23381694\n",
      "464 train loss: 0.22415337 valid loss: 0.26368606\n",
      "465 train loss: 0.20894651 valid loss: 0.23263596\n",
      "466 train loss: 0.2028199 valid loss: 0.21637191\n",
      "467 train loss: 0.21061283 valid loss: 0.2217355\n",
      "468 train loss: 0.21738012 valid loss: 0.24284448\n",
      "469 train loss: 0.20957518 valid loss: 0.22522242\n",
      "470 train loss: 0.21096349 valid loss: 0.2539796\n",
      "471 train loss: 0.24445923 valid loss: 0.3186468\n",
      "472 train loss: 0.21607727 valid loss: 0.21311547\n",
      "473 train loss: 0.2141452 valid loss: 0.21188001\n",
      "474 train loss: 0.23343012 valid loss: 0.27473453\n",
      "475 train loss: 0.20374396 valid loss: 0.21185082\n",
      "476 train loss: 0.22734238 valid loss: 0.2973968\n",
      "477 train loss: 0.21122274 valid loss: 0.24254547\n",
      "478 train loss: 0.20914735 valid loss: 0.23800641\n",
      "479 train loss: 0.2186738 valid loss: 0.202883\n",
      "480 train loss: 0.20680274 valid loss: 0.21589112\n",
      "481 train loss: 0.20859326 valid loss: 0.22140646\n",
      "482 train loss: 0.20289356 valid loss: 0.21541613\n",
      "483 train loss: 0.3507889 valid loss: 0.29690826\n",
      "484 train loss: 0.22552304 valid loss: 0.21681823\n",
      "485 train loss: 0.20399661 valid loss: 0.21985926\n",
      "486 train loss: 0.24349 valid loss: 0.22608154\n",
      "487 train loss: 0.20374094 valid loss: 0.20822217\n",
      "488 train loss: 0.2010443 valid loss: 0.22214717\n",
      "489 train loss: 0.22029033 valid loss: 0.2657537\n",
      "490 train loss: 0.25752947 valid loss: 0.32845515\n",
      "491 train loss: 0.21794076 valid loss: 0.22156034\n",
      "492 train loss: 0.22035877 valid loss: 0.2509511\n",
      "493 train loss: 0.23872244 valid loss: 0.19800821\n"
     ]
    }
   ],
   "source": [
    "with tf.Session() as sess:\n",
    "    if os.path.isfile(checkpoint_epoch_path):\n",
    "        # if the checkpoint file exists, restore the model and load the epoch number\n",
    "        with open(checkpoint_epoch_path, \"rb\") as f:\n",
    "            start_epoch = int(f.read())\n",
    "        print(\"Training was interrupted. Continuing at epoch\", start_epoch)\n",
    "        saver.restore(sess, checkpoint_path)\n",
    "    else:\n",
    "        start_epoch = 0\n",
    "        sess.run(init)\n",
    "\n",
    "    for epoch in range(start_epoch, n_epochs):\n",
    "        for X_batch, y_batch in shuffle_batch(X_train, y_train, n_batches):\n",
    "            summary, _ = sess.run([merged, training_op],\n",
    "                                  feed_dict={X_node: X_batch, y_node: y_batch})\n",
    "\n",
    "        train_summary, _ = sess.run([merged, training_op],feed_dict={X_node: X_train, y_node: y_train})\n",
    "        test_summary, _ =sess.run([merged, training_op],feed_dict={X_node: X_test, y_node: y_test})\n",
    "        validation_summary, _ = sess.run([merged, training_op], feed_dict={X_node: X_val, y_node: y_val})\n",
    "\n",
    "        train_writer.add_summary(train_summary, epoch)\n",
    "        test_writer.add_summary(test_summary, epoch)\n",
    "        valid_writer.add_summary(validation_summary,epoch)\n",
    "\n",
    "        loss_train = mse.eval(feed_dict={X_node: X_train, y_node: y_train})\n",
    "        loss_val = mse.eval(feed_dict={X_node: X_val, y_node: y_val})\n",
    "        print(epoch, \"train loss:\", loss_train, \"valid loss:\", loss_val)\n",
    "\n",
    "        iteration_skip = 10\n",
    "        if epoch % iteration_skip == 0:\n",
    "            saver.save(sess, checkpoint_path)\n",
    "            with open(checkpoint_epoch_path, \"wb\") as f:\n",
    "                f.write(b\"%d\" % (epoch + 1))\n",
    "\n",
    "        if loss_val < best_loss:\n",
    "            saver.save(sess, final_model_path)\n",
    "            best_loss = loss_val\n",
    "            print(\"best loss:\", best_loss)\n",
    "            epochs_without_progress = 0\n",
    "        else:\n",
    "            epochs_without_progress += 1\n",
    "            if epochs_without_progress > max_epochs_without_progress:\n",
    "                print(\"Early stopping\")\n",
    "                break\n",
    "\n",
    "\n",
    "train_writer.close()\n",
    "test_writer.close()\n",
    "valid_writer.close()"
   ]
  },
  {
   "cell_type": "code",
   "execution_count": null,
   "metadata": {},
   "outputs": [],
   "source": [
    "os.remove(checkpoint_epoch_path)#"
   ]
  },
  {
   "cell_type": "markdown",
   "metadata": {},
   "source": [
    "# Predictions"
   ]
  },
  {
   "cell_type": "code",
   "execution_count": null,
   "metadata": {},
   "outputs": [],
   "source": [
    "with tf.Session() as sess:\n",
    "    saver.restore(sess, final_model_path)\n",
    "    test_mse = mse.eval(feed_dict={X_node: X_test, y_node: y_test})\n",
    "    predictions = y_pred.eval(feed_dict={X_node: X_test, y_node: y_test})\n",
    "    \n",
    "    \n",
    "print(test_mse)"
   ]
  },
  {
   "cell_type": "code",
   "execution_count": null,
   "metadata": {},
   "outputs": [],
   "source": [
    "predictions.shape"
   ]
  },
  {
   "cell_type": "markdown",
   "metadata": {},
   "source": [
    "# Plot  _first (0th)_ output column of _predictions_"
   ]
  },
  {
   "cell_type": "code",
   "execution_count": null,
   "metadata": {},
   "outputs": [],
   "source": [
    "y_new_inverse = y_scaler.inverse_transform(predictions)\n",
    "x_test_inverse = x_scaler.inverse_transform(X_test)\n",
    "\n",
    "fig = plt.figure(figsize=(8,6))\n",
    "\n",
    "ax = fig.add_subplot(111,projection='3d')\n",
    "\n",
    "xs = x_test_inverse[:,0]\n",
    "ys = x_test_inverse[:,1]\n",
    "zs = y_new_inverse[:,0]\n",
    "\n",
    "colmap = cm.ScalarMappable(cmap=cm.get_cmap(\"jet\"))\n",
    "colmap.set_array(zs)\n",
    "\n",
    "yg = ax.scatter(xs, ys, zs, c=cm.get_cmap(\"jet\")(zs/max(zs)), marker='^',alpha=0.15)\n",
    "cb = fig.colorbar(colmap)\n",
    "\n",
    "ax.set_xlabel('N')\n",
    "ax.set_ylabel('Z')\n",
    "ax.set_zlabel('D')\n",
    "\n",
    "\n",
    "plt.show()"
   ]
  },
  {
   "cell_type": "code",
   "execution_count": null,
   "metadata": {},
   "outputs": [],
   "source": [
    "y_test_o.shape[0]\n"
   ]
  },
  {
   "cell_type": "code",
   "execution_count": null,
   "metadata": {},
   "outputs": [],
   "source": [
    "plt.scatter(range(y_new_inverse.shape[0]), y_new_inverse[:,0], s=5)\n",
    "plt.xlabel('x')\n",
    "plt.ylabel('y')\n",
    "plt.axis('tight')\n",
    "plt.show()"
   ]
  },
  {
   "cell_type": "markdown",
   "metadata": {},
   "source": [
    "# Plot _first 0th_ column of TEST set"
   ]
  },
  {
   "cell_type": "code",
   "execution_count": null,
   "metadata": {},
   "outputs": [],
   "source": [
    "plt.scatter(range(y_test_o.shape[0]), y_test_o, s=5)\n",
    "plt.xlabel('x')\n",
    "plt.ylabel('y')\n",
    "plt.axis('tight')\n",
    "plt.show()"
   ]
  },
  {
   "cell_type": "code",
   "execution_count": null,
   "metadata": {},
   "outputs": [],
   "source": []
  },
  {
   "cell_type": "code",
   "execution_count": null,
   "metadata": {},
   "outputs": [],
   "source": [
    "fig = plt.figure(figsize=(8,6))\n",
    "\n",
    "ax = fig.add_subplot(111,projection='3d')\n",
    "\n",
    "xs = X_test_o[:,0]\n",
    "ys = X_test_o[:,1]\n",
    "zs = y_test_o[:,0]\n",
    "\n",
    "colmap = cm.ScalarMappable(cmap=cm.get_cmap(\"jet\"))\n",
    "colmap.set_array(zs)\n",
    "\n",
    "yg = ax.scatter(xs, ys, zs, c=cm.get_cmap(\"jet\")(zs/max(zs)), marker='^',alpha=0.15)\n",
    "cb = fig.colorbar(colmap)\n",
    "\n",
    "ax.set_xlabel('N')\n",
    "ax.set_ylabel('Z')\n",
    "ax.set_zlabel('D')\n",
    "\n",
    "\n",
    "plt.show()"
   ]
  },
  {
   "cell_type": "markdown",
   "metadata": {},
   "source": [
    "# Calculate _diff_ and _diff_abs_ (no distinction for columns)"
   ]
  },
  {
   "cell_type": "code",
   "execution_count": null,
   "metadata": {},
   "outputs": [],
   "source": [
    "#diff = np.square((y_new_inverse - y_test_o) / y_test_o)\n",
    "substraction = y_new_inverse - y_test_o\n",
    "diff = np.divide( substraction , y_test_o, out = substraction, where = y_test_o != 0)\n",
    "diff_abs = y_new_inverse - y_test_o"
   ]
  },
  {
   "cell_type": "code",
   "execution_count": null,
   "metadata": {},
   "outputs": [],
   "source": [
    "print(diff.shape)\n",
    "print(diff_abs.shape)"
   ]
  },
  {
   "cell_type": "code",
   "execution_count": null,
   "metadata": {},
   "outputs": [],
   "source": [
    "diff_df = pd.DataFrame(data={\n",
    "                            'rel diff mass': diff[:,0],                            \n",
    "                            'abs diff mass' : diff_abs[:,0]                             \n",
    "                            })\n",
    "diff_df.info()"
   ]
  },
  {
   "cell_type": "markdown",
   "metadata": {},
   "source": [
    "# Replace inf and -inf with Nan, then drop the nans"
   ]
  },
  {
   "cell_type": "code",
   "execution_count": null,
   "metadata": {},
   "outputs": [],
   "source": [
    "diff_df = diff_df.replace([np.inf, -np.inf], np.nan)"
   ]
  },
  {
   "cell_type": "code",
   "execution_count": null,
   "metadata": {
    "scrolled": true
   },
   "outputs": [],
   "source": [
    "print(diff_df.isnull().values.any())\n",
    "print(diff_df.isnull().sum())\n",
    "diff_df = diff_df.dropna()"
   ]
  },
  {
   "cell_type": "code",
   "execution_count": null,
   "metadata": {},
   "outputs": [],
   "source": [
    "diff_df.describe()"
   ]
  },
  {
   "cell_type": "markdown",
   "metadata": {},
   "source": [
    "# Plot the relative diff of the first column"
   ]
  },
  {
   "cell_type": "code",
   "execution_count": null,
   "metadata": {},
   "outputs": [],
   "source": [
    "fig = plt.figure(figsize=(8,6))\n",
    "\n",
    "ax = fig.add_subplot(111,projection='3d')\n",
    "\n",
    "xs = x_test_inverse[:,0]\n",
    "ys = x_test_inverse[:,1]\n",
    "zs = diff_df['rel diff mass']# diff[:,0]\n",
    "\n",
    "colmap = cm.ScalarMappable(cmap=cm.get_cmap(\"jet\"))\n",
    "colmap.set_array(zs)\n",
    "\n",
    "yg = ax.scatter(xs, ys, zs, c=cm.get_cmap(\"jet\")(zs/max(zs)), marker='^',alpha=0.5)\n",
    "cb = fig.colorbar(colmap)\n",
    "\n",
    "ax.set_xlabel('N')\n",
    "ax.set_ylabel('Z')\n",
    "ax.set_zlabel('D')\n",
    "\n",
    "\n",
    "plt.show()"
   ]
  },
  {
   "cell_type": "code",
   "execution_count": null,
   "metadata": {},
   "outputs": [],
   "source": [
    "#%matplotlib notebook"
   ]
  },
  {
   "cell_type": "code",
   "execution_count": null,
   "metadata": {},
   "outputs": [],
   "source": [
    "vals = diff_df['rel diff mass'].to_numpy()\n",
    "print(vals.shape)\n",
    "print(vals.shape[0])"
   ]
  },
  {
   "cell_type": "code",
   "execution_count": null,
   "metadata": {
    "scrolled": true
   },
   "outputs": [],
   "source": [
    "#plt.scatter(iterate_x, diff[:,0], s=5)\n",
    "\n",
    "plt.scatter(range(vals.shape[0]),vals, s=5)\n",
    "plt.xlabel('x')\n",
    "plt.ylabel('y')\n",
    "plt.axis('tight')\n",
    "plt.show()"
   ]
  },
  {
   "cell_type": "markdown",
   "metadata": {},
   "source": [
    "# Diff ABSOLUTE of first column"
   ]
  },
  {
   "cell_type": "code",
   "execution_count": null,
   "metadata": {},
   "outputs": [],
   "source": [
    "vals = diff_df['abs diff mass'].to_numpy()\n",
    "print(vals.shape)\n",
    "range_x = range(vals.shape[0])"
   ]
  },
  {
   "cell_type": "code",
   "execution_count": null,
   "metadata": {},
   "outputs": [],
   "source": [
    "plt.scatter(range_x,vals, s=5)\n",
    "plt.xlabel('x')\n",
    "plt.ylabel('y')\n",
    "plt.axis('tight')\n",
    "plt.show()"
   ]
  },
  {
   "cell_type": "code",
   "execution_count": null,
   "metadata": {},
   "outputs": [],
   "source": []
  },
  {
   "cell_type": "code",
   "execution_count": null,
   "metadata": {},
   "outputs": [],
   "source": []
  },
  {
   "cell_type": "code",
   "execution_count": null,
   "metadata": {},
   "outputs": [],
   "source": []
  }
 ],
 "metadata": {
  "kernelspec": {
   "display_name": "Python 3",
   "language": "python",
   "name": "python3"
  },
  "language_info": {
   "codemirror_mode": {
    "name": "ipython",
    "version": 3
   },
   "file_extension": ".py",
   "mimetype": "text/x-python",
   "name": "python",
   "nbconvert_exporter": "python",
   "pygments_lexer": "ipython3",
   "version": "3.7.3"
  }
 },
 "nbformat": 4,
 "nbformat_minor": 2
}
